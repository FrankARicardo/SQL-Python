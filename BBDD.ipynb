{
  "cells": [
    {
      "cell_type": "markdown",
      "metadata": {
        "id": "-JCY6rkOeqRZ"
      },
      "source": [
        "# SQL review\n",
        "---------------------\n",
        "Custom database created with fictional or random data for a potential technology store based in Donostia/San Sebastián."
      ]
    },
    {
      "cell_type": "markdown",
      "metadata": {},
      "source": [
        "## Imports"
      ]
    },
    {
      "cell_type": "code",
      "execution_count": 8,
      "metadata": {},
      "outputs": [
        {
          "name": "stdout",
          "output_type": "stream",
          "text": [
            "The sql extension is already loaded. To reload it, use:\n",
            "  %reload_ext sql\n"
          ]
        }
      ],
      "source": [
        "import pandas as pd\n",
        "import sqlite3\n",
        "\n",
        "import prettytable\n",
        "prettytable.DEFAULT = prettytable.TableStyle\n",
        "\n",
        "%load_ext sql\n",
        "%sql sqlite:///TechDonostia.db"
      ]
    },
    {
      "cell_type": "markdown",
      "metadata": {},
      "source": [
        "## Read data to pandas"
      ]
    },
    {
      "cell_type": "code",
      "execution_count": 9,
      "metadata": {
        "id": "xLrD6KXOp1Pi"
      },
      "outputs": [
        {
          "name": "stdout",
          "output_type": "stream",
          "text": [
            "   proveedor_id            nombre                          email     telefono\n",
            "0             1  TechDistribuidor  contacto@techdistribuidor.com  567-890-123\n",
            "1             2      Gadgets S.A.             info@gadgetssa.com  678-901-234\n",
            "2             3        ElectroHub          ventas@electrohub.com  890-234-567\n",
            "3             4       MundoGadget       contacto@mundogadget.com  901-345-678\n"
          ]
        }
      ],
      "source": [
        "db_path = 'TechDonostia.db'\n",
        "conn = sqlite3.connect(db_path)\n",
        "query = 'SELECT * FROM proveedor'\n",
        "df = pd.read_sql_query(query, conn)\n",
        "conn.close()\n",
        "print(df)"
      ]
    },
    {
      "cell_type": "markdown",
      "metadata": {},
      "source": [
        "## Look into db"
      ]
    },
    {
      "cell_type": "code",
      "execution_count": 10,
      "metadata": {
        "colab": {
          "base_uri": "https://localhost:8080/"
        },
        "id": "MH3G7FZ08tFu",
        "outputId": "2a6728c6-3230-43be-9032-096e4ef8421a"
      },
      "outputs": [
        {
          "name": "stdout",
          "output_type": "stream",
          "text": [
            "All tables:\n",
            "cliente\n",
            "departamento\n",
            "detalle_orden\n",
            "empleado\n",
            "equipo\n",
            "orden\n",
            "producto\n",
            "proveedor\n",
            "suministro\n"
          ]
        }
      ],
      "source": [
        "from sqlalchemy import create_engine, inspect\n",
        "\n",
        "engine = create_engine('sqlite:///TechDonostia.db')\n",
        "inspector = inspect(engine)\n",
        "tables = inspector.get_table_names()\n",
        "\n",
        "print(\"All tables:\")\n",
        "for table in tables:\n",
        "    print(table)"
      ]
    },
    {
      "cell_type": "markdown",
      "metadata": {
        "id": "WbYhope8eqRk"
      },
      "source": [
        "## SQL database queries"
      ]
    },
    {
      "cell_type": "code",
      "execution_count": 11,
      "metadata": {
        "colab": {
          "base_uri": "https://localhost:8080/",
          "height": 221
        },
        "id": "2vjdTNeBeqRk",
        "outputId": "aa4ff4b9-f3f6-431b-b07d-e0234285ca45",
        "scrolled": true
      },
      "outputs": [
        {
          "name": "stdout",
          "output_type": "stream",
          "text": [
            " * sqlite:///TechDonostia.db\n",
            "Done.\n"
          ]
        },
        {
          "data": {
            "text/html": [
              "<table>\n",
              "    <thead>\n",
              "        <tr>\n",
              "            <th>cid</th>\n",
              "            <th>name</th>\n",
              "            <th>type</th>\n",
              "            <th>notnull</th>\n",
              "            <th>dflt_value</th>\n",
              "            <th>pk</th>\n",
              "        </tr>\n",
              "    </thead>\n",
              "    <tbody>\n",
              "        <tr>\n",
              "            <td>0</td>\n",
              "            <td>empleado_id</td>\n",
              "            <td>INTEGER</td>\n",
              "            <td>1</td>\n",
              "            <td>None</td>\n",
              "            <td>1</td>\n",
              "        </tr>\n",
              "        <tr>\n",
              "            <td>1</td>\n",
              "            <td>nombre</td>\n",
              "            <td>VARCHAR</td>\n",
              "            <td>0</td>\n",
              "            <td>None</td>\n",
              "            <td>0</td>\n",
              "        </tr>\n",
              "        <tr>\n",
              "            <td>2</td>\n",
              "            <td>email</td>\n",
              "            <td>VARCHAR</td>\n",
              "            <td>0</td>\n",
              "            <td>None</td>\n",
              "            <td>0</td>\n",
              "        </tr>\n",
              "        <tr>\n",
              "            <td>3</td>\n",
              "            <td>telefono</td>\n",
              "            <td>VARCHAR</td>\n",
              "            <td>0</td>\n",
              "            <td>None</td>\n",
              "            <td>0</td>\n",
              "        </tr>\n",
              "        <tr>\n",
              "            <td>4</td>\n",
              "            <td>salario</td>\n",
              "            <td>FLOAT</td>\n",
              "            <td>0</td>\n",
              "            <td>None</td>\n",
              "            <td>0</td>\n",
              "        </tr>\n",
              "        <tr>\n",
              "            <td>5</td>\n",
              "            <td>fecha_ingreso</td>\n",
              "            <td>DATETIME</td>\n",
              "            <td>0</td>\n",
              "            <td>None</td>\n",
              "            <td>0</td>\n",
              "        </tr>\n",
              "        <tr>\n",
              "            <td>6</td>\n",
              "            <td>departamento_id</td>\n",
              "            <td>INTEGER</td>\n",
              "            <td>0</td>\n",
              "            <td>None</td>\n",
              "            <td>0</td>\n",
              "        </tr>\n",
              "    </tbody>\n",
              "</table>"
            ],
            "text/plain": [
              "[(0, 'empleado_id', 'INTEGER', 1, None, 1),\n",
              " (1, 'nombre', 'VARCHAR', 0, None, 0),\n",
              " (2, 'email', 'VARCHAR', 0, None, 0),\n",
              " (3, 'telefono', 'VARCHAR', 0, None, 0),\n",
              " (4, 'salario', 'FLOAT', 0, None, 0),\n",
              " (5, 'fecha_ingreso', 'DATETIME', 0, None, 0),\n",
              " (6, 'departamento_id', 'INTEGER', 0, None, 0)]"
            ]
          },
          "execution_count": 11,
          "metadata": {},
          "output_type": "execute_result"
        }
      ],
      "source": [
        "%sql PRAGMA table_info(empleado);"
      ]
    },
    {
      "cell_type": "code",
      "execution_count": 12,
      "metadata": {
        "colab": {
          "base_uri": "https://localhost:8080/",
          "height": 326
        },
        "id": "kO_yvkQFeqRn",
        "outputId": "d87a072c-79fa-42f1-d757-c8e090eceba3"
      },
      "outputs": [
        {
          "name": "stdout",
          "output_type": "stream",
          "text": [
            " * sqlite:///TechDonostia.db\n",
            "Done.\n"
          ]
        },
        {
          "data": {
            "text/html": [
              "<table>\n",
              "    <thead>\n",
              "        <tr>\n",
              "            <th>nombre</th>\n",
              "        </tr>\n",
              "    </thead>\n",
              "    <tbody>\n",
              "        <tr>\n",
              "            <td>Luis Martínez</td>\n",
              "        </tr>\n",
              "        <tr>\n",
              "            <td>María Sánchez</td>\n",
              "        </tr>\n",
              "        <tr>\n",
              "            <td>Javier Morales</td>\n",
              "        </tr>\n",
              "        <tr>\n",
              "            <td>Sara Díaz</td>\n",
              "        </tr>\n",
              "        <tr>\n",
              "            <td>Pedro Jiménez</td>\n",
              "        </tr>\n",
              "        <tr>\n",
              "            <td>Elena Navarro</td>\n",
              "        </tr>\n",
              "    </tbody>\n",
              "</table>"
            ],
            "text/plain": [
              "[('Luis Martínez',),\n",
              " ('María Sánchez',),\n",
              " ('Javier Morales',),\n",
              " ('Sara Díaz',),\n",
              " ('Pedro Jiménez',),\n",
              " ('Elena Navarro',)]"
            ]
          },
          "execution_count": 12,
          "metadata": {},
          "output_type": "execute_result"
        }
      ],
      "source": [
        "%sql select nombre FROM empleado;"
      ]
    },
    {
      "cell_type": "code",
      "execution_count": 13,
      "metadata": {
        "colab": {
          "base_uri": "https://localhost:8080/",
          "height": 326
        },
        "id": "5ifW1igmeqRr",
        "outputId": "6a16e313-b8da-4aef-f3af-1120113f1330",
        "scrolled": true
      },
      "outputs": [
        {
          "name": "stdout",
          "output_type": "stream",
          "text": [
            " * sqlite:///TechDonostia.db\n",
            "Done.\n"
          ]
        },
        {
          "data": {
            "text/html": [
              "<table>\n",
              "    <thead>\n",
              "        <tr>\n",
              "            <th>nombre</th>\n",
              "            <th>telefono</th>\n",
              "        </tr>\n",
              "    </thead>\n",
              "    <tbody>\n",
              "        <tr>\n",
              "            <td>Luis Martínez</td>\n",
              "            <td>345-678-901</td>\n",
              "        </tr>\n",
              "        <tr>\n",
              "            <td>María Sánchez</td>\n",
              "            <td>456-789-012</td>\n",
              "        </tr>\n",
              "        <tr>\n",
              "            <td>Javier Morales</td>\n",
              "            <td>567-890-234</td>\n",
              "        </tr>\n",
              "        <tr>\n",
              "            <td>Sara Díaz</td>\n",
              "            <td>678-901-345</td>\n",
              "        </tr>\n",
              "        <tr>\n",
              "            <td>Pedro Jiménez</td>\n",
              "            <td>789-012-456</td>\n",
              "        </tr>\n",
              "        <tr>\n",
              "            <td>Elena Navarro</td>\n",
              "            <td>890-123-567</td>\n",
              "        </tr>\n",
              "    </tbody>\n",
              "</table>"
            ],
            "text/plain": [
              "[('Luis Martínez', '345-678-901'),\n",
              " ('María Sánchez', '456-789-012'),\n",
              " ('Javier Morales', '567-890-234'),\n",
              " ('Sara Díaz', '678-901-345'),\n",
              " ('Pedro Jiménez', '789-012-456'),\n",
              " ('Elena Navarro', '890-123-567')]"
            ]
          },
          "execution_count": 13,
          "metadata": {},
          "output_type": "execute_result"
        }
      ],
      "source": [
        "%sql select nombre, telefono FROM empleado;"
      ]
    },
    {
      "cell_type": "markdown",
      "metadata": {
        "id": "a8kwsY6MeqRs"
      },
      "source": [
        "Tambien es posible solicitar todos los campos de una tabla con el signo asterisco(*):"
      ]
    },
    {
      "cell_type": "code",
      "execution_count": 14,
      "metadata": {
        "colab": {
          "base_uri": "https://localhost:8080/",
          "height": 324
        },
        "id": "IsqRvGdHeqRt",
        "outputId": "5a884da5-67ec-409f-8227-5d56b3218572"
      },
      "outputs": [
        {
          "name": "stdout",
          "output_type": "stream",
          "text": [
            " * sqlite:///TechDonostia.db\n",
            "Done.\n"
          ]
        },
        {
          "data": {
            "text/html": [
              "<table>\n",
              "    <thead>\n",
              "        <tr>\n",
              "            <th>empleado_id</th>\n",
              "            <th>nombre</th>\n",
              "            <th>email</th>\n",
              "            <th>telefono</th>\n",
              "            <th>salario</th>\n",
              "            <th>fecha_ingreso</th>\n",
              "            <th>departamento_id</th>\n",
              "        </tr>\n",
              "    </thead>\n",
              "    <tbody>\n",
              "        <tr>\n",
              "            <td>1</td>\n",
              "            <td>Luis Martínez</td>\n",
              "            <td>luis.martinez@example.com</td>\n",
              "            <td>345-678-901</td>\n",
              "            <td>2000.0</td>\n",
              "            <td>2019-05-17 00:00:00.000000</td>\n",
              "            <td>1</td>\n",
              "        </tr>\n",
              "        <tr>\n",
              "            <td>2</td>\n",
              "            <td>María Sánchez</td>\n",
              "            <td>maria.sanchez@example.com</td>\n",
              "            <td>456-789-012</td>\n",
              "            <td>2200.0</td>\n",
              "            <td>2020-06-01 00:00:00.000000</td>\n",
              "            <td>2</td>\n",
              "        </tr>\n",
              "        <tr>\n",
              "            <td>3</td>\n",
              "            <td>Javier Morales</td>\n",
              "            <td>javier.morales@example.com</td>\n",
              "            <td>567-890-234</td>\n",
              "            <td>2500.0</td>\n",
              "            <td>2018-04-10 00:00:00.000000</td>\n",
              "            <td>3</td>\n",
              "        </tr>\n",
              "        <tr>\n",
              "            <td>4</td>\n",
              "            <td>Sara Díaz</td>\n",
              "            <td>sara.diaz@example.com</td>\n",
              "            <td>678-901-345</td>\n",
              "            <td>2100.0</td>\n",
              "            <td>2019-07-22 00:00:00.000000</td>\n",
              "            <td>4</td>\n",
              "        </tr>\n",
              "        <tr>\n",
              "            <td>5</td>\n",
              "            <td>Pedro Jiménez</td>\n",
              "            <td>pedro.jimenez@example.com</td>\n",
              "            <td>789-012-456</td>\n",
              "            <td>2300.0</td>\n",
              "            <td>2021-03-15 00:00:00.000000</td>\n",
              "            <td>5</td>\n",
              "        </tr>\n",
              "        <tr>\n",
              "            <td>6</td>\n",
              "            <td>Elena Navarro</td>\n",
              "            <td>elena.navarro@example.com</td>\n",
              "            <td>890-123-567</td>\n",
              "            <td>2400.0</td>\n",
              "            <td>2020-11-05 00:00:00.000000</td>\n",
              "            <td>6</td>\n",
              "        </tr>\n",
              "    </tbody>\n",
              "</table>"
            ],
            "text/plain": [
              "[(1, 'Luis Martínez', 'luis.martinez@example.com', '345-678-901', 2000.0, '2019-05-17 00:00:00.000000', 1),\n",
              " (2, 'María Sánchez', 'maria.sanchez@example.com', '456-789-012', 2200.0, '2020-06-01 00:00:00.000000', 2),\n",
              " (3, 'Javier Morales', 'javier.morales@example.com', '567-890-234', 2500.0, '2018-04-10 00:00:00.000000', 3),\n",
              " (4, 'Sara Díaz', 'sara.diaz@example.com', '678-901-345', 2100.0, '2019-07-22 00:00:00.000000', 4),\n",
              " (5, 'Pedro Jiménez', 'pedro.jimenez@example.com', '789-012-456', 2300.0, '2021-03-15 00:00:00.000000', 5),\n",
              " (6, 'Elena Navarro', 'elena.navarro@example.com', '890-123-567', 2400.0, '2020-11-05 00:00:00.000000', 6)]"
            ]
          },
          "execution_count": 14,
          "metadata": {},
          "output_type": "execute_result"
        }
      ],
      "source": [
        "%sql select * FROM empleado;"
      ]
    },
    {
      "cell_type": "markdown",
      "metadata": {
        "id": "EoKTspwI9P8q"
      },
      "source": [
        "### 1: obtain a list of the names, phone numbers, and email addresses of all customers in order to contact them"
      ]
    },
    {
      "cell_type": "code",
      "execution_count": 15,
      "metadata": {
        "colab": {
          "base_uri": "https://localhost:8080/",
          "height": 221
        },
        "id": "Fwuv_K2keqRu",
        "outputId": "2f34e351-e4d9-42eb-aa68-1def3ebb5e4a"
      },
      "outputs": [
        {
          "name": "stdout",
          "output_type": "stream",
          "text": [
            " * sqlite:///TechDonostia.db\n",
            "Done.\n"
          ]
        },
        {
          "data": {
            "text/html": [
              "<table>\n",
              "    <thead>\n",
              "        <tr>\n",
              "            <th>cid</th>\n",
              "            <th>name</th>\n",
              "            <th>type</th>\n",
              "            <th>notnull</th>\n",
              "            <th>dflt_value</th>\n",
              "            <th>pk</th>\n",
              "        </tr>\n",
              "    </thead>\n",
              "    <tbody>\n",
              "        <tr>\n",
              "            <td>0</td>\n",
              "            <td>cliente_id</td>\n",
              "            <td>INTEGER</td>\n",
              "            <td>1</td>\n",
              "            <td>None</td>\n",
              "            <td>1</td>\n",
              "        </tr>\n",
              "        <tr>\n",
              "            <td>1</td>\n",
              "            <td>nombre</td>\n",
              "            <td>VARCHAR</td>\n",
              "            <td>0</td>\n",
              "            <td>None</td>\n",
              "            <td>0</td>\n",
              "        </tr>\n",
              "        <tr>\n",
              "            <td>2</td>\n",
              "            <td>email</td>\n",
              "            <td>VARCHAR</td>\n",
              "            <td>0</td>\n",
              "            <td>None</td>\n",
              "            <td>0</td>\n",
              "        </tr>\n",
              "        <tr>\n",
              "            <td>3</td>\n",
              "            <td>telefono</td>\n",
              "            <td>VARCHAR</td>\n",
              "            <td>0</td>\n",
              "            <td>None</td>\n",
              "            <td>0</td>\n",
              "        </tr>\n",
              "        <tr>\n",
              "            <td>4</td>\n",
              "            <td>contacto</td>\n",
              "            <td>VARCHAR</td>\n",
              "            <td>0</td>\n",
              "            <td>None</td>\n",
              "            <td>0</td>\n",
              "        </tr>\n",
              "        <tr>\n",
              "            <td>5</td>\n",
              "            <td>telefono_contacto</td>\n",
              "            <td>VARCHAR</td>\n",
              "            <td>0</td>\n",
              "            <td>None</td>\n",
              "            <td>0</td>\n",
              "        </tr>\n",
              "        <tr>\n",
              "            <td>6</td>\n",
              "            <td>ciudad</td>\n",
              "            <td>VARCHAR</td>\n",
              "            <td>0</td>\n",
              "            <td>None</td>\n",
              "            <td>0</td>\n",
              "        </tr>\n",
              "    </tbody>\n",
              "</table>"
            ],
            "text/plain": [
              "[(0, 'cliente_id', 'INTEGER', 1, None, 1),\n",
              " (1, 'nombre', 'VARCHAR', 0, None, 0),\n",
              " (2, 'email', 'VARCHAR', 0, None, 0),\n",
              " (3, 'telefono', 'VARCHAR', 0, None, 0),\n",
              " (4, 'contacto', 'VARCHAR', 0, None, 0),\n",
              " (5, 'telefono_contacto', 'VARCHAR', 0, None, 0),\n",
              " (6, 'ciudad', 'VARCHAR', 0, None, 0)]"
            ]
          },
          "execution_count": 15,
          "metadata": {},
          "output_type": "execute_result"
        }
      ],
      "source": [
        "%sql PRAGMA table_info(cliente);"
      ]
    },
    {
      "cell_type": "code",
      "execution_count": 16,
      "metadata": {
        "colab": {
          "base_uri": "https://localhost:8080/",
          "height": 389
        },
        "id": "G88bt_U54pTO",
        "outputId": "96285294-15a6-4ea6-c87d-d81ba82e8896"
      },
      "outputs": [
        {
          "name": "stdout",
          "output_type": "stream",
          "text": [
            " * sqlite:///TechDonostia.db\n",
            "Done.\n"
          ]
        },
        {
          "data": {
            "text/html": [
              "<table>\n",
              "    <thead>\n",
              "        <tr>\n",
              "            <th>nombre</th>\n",
              "            <th>telefono</th>\n",
              "            <th>email</th>\n",
              "        </tr>\n",
              "    </thead>\n",
              "    <tbody>\n",
              "        <tr>\n",
              "            <td>Ana Pérez</td>\n",
              "            <td>123-456-789</td>\n",
              "            <td>ana.perez@example.com</td>\n",
              "        </tr>\n",
              "        <tr>\n",
              "            <td>Carlos García</td>\n",
              "            <td>234-567-890</td>\n",
              "            <td>carlos.garcia@example.com</td>\n",
              "        </tr>\n",
              "        <tr>\n",
              "            <td>Laura Fernández</td>\n",
              "            <td>456-123-789</td>\n",
              "            <td>laura.fernandez@example.com</td>\n",
              "        </tr>\n",
              "        <tr>\n",
              "            <td>Manuel López</td>\n",
              "            <td>789-456-123</td>\n",
              "            <td>manuel.lopez@example.com</td>\n",
              "        </tr>\n",
              "        <tr>\n",
              "            <td>Isabel Romero</td>\n",
              "            <td>321-654-987</td>\n",
              "            <td>isabel.romero@example.com</td>\n",
              "        </tr>\n",
              "        <tr>\n",
              "            <td>Fernando Castro</td>\n",
              "            <td>234-567-890</td>\n",
              "            <td>fernando.castro@example.com</td>\n",
              "        </tr>\n",
              "        <tr>\n",
              "            <td>Sonia Ruiz</td>\n",
              "            <td>345-678-901</td>\n",
              "            <td>sonia.ruiz@example.com</td>\n",
              "        </tr>\n",
              "        <tr>\n",
              "            <td>Daniel Gómez</td>\n",
              "            <td>456-789-012</td>\n",
              "            <td>daniel.gomez@example.com</td>\n",
              "        </tr>\n",
              "        <tr>\n",
              "            <td>Cristina Hernández</td>\n",
              "            <td>567-890-123</td>\n",
              "            <td>cristina.hernandez@example.com</td>\n",
              "        </tr>\n",
              "        <tr>\n",
              "            <td>Roberto Martínez</td>\n",
              "            <td>678-901-234</td>\n",
              "            <td>roberto.martinez@example.com</td>\n",
              "        </tr>\n",
              "        <tr>\n",
              "            <td>Patricia Jiménez</td>\n",
              "            <td>789-012-345</td>\n",
              "            <td>patricia.jimenez@example.com</td>\n",
              "        </tr>\n",
              "        <tr>\n",
              "            <td>Miguel Ángel López</td>\n",
              "            <td>890-123-456</td>\n",
              "            <td>miguel.angel.lopez@example.com</td>\n",
              "        </tr>\n",
              "        <tr>\n",
              "            <td>Beatriz Pérez</td>\n",
              "            <td>901-234-567</td>\n",
              "            <td>beatriz.perez@example.com</td>\n",
              "        </tr>\n",
              "        <tr>\n",
              "            <td>Jorge Torres</td>\n",
              "            <td>012-345-678</td>\n",
              "            <td>jorge.torres@example.com</td>\n",
              "        </tr>\n",
              "        <tr>\n",
              "            <td>Victor Ramos</td>\n",
              "            <td>123-456-789</td>\n",
              "            <td>victor.ramos@example.com</td>\n",
              "        </tr>\n",
              "        <tr>\n",
              "            <td>Ana Belén Ruiz</td>\n",
              "            <td>234-567-890</td>\n",
              "            <td>ana.belen.ruiz@example.com</td>\n",
              "        </tr>\n",
              "        <tr>\n",
              "            <td>Raquel Moreno</td>\n",
              "            <td>345-678-901</td>\n",
              "            <td>raquel.moreno@example.com</td>\n",
              "        </tr>\n",
              "        <tr>\n",
              "            <td>David Márquez</td>\n",
              "            <td>456-789-012</td>\n",
              "            <td>david.marquez@example.com</td>\n",
              "        </tr>\n",
              "        <tr>\n",
              "            <td>Elena Gil</td>\n",
              "            <td>567-890-123</td>\n",
              "            <td>elena.gil@example.com</td>\n",
              "        </tr>\n",
              "        <tr>\n",
              "            <td>Carlos Medina</td>\n",
              "            <td>678-901-234</td>\n",
              "            <td>carlos.medina@example.com</td>\n",
              "        </tr>\n",
              "        <tr>\n",
              "            <td>Silvia Navarro</td>\n",
              "            <td>789-012-345</td>\n",
              "            <td>silvia.navarro@example.com</td>\n",
              "        </tr>\n",
              "        <tr>\n",
              "            <td>Andrés Ortega</td>\n",
              "            <td>890-123-456</td>\n",
              "            <td>andres.ortega@example.com</td>\n",
              "        </tr>\n",
              "        <tr>\n",
              "            <td>Laura Fernández</td>\n",
              "            <td>456-123-789</td>\n",
              "            <td>laura.fernandez@example.com</td>\n",
              "        </tr>\n",
              "        <tr>\n",
              "            <td>Manuel López</td>\n",
              "            <td>789-456-123</td>\n",
              "            <td>manuel.lopez@example.com</td>\n",
              "        </tr>\n",
              "        <tr>\n",
              "            <td>Isabel Romero</td>\n",
              "            <td>321-654-987</td>\n",
              "            <td>isabel.romero@example.com</td>\n",
              "        </tr>\n",
              "    </tbody>\n",
              "</table>"
            ],
            "text/plain": [
              "[('Ana Pérez', '123-456-789', 'ana.perez@example.com'),\n",
              " ('Carlos García', '234-567-890', 'carlos.garcia@example.com'),\n",
              " ('Laura Fernández', '456-123-789', 'laura.fernandez@example.com'),\n",
              " ('Manuel López', '789-456-123', 'manuel.lopez@example.com'),\n",
              " ('Isabel Romero', '321-654-987', 'isabel.romero@example.com'),\n",
              " ('Fernando Castro', '234-567-890', 'fernando.castro@example.com'),\n",
              " ('Sonia Ruiz', '345-678-901', 'sonia.ruiz@example.com'),\n",
              " ('Daniel Gómez', '456-789-012', 'daniel.gomez@example.com'),\n",
              " ('Cristina Hernández', '567-890-123', 'cristina.hernandez@example.com'),\n",
              " ('Roberto Martínez', '678-901-234', 'roberto.martinez@example.com'),\n",
              " ('Patricia Jiménez', '789-012-345', 'patricia.jimenez@example.com'),\n",
              " ('Miguel Ángel López', '890-123-456', 'miguel.angel.lopez@example.com'),\n",
              " ('Beatriz Pérez', '901-234-567', 'beatriz.perez@example.com'),\n",
              " ('Jorge Torres', '012-345-678', 'jorge.torres@example.com'),\n",
              " ('Victor Ramos', '123-456-789', 'victor.ramos@example.com'),\n",
              " ('Ana Belén Ruiz', '234-567-890', 'ana.belen.ruiz@example.com'),\n",
              " ('Raquel Moreno', '345-678-901', 'raquel.moreno@example.com'),\n",
              " ('David Márquez', '456-789-012', 'david.marquez@example.com'),\n",
              " ('Elena Gil', '567-890-123', 'elena.gil@example.com'),\n",
              " ('Carlos Medina', '678-901-234', 'carlos.medina@example.com'),\n",
              " ('Silvia Navarro', '789-012-345', 'silvia.navarro@example.com'),\n",
              " ('Andrés Ortega', '890-123-456', 'andres.ortega@example.com'),\n",
              " ('Laura Fernández', '456-123-789', 'laura.fernandez@example.com'),\n",
              " ('Manuel López', '789-456-123', 'manuel.lopez@example.com'),\n",
              " ('Isabel Romero', '321-654-987', 'isabel.romero@example.com')]"
            ]
          },
          "execution_count": 16,
          "metadata": {},
          "output_type": "execute_result"
        }
      ],
      "source": [
        "%sql select cliente.nombre, cliente.telefono, cliente.email from cliente"
      ]
    },
    {
      "cell_type": "markdown",
      "metadata": {
        "id": "LsbjEnYieqRv"
      },
      "source": [
        "### List the employees ordered by their salary (use or ORDER BY -ASC -DESC)"
      ]
    },
    {
      "cell_type": "code",
      "execution_count": 23,
      "metadata": {},
      "outputs": [
        {
          "name": "stdout",
          "output_type": "stream",
          "text": [
            " * sqlite:///TechDonostia.db\n",
            "Done.\n"
          ]
        },
        {
          "data": {
            "text/html": [
              "<table>\n",
              "    <thead>\n",
              "        <tr>\n",
              "            <th>empleado_id</th>\n",
              "            <th>nombre</th>\n",
              "            <th>email</th>\n",
              "            <th>telefono</th>\n",
              "            <th>salario</th>\n",
              "            <th>fecha_ingreso</th>\n",
              "            <th>departamento_id</th>\n",
              "        </tr>\n",
              "    </thead>\n",
              "    <tbody>\n",
              "        <tr>\n",
              "            <td>1</td>\n",
              "            <td>Luis Martínez</td>\n",
              "            <td>luis.martinez@example.com</td>\n",
              "            <td>345-678-901</td>\n",
              "            <td>2000.0</td>\n",
              "            <td>2019-05-17 00:00:00.000000</td>\n",
              "            <td>1</td>\n",
              "        </tr>\n",
              "        <tr>\n",
              "            <td>2</td>\n",
              "            <td>María Sánchez</td>\n",
              "            <td>maria.sanchez@example.com</td>\n",
              "            <td>456-789-012</td>\n",
              "            <td>2200.0</td>\n",
              "            <td>2020-06-01 00:00:00.000000</td>\n",
              "            <td>2</td>\n",
              "        </tr>\n",
              "        <tr>\n",
              "            <td>3</td>\n",
              "            <td>Javier Morales</td>\n",
              "            <td>javier.morales@example.com</td>\n",
              "            <td>567-890-234</td>\n",
              "            <td>2500.0</td>\n",
              "            <td>2018-04-10 00:00:00.000000</td>\n",
              "            <td>3</td>\n",
              "        </tr>\n",
              "        <tr>\n",
              "            <td>4</td>\n",
              "            <td>Sara Díaz</td>\n",
              "            <td>sara.diaz@example.com</td>\n",
              "            <td>678-901-345</td>\n",
              "            <td>2100.0</td>\n",
              "            <td>2019-07-22 00:00:00.000000</td>\n",
              "            <td>4</td>\n",
              "        </tr>\n",
              "        <tr>\n",
              "            <td>5</td>\n",
              "            <td>Pedro Jiménez</td>\n",
              "            <td>pedro.jimenez@example.com</td>\n",
              "            <td>789-012-456</td>\n",
              "            <td>2300.0</td>\n",
              "            <td>2021-03-15 00:00:00.000000</td>\n",
              "            <td>5</td>\n",
              "        </tr>\n",
              "        <tr>\n",
              "            <td>6</td>\n",
              "            <td>Elena Navarro</td>\n",
              "            <td>elena.navarro@example.com</td>\n",
              "            <td>890-123-567</td>\n",
              "            <td>2400.0</td>\n",
              "            <td>2020-11-05 00:00:00.000000</td>\n",
              "            <td>6</td>\n",
              "        </tr>\n",
              "        <tr>\n",
              "            <td>7</td>\n",
              "            <td>Ana López</td>\n",
              "            <td>ana.lopez@example.com</td>\n",
              "            <td>234-567-890</td>\n",
              "            <td>2000.0</td>\n",
              "            <td>2022-01-10</td>\n",
              "            <td>3</td>\n",
              "        </tr>\n",
              "        <tr>\n",
              "            <td>8</td>\n",
              "            <td>Carlos Ruiz</td>\n",
              "            <td>carlos.ruiz@example.com</td>\n",
              "            <td>345-678-901</td>\n",
              "            <td>2300.0</td>\n",
              "            <td>2023-03-15</td>\n",
              "            <td>2</td>\n",
              "        </tr>\n",
              "        <tr>\n",
              "            <td>9</td>\n",
              "            <td>Sofía Pérez</td>\n",
              "            <td>sofia.perez@example.com</td>\n",
              "            <td>456-789-012</td>\n",
              "            <td>2400.0</td>\n",
              "            <td>2021-07-22</td>\n",
              "            <td>5</td>\n",
              "        </tr>\n",
              "        <tr>\n",
              "            <td>10</td>\n",
              "            <td>David Gómez</td>\n",
              "            <td>david.gomez@example.com</td>\n",
              "            <td>567-890-234</td>\n",
              "            <td>2200.0</td>\n",
              "            <td>2022-09-30</td>\n",
              "            <td>1</td>\n",
              "        </tr>\n",
              "        <tr>\n",
              "            <td>11</td>\n",
              "            <td>Laura Fernández</td>\n",
              "            <td>laura.fernandez@example.com</td>\n",
              "            <td>678-901-345</td>\n",
              "            <td>2100.0</td>\n",
              "            <td>2023-11-05</td>\n",
              "            <td>4</td>\n",
              "        </tr>\n",
              "    </tbody>\n",
              "</table>"
            ],
            "text/plain": [
              "[(1, 'Luis Martínez', 'luis.martinez@example.com', '345-678-901', 2000.0, '2019-05-17 00:00:00.000000', 1),\n",
              " (2, 'María Sánchez', 'maria.sanchez@example.com', '456-789-012', 2200.0, '2020-06-01 00:00:00.000000', 2),\n",
              " (3, 'Javier Morales', 'javier.morales@example.com', '567-890-234', 2500.0, '2018-04-10 00:00:00.000000', 3),\n",
              " (4, 'Sara Díaz', 'sara.diaz@example.com', '678-901-345', 2100.0, '2019-07-22 00:00:00.000000', 4),\n",
              " (5, 'Pedro Jiménez', 'pedro.jimenez@example.com', '789-012-456', 2300.0, '2021-03-15 00:00:00.000000', 5),\n",
              " (6, 'Elena Navarro', 'elena.navarro@example.com', '890-123-567', 2400.0, '2020-11-05 00:00:00.000000', 6),\n",
              " (7, 'Ana López', 'ana.lopez@example.com', '234-567-890', 2000.0, '2022-01-10', 3),\n",
              " (8, 'Carlos Ruiz', 'carlos.ruiz@example.com', '345-678-901', 2300.0, '2023-03-15', 2),\n",
              " (9, 'Sofía Pérez', 'sofia.perez@example.com', '456-789-012', 2400.0, '2021-07-22', 5),\n",
              " (10, 'David Gómez', 'david.gomez@example.com', '567-890-234', 2200.0, '2022-09-30', 1),\n",
              " (11, 'Laura Fernández', 'laura.fernandez@example.com', '678-901-345', 2100.0, '2023-11-05', 4)]"
            ]
          },
          "execution_count": 23,
          "metadata": {},
          "output_type": "execute_result"
        }
      ],
      "source": [
        "%sql select * from empleado"
      ]
    },
    {
      "cell_type": "code",
      "execution_count": 24,
      "metadata": {
        "colab": {
          "base_uri": "https://localhost:8080/",
          "height": 326
        },
        "id": "IU78_BjxeqRv",
        "outputId": "3510f0bb-d22f-4ccf-a775-a63b0c8e15ad"
      },
      "outputs": [
        {
          "name": "stdout",
          "output_type": "stream",
          "text": [
            " * sqlite:///TechDonostia.db\n",
            "Done.\n"
          ]
        },
        {
          "data": {
            "text/html": [
              "<table>\n",
              "    <thead>\n",
              "        <tr>\n",
              "            <th>nombre</th>\n",
              "            <th>salario</th>\n",
              "        </tr>\n",
              "    </thead>\n",
              "    <tbody>\n",
              "        <tr>\n",
              "            <td>Luis Martínez</td>\n",
              "            <td>2000.0</td>\n",
              "        </tr>\n",
              "        <tr>\n",
              "            <td>Ana López</td>\n",
              "            <td>2000.0</td>\n",
              "        </tr>\n",
              "        <tr>\n",
              "            <td>Sara Díaz</td>\n",
              "            <td>2100.0</td>\n",
              "        </tr>\n",
              "        <tr>\n",
              "            <td>Laura Fernández</td>\n",
              "            <td>2100.0</td>\n",
              "        </tr>\n",
              "        <tr>\n",
              "            <td>María Sánchez</td>\n",
              "            <td>2200.0</td>\n",
              "        </tr>\n",
              "        <tr>\n",
              "            <td>David Gómez</td>\n",
              "            <td>2200.0</td>\n",
              "        </tr>\n",
              "        <tr>\n",
              "            <td>Pedro Jiménez</td>\n",
              "            <td>2300.0</td>\n",
              "        </tr>\n",
              "        <tr>\n",
              "            <td>Carlos Ruiz</td>\n",
              "            <td>2300.0</td>\n",
              "        </tr>\n",
              "        <tr>\n",
              "            <td>Elena Navarro</td>\n",
              "            <td>2400.0</td>\n",
              "        </tr>\n",
              "        <tr>\n",
              "            <td>Sofía Pérez</td>\n",
              "            <td>2400.0</td>\n",
              "        </tr>\n",
              "        <tr>\n",
              "            <td>Javier Morales</td>\n",
              "            <td>2500.0</td>\n",
              "        </tr>\n",
              "    </tbody>\n",
              "</table>"
            ],
            "text/plain": [
              "[('Luis Martínez', 2000.0),\n",
              " ('Ana López', 2000.0),\n",
              " ('Sara Díaz', 2100.0),\n",
              " ('Laura Fernández', 2100.0),\n",
              " ('María Sánchez', 2200.0),\n",
              " ('David Gómez', 2200.0),\n",
              " ('Pedro Jiménez', 2300.0),\n",
              " ('Carlos Ruiz', 2300.0),\n",
              " ('Elena Navarro', 2400.0),\n",
              " ('Sofía Pérez', 2400.0),\n",
              " ('Javier Morales', 2500.0)]"
            ]
          },
          "execution_count": 24,
          "metadata": {},
          "output_type": "execute_result"
        }
      ],
      "source": [
        "%sql select empleado.nombre, empleado.salario from empleado order by salario;"
      ]
    },
    {
      "cell_type": "code",
      "execution_count": 25,
      "metadata": {
        "colab": {
          "base_uri": "https://localhost:8080/",
          "height": 326
        },
        "id": "MMu_9Uh6eqRx",
        "outputId": "8e687b59-407e-4331-a5ff-1c087a8e1cdb"
      },
      "outputs": [
        {
          "name": "stdout",
          "output_type": "stream",
          "text": [
            " * sqlite:///TechDonostia.db\n",
            "Done.\n"
          ]
        },
        {
          "data": {
            "text/html": [
              "<table>\n",
              "    <thead>\n",
              "        <tr>\n",
              "            <th>nombre</th>\n",
              "            <th>salario</th>\n",
              "        </tr>\n",
              "    </thead>\n",
              "    <tbody>\n",
              "        <tr>\n",
              "            <td>Javier Morales</td>\n",
              "            <td>2500.0</td>\n",
              "        </tr>\n",
              "        <tr>\n",
              "            <td>Elena Navarro</td>\n",
              "            <td>2400.0</td>\n",
              "        </tr>\n",
              "        <tr>\n",
              "            <td>Sofía Pérez</td>\n",
              "            <td>2400.0</td>\n",
              "        </tr>\n",
              "        <tr>\n",
              "            <td>Pedro Jiménez</td>\n",
              "            <td>2300.0</td>\n",
              "        </tr>\n",
              "        <tr>\n",
              "            <td>Carlos Ruiz</td>\n",
              "            <td>2300.0</td>\n",
              "        </tr>\n",
              "        <tr>\n",
              "            <td>María Sánchez</td>\n",
              "            <td>2200.0</td>\n",
              "        </tr>\n",
              "        <tr>\n",
              "            <td>David Gómez</td>\n",
              "            <td>2200.0</td>\n",
              "        </tr>\n",
              "        <tr>\n",
              "            <td>Sara Díaz</td>\n",
              "            <td>2100.0</td>\n",
              "        </tr>\n",
              "        <tr>\n",
              "            <td>Laura Fernández</td>\n",
              "            <td>2100.0</td>\n",
              "        </tr>\n",
              "        <tr>\n",
              "            <td>Luis Martínez</td>\n",
              "            <td>2000.0</td>\n",
              "        </tr>\n",
              "        <tr>\n",
              "            <td>Ana López</td>\n",
              "            <td>2000.0</td>\n",
              "        </tr>\n",
              "    </tbody>\n",
              "</table>"
            ],
            "text/plain": [
              "[('Javier Morales', 2500.0),\n",
              " ('Elena Navarro', 2400.0),\n",
              " ('Sofía Pérez', 2400.0),\n",
              " ('Pedro Jiménez', 2300.0),\n",
              " ('Carlos Ruiz', 2300.0),\n",
              " ('María Sánchez', 2200.0),\n",
              " ('David Gómez', 2200.0),\n",
              " ('Sara Díaz', 2100.0),\n",
              " ('Laura Fernández', 2100.0),\n",
              " ('Luis Martínez', 2000.0),\n",
              " ('Ana López', 2000.0)]"
            ]
          },
          "execution_count": 25,
          "metadata": {},
          "output_type": "execute_result"
        }
      ],
      "source": [
        "%sql select nombre, salario FROM empleado ORDER BY salario DESC;"
      ]
    },
    {
      "cell_type": "markdown",
      "metadata": {
        "id": "j4t-ho2OeqRy"
      },
      "source": [
        "Use LIMIT to cut the amount of data in the answer"
      ]
    },
    {
      "cell_type": "code",
      "execution_count": 26,
      "metadata": {
        "colab": {
          "base_uri": "https://localhost:8080/",
          "height": 179
        },
        "id": "F1C_LrbFeqRy",
        "outputId": "bad4aede-e8e0-4947-fb8a-03323df99b0f"
      },
      "outputs": [
        {
          "name": "stdout",
          "output_type": "stream",
          "text": [
            " * sqlite:///TechDonostia.db\n",
            "Done.\n"
          ]
        },
        {
          "data": {
            "text/html": [
              "<table>\n",
              "    <thead>\n",
              "        <tr>\n",
              "            <th>nombre</th>\n",
              "            <th>salario</th>\n",
              "        </tr>\n",
              "    </thead>\n",
              "    <tbody>\n",
              "        <tr>\n",
              "            <td>Javier Morales</td>\n",
              "            <td>2500.0</td>\n",
              "        </tr>\n",
              "        <tr>\n",
              "            <td>Elena Navarro</td>\n",
              "            <td>2400.0</td>\n",
              "        </tr>\n",
              "        <tr>\n",
              "            <td>Sofía Pérez</td>\n",
              "            <td>2400.0</td>\n",
              "        </tr>\n",
              "    </tbody>\n",
              "</table>"
            ],
            "text/plain": [
              "[('Javier Morales', 2500.0),\n",
              " ('Elena Navarro', 2400.0),\n",
              " ('Sofía Pérez', 2400.0)]"
            ]
          },
          "execution_count": 26,
          "metadata": {},
          "output_type": "execute_result"
        }
      ],
      "source": [
        "%sql select nombre, salario FROM empleado ORDER BY salario DESC LIMIT 3;"
      ]
    },
    {
      "cell_type": "markdown",
      "metadata": {
        "id": "evCeve0HeqRz"
      },
      "source": [
        "### DISTINCT removes duplicate fields from the results in a selection operation."
      ]
    },
    {
      "cell_type": "code",
      "execution_count": 33,
      "metadata": {
        "colab": {
          "base_uri": "https://localhost:8080/",
          "height": 326
        },
        "id": "-_geFj-leqRz",
        "outputId": "5085a79f-8717-4e78-da37-1c6d0d6eab54"
      },
      "outputs": [
        {
          "name": "stdout",
          "output_type": "stream",
          "text": [
            " * sqlite:///TechDonostia.db\n",
            "Done.\n"
          ]
        },
        {
          "data": {
            "text/html": [
              "<table>\n",
              "    <thead>\n",
              "        <tr>\n",
              "            <th>salario</th>\n",
              "        </tr>\n",
              "    </thead>\n",
              "    <tbody>\n",
              "        <tr>\n",
              "            <td>2500.0</td>\n",
              "        </tr>\n",
              "        <tr>\n",
              "            <td>2400.0</td>\n",
              "        </tr>\n",
              "        <tr>\n",
              "            <td>2300.0</td>\n",
              "        </tr>\n",
              "        <tr>\n",
              "            <td>2200.0</td>\n",
              "        </tr>\n",
              "        <tr>\n",
              "            <td>2100.0</td>\n",
              "        </tr>\n",
              "        <tr>\n",
              "            <td>2000.0</td>\n",
              "        </tr>\n",
              "    </tbody>\n",
              "</table>"
            ],
            "text/plain": [
              "[(2500.0,), (2400.0,), (2300.0,), (2200.0,), (2100.0,), (2000.0,)]"
            ]
          },
          "execution_count": 33,
          "metadata": {},
          "output_type": "execute_result"
        }
      ],
      "source": [
        "%sql select DISTINCT salario FROM empleado ORDER BY salario DESC;"
      ]
    },
    {
      "cell_type": "markdown",
      "metadata": {
        "id": "pTF9yceFeqR0"
      },
      "source": [
        "### The **WHERE** Clause\n",
        "\n",
        "It is used to limit the selection to fields that meet a specific condition.\n",
        "\n",
        "```sql\n",
        "SELECT field1, field2, ..., fieldN FROM Table WHERE condition;\n",
        "\n",
        "Operators Used in the WHERE Clause\n",
        "= : Equality\n",
        "<> : Not equal\n",
        "> : Greater than\n",
        "< : Less than\n",
        ">= : Greater than or equal to\n",
        "<= : Less than or equal to\n",
        "BETWEEN : Within a certain range\n",
        "LIKE : Matches a given pattern\n",
        "IN : Allows comparison against multiple values"
      ]
    },
    {
      "cell_type": "code",
      "execution_count": 34,
      "metadata": {
        "colab": {
          "base_uri": "https://localhost:8080/",
          "height": 116
        },
        "id": "obIuN8SkeqR0",
        "outputId": "71c1724f-dc16-4bf4-b234-f8d28c23a143"
      },
      "outputs": [
        {
          "name": "stdout",
          "output_type": "stream",
          "text": [
            " * sqlite:///TechDonostia.db\n",
            "Done.\n"
          ]
        },
        {
          "data": {
            "text/html": [
              "<table>\n",
              "    <thead>\n",
              "        <tr>\n",
              "            <th>nombre</th>\n",
              "            <th>salario</th>\n",
              "        </tr>\n",
              "    </thead>\n",
              "    <tbody>\n",
              "        <tr>\n",
              "            <td>Javier Morales</td>\n",
              "            <td>2500.0</td>\n",
              "        </tr>\n",
              "        <tr>\n",
              "            <td>Elena Navarro</td>\n",
              "            <td>2400.0</td>\n",
              "        </tr>\n",
              "    </tbody>\n",
              "</table>"
            ],
            "text/plain": [
              "[('Javier Morales', 2500.0), ('Elena Navarro', 2400.0)]"
            ]
          },
          "execution_count": 34,
          "metadata": {},
          "output_type": "execute_result"
        }
      ],
      "source": [
        "%sql select nombre, salario FROM empleado WHERE salario>2200 ORDER BY salario DESC LIMIT 2;"
      ]
    },
    {
      "cell_type": "code",
      "execution_count": 35,
      "metadata": {
        "colab": {
          "base_uri": "https://localhost:8080/",
          "height": 95
        },
        "id": "zjwznr6neqR1",
        "outputId": "0a501116-fd43-4d67-a014-b7eb27fb5a89"
      },
      "outputs": [
        {
          "name": "stdout",
          "output_type": "stream",
          "text": [
            " * sqlite:///TechDonostia.db\n",
            "Done.\n"
          ]
        },
        {
          "data": {
            "text/html": [
              "<table>\n",
              "    <thead>\n",
              "        <tr>\n",
              "            <th>nombre</th>\n",
              "            <th>salario</th>\n",
              "        </tr>\n",
              "    </thead>\n",
              "    <tbody>\n",
              "        <tr>\n",
              "            <td>Elena Navarro</td>\n",
              "            <td>2400.0</td>\n",
              "        </tr>\n",
              "        <tr>\n",
              "            <td>Sofía Pérez</td>\n",
              "            <td>2400.0</td>\n",
              "        </tr>\n",
              "    </tbody>\n",
              "</table>"
            ],
            "text/plain": [
              "[('Elena Navarro', 2400.0), ('Sofía Pérez', 2400.0)]"
            ]
          },
          "execution_count": 35,
          "metadata": {},
          "output_type": "execute_result"
        }
      ],
      "source": [
        "%sql select nombre, salario FROM empleado WHERE salario = 2400;"
      ]
    },
    {
      "cell_type": "code",
      "execution_count": 36,
      "metadata": {
        "colab": {
          "base_uri": "https://localhost:8080/",
          "height": 200
        },
        "id": "VgPHbRiJeqR1",
        "outputId": "d2e17ff9-7969-4443-c660-1ea03eeb5cda"
      },
      "outputs": [
        {
          "name": "stdout",
          "output_type": "stream",
          "text": [
            " * sqlite:///TechDonostia.db\n",
            "Done.\n"
          ]
        },
        {
          "data": {
            "text/html": [
              "<table>\n",
              "    <thead>\n",
              "        <tr>\n",
              "            <th>nombre</th>\n",
              "            <th>salario</th>\n",
              "        </tr>\n",
              "    </thead>\n",
              "    <tbody>\n",
              "        <tr>\n",
              "            <td>María Sánchez</td>\n",
              "            <td>2200.0</td>\n",
              "        </tr>\n",
              "        <tr>\n",
              "            <td>Sara Díaz</td>\n",
              "            <td>2100.0</td>\n",
              "        </tr>\n",
              "        <tr>\n",
              "            <td>Pedro Jiménez</td>\n",
              "            <td>2300.0</td>\n",
              "        </tr>\n",
              "        <tr>\n",
              "            <td>Carlos Ruiz</td>\n",
              "            <td>2300.0</td>\n",
              "        </tr>\n",
              "        <tr>\n",
              "            <td>David Gómez</td>\n",
              "            <td>2200.0</td>\n",
              "        </tr>\n",
              "        <tr>\n",
              "            <td>Laura Fernández</td>\n",
              "            <td>2100.0</td>\n",
              "        </tr>\n",
              "    </tbody>\n",
              "</table>"
            ],
            "text/plain": [
              "[('María Sánchez', 2200.0),\n",
              " ('Sara Díaz', 2100.0),\n",
              " ('Pedro Jiménez', 2300.0),\n",
              " ('Carlos Ruiz', 2300.0),\n",
              " ('David Gómez', 2200.0),\n",
              " ('Laura Fernández', 2100.0)]"
            ]
          },
          "execution_count": 36,
          "metadata": {},
          "output_type": "execute_result"
        }
      ],
      "source": [
        "%sql select nombre, salario FROM empleado WHERE ( salario >= 2100 AND salario <= 2300);"
      ]
    },
    {
      "cell_type": "code",
      "execution_count": 37,
      "metadata": {
        "colab": {
          "base_uri": "https://localhost:8080/",
          "height": 200
        },
        "id": "KBIdINo3WciC",
        "outputId": "c83b629a-dab9-4512-cd21-33bbf586ff8c"
      },
      "outputs": [
        {
          "name": "stdout",
          "output_type": "stream",
          "text": [
            " * sqlite:///TechDonostia.db\n",
            "Done.\n"
          ]
        },
        {
          "data": {
            "text/html": [
              "<table>\n",
              "    <thead>\n",
              "        <tr>\n",
              "            <th>nombre</th>\n",
              "            <th>salario</th>\n",
              "        </tr>\n",
              "    </thead>\n",
              "    <tbody>\n",
              "        <tr>\n",
              "            <td>María Sánchez</td>\n",
              "            <td>2200.0</td>\n",
              "        </tr>\n",
              "        <tr>\n",
              "            <td>Sara Díaz</td>\n",
              "            <td>2100.0</td>\n",
              "        </tr>\n",
              "        <tr>\n",
              "            <td>David Gómez</td>\n",
              "            <td>2200.0</td>\n",
              "        </tr>\n",
              "        <tr>\n",
              "            <td>Laura Fernández</td>\n",
              "            <td>2100.0</td>\n",
              "        </tr>\n",
              "    </tbody>\n",
              "</table>"
            ],
            "text/plain": [
              "[('María Sánchez', 2200.0),\n",
              " ('Sara Díaz', 2100.0),\n",
              " ('David Gómez', 2200.0),\n",
              " ('Laura Fernández', 2100.0)]"
            ]
          },
          "execution_count": 37,
          "metadata": {},
          "output_type": "execute_result"
        }
      ],
      "source": [
        "%sql select nombre, salario FROM empleado WHERE salario BETWEEN 2100 AND 2200;"
      ]
    },
    {
      "cell_type": "code",
      "execution_count": 38,
      "metadata": {
        "colab": {
          "base_uri": "https://localhost:8080/",
          "height": 137
        },
        "id": "BaXiny8XWzku",
        "outputId": "1a236e34-7d6d-45c5-e0f9-1d1428a2a9ce"
      },
      "outputs": [
        {
          "name": "stdout",
          "output_type": "stream",
          "text": [
            " * sqlite:///TechDonostia.db\n",
            "Done.\n"
          ]
        },
        {
          "data": {
            "text/html": [
              "<table>\n",
              "    <thead>\n",
              "        <tr>\n",
              "            <th>nombre</th>\n",
              "            <th>salario</th>\n",
              "        </tr>\n",
              "    </thead>\n",
              "    <tbody>\n",
              "        <tr>\n",
              "            <td>Sara Díaz</td>\n",
              "            <td>2100.0</td>\n",
              "        </tr>\n",
              "        <tr>\n",
              "            <td>Elena Navarro</td>\n",
              "            <td>2400.0</td>\n",
              "        </tr>\n",
              "        <tr>\n",
              "            <td>Sofía Pérez</td>\n",
              "            <td>2400.0</td>\n",
              "        </tr>\n",
              "        <tr>\n",
              "            <td>Laura Fernández</td>\n",
              "            <td>2100.0</td>\n",
              "        </tr>\n",
              "    </tbody>\n",
              "</table>"
            ],
            "text/plain": [
              "[('Sara Díaz', 2100.0),\n",
              " ('Elena Navarro', 2400.0),\n",
              " ('Sofía Pérez', 2400.0),\n",
              " ('Laura Fernández', 2100.0)]"
            ]
          },
          "execution_count": 38,
          "metadata": {},
          "output_type": "execute_result"
        }
      ],
      "source": [
        "%sql select nombre, salario FROM empleado WHERE salario IN (2100,2400);"
      ]
    },
    {
      "cell_type": "markdown",
      "metadata": {
        "id": "LDmz-VhHeqR2"
      },
      "source": [
        "### **Ejercicio 2**\n",
        "----\n",
        "Con el propósito actualizar la información de los clientes se quiere contactar a aquellos clientes que no tienen asociada una persona de contacto, para esto se pide que muestre de la tabla \"cliente\" los campos \"nombre\" y \"telefono\" de los clientes que no tienen un contacto registrado."
      ]
    },
    {
      "cell_type": "code",
      "execution_count": null,
      "metadata": {
        "colab": {
          "base_uri": "https://localhost:8080/"
        },
        "id": "uK1G0dA5hYrj",
        "outputId": "4efcd741-fbcc-4556-9ce0-d6f0d45dde5e"
      },
      "outputs": [
        {
          "name": "stdout",
          "output_type": "stream",
          "text": [
            " * sqlite:////content/drive/MyDrive/Data_Valencia/love4pets.db\n",
            "Done.\n"
          ]
        },
        {
          "data": {
            "text/html": [
              "<table>\n",
              "    <thead>\n",
              "        <tr>\n",
              "            <th>cid</th>\n",
              "            <th>name</th>\n",
              "            <th>type</th>\n",
              "            <th>notnull</th>\n",
              "            <th>dflt_value</th>\n",
              "            <th>pk</th>\n",
              "        </tr>\n",
              "    </thead>\n",
              "    <tbody>\n",
              "        <tr>\n",
              "            <td>0</td>\n",
              "            <td>cliente_id</td>\n",
              "            <td>INTEGER</td>\n",
              "            <td>1</td>\n",
              "            <td>None</td>\n",
              "            <td>1</td>\n",
              "        </tr>\n",
              "        <tr>\n",
              "            <td>1</td>\n",
              "            <td>nombre</td>\n",
              "            <td>TEXT</td>\n",
              "            <td>1</td>\n",
              "            <td>None</td>\n",
              "            <td>0</td>\n",
              "        </tr>\n",
              "        <tr>\n",
              "            <td>2</td>\n",
              "            <td>email</td>\n",
              "            <td>TEXT</td>\n",
              "            <td>0</td>\n",
              "            <td>None</td>\n",
              "            <td>0</td>\n",
              "        </tr>\n",
              "        <tr>\n",
              "            <td>3</td>\n",
              "            <td>telefono</td>\n",
              "            <td>TEXT</td>\n",
              "            <td>1</td>\n",
              "            <td>None</td>\n",
              "            <td>0</td>\n",
              "        </tr>\n",
              "        <tr>\n",
              "            <td>4</td>\n",
              "            <td>contacto</td>\n",
              "            <td>TEXT</td>\n",
              "            <td>0</td>\n",
              "            <td>None</td>\n",
              "            <td>0</td>\n",
              "        </tr>\n",
              "        <tr>\n",
              "            <td>5</td>\n",
              "            <td>telefono_contacto</td>\n",
              "            <td>TEXT</td>\n",
              "            <td>0</td>\n",
              "            <td>None</td>\n",
              "            <td>0</td>\n",
              "        </tr>\n",
              "        <tr>\n",
              "            <td>6</td>\n",
              "            <td>ciudad</td>\n",
              "            <td>TEXT</td>\n",
              "            <td>1</td>\n",
              "            <td>None</td>\n",
              "            <td>0</td>\n",
              "        </tr>\n",
              "    </tbody>\n",
              "</table>"
            ],
            "text/plain": [
              "[(0, 'cliente_id', 'INTEGER', 1, None, 1),\n",
              " (1, 'nombre', 'TEXT', 1, None, 0),\n",
              " (2, 'email', 'TEXT', 0, None, 0),\n",
              " (3, 'telefono', 'TEXT', 1, None, 0),\n",
              " (4, 'contacto', 'TEXT', 0, None, 0),\n",
              " (5, 'telefono_contacto', 'TEXT', 0, None, 0),\n",
              " (6, 'ciudad', 'TEXT', 1, None, 0)]"
            ]
          },
          "execution_count": 20,
          "metadata": {},
          "output_type": "execute_result"
        }
      ],
      "source": [
        "%sql PRAGMA table_info(cliente)"
      ]
    },
    {
      "cell_type": "code",
      "execution_count": null,
      "metadata": {
        "colab": {
          "base_uri": "https://localhost:8080/",
          "height": 389
        },
        "id": "ApgpwlBHhhTE",
        "outputId": "56671998-bc23-4985-a47f-810aaf6b8020"
      },
      "outputs": [
        {
          "name": "stdout",
          "output_type": "stream",
          "text": [
            " * sqlite:////content/drive/MyDrive/Telmo/love4pets.db\n",
            "Done.\n"
          ]
        },
        {
          "data": {
            "text/html": [
              "<table>\n",
              "    <thead>\n",
              "        <tr>\n",
              "            <th>cliente_id</th>\n",
              "            <th>nombre</th>\n",
              "            <th>email</th>\n",
              "            <th>telefono</th>\n",
              "            <th>contacto</th>\n",
              "            <th>telefono_contacto</th>\n",
              "            <th>ciudad</th>\n",
              "        </tr>\n",
              "    </thead>\n",
              "    <tbody>\n",
              "        <tr>\n",
              "            <td>1</td>\n",
              "            <td>Mario Flores Gallardo</td>\n",
              "            <td>marioflores@gmail.com</td>\n",
              "            <td>036-15-36</td>\n",
              "            <td>Aintzane Alvarez Iglesias</td>\n",
              "            <td>210-35-57</td>\n",
              "            <td>Madrid</td>\n",
              "        </tr>\n",
              "        <tr>\n",
              "            <td>2</td>\n",
              "            <td>Arnau Medina Garcia</td>\n",
              "            <td>arnaumedina@gmail.com</td>\n",
              "            <td>094-10-88</td>\n",
              "            <td></td>\n",
              "            <td></td>\n",
              "            <td>Madrid</td>\n",
              "        </tr>\n",
              "        <tr>\n",
              "            <td>3</td>\n",
              "            <td>Ivan Medina Rubio</td>\n",
              "            <td>ivanmedina@gmail.com</td>\n",
              "            <td>083-08-72</td>\n",
              "            <td>Javier Domenech</td>\n",
              "            <td>488-48-46</td>\n",
              "            <td>Toledo</td>\n",
              "        </tr>\n",
              "        <tr>\n",
              "            <td>4</td>\n",
              "            <td>Jan Vargas Santana</td>\n",
              "            <td>vargasjan@gmail.com</td>\n",
              "            <td>780-65-24</td>\n",
              "            <td></td>\n",
              "            <td></td>\n",
              "            <td>Madrid</td>\n",
              "        </tr>\n",
              "        <tr>\n",
              "            <td>5</td>\n",
              "            <td>Carlos Costa Guerrero</td>\n",
              "            <td>carloscostag@gmail.com</td>\n",
              "            <td>180-65-24</td>\n",
              "            <td>Cristian Jimenez</td>\n",
              "            <td>801-28-09</td>\n",
              "            <td>Madrid</td>\n",
              "        </tr>\n",
              "        <tr>\n",
              "            <td>6</td>\n",
              "            <td>Roberto Martin Ortega</td>\n",
              "            <td>robertmartin@gmail.com</td>\n",
              "            <td>742-63-27</td>\n",
              "            <td>Jorge Vila Gallardo</td>\n",
              "            <td>564-52-13</td>\n",
              "            <td>Madrid</td>\n",
              "        </tr>\n",
              "        <tr>\n",
              "            <td>7</td>\n",
              "            <td>Gabriel Gonzalez Ortega</td>\n",
              "            <td>gabogonzo@gmail.com</td>\n",
              "            <td>780-13-14</td>\n",
              "            <td>Miguel Bosch Parra</td>\n",
              "            <td>882-17-20</td>\n",
              "            <td>Madrid</td>\n",
              "        </tr>\n",
              "        <tr>\n",
              "            <td>8</td>\n",
              "            <td>Rayan Leon Ferrer</td>\n",
              "            <td>rayito@gmail.com</td>\n",
              "            <td>430-65-24</td>\n",
              "            <td>Santiago Perez Ramos</td>\n",
              "            <td>577-21-24</td>\n",
              "            <td>Madrid</td>\n",
              "        </tr>\n",
              "        <tr>\n",
              "            <td>9</td>\n",
              "            <td>Aitor Ruiz Sanchez</td>\n",
              "            <td>aitorsanchez@gmail.com</td>\n",
              "            <td>780-77-24</td>\n",
              "            <td>Gabriel Gonzalez Ortega</td>\n",
              "            <td>784-96-31</td>\n",
              "            <td>Madrid</td>\n",
              "        </tr>\n",
              "        <tr>\n",
              "            <td>10</td>\n",
              "            <td>Eric Rubio Carrasco</td>\n",
              "            <td>ericrubio@gmail.com</td>\n",
              "            <td>780-65-79</td>\n",
              "            <td>Cristian Jimenez Martinez</td>\n",
              "            <td>147-01-12</td>\n",
              "            <td>Madrid</td>\n",
              "        </tr>\n",
              "        <tr>\n",
              "            <td>11</td>\n",
              "            <td>Alberto Sanz Ruiz</td>\n",
              "            <td>albert@gmail.com</td>\n",
              "            <td>781-15-24</td>\n",
              "            <td>Gabriel Gonzalez Ortega</td>\n",
              "            <td>028-51-21</td>\n",
              "            <td>Madrid</td>\n",
              "        </tr>\n",
              "        <tr>\n",
              "            <td>12</td>\n",
              "            <td>Jesus Medina Hernandez</td>\n",
              "            <td>jmedinah@gmail.com</td>\n",
              "            <td>782-35-25</td>\n",
              "            <td>Vctor Gonzalez Castillo</td>\n",
              "            <td>661-85-12</td>\n",
              "            <td>Madrid</td>\n",
              "        </tr>\n",
              "        <tr>\n",
              "            <td>13</td>\n",
              "            <td>Pol Moya Pena</td>\n",
              "            <td>polmoya@gmail.com</td>\n",
              "            <td>780-25-24</td>\n",
              "            <td></td>\n",
              "            <td></td>\n",
              "            <td>Toledo</td>\n",
              "        </tr>\n",
              "        <tr>\n",
              "            <td>14</td>\n",
              "            <td>Jose Gallardo Rodriguez</td>\n",
              "            <td>josegallardo@gmail.com</td>\n",
              "            <td>783-65-11</td>\n",
              "            <td>Hector Martin Morales</td>\n",
              "            <td>867-97-99</td>\n",
              "            <td>Madrid</td>\n",
              "        </tr>\n",
              "        <tr>\n",
              "            <td>15</td>\n",
              "            <td>Manuel Angel Gil</td>\n",
              "            <td>manano@gmail.com</td>\n",
              "            <td>733-65-16</td>\n",
              "            <td>Hector Navarro</td>\n",
              "            <td>067-97-91</td>\n",
              "            <td>Madrid</td>\n",
              "        </tr>\n",
              "    </tbody>\n",
              "</table>"
            ],
            "text/plain": [
              "[(1, 'Mario Flores Gallardo', 'marioflores@gmail.com', '036-15-36', 'Aintzane Alvarez Iglesias', '210-35-57', 'Madrid'),\n",
              " (2, 'Arnau Medina Garcia', 'arnaumedina@gmail.com', '094-10-88', '', '', 'Madrid'),\n",
              " (3, 'Ivan Medina Rubio', 'ivanmedina@gmail.com', '083-08-72', 'Javier Domenech', '488-48-46', 'Toledo'),\n",
              " (4, 'Jan Vargas Santana', 'vargasjan@gmail.com', '780-65-24', '', '', 'Madrid'),\n",
              " (5, 'Carlos Costa Guerrero', 'carloscostag@gmail.com', '180-65-24', 'Cristian Jimenez', '801-28-09', 'Madrid'),\n",
              " (6, 'Roberto Martin Ortega', 'robertmartin@gmail.com', '742-63-27', 'Jorge Vila Gallardo', '564-52-13', 'Madrid'),\n",
              " (7, 'Gabriel Gonzalez Ortega', 'gabogonzo@gmail.com', '780-13-14', 'Miguel Bosch Parra', '882-17-20', 'Madrid'),\n",
              " (8, 'Rayan Leon Ferrer', 'rayito@gmail.com', '430-65-24', 'Santiago Perez Ramos', '577-21-24', 'Madrid'),\n",
              " (9, 'Aitor Ruiz Sanchez', 'aitorsanchez@gmail.com', '780-77-24', 'Gabriel Gonzalez Ortega', '784-96-31', 'Madrid'),\n",
              " (10, 'Eric Rubio Carrasco', 'ericrubio@gmail.com', '780-65-79', 'Cristian Jimenez Martinez', '147-01-12', 'Madrid'),\n",
              " (11, 'Alberto Sanz Ruiz', 'albert@gmail.com', '781-15-24', 'Gabriel Gonzalez Ortega', '028-51-21', 'Madrid'),\n",
              " (12, 'Jesus Medina Hernandez', 'jmedinah@gmail.com', '782-35-25', 'Vctor Gonzalez Castillo', '661-85-12', 'Madrid'),\n",
              " (13, 'Pol Moya Pena', 'polmoya@gmail.com', '780-25-24', '', '', 'Toledo'),\n",
              " (14, 'Jose Gallardo Rodriguez', 'josegallardo@gmail.com', '783-65-11', 'Hector Martin Morales', '867-97-99', 'Madrid'),\n",
              " (15, 'Manuel Angel Gil', 'manano@gmail.com', '733-65-16', 'Hector Navarro', '067-97-91', 'Madrid')]"
            ]
          },
          "execution_count": 33,
          "metadata": {},
          "output_type": "execute_result"
        }
      ],
      "source": [
        "%sql select * from cliente"
      ]
    },
    {
      "cell_type": "code",
      "execution_count": null,
      "metadata": {
        "colab": {
          "base_uri": "https://localhost:8080/",
          "height": 137
        },
        "id": "kxo6zMRkeqR3",
        "outputId": "258c7863-512f-421f-b083-f78aaa80cf3d"
      },
      "outputs": [
        {
          "name": "stdout",
          "output_type": "stream",
          "text": [
            " * sqlite:////content/drive/MyDrive/Telmo/love4pets.db\n",
            "Done.\n"
          ]
        },
        {
          "data": {
            "text/html": [
              "<table>\n",
              "    <thead>\n",
              "        <tr>\n",
              "            <th>nombre</th>\n",
              "            <th>telefono</th>\n",
              "        </tr>\n",
              "    </thead>\n",
              "    <tbody>\n",
              "        <tr>\n",
              "            <td>Arnau Medina Garcia</td>\n",
              "            <td>094-10-88</td>\n",
              "        </tr>\n",
              "        <tr>\n",
              "            <td>Jan Vargas Santana</td>\n",
              "            <td>780-65-24</td>\n",
              "        </tr>\n",
              "        <tr>\n",
              "            <td>Pol Moya Pena</td>\n",
              "            <td>780-25-24</td>\n",
              "        </tr>\n",
              "    </tbody>\n",
              "</table>"
            ],
            "text/plain": [
              "[('Arnau Medina Garcia', '094-10-88'),\n",
              " ('Jan Vargas Santana', '780-65-24'),\n",
              " ('Pol Moya Pena', '780-25-24')]"
            ]
          },
          "execution_count": 34,
          "metadata": {},
          "output_type": "execute_result"
        }
      ],
      "source": [
        "%%sql\n",
        "SELECT nombre,telefono\n",
        "\n",
        "FROM cliente\n",
        "\n",
        "WHERE contacto LIKE ''"
      ]
    },
    {
      "cell_type": "code",
      "execution_count": null,
      "metadata": {
        "colab": {
          "base_uri": "https://localhost:8080/",
          "height": 137
        },
        "id": "F1WEajuCszix",
        "outputId": "6be5b19b-9bf1-4a47-f413-3aae2ff3d315"
      },
      "outputs": [
        {
          "name": "stdout",
          "output_type": "stream",
          "text": [
            " * sqlite:////content/drive/MyDrive/Telmo/love4pets.db\n",
            "Done.\n"
          ]
        },
        {
          "data": {
            "text/html": [
              "<table>\n",
              "    <thead>\n",
              "        <tr>\n",
              "            <th>nombre</th>\n",
              "            <th>telefono</th>\n",
              "        </tr>\n",
              "    </thead>\n",
              "    <tbody>\n",
              "        <tr>\n",
              "            <td>Arnau Medina Garcia</td>\n",
              "            <td>094-10-88</td>\n",
              "        </tr>\n",
              "        <tr>\n",
              "            <td>Jan Vargas Santana</td>\n",
              "            <td>780-65-24</td>\n",
              "        </tr>\n",
              "        <tr>\n",
              "            <td>Pol Moya Pena</td>\n",
              "            <td>780-25-24</td>\n",
              "        </tr>\n",
              "    </tbody>\n",
              "</table>"
            ],
            "text/plain": [
              "[('Arnau Medina Garcia', '094-10-88'),\n",
              " ('Jan Vargas Santana', '780-65-24'),\n",
              " ('Pol Moya Pena', '780-25-24')]"
            ]
          },
          "execution_count": 35,
          "metadata": {},
          "output_type": "execute_result"
        }
      ],
      "source": [
        "%%sql\n",
        "SELECT nombre,telefono\n",
        "\n",
        "FROM cliente\n",
        "\n",
        "WHERE LENGTH(contacto)=0"
      ]
    },
    {
      "cell_type": "markdown",
      "metadata": {
        "id": "aHbuuwlteqR3"
      },
      "source": [
        "### EL operador BETWEEN\n",
        "Esta última instrucción puede escribirse de otra forma usando el operador **BETWEEN**, este operador es usado cuando queremos indicar que deseamos recuperar los registros según un intervalo de valores dado sobre un campo."
      ]
    },
    {
      "cell_type": "code",
      "execution_count": null,
      "metadata": {
        "colab": {
          "base_uri": "https://localhost:8080/"
        },
        "id": "3sEoDz07eqR3",
        "outputId": "355e70db-d139-4f93-ee1c-32d16bab4f82"
      },
      "outputs": [
        {
          "name": "stdout",
          "output_type": "stream",
          "text": [
            " * sqlite:////content/drive/MyDrive/Data_Valencia/love4pets.db\n",
            "Done.\n"
          ]
        },
        {
          "data": {
            "text/html": [
              "<table>\n",
              "    <thead>\n",
              "        <tr>\n",
              "            <th>nombre</th>\n",
              "            <th>salario</th>\n",
              "        </tr>\n",
              "    </thead>\n",
              "    <tbody>\n",
              "        <tr>\n",
              "            <td>Andres Riera Herrera</td>\n",
              "            <td>1500</td>\n",
              "        </tr>\n",
              "        <tr>\n",
              "            <td>Saul Moreno Santos</td>\n",
              "            <td>1600</td>\n",
              "        </tr>\n",
              "        <tr>\n",
              "            <td>Isaac Jimenez Ortiz</td>\n",
              "            <td>1600</td>\n",
              "        </tr>\n",
              "        <tr>\n",
              "            <td>Guillermo Vidal Gomez</td>\n",
              "            <td>1400</td>\n",
              "        </tr>\n",
              "        <tr>\n",
              "            <td>Daniel Quintero Quintero</td>\n",
              "            <td>1500</td>\n",
              "        </tr>\n",
              "        <tr>\n",
              "            <td>Juan Manuel Olivares</td>\n",
              "            <td>1500</td>\n",
              "        </tr>\n",
              "    </tbody>\n",
              "</table>"
            ],
            "text/plain": [
              "[('Andres Riera Herrera', 1500),\n",
              " ('Saul Moreno Santos', 1600),\n",
              " ('Isaac Jimenez Ortiz', 1600),\n",
              " ('Guillermo Vidal Gomez', 1400),\n",
              " ('Daniel Quintero Quintero', 1500),\n",
              " ('Juan Manuel Olivares', 1500)]"
            ]
          },
          "execution_count": 24,
          "metadata": {},
          "output_type": "execute_result"
        }
      ],
      "source": [
        "%sql select nombre, salario FROM empleado WHERE salario Between 1400 AND 1600"
      ]
    },
    {
      "cell_type": "markdown",
      "metadata": {
        "id": "L2LAr5XAeqR4"
      },
      "source": [
        "### EL operador LIKE\n",
        "Este operador es usado cuando se filtra la consulta con algún modelo o patrón sobre una columna.\n",
        "Este operador se combina con simbolos \"%\" y \"_\":\n",
        "* % Representa cero o mas caracteres a ser reemplazados en el patron por otros.\n",
        "* _ Representa un único caracter.\n",
        "\n",
        "Veamos algúnos ejemplos:"
      ]
    },
    {
      "cell_type": "code",
      "execution_count": null,
      "metadata": {
        "colab": {
          "base_uri": "https://localhost:8080/",
          "height": 95
        },
        "id": "hXjcP0treqR4",
        "outputId": "320845b0-def0-474d-86e5-741538ef6a9b"
      },
      "outputs": [
        {
          "name": "stdout",
          "output_type": "stream",
          "text": [
            " * sqlite:////content/drive/MyDrive/Telmo/love4pets.db\n",
            "Done.\n"
          ]
        },
        {
          "data": {
            "text/html": [
              "<table>\n",
              "    <thead>\n",
              "        <tr>\n",
              "            <th>cliente_id</th>\n",
              "            <th>nombre</th>\n",
              "            <th>email</th>\n",
              "            <th>telefono</th>\n",
              "            <th>contacto</th>\n",
              "            <th>telefono_contacto</th>\n",
              "            <th>ciudad</th>\n",
              "        </tr>\n",
              "    </thead>\n",
              "    <tbody>\n",
              "        <tr>\n",
              "            <td>2</td>\n",
              "            <td>Arnau Medina Garcia</td>\n",
              "            <td>arnaumedina@gmail.com</td>\n",
              "            <td>094-10-88</td>\n",
              "            <td></td>\n",
              "            <td></td>\n",
              "            <td>Madrid</td>\n",
              "        </tr>\n",
              "    </tbody>\n",
              "</table>"
            ],
            "text/plain": [
              "[(2, 'Arnau Medina Garcia', 'arnaumedina@gmail.com', '094-10-88', '', '', 'Madrid')]"
            ]
          },
          "execution_count": 41,
          "metadata": {},
          "output_type": "execute_result"
        }
      ],
      "source": [
        "%sql select * FROM cliente WHERE nombre LIKE \"%Garcia%\";"
      ]
    },
    {
      "cell_type": "markdown",
      "metadata": {
        "id": "OqNAkj37eqR4"
      },
      "source": [
        "La instrucción anterior busca todos los clientes cuyo nombre contiene la secuencia de caracteres \"Medina\" en alguna posición."
      ]
    },
    {
      "cell_type": "code",
      "execution_count": null,
      "metadata": {
        "colab": {
          "base_uri": "https://localhost:8080/",
          "height": 389
        },
        "id": "QH5AG83seqR5",
        "outputId": "b7d17033-aebe-4c5d-fd90-3acf43bf9eb3"
      },
      "outputs": [
        {
          "name": "stdout",
          "output_type": "stream",
          "text": [
            " * sqlite:////content/drive/MyDrive/Telmo/love4pets.db\n",
            "Done.\n"
          ]
        },
        {
          "data": {
            "text/html": [
              "<table>\n",
              "    <thead>\n",
              "        <tr>\n",
              "            <th>cliente_id</th>\n",
              "            <th>nombre</th>\n",
              "            <th>email</th>\n",
              "            <th>telefono</th>\n",
              "            <th>contacto</th>\n",
              "            <th>telefono_contacto</th>\n",
              "            <th>ciudad</th>\n",
              "        </tr>\n",
              "    </thead>\n",
              "    <tbody>\n",
              "        <tr>\n",
              "            <td>1</td>\n",
              "            <td>Mario Flores Gallardo</td>\n",
              "            <td>marioflores@gmail.com</td>\n",
              "            <td>036-15-36</td>\n",
              "            <td>Aintzane Alvarez Iglesias</td>\n",
              "            <td>210-35-57</td>\n",
              "            <td>Madrid</td>\n",
              "        </tr>\n",
              "        <tr>\n",
              "            <td>2</td>\n",
              "            <td>Arnau Medina Garcia</td>\n",
              "            <td>arnaumedina@gmail.com</td>\n",
              "            <td>094-10-88</td>\n",
              "            <td></td>\n",
              "            <td></td>\n",
              "            <td>Madrid</td>\n",
              "        </tr>\n",
              "        <tr>\n",
              "            <td>3</td>\n",
              "            <td>Ivan Medina Rubio</td>\n",
              "            <td>ivanmedina@gmail.com</td>\n",
              "            <td>083-08-72</td>\n",
              "            <td>Javier Domenech</td>\n",
              "            <td>488-48-46</td>\n",
              "            <td>Toledo</td>\n",
              "        </tr>\n",
              "        <tr>\n",
              "            <td>4</td>\n",
              "            <td>Jan Vargas Santana</td>\n",
              "            <td>vargasjan@gmail.com</td>\n",
              "            <td>780-65-24</td>\n",
              "            <td></td>\n",
              "            <td></td>\n",
              "            <td>Madrid</td>\n",
              "        </tr>\n",
              "        <tr>\n",
              "            <td>5</td>\n",
              "            <td>Carlos Costa Guerrero</td>\n",
              "            <td>carloscostag@gmail.com</td>\n",
              "            <td>180-65-24</td>\n",
              "            <td>Cristian Jimenez</td>\n",
              "            <td>801-28-09</td>\n",
              "            <td>Madrid</td>\n",
              "        </tr>\n",
              "        <tr>\n",
              "            <td>6</td>\n",
              "            <td>Roberto Martin Ortega</td>\n",
              "            <td>robertmartin@gmail.com</td>\n",
              "            <td>742-63-27</td>\n",
              "            <td>Jorge Vila Gallardo</td>\n",
              "            <td>564-52-13</td>\n",
              "            <td>Madrid</td>\n",
              "        </tr>\n",
              "        <tr>\n",
              "            <td>7</td>\n",
              "            <td>Gabriel Gonzalez Ortega</td>\n",
              "            <td>gabogonzo@gmail.com</td>\n",
              "            <td>780-13-14</td>\n",
              "            <td>Miguel Bosch Parra</td>\n",
              "            <td>882-17-20</td>\n",
              "            <td>Madrid</td>\n",
              "        </tr>\n",
              "        <tr>\n",
              "            <td>8</td>\n",
              "            <td>Rayan Leon Ferrer</td>\n",
              "            <td>rayito@gmail.com</td>\n",
              "            <td>430-65-24</td>\n",
              "            <td>Santiago Perez Ramos</td>\n",
              "            <td>577-21-24</td>\n",
              "            <td>Madrid</td>\n",
              "        </tr>\n",
              "        <tr>\n",
              "            <td>9</td>\n",
              "            <td>Aitor Ruiz Sanchez</td>\n",
              "            <td>aitorsanchez@gmail.com</td>\n",
              "            <td>780-77-24</td>\n",
              "            <td>Gabriel Gonzalez Ortega</td>\n",
              "            <td>784-96-31</td>\n",
              "            <td>Madrid</td>\n",
              "        </tr>\n",
              "        <tr>\n",
              "            <td>10</td>\n",
              "            <td>Eric Rubio Carrasco</td>\n",
              "            <td>ericrubio@gmail.com</td>\n",
              "            <td>780-65-79</td>\n",
              "            <td>Cristian Jimenez Martinez</td>\n",
              "            <td>147-01-12</td>\n",
              "            <td>Madrid</td>\n",
              "        </tr>\n",
              "        <tr>\n",
              "            <td>11</td>\n",
              "            <td>Alberto Sanz Ruiz</td>\n",
              "            <td>albert@gmail.com</td>\n",
              "            <td>781-15-24</td>\n",
              "            <td>Gabriel Gonzalez Ortega</td>\n",
              "            <td>028-51-21</td>\n",
              "            <td>Madrid</td>\n",
              "        </tr>\n",
              "        <tr>\n",
              "            <td>12</td>\n",
              "            <td>Jesus Medina Hernandez</td>\n",
              "            <td>jmedinah@gmail.com</td>\n",
              "            <td>782-35-25</td>\n",
              "            <td>Vctor Gonzalez Castillo</td>\n",
              "            <td>661-85-12</td>\n",
              "            <td>Madrid</td>\n",
              "        </tr>\n",
              "        <tr>\n",
              "            <td>13</td>\n",
              "            <td>Pol Moya Pena</td>\n",
              "            <td>polmoya@gmail.com</td>\n",
              "            <td>780-25-24</td>\n",
              "            <td></td>\n",
              "            <td></td>\n",
              "            <td>Toledo</td>\n",
              "        </tr>\n",
              "        <tr>\n",
              "            <td>14</td>\n",
              "            <td>Jose Gallardo Rodriguez</td>\n",
              "            <td>josegallardo@gmail.com</td>\n",
              "            <td>783-65-11</td>\n",
              "            <td>Hector Martin Morales</td>\n",
              "            <td>867-97-99</td>\n",
              "            <td>Madrid</td>\n",
              "        </tr>\n",
              "        <tr>\n",
              "            <td>15</td>\n",
              "            <td>Manuel Angel Gil</td>\n",
              "            <td>manano@gmail.com</td>\n",
              "            <td>733-65-16</td>\n",
              "            <td>Hector Navarro</td>\n",
              "            <td>067-97-91</td>\n",
              "            <td>Madrid</td>\n",
              "        </tr>\n",
              "    </tbody>\n",
              "</table>"
            ],
            "text/plain": [
              "[(1, 'Mario Flores Gallardo', 'marioflores@gmail.com', '036-15-36', 'Aintzane Alvarez Iglesias', '210-35-57', 'Madrid'),\n",
              " (2, 'Arnau Medina Garcia', 'arnaumedina@gmail.com', '094-10-88', '', '', 'Madrid'),\n",
              " (3, 'Ivan Medina Rubio', 'ivanmedina@gmail.com', '083-08-72', 'Javier Domenech', '488-48-46', 'Toledo'),\n",
              " (4, 'Jan Vargas Santana', 'vargasjan@gmail.com', '780-65-24', '', '', 'Madrid'),\n",
              " (5, 'Carlos Costa Guerrero', 'carloscostag@gmail.com', '180-65-24', 'Cristian Jimenez', '801-28-09', 'Madrid'),\n",
              " (6, 'Roberto Martin Ortega', 'robertmartin@gmail.com', '742-63-27', 'Jorge Vila Gallardo', '564-52-13', 'Madrid'),\n",
              " (7, 'Gabriel Gonzalez Ortega', 'gabogonzo@gmail.com', '780-13-14', 'Miguel Bosch Parra', '882-17-20', 'Madrid'),\n",
              " (8, 'Rayan Leon Ferrer', 'rayito@gmail.com', '430-65-24', 'Santiago Perez Ramos', '577-21-24', 'Madrid'),\n",
              " (9, 'Aitor Ruiz Sanchez', 'aitorsanchez@gmail.com', '780-77-24', 'Gabriel Gonzalez Ortega', '784-96-31', 'Madrid'),\n",
              " (10, 'Eric Rubio Carrasco', 'ericrubio@gmail.com', '780-65-79', 'Cristian Jimenez Martinez', '147-01-12', 'Madrid'),\n",
              " (11, 'Alberto Sanz Ruiz', 'albert@gmail.com', '781-15-24', 'Gabriel Gonzalez Ortega', '028-51-21', 'Madrid'),\n",
              " (12, 'Jesus Medina Hernandez', 'jmedinah@gmail.com', '782-35-25', 'Vctor Gonzalez Castillo', '661-85-12', 'Madrid'),\n",
              " (13, 'Pol Moya Pena', 'polmoya@gmail.com', '780-25-24', '', '', 'Toledo'),\n",
              " (14, 'Jose Gallardo Rodriguez', 'josegallardo@gmail.com', '783-65-11', 'Hector Martin Morales', '867-97-99', 'Madrid'),\n",
              " (15, 'Manuel Angel Gil', 'manano@gmail.com', '733-65-16', 'Hector Navarro', '067-97-91', 'Madrid')]"
            ]
          },
          "execution_count": 42,
          "metadata": {},
          "output_type": "execute_result"
        }
      ],
      "source": [
        "%sql select * FROM cliente WHERE email LIKE \"%@gmail.com\";"
      ]
    },
    {
      "cell_type": "markdown",
      "metadata": {
        "id": "9fJhQH1VeqR5"
      },
      "source": [
        "EL comando anterior busca los clientes que tienen un correo que termine en \"@gmail.com\".\n",
        "\n",
        "**Veamos a consultar todos los clientes cuyo número telefónico comience por \"780\"**"
      ]
    },
    {
      "cell_type": "code",
      "execution_count": null,
      "metadata": {
        "colab": {
          "base_uri": "https://localhost:8080/"
        },
        "id": "wJ8OM5E4eqR5",
        "outputId": "cf1a0a7a-5a4c-42e9-e01b-6053f266a807"
      },
      "outputs": [
        {
          "name": "stdout",
          "output_type": "stream",
          "text": [
            " * sqlite:////content/drive/MyDrive/Data_Valencia/love4pets.db\n",
            "Done.\n"
          ]
        },
        {
          "data": {
            "text/html": [
              "<table>\n",
              "    <thead>\n",
              "        <tr>\n",
              "            <th>cliente_id</th>\n",
              "            <th>nombre</th>\n",
              "            <th>email</th>\n",
              "            <th>telefono</th>\n",
              "            <th>contacto</th>\n",
              "            <th>telefono_contacto</th>\n",
              "            <th>ciudad</th>\n",
              "        </tr>\n",
              "    </thead>\n",
              "    <tbody>\n",
              "        <tr>\n",
              "            <td>4</td>\n",
              "            <td>Jan Vargas Santana</td>\n",
              "            <td>vargasjan@gmail.com</td>\n",
              "            <td>780-65-24</td>\n",
              "            <td></td>\n",
              "            <td></td>\n",
              "            <td>Madrid</td>\n",
              "        </tr>\n",
              "        <tr>\n",
              "            <td>7</td>\n",
              "            <td>Gabriel Gonzalez Ortega</td>\n",
              "            <td>gabogonzo@gmail.com</td>\n",
              "            <td>780-13-14</td>\n",
              "            <td>Miguel Bosch Parra</td>\n",
              "            <td>882-17-20</td>\n",
              "            <td>Madrid</td>\n",
              "        </tr>\n",
              "        <tr>\n",
              "            <td>9</td>\n",
              "            <td>Aitor Ruiz Sanchez</td>\n",
              "            <td>aitorsanchez@gmail.com</td>\n",
              "            <td>780-77-24</td>\n",
              "            <td>Gabriel Gonzalez Ortega</td>\n",
              "            <td>784-96-31</td>\n",
              "            <td>Madrid</td>\n",
              "        </tr>\n",
              "        <tr>\n",
              "            <td>10</td>\n",
              "            <td>Eric Rubio Carrasco</td>\n",
              "            <td>ericrubio@gmail.com</td>\n",
              "            <td>780-65-79</td>\n",
              "            <td>Cristian Jimenez Martinez</td>\n",
              "            <td>147-01-12</td>\n",
              "            <td>Madrid</td>\n",
              "        </tr>\n",
              "        <tr>\n",
              "            <td>13</td>\n",
              "            <td>Pol Moya Pena</td>\n",
              "            <td>polmoya@gmail.com</td>\n",
              "            <td>780-25-24</td>\n",
              "            <td></td>\n",
              "            <td></td>\n",
              "            <td>Toledo</td>\n",
              "        </tr>\n",
              "    </tbody>\n",
              "</table>"
            ],
            "text/plain": [
              "[(4, 'Jan Vargas Santana', 'vargasjan@gmail.com', '780-65-24', '', '', 'Madrid'),\n",
              " (7, 'Gabriel Gonzalez Ortega', 'gabogonzo@gmail.com', '780-13-14', 'Miguel Bosch Parra', '882-17-20', 'Madrid'),\n",
              " (9, 'Aitor Ruiz Sanchez', 'aitorsanchez@gmail.com', '780-77-24', 'Gabriel Gonzalez Ortega', '784-96-31', 'Madrid'),\n",
              " (10, 'Eric Rubio Carrasco', 'ericrubio@gmail.com', '780-65-79', 'Cristian Jimenez Martinez', '147-01-12', 'Madrid'),\n",
              " (13, 'Pol Moya Pena', 'polmoya@gmail.com', '780-25-24', '', '', 'Toledo')]"
            ]
          },
          "execution_count": 27,
          "metadata": {},
          "output_type": "execute_result"
        }
      ],
      "source": [
        "%sql select * FROM cliente WHERE telefono LIKE \"780-%\";"
      ]
    },
    {
      "cell_type": "markdown",
      "metadata": {
        "id": "SjcD42-SeqR5"
      },
      "source": [
        "### **Ejercicio 3**\n",
        "--------\n",
        "Un empleado de la empresa Love4Pets se dió cuenta que un cliente dejó por accidente su celular, el empleado recuerda que alguno de sus apellidos era \"Leon\".\n",
        "\n",
        "Se quiere que determinar a quien pertenece el celular extraviado, y en caso de ser posible avisar a su persona de contacto que el celular está a salvo y pueden pasar buscandolo en cualquier momento.\n",
        "   \n",
        "Se sabe que la tabla **\"cliente\"** tiene un campo **\"nombre\"** el cual contiene nombres y apellidos, el campo **\"contacto\"** que tiene el nombre de la persona de contacto y el campo **\"telefono_contacto\"** que tiene el telefono de la persona de contacto."
      ]
    },
    {
      "cell_type": "code",
      "execution_count": null,
      "metadata": {
        "colab": {
          "base_uri": "https://localhost:8080/",
          "height": 221
        },
        "id": "jaOilySgZMZy",
        "outputId": "1c05ea5f-664c-499f-e960-957c3dd9aaef"
      },
      "outputs": [
        {
          "name": "stdout",
          "output_type": "stream",
          "text": [
            " * sqlite:////content/drive/MyDrive/Telmo/love4pets.db\n",
            "Done.\n"
          ]
        },
        {
          "data": {
            "text/html": [
              "<table>\n",
              "    <thead>\n",
              "        <tr>\n",
              "            <th>cid</th>\n",
              "            <th>name</th>\n",
              "            <th>type</th>\n",
              "            <th>notnull</th>\n",
              "            <th>dflt_value</th>\n",
              "            <th>pk</th>\n",
              "        </tr>\n",
              "    </thead>\n",
              "    <tbody>\n",
              "        <tr>\n",
              "            <td>0</td>\n",
              "            <td>cliente_id</td>\n",
              "            <td>INTEGER</td>\n",
              "            <td>1</td>\n",
              "            <td>None</td>\n",
              "            <td>1</td>\n",
              "        </tr>\n",
              "        <tr>\n",
              "            <td>1</td>\n",
              "            <td>nombre</td>\n",
              "            <td>TEXT</td>\n",
              "            <td>1</td>\n",
              "            <td>None</td>\n",
              "            <td>0</td>\n",
              "        </tr>\n",
              "        <tr>\n",
              "            <td>2</td>\n",
              "            <td>email</td>\n",
              "            <td>TEXT</td>\n",
              "            <td>0</td>\n",
              "            <td>None</td>\n",
              "            <td>0</td>\n",
              "        </tr>\n",
              "        <tr>\n",
              "            <td>3</td>\n",
              "            <td>telefono</td>\n",
              "            <td>TEXT</td>\n",
              "            <td>1</td>\n",
              "            <td>None</td>\n",
              "            <td>0</td>\n",
              "        </tr>\n",
              "        <tr>\n",
              "            <td>4</td>\n",
              "            <td>contacto</td>\n",
              "            <td>TEXT</td>\n",
              "            <td>0</td>\n",
              "            <td>None</td>\n",
              "            <td>0</td>\n",
              "        </tr>\n",
              "        <tr>\n",
              "            <td>5</td>\n",
              "            <td>telefono_contacto</td>\n",
              "            <td>TEXT</td>\n",
              "            <td>0</td>\n",
              "            <td>None</td>\n",
              "            <td>0</td>\n",
              "        </tr>\n",
              "        <tr>\n",
              "            <td>6</td>\n",
              "            <td>ciudad</td>\n",
              "            <td>TEXT</td>\n",
              "            <td>1</td>\n",
              "            <td>None</td>\n",
              "            <td>0</td>\n",
              "        </tr>\n",
              "    </tbody>\n",
              "</table>"
            ],
            "text/plain": [
              "[(0, 'cliente_id', 'INTEGER', 1, None, 1),\n",
              " (1, 'nombre', 'TEXT', 1, None, 0),\n",
              " (2, 'email', 'TEXT', 0, None, 0),\n",
              " (3, 'telefono', 'TEXT', 1, None, 0),\n",
              " (4, 'contacto', 'TEXT', 0, None, 0),\n",
              " (5, 'telefono_contacto', 'TEXT', 0, None, 0),\n",
              " (6, 'ciudad', 'TEXT', 1, None, 0)]"
            ]
          },
          "execution_count": 44,
          "metadata": {},
          "output_type": "execute_result"
        }
      ],
      "source": [
        "%sql PRAGMA table_info(cliente)"
      ]
    },
    {
      "cell_type": "code",
      "execution_count": null,
      "metadata": {
        "colab": {
          "base_uri": "https://localhost:8080/",
          "height": 95
        },
        "id": "4fZJkE3GeqR6",
        "outputId": "62accbf1-f625-44b3-b002-10b551727f6e"
      },
      "outputs": [
        {
          "name": "stdout",
          "output_type": "stream",
          "text": [
            " * sqlite:////content/drive/MyDrive/Telmo/love4pets.db\n",
            "Done.\n"
          ]
        },
        {
          "data": {
            "text/html": [
              "<table>\n",
              "    <thead>\n",
              "        <tr>\n",
              "            <th>nombre</th>\n",
              "            <th>contacto</th>\n",
              "            <th>telefono_contacto</th>\n",
              "        </tr>\n",
              "    </thead>\n",
              "    <tbody>\n",
              "        <tr>\n",
              "            <td>Rayan Leon Ferrer</td>\n",
              "            <td>Santiago Perez Ramos</td>\n",
              "            <td>577-21-24</td>\n",
              "        </tr>\n",
              "    </tbody>\n",
              "</table>"
            ],
            "text/plain": [
              "[('Rayan Leon Ferrer', 'Santiago Perez Ramos', '577-21-24')]"
            ]
          },
          "execution_count": 45,
          "metadata": {},
          "output_type": "execute_result"
        }
      ],
      "source": [
        "%%sql\n",
        "SELECT nombre, contacto,telefono_contacto\n",
        "\n",
        "FROM cliente\n",
        "\n",
        "WHERE nombre LIKE '%LEON%'"
      ]
    },
    {
      "cell_type": "markdown",
      "metadata": {
        "id": "nW2vSWwoeqR6"
      },
      "source": [
        "### Operadores AND, OR, NOT\n",
        "Estos operadores son usados para filtrar resultados según mas de una condición.\n",
        "\n",
        "**Operador AND:** Se muestran los resultados que cumplen las condiciones separadas por el operador AND, es decir el resultado de la operación AND tiene valor TRUE\n",
        "\n",
        "Sintaxis del Operador AND\n",
        "```sql\n",
        "select campo FROM Tabla WHERE condicion1 AND condicion2;\n",
        "```\n",
        "\n",
        "**Operador OR:** Se muestran los resultados que cumplen alguna de las condiciones separadas por el operador OR, es decir el resultado de la operación OR tiene valor TRUE\n",
        "\n",
        "Sintaxis del Operador OR\n",
        "```sql\n",
        "select campo FROM Tabla WHERE condicion1 OR condicion2;\n",
        "```\n",
        "\n",
        "**Operador NOT:** Se muestran los resultados que NO cumplen con la condicion indicada.\n",
        "\n",
        "Sintaxis del Operador NOT\n",
        "```sql\n",
        "select campo FROM Tabla WHERE NOT condicion1;\n",
        "```\n"
      ]
    },
    {
      "cell_type": "code",
      "execution_count": null,
      "metadata": {
        "colab": {
          "base_uri": "https://localhost:8080/",
          "height": 158
        },
        "id": "OdLIxJlveqR6",
        "outputId": "21aff35f-f4cf-433f-a421-37743c38457a"
      },
      "outputs": [
        {
          "name": "stdout",
          "output_type": "stream",
          "text": [
            " * sqlite:////content/drive/MyDrive/Telmo/love4pets.db\n",
            "Done.\n"
          ]
        },
        {
          "data": {
            "text/html": [
              "<table>\n",
              "    <thead>\n",
              "        <tr>\n",
              "            <th>empleado_id</th>\n",
              "            <th>nombre</th>\n",
              "            <th>email</th>\n",
              "            <th>telefono</th>\n",
              "            <th>salario</th>\n",
              "            <th>fecha_ingreso</th>\n",
              "            <th>departamento_id</th>\n",
              "        </tr>\n",
              "    </thead>\n",
              "    <tbody>\n",
              "        <tr>\n",
              "            <td>1</td>\n",
              "            <td>Andres Riera Herrera</td>\n",
              "            <td>andresr@gmail.com</td>\n",
              "            <td>200-88-76</td>\n",
              "            <td>1500</td>\n",
              "            <td>2017-05-17 00:00:000</td>\n",
              "            <td>6</td>\n",
              "        </tr>\n",
              "        <tr>\n",
              "            <td>9</td>\n",
              "            <td>Daniel Quintero Quintero</td>\n",
              "            <td>danielquinterox2@gmail.com</td>\n",
              "            <td>261-97-06</td>\n",
              "            <td>1500</td>\n",
              "            <td>2017-03-05 00:00:000</td>\n",
              "            <td>6</td>\n",
              "        </tr>\n",
              "        <tr>\n",
              "            <td>11</td>\n",
              "            <td>Miguel Soto</td>\n",
              "            <td>misoto@gmail.com</td>\n",
              "            <td>269-92-06</td>\n",
              "            <td>1900</td>\n",
              "            <td>2017-03-05 00:00:000</td>\n",
              "            <td>6</td>\n",
              "        </tr>\n",
              "        <tr>\n",
              "            <td>12</td>\n",
              "            <td>Alejandro Fernandez</td>\n",
              "            <td>alefer@gmail.com</td>\n",
              "            <td>119-91-16</td>\n",
              "            <td>1850</td>\n",
              "            <td>2017-03-05 00:00:000</td>\n",
              "            <td>6</td>\n",
              "        </tr>\n",
              "    </tbody>\n",
              "</table>"
            ],
            "text/plain": [
              "[(1, 'Andres Riera Herrera', 'andresr@gmail.com', '200-88-76', 1500, '2017-05-17 00:00:000', 6),\n",
              " (9, 'Daniel Quintero Quintero', 'danielquinterox2@gmail.com', '261-97-06', 1500, '2017-03-05 00:00:000', 6),\n",
              " (11, 'Miguel Soto', 'misoto@gmail.com', '269-92-06', 1900, '2017-03-05 00:00:000', 6),\n",
              " (12, 'Alejandro Fernandez', 'alefer@gmail.com', '119-91-16', 1850, '2017-03-05 00:00:000', 6)]"
            ]
          },
          "execution_count": 48,
          "metadata": {},
          "output_type": "execute_result"
        }
      ],
      "source": [
        "%sql select * FROM empleado WHERE (salario >= 1500 AND departamento_id = 6)"
      ]
    },
    {
      "cell_type": "markdown",
      "metadata": {
        "id": "kWTomy9VeqR7"
      },
      "source": [
        "En el ejemplo anterior la consulta muestra los empleados que tienen un salario mayor o igual a 1500 y que trabajan en el departamento de informática el cual tiene código 6.\n",
        "\n",
        "Veamos como podemos usar **consultas anidadas** para buscar la misma consulta colocando el nombre del departamento en lugar del código."
      ]
    },
    {
      "cell_type": "code",
      "execution_count": null,
      "metadata": {
        "colab": {
          "base_uri": "https://localhost:8080/",
          "height": 158
        },
        "id": "ayhWMPC6eqR7",
        "outputId": "b775fbec-e0be-4b0e-9865-3a2f69c202a6"
      },
      "outputs": [
        {
          "name": "stdout",
          "output_type": "stream",
          "text": [
            " * sqlite:////content/drive/MyDrive/Telmo/love4pets.db\n",
            "Done.\n"
          ]
        },
        {
          "data": {
            "text/html": [
              "<table>\n",
              "    <thead>\n",
              "        <tr>\n",
              "            <th>empleado_id</th>\n",
              "            <th>nombre</th>\n",
              "            <th>email</th>\n",
              "            <th>telefono</th>\n",
              "            <th>salario</th>\n",
              "            <th>fecha_ingreso</th>\n",
              "            <th>departamento_id</th>\n",
              "        </tr>\n",
              "    </thead>\n",
              "    <tbody>\n",
              "        <tr>\n",
              "            <td>1</td>\n",
              "            <td>Andres Riera Herrera</td>\n",
              "            <td>andresr@gmail.com</td>\n",
              "            <td>200-88-76</td>\n",
              "            <td>1500</td>\n",
              "            <td>2017-05-17 00:00:000</td>\n",
              "            <td>6</td>\n",
              "        </tr>\n",
              "        <tr>\n",
              "            <td>9</td>\n",
              "            <td>Daniel Quintero Quintero</td>\n",
              "            <td>danielquinterox2@gmail.com</td>\n",
              "            <td>261-97-06</td>\n",
              "            <td>1500</td>\n",
              "            <td>2017-03-05 00:00:000</td>\n",
              "            <td>6</td>\n",
              "        </tr>\n",
              "        <tr>\n",
              "            <td>11</td>\n",
              "            <td>Miguel Soto</td>\n",
              "            <td>misoto@gmail.com</td>\n",
              "            <td>269-92-06</td>\n",
              "            <td>1900</td>\n",
              "            <td>2017-03-05 00:00:000</td>\n",
              "            <td>6</td>\n",
              "        </tr>\n",
              "        <tr>\n",
              "            <td>12</td>\n",
              "            <td>Alejandro Fernandez</td>\n",
              "            <td>alefer@gmail.com</td>\n",
              "            <td>119-91-16</td>\n",
              "            <td>1850</td>\n",
              "            <td>2017-03-05 00:00:000</td>\n",
              "            <td>6</td>\n",
              "        </tr>\n",
              "    </tbody>\n",
              "</table>"
            ],
            "text/plain": [
              "[(1, 'Andres Riera Herrera', 'andresr@gmail.com', '200-88-76', 1500, '2017-05-17 00:00:000', 6),\n",
              " (9, 'Daniel Quintero Quintero', 'danielquinterox2@gmail.com', '261-97-06', 1500, '2017-03-05 00:00:000', 6),\n",
              " (11, 'Miguel Soto', 'misoto@gmail.com', '269-92-06', 1900, '2017-03-05 00:00:000', 6),\n",
              " (12, 'Alejandro Fernandez', 'alefer@gmail.com', '119-91-16', 1850, '2017-03-05 00:00:000', 6)]"
            ]
          },
          "execution_count": 49,
          "metadata": {},
          "output_type": "execute_result"
        }
      ],
      "source": [
        "%%sql\n",
        "select * FROM empleado\n",
        "WHERE\n",
        "( salario >= 1500 AND departamento_id = (select departamento_id FROM departamento WHERE nombre=\"informatica\" ) )"
      ]
    },
    {
      "cell_type": "markdown",
      "metadata": {
        "id": "46K-qkHoeqR7"
      },
      "source": [
        "Veamos un ejemplo donde consultamos las mascotas asociadas a una persona con nombre \"Arnau Medina Garcia\""
      ]
    },
    {
      "cell_type": "code",
      "execution_count": null,
      "metadata": {
        "colab": {
          "base_uri": "https://localhost:8080/"
        },
        "id": "4jxxzDYCeqR7",
        "outputId": "5db08b66-1e71-4d22-b75a-2f808e373cd2"
      },
      "outputs": [
        {
          "name": "stdout",
          "output_type": "stream",
          "text": [
            " * sqlite:////content/drive/MyDrive/Data_Valencia/love4pets.db\n",
            "Done.\n"
          ]
        },
        {
          "data": {
            "text/html": [
              "<table>\n",
              "    <thead>\n",
              "        <tr>\n",
              "            <th>mascota_id</th>\n",
              "            <th>nombre</th>\n",
              "            <th>cliente_id</th>\n",
              "            <th>especie</th>\n",
              "            <th>raza</th>\n",
              "            <th>fecha_nacimiento</th>\n",
              "        </tr>\n",
              "    </thead>\n",
              "    <tbody>\n",
              "        <tr>\n",
              "            <td>1</td>\n",
              "            <td>Luna</td>\n",
              "            <td>2</td>\n",
              "            <td>gato</td>\n",
              "            <td>mestizo</td>\n",
              "            <td>2009-01-01 00:00:000</td>\n",
              "        </tr>\n",
              "    </tbody>\n",
              "</table>"
            ],
            "text/plain": [
              "[(1, 'Luna', 2, 'gato', 'mestizo', '2009-01-01 00:00:000')]"
            ]
          },
          "execution_count": 31,
          "metadata": {},
          "output_type": "execute_result"
        }
      ],
      "source": [
        "%%sql\n",
        "select * FROM mascota WHERE  cliente_id=( select cliente_id FROM cliente WHERE nombre=\"Arnau Medina Garcia\" )"
      ]
    },
    {
      "cell_type": "markdown",
      "metadata": {
        "id": "idz-P03deqR8"
      },
      "source": [
        "Ejemplo con Operador **OR**"
      ]
    },
    {
      "cell_type": "code",
      "execution_count": null,
      "metadata": {
        "colab": {
          "base_uri": "https://localhost:8080/"
        },
        "id": "VI4Gf6SfeqR8",
        "outputId": "cd8dea15-e68a-4a37-99ab-f6a331071eab"
      },
      "outputs": [
        {
          "name": "stdout",
          "output_type": "stream",
          "text": [
            " * sqlite:////content/drive/MyDrive/Data_Valencia/love4pets.db\n",
            "Done.\n"
          ]
        },
        {
          "data": {
            "text/html": [
              "<table>\n",
              "    <thead>\n",
              "        <tr>\n",
              "            <th>nombre</th>\n",
              "            <th>departamento_id</th>\n",
              "        </tr>\n",
              "    </thead>\n",
              "    <tbody>\n",
              "        <tr>\n",
              "            <td>Pablo Pons Sanz</td>\n",
              "            <td>1</td>\n",
              "        </tr>\n",
              "        <tr>\n",
              "            <td>Saul Moreno Santos</td>\n",
              "            <td>1</td>\n",
              "        </tr>\n",
              "        <tr>\n",
              "            <td>Isaac Jimenez Ortiz</td>\n",
              "            <td>3</td>\n",
              "        </tr>\n",
              "        <tr>\n",
              "            <td>Guillermo Vidal Gomez</td>\n",
              "            <td>3</td>\n",
              "        </tr>\n",
              "    </tbody>\n",
              "</table>"
            ],
            "text/plain": [
              "[('Pablo Pons Sanz', 1),\n",
              " ('Saul Moreno Santos', 1),\n",
              " ('Isaac Jimenez Ortiz', 3),\n",
              " ('Guillermo Vidal Gomez', 3)]"
            ]
          },
          "execution_count": 32,
          "metadata": {},
          "output_type": "execute_result"
        }
      ],
      "source": [
        "%%sql\n",
        "select nombre, departamento_id from empleado where (empleado.departamento_id = 1) OR (empleado.departamento_id = 3)"
      ]
    },
    {
      "cell_type": "markdown",
      "metadata": {
        "id": "GCZoPYQleqR8"
      },
      "source": [
        "En la consulta anterior se muestran los empleados que trabajan en el departamento de Finanzas o en el departamento de Recursos Humanos"
      ]
    },
    {
      "cell_type": "markdown",
      "metadata": {
        "id": "9Iyx0RJmeqR9"
      },
      "source": [
        "Ejemplo con el operador **NOT**\n",
        "\n",
        "Veamos el complemento de la consulta anterior."
      ]
    },
    {
      "cell_type": "code",
      "execution_count": null,
      "metadata": {
        "colab": {
          "base_uri": "https://localhost:8080/",
          "height": 221
        },
        "id": "XspbY-paeqR9",
        "outputId": "f7f1e0d4-f579-4a27-f748-cc15f1401074"
      },
      "outputs": [
        {
          "name": "stdout",
          "output_type": "stream",
          "text": [
            " * sqlite:////content/drive/MyDrive/Telmo/love4pets.db\n",
            "Done.\n"
          ]
        },
        {
          "data": {
            "text/html": [
              "<table>\n",
              "    <thead>\n",
              "        <tr>\n",
              "            <th>nombre</th>\n",
              "            <th>departamento_id</th>\n",
              "        </tr>\n",
              "    </thead>\n",
              "    <tbody>\n",
              "        <tr>\n",
              "            <td>Andres Riera Herrera</td>\n",
              "            <td>6</td>\n",
              "        </tr>\n",
              "        <tr>\n",
              "            <td>Lucas Serrano Caballero</td>\n",
              "            <td>2</td>\n",
              "        </tr>\n",
              "        <tr>\n",
              "            <td>Nil Soler Diez</td>\n",
              "            <td>5</td>\n",
              "        </tr>\n",
              "        <tr>\n",
              "            <td>Sergio Reyes Gallardo</td>\n",
              "            <td>5</td>\n",
              "        </tr>\n",
              "        <tr>\n",
              "            <td>Daniel Quintero Quintero</td>\n",
              "            <td>6</td>\n",
              "        </tr>\n",
              "        <tr>\n",
              "            <td>Miguel Soto</td>\n",
              "            <td>6</td>\n",
              "        </tr>\n",
              "        <tr>\n",
              "            <td>Alejandro Fernandez</td>\n",
              "            <td>6</td>\n",
              "        </tr>\n",
              "    </tbody>\n",
              "</table>"
            ],
            "text/plain": [
              "[('Andres Riera Herrera', 6),\n",
              " ('Lucas Serrano Caballero', 2),\n",
              " ('Nil Soler Diez', 5),\n",
              " ('Sergio Reyes Gallardo', 5),\n",
              " ('Daniel Quintero Quintero', 6),\n",
              " ('Miguel Soto', 6),\n",
              " ('Alejandro Fernandez', 6)]"
            ]
          },
          "execution_count": 50,
          "metadata": {},
          "output_type": "execute_result"
        }
      ],
      "source": [
        "%%sql\n",
        "select nombre, departamento_id from empleado\n",
        "where\n",
        "NOT ((empleado.departamento_id = 1) OR (empleado.departamento_id = 3))"
      ]
    },
    {
      "cell_type": "markdown",
      "metadata": {
        "id": "jFWqnsNeeqR9"
      },
      "source": [
        "### **Ejercicio 4**\n",
        "--------\n",
        "La empresa Love4Pets considera hacer un descuento sobre los productos que cuestan entre 10 y 20 euros, y complementos vitamínicos.\n",
        "      \n",
        "Se requiere que liste las columnas \"nombre\", \"descripcion\", \"precio\" de productos a los que debe ser aplicado el descuento. ( asuma que los productos se encuentran en la tabla \"producto\" )\n",
        "   \n",
        "Asuma que el producto vitaminico no lleva acentos, generalmente estos productos tienen la palabra vitamina en la **\"descripcion\"** pero podria ser alguna variante como vitaminico o comenzar por mayusculas, el departamento de informática recomendó usar la función Like para esta busqueda."
      ]
    },
    {
      "cell_type": "code",
      "execution_count": null,
      "metadata": {
        "colab": {
          "base_uri": "https://localhost:8080/",
          "height": 242
        },
        "id": "0JsPIt1IkE5S",
        "outputId": "ff012151-e01a-46ee-b4f8-45e2410bc339"
      },
      "outputs": [
        {
          "name": "stdout",
          "output_type": "stream",
          "text": [
            " * sqlite:////content/drive/MyDrive/Telmo/love4pets.db\n",
            "Done.\n"
          ]
        },
        {
          "data": {
            "text/html": [
              "<table>\n",
              "    <thead>\n",
              "        <tr>\n",
              "            <th>producto_id</th>\n",
              "            <th>nombre</th>\n",
              "            <th>descripcion</th>\n",
              "            <th>precio</th>\n",
              "        </tr>\n",
              "    </thead>\n",
              "    <tbody>\n",
              "        <tr>\n",
              "            <td>1</td>\n",
              "            <td>Champu Mimadito</td>\n",
              "            <td>Champu neutro para mascotas</td>\n",
              "            <td>7</td>\n",
              "        </tr>\n",
              "        <tr>\n",
              "            <td>2</td>\n",
              "            <td>Vitaminas</td>\n",
              "            <td>Complemento vitaminico</td>\n",
              "            <td>5</td>\n",
              "        </tr>\n",
              "        <tr>\n",
              "            <td>3</td>\n",
              "            <td>Antipulgas</td>\n",
              "            <td>Liquido antipulgas</td>\n",
              "            <td>3</td>\n",
              "        </tr>\n",
              "        <tr>\n",
              "            <td>4</td>\n",
              "            <td>Perrarina</td>\n",
              "            <td>Huesos</td>\n",
              "            <td>12</td>\n",
              "        </tr>\n",
              "        <tr>\n",
              "            <td>5</td>\n",
              "            <td>Gatarina</td>\n",
              "            <td>Catspettito</td>\n",
              "            <td>13</td>\n",
              "        </tr>\n",
              "        <tr>\n",
              "            <td>6</td>\n",
              "            <td>Peine N7</td>\n",
              "            <td>Peine para perros numero 7</td>\n",
              "            <td>3</td>\n",
              "        </tr>\n",
              "        <tr>\n",
              "            <td>7</td>\n",
              "            <td>peluqueria</td>\n",
              "            <td>Corte de cabello para perros</td>\n",
              "            <td>3</td>\n",
              "        </tr>\n",
              "        <tr>\n",
              "            <td>8</td>\n",
              "            <td>Consulta</td>\n",
              "            <td>Consulta veterinaria</td>\n",
              "            <td>15</td>\n",
              "        </tr>\n",
              "    </tbody>\n",
              "</table>"
            ],
            "text/plain": [
              "[(1, 'Champu Mimadito', 'Champu neutro para mascotas', 7),\n",
              " (2, 'Vitaminas', 'Complemento vitaminico', 5),\n",
              " (3, 'Antipulgas', 'Liquido antipulgas', 3),\n",
              " (4, 'Perrarina', 'Huesos', 12),\n",
              " (5, 'Gatarina', 'Catspettito', 13),\n",
              " (6, 'Peine N7', 'Peine para perros numero 7', 3),\n",
              " (7, 'peluqueria', 'Corte de cabello para perros', 3),\n",
              " (8, 'Consulta', 'Consulta veterinaria', 15)]"
            ]
          },
          "execution_count": 51,
          "metadata": {},
          "output_type": "execute_result"
        }
      ],
      "source": [
        "%sql select * from producto"
      ]
    },
    {
      "cell_type": "code",
      "execution_count": null,
      "metadata": {
        "colab": {
          "base_uri": "https://localhost:8080/",
          "height": 158
        },
        "id": "AgGy4RJcaFn6",
        "outputId": "68511529-00f1-4a0e-a73c-3307f499c14e"
      },
      "outputs": [
        {
          "name": "stdout",
          "output_type": "stream",
          "text": [
            " * sqlite:////content/drive/MyDrive/Telmo/love4pets.db\n",
            "Done.\n"
          ]
        },
        {
          "data": {
            "text/html": [
              "<table>\n",
              "    <thead>\n",
              "        <tr>\n",
              "            <th>cid</th>\n",
              "            <th>name</th>\n",
              "            <th>type</th>\n",
              "            <th>notnull</th>\n",
              "            <th>dflt_value</th>\n",
              "            <th>pk</th>\n",
              "        </tr>\n",
              "    </thead>\n",
              "    <tbody>\n",
              "        <tr>\n",
              "            <td>0</td>\n",
              "            <td>producto_id</td>\n",
              "            <td>INTEGER</td>\n",
              "            <td>1</td>\n",
              "            <td>None</td>\n",
              "            <td>1</td>\n",
              "        </tr>\n",
              "        <tr>\n",
              "            <td>1</td>\n",
              "            <td>nombre</td>\n",
              "            <td>TEXT</td>\n",
              "            <td>1</td>\n",
              "            <td>None</td>\n",
              "            <td>0</td>\n",
              "        </tr>\n",
              "        <tr>\n",
              "            <td>2</td>\n",
              "            <td>descripcion</td>\n",
              "            <td>TEXT</td>\n",
              "            <td>1</td>\n",
              "            <td>None</td>\n",
              "            <td>0</td>\n",
              "        </tr>\n",
              "        <tr>\n",
              "            <td>3</td>\n",
              "            <td>precio</td>\n",
              "            <td>INTEGER</td>\n",
              "            <td>1</td>\n",
              "            <td>None</td>\n",
              "            <td>0</td>\n",
              "        </tr>\n",
              "    </tbody>\n",
              "</table>"
            ],
            "text/plain": [
              "[(0, 'producto_id', 'INTEGER', 1, None, 1),\n",
              " (1, 'nombre', 'TEXT', 1, None, 0),\n",
              " (2, 'descripcion', 'TEXT', 1, None, 0),\n",
              " (3, 'precio', 'INTEGER', 1, None, 0)]"
            ]
          },
          "execution_count": 52,
          "metadata": {},
          "output_type": "execute_result"
        }
      ],
      "source": [
        "%sql PRAGMA table_info(producto)"
      ]
    },
    {
      "cell_type": "code",
      "execution_count": null,
      "metadata": {
        "colab": {
          "base_uri": "https://localhost:8080/",
          "height": 158
        },
        "id": "wSl1doJVeqR-",
        "outputId": "a7924a27-3b7d-4bf1-d7c7-3cf087ec13f7"
      },
      "outputs": [
        {
          "name": "stdout",
          "output_type": "stream",
          "text": [
            " * sqlite:////content/drive/MyDrive/Telmo/love4pets.db\n",
            "Done.\n"
          ]
        },
        {
          "data": {
            "text/html": [
              "<table>\n",
              "    <thead>\n",
              "        <tr>\n",
              "            <th>nombre</th>\n",
              "            <th>descripcion</th>\n",
              "            <th>precio</th>\n",
              "        </tr>\n",
              "    </thead>\n",
              "    <tbody>\n",
              "        <tr>\n",
              "            <td>Vitaminas</td>\n",
              "            <td>Complemento vitaminico</td>\n",
              "            <td>5</td>\n",
              "        </tr>\n",
              "        <tr>\n",
              "            <td>Perrarina</td>\n",
              "            <td>Huesos</td>\n",
              "            <td>12</td>\n",
              "        </tr>\n",
              "        <tr>\n",
              "            <td>Gatarina</td>\n",
              "            <td>Catspettito</td>\n",
              "            <td>13</td>\n",
              "        </tr>\n",
              "        <tr>\n",
              "            <td>Consulta</td>\n",
              "            <td>Consulta veterinaria</td>\n",
              "            <td>15</td>\n",
              "        </tr>\n",
              "    </tbody>\n",
              "</table>"
            ],
            "text/plain": [
              "[('Vitaminas', 'Complemento vitaminico', 5),\n",
              " ('Perrarina', 'Huesos', 12),\n",
              " ('Gatarina', 'Catspettito', 13),\n",
              " ('Consulta', 'Consulta veterinaria', 15)]"
            ]
          },
          "execution_count": 55,
          "metadata": {},
          "output_type": "execute_result"
        }
      ],
      "source": [
        "%%sql\n",
        "SELECT nombre, descripcion, precio\n",
        "\n",
        "FROM producto\n",
        "\n",
        "WHERE (precio BETWEEN 10 AND 20) OR (lower(descripcion) LIKE '%com%vitam%')"
      ]
    },
    {
      "cell_type": "code",
      "execution_count": null,
      "metadata": {
        "id": "VSJothhVvoyx"
      },
      "outputs": [],
      "source": []
    },
    {
      "cell_type": "markdown",
      "metadata": {
        "id": "cogCdjNXeqR-"
      },
      "source": [
        "### Funciones MAX() y MIN()\n",
        "Con frecuencia tenemos una lista de valores y queremos obtener el mayor o el menor, esto es lo que hacen las funciones Max y Min.\n",
        "\n",
        "Sintaxis de la función MIN\n",
        "```sql\n",
        "SELECT MIN(column_name)\n",
        "FROM table_name\n",
        "WHERE condition;\n",
        "```\n",
        "\n",
        "Sintaxis de la función MAX\n",
        "```sql\n",
        "SELECT MAX(column_name)\n",
        "FROM table_name\n",
        "WHERE condition;\n",
        "```\n",
        "Veamos un ejemplo:"
      ]
    },
    {
      "cell_type": "code",
      "execution_count": null,
      "metadata": {
        "colab": {
          "base_uri": "https://localhost:8080/",
          "height": 95
        },
        "id": "-rOvTDVweqR_",
        "outputId": "33a83c21-67d8-4c95-e40d-40da86d4a981"
      },
      "outputs": [
        {
          "name": "stdout",
          "output_type": "stream",
          "text": [
            " * sqlite:////content/drive/MyDrive/Telmo/love4pets.db\n",
            "Done.\n"
          ]
        },
        {
          "data": {
            "text/html": [
              "<table>\n",
              "    <thead>\n",
              "        <tr>\n",
              "            <th>MIN(precio)</th>\n",
              "            <th>nombre</th>\n",
              "        </tr>\n",
              "    </thead>\n",
              "    <tbody>\n",
              "        <tr>\n",
              "            <td>3</td>\n",
              "            <td>Antipulgas</td>\n",
              "        </tr>\n",
              "    </tbody>\n",
              "</table>"
            ],
            "text/plain": [
              "[(3, 'Antipulgas')]"
            ]
          },
          "execution_count": 57,
          "metadata": {},
          "output_type": "execute_result"
        }
      ],
      "source": [
        "%sql select MIN(precio),nombre from producto;"
      ]
    },
    {
      "cell_type": "code",
      "execution_count": null,
      "metadata": {
        "colab": {
          "base_uri": "https://localhost:8080/"
        },
        "id": "u2q1jIUUeqR_",
        "outputId": "88dd92b4-d68e-40a9-b045-8050685245d5"
      },
      "outputs": [
        {
          "name": "stdout",
          "output_type": "stream",
          "text": [
            " * sqlite:////content/drive/MyDrive/Data_Valencia/love4pets.db\n",
            "Done.\n"
          ]
        },
        {
          "data": {
            "text/html": [
              "<table>\n",
              "    <thead>\n",
              "        <tr>\n",
              "            <th>MAX(precio)</th>\n",
              "        </tr>\n",
              "    </thead>\n",
              "    <tbody>\n",
              "        <tr>\n",
              "            <td>15</td>\n",
              "        </tr>\n",
              "    </tbody>\n",
              "</table>"
            ],
            "text/plain": [
              "[(15,)]"
            ]
          },
          "execution_count": 38,
          "metadata": {},
          "output_type": "execute_result"
        }
      ],
      "source": [
        "%sql select MAX(precio) from producto;"
      ]
    },
    {
      "cell_type": "markdown",
      "metadata": {
        "id": "DK5kr83IeqR_"
      },
      "source": [
        "### **Ejercicio 5**\n",
        "--------\n",
        "La empresa Love4Pets esta considerando realizar un aumento.\n",
        "    \n",
        "Se requiere que indique cual es el menor sueldo que está pagando la empresa."
      ]
    },
    {
      "cell_type": "code",
      "execution_count": null,
      "metadata": {
        "colab": {
          "base_uri": "https://localhost:8080/",
          "height": 326
        },
        "id": "BJKsu4ASeqSA",
        "outputId": "fb9fca6c-67ae-478f-d565-9a807aa924c1"
      },
      "outputs": [
        {
          "name": "stdout",
          "output_type": "stream",
          "text": [
            " * sqlite:////content/drive/MyDrive/Telmo/love4pets.db\n",
            "Done.\n"
          ]
        },
        {
          "data": {
            "text/html": [
              "<table>\n",
              "    <thead>\n",
              "        <tr>\n",
              "            <th>empleado_id</th>\n",
              "            <th>nombre</th>\n",
              "            <th>email</th>\n",
              "            <th>telefono</th>\n",
              "            <th>salario</th>\n",
              "            <th>fecha_ingreso</th>\n",
              "            <th>departamento_id</th>\n",
              "        </tr>\n",
              "    </thead>\n",
              "    <tbody>\n",
              "        <tr>\n",
              "            <td>1</td>\n",
              "            <td>Andres Riera Herrera</td>\n",
              "            <td>andresr@gmail.com</td>\n",
              "            <td>200-88-76</td>\n",
              "            <td>1500</td>\n",
              "            <td>2017-05-17 00:00:000</td>\n",
              "            <td>6</td>\n",
              "        </tr>\n",
              "        <tr>\n",
              "            <td>2</td>\n",
              "            <td>Lucas Serrano Caballero</td>\n",
              "            <td>lucas99@gmail.com</td>\n",
              "            <td>115-24-36</td>\n",
              "            <td>1200</td>\n",
              "            <td>2018-05-17 00:00:000</td>\n",
              "            <td>2</td>\n",
              "        </tr>\n",
              "        <tr>\n",
              "            <td>3</td>\n",
              "            <td>Pablo Pons Sanz</td>\n",
              "            <td>ppsanz@gmail.com</td>\n",
              "            <td>748-72-75</td>\n",
              "            <td>1350</td>\n",
              "            <td>2016-07-01 00:00:000</td>\n",
              "            <td>1</td>\n",
              "        </tr>\n",
              "        <tr>\n",
              "            <td>4</td>\n",
              "            <td>Saul Moreno Santos</td>\n",
              "            <td>saul.morenosantos@gmail.com</td>\n",
              "            <td>346-87-27</td>\n",
              "            <td>1600</td>\n",
              "            <td>2016-07-01 00:00:000</td>\n",
              "            <td>1</td>\n",
              "        </tr>\n",
              "        <tr>\n",
              "            <td>5</td>\n",
              "            <td>Nil Soler Diez</td>\n",
              "            <td>nilsoler@gmail.com</td>\n",
              "            <td>576-84-28</td>\n",
              "            <td>1100</td>\n",
              "            <td>2016-04-03 00:00:000</td>\n",
              "            <td>5</td>\n",
              "        </tr>\n",
              "        <tr>\n",
              "            <td>6</td>\n",
              "            <td>Sergio Reyes Gallardo</td>\n",
              "            <td>zerg@gmail.com</td>\n",
              "            <td>598-95-67</td>\n",
              "            <td>1000</td>\n",
              "            <td>2016-04-03 00:00:000</td>\n",
              "            <td>5</td>\n",
              "        </tr>\n",
              "        <tr>\n",
              "            <td>7</td>\n",
              "            <td>Isaac Jimenez Ortiz</td>\n",
              "            <td>isaacortiz@gmail.com</td>\n",
              "            <td>370-19-65</td>\n",
              "            <td>1600</td>\n",
              "            <td>2016-07-08 00:00:000</td>\n",
              "            <td>3</td>\n",
              "        </tr>\n",
              "        <tr>\n",
              "            <td>8</td>\n",
              "            <td>Guillermo Vidal Gomez</td>\n",
              "            <td>guillevidal@gmail.com</td>\n",
              "            <td>099-05-68</td>\n",
              "            <td>1400</td>\n",
              "            <td>2016-01-03 00:00:000</td>\n",
              "            <td>3</td>\n",
              "        </tr>\n",
              "        <tr>\n",
              "            <td>9</td>\n",
              "            <td>Daniel Quintero Quintero</td>\n",
              "            <td>danielquinterox2@gmail.com</td>\n",
              "            <td>261-97-06</td>\n",
              "            <td>1500</td>\n",
              "            <td>2017-03-05 00:00:000</td>\n",
              "            <td>6</td>\n",
              "        </tr>\n",
              "        <tr>\n",
              "            <td>10</td>\n",
              "            <td>Juan Manuel Olivares</td>\n",
              "            <td>juanma@gmail.com</td>\n",
              "            <td>269-37-06</td>\n",
              "            <td>1500</td>\n",
              "            <td>2017-03-05 00:00:000</td>\n",
              "            <td>None</td>\n",
              "        </tr>\n",
              "        <tr>\n",
              "            <td>11</td>\n",
              "            <td>Miguel Soto</td>\n",
              "            <td>misoto@gmail.com</td>\n",
              "            <td>269-92-06</td>\n",
              "            <td>1900</td>\n",
              "            <td>2017-03-05 00:00:000</td>\n",
              "            <td>6</td>\n",
              "        </tr>\n",
              "        <tr>\n",
              "            <td>12</td>\n",
              "            <td>Alejandro Fernandez</td>\n",
              "            <td>alefer@gmail.com</td>\n",
              "            <td>119-91-16</td>\n",
              "            <td>1850</td>\n",
              "            <td>2017-03-05 00:00:000</td>\n",
              "            <td>6</td>\n",
              "        </tr>\n",
              "    </tbody>\n",
              "</table>"
            ],
            "text/plain": [
              "[(1, 'Andres Riera Herrera', 'andresr@gmail.com', '200-88-76', 1500, '2017-05-17 00:00:000', 6),\n",
              " (2, 'Lucas Serrano Caballero', 'lucas99@gmail.com', '115-24-36', 1200, '2018-05-17 00:00:000', 2),\n",
              " (3, 'Pablo Pons Sanz', 'ppsanz@gmail.com', '748-72-75', 1350, '2016-07-01 00:00:000', 1),\n",
              " (4, 'Saul Moreno Santos', 'saul.morenosantos@gmail.com', '346-87-27', 1600, '2016-07-01 00:00:000', 1),\n",
              " (5, 'Nil Soler Diez', 'nilsoler@gmail.com', '576-84-28', 1100, '2016-04-03 00:00:000', 5),\n",
              " (6, 'Sergio Reyes Gallardo', 'zerg@gmail.com', '598-95-67', 1000, '2016-04-03 00:00:000', 5),\n",
              " (7, 'Isaac Jimenez Ortiz', 'isaacortiz@gmail.com', '370-19-65', 1600, '2016-07-08 00:00:000', 3),\n",
              " (8, 'Guillermo Vidal Gomez', 'guillevidal@gmail.com', '099-05-68', 1400, '2016-01-03 00:00:000', 3),\n",
              " (9, 'Daniel Quintero Quintero', 'danielquinterox2@gmail.com', '261-97-06', 1500, '2017-03-05 00:00:000', 6),\n",
              " (10, 'Juan Manuel Olivares', 'juanma@gmail.com', '269-37-06', 1500, '2017-03-05 00:00:000', None),\n",
              " (11, 'Miguel Soto', 'misoto@gmail.com', '269-92-06', 1900, '2017-03-05 00:00:000', 6),\n",
              " (12, 'Alejandro Fernandez', 'alefer@gmail.com', '119-91-16', 1850, '2017-03-05 00:00:000', 6)]"
            ]
          },
          "execution_count": 58,
          "metadata": {},
          "output_type": "execute_result"
        }
      ],
      "source": [
        "%sql select * from empleado"
      ]
    },
    {
      "cell_type": "code",
      "execution_count": null,
      "metadata": {
        "colab": {
          "base_uri": "https://localhost:8080/",
          "height": 95
        },
        "id": "ByzN0UIVytMF",
        "outputId": "7e1beea7-56ee-43e5-ee74-53e449252117"
      },
      "outputs": [
        {
          "name": "stdout",
          "output_type": "stream",
          "text": [
            " * sqlite:////content/drive/MyDrive/Telmo/love4pets.db\n",
            "Done.\n"
          ]
        },
        {
          "data": {
            "text/html": [
              "<table>\n",
              "    <thead>\n",
              "        <tr>\n",
              "            <th>MIN(salario)</th>\n",
              "        </tr>\n",
              "    </thead>\n",
              "    <tbody>\n",
              "        <tr>\n",
              "            <td>1000</td>\n",
              "        </tr>\n",
              "    </tbody>\n",
              "</table>"
            ],
            "text/plain": [
              "[(1000,)]"
            ]
          },
          "execution_count": 59,
          "metadata": {},
          "output_type": "execute_result"
        }
      ],
      "source": [
        "%sql select MIN(salario) from empleado"
      ]
    },
    {
      "cell_type": "markdown",
      "metadata": {
        "id": "CBQBpJLNeqSA"
      },
      "source": [
        "### Funciones COUNT(), AVG(), SUM()\n",
        "Nos permite contar la cantidad de resultados que arroja una consulta, obtener un valor promedio, o sumar los valores de una consulta.\n",
        "\n",
        "**Función count** Retorna la cantidad de filas que arroja una consulta.\n",
        "\n",
        "Sintaxis de la función COUNT\n",
        "```sql\n",
        "SELECT COUNT(column_name)\n",
        "FROM table_name\n",
        "WHERE condition;\n",
        "```\n",
        "\n",
        "**Función AVG** Retorna la el promedio de los valores de las filas que arroja una consulta.\n",
        "\n",
        "Sintaxis de la función COUNT\n",
        "```sql\n",
        "SELECT AVG(column_name)\n",
        "FROM table_name\n",
        "WHERE condition;\n",
        "```\n",
        "\n",
        "**Función SUM** Retorna la el promedio de los valores de las filas que arroja una consulta.\n",
        "\n",
        "Sintaxis de la función COUNT\n",
        "```sql\n",
        "SELECT SUM(column_name)\n",
        "FROM table_name\n",
        "WHERE condition;\n",
        "```"
      ]
    },
    {
      "cell_type": "code",
      "execution_count": null,
      "metadata": {
        "colab": {
          "base_uri": "https://localhost:8080/",
          "height": 95
        },
        "id": "5O1dhsGWeqSA",
        "outputId": "b5bee04d-378a-41a5-97b9-821b72c935a8"
      },
      "outputs": [
        {
          "name": "stdout",
          "output_type": "stream",
          "text": [
            " * sqlite:////content/drive/MyDrive/Telmo/love4pets.db\n",
            "Done.\n"
          ]
        },
        {
          "data": {
            "text/html": [
              "<table>\n",
              "    <thead>\n",
              "        <tr>\n",
              "            <th>COUNT(salario)</th>\n",
              "        </tr>\n",
              "    </thead>\n",
              "    <tbody>\n",
              "        <tr>\n",
              "            <td>12</td>\n",
              "        </tr>\n",
              "    </tbody>\n",
              "</table>"
            ],
            "text/plain": [
              "[(12,)]"
            ]
          },
          "execution_count": 60,
          "metadata": {},
          "output_type": "execute_result"
        }
      ],
      "source": [
        "%sql select COUNT(salario) from empleado;"
      ]
    },
    {
      "cell_type": "code",
      "execution_count": null,
      "metadata": {
        "id": "XFrFybeTeqSB"
      },
      "outputs": [],
      "source": []
    },
    {
      "cell_type": "code",
      "execution_count": null,
      "metadata": {
        "id": "OCKkYUlfeqSB"
      },
      "outputs": [],
      "source": []
    },
    {
      "cell_type": "markdown",
      "metadata": {
        "id": "JiSlG5fheqSB"
      },
      "source": [
        "### **Ejercicio 6**\n",
        "--------\n",
        "La empresa Love4Pets continúa estudiando un ajuste en los salarios de los empleados, por lo que se quiere conocer el presupuesto total requerido para el pago de los salarios en un año."
      ]
    },
    {
      "cell_type": "code",
      "execution_count": null,
      "metadata": {
        "colab": {
          "base_uri": "https://localhost:8080/",
          "height": 95
        },
        "id": "F4hejvMWeqSC",
        "outputId": "8f28dc17-5f1b-4178-afec-5d223e70a609"
      },
      "outputs": [
        {
          "name": "stdout",
          "output_type": "stream",
          "text": [
            " * sqlite:////content/drive/MyDrive/Telmo/love4pets.db\n",
            "Done.\n"
          ]
        },
        {
          "data": {
            "text/html": [
              "<table>\n",
              "    <thead>\n",
              "        <tr>\n",
              "            <th>SUM(salario)*12</th>\n",
              "        </tr>\n",
              "    </thead>\n",
              "    <tbody>\n",
              "        <tr>\n",
              "            <td>210000</td>\n",
              "        </tr>\n",
              "    </tbody>\n",
              "</table>"
            ],
            "text/plain": [
              "[(210000,)]"
            ]
          },
          "execution_count": 61,
          "metadata": {},
          "output_type": "execute_result"
        }
      ],
      "source": [
        "%%sql\n",
        "SELECT SUM(salario)*12\n",
        "FROM empleado"
      ]
    },
    {
      "cell_type": "markdown",
      "metadata": {
        "id": "dniup-iheqSC"
      },
      "source": [
        "### El Operador IN\n",
        "Permite especificar multiples valores a la clausula WHERE\n",
        "\n",
        "Sintaxis del operador IN\n",
        "```sql\n",
        "SELECT column_name(s)\n",
        "FROM table_name\n",
        "WHERE column_name IN (value1, value2, ...);\n",
        "```\n",
        "Veamos un ejemplo"
      ]
    },
    {
      "cell_type": "code",
      "execution_count": null,
      "metadata": {
        "colab": {
          "base_uri": "https://localhost:8080/",
          "height": 389
        },
        "id": "mHuUG4GceqSD",
        "outputId": "9c0c5d6d-24d3-4956-b512-cfef0feb3a7f"
      },
      "outputs": [
        {
          "name": "stdout",
          "output_type": "stream",
          "text": [
            " * sqlite:////content/drive/MyDrive/Telmo/love4pets.db\n",
            "Done.\n"
          ]
        },
        {
          "data": {
            "text/html": [
              "<table>\n",
              "    <thead>\n",
              "        <tr>\n",
              "            <th>nombre</th>\n",
              "            <th>ciudad</th>\n",
              "        </tr>\n",
              "    </thead>\n",
              "    <tbody>\n",
              "        <tr>\n",
              "            <td>Mario Flores Gallardo</td>\n",
              "            <td>Madrid</td>\n",
              "        </tr>\n",
              "        <tr>\n",
              "            <td>Arnau Medina Garcia</td>\n",
              "            <td>Madrid</td>\n",
              "        </tr>\n",
              "        <tr>\n",
              "            <td>Ivan Medina Rubio</td>\n",
              "            <td>Toledo</td>\n",
              "        </tr>\n",
              "        <tr>\n",
              "            <td>Jan Vargas Santana</td>\n",
              "            <td>Madrid</td>\n",
              "        </tr>\n",
              "        <tr>\n",
              "            <td>Carlos Costa Guerrero</td>\n",
              "            <td>Madrid</td>\n",
              "        </tr>\n",
              "        <tr>\n",
              "            <td>Roberto Martin Ortega</td>\n",
              "            <td>Madrid</td>\n",
              "        </tr>\n",
              "        <tr>\n",
              "            <td>Gabriel Gonzalez Ortega</td>\n",
              "            <td>Madrid</td>\n",
              "        </tr>\n",
              "        <tr>\n",
              "            <td>Rayan Leon Ferrer</td>\n",
              "            <td>Madrid</td>\n",
              "        </tr>\n",
              "        <tr>\n",
              "            <td>Aitor Ruiz Sanchez</td>\n",
              "            <td>Madrid</td>\n",
              "        </tr>\n",
              "        <tr>\n",
              "            <td>Eric Rubio Carrasco</td>\n",
              "            <td>Madrid</td>\n",
              "        </tr>\n",
              "        <tr>\n",
              "            <td>Alberto Sanz Ruiz</td>\n",
              "            <td>Madrid</td>\n",
              "        </tr>\n",
              "        <tr>\n",
              "            <td>Jesus Medina Hernandez</td>\n",
              "            <td>Madrid</td>\n",
              "        </tr>\n",
              "        <tr>\n",
              "            <td>Pol Moya Pena</td>\n",
              "            <td>Toledo</td>\n",
              "        </tr>\n",
              "        <tr>\n",
              "            <td>Jose Gallardo Rodriguez</td>\n",
              "            <td>Madrid</td>\n",
              "        </tr>\n",
              "        <tr>\n",
              "            <td>Manuel Angel Gil</td>\n",
              "            <td>Madrid</td>\n",
              "        </tr>\n",
              "    </tbody>\n",
              "</table>"
            ],
            "text/plain": [
              "[('Mario Flores Gallardo', 'Madrid'),\n",
              " ('Arnau Medina Garcia', 'Madrid'),\n",
              " ('Ivan Medina Rubio', 'Toledo'),\n",
              " ('Jan Vargas Santana', 'Madrid'),\n",
              " ('Carlos Costa Guerrero', 'Madrid'),\n",
              " ('Roberto Martin Ortega', 'Madrid'),\n",
              " ('Gabriel Gonzalez Ortega', 'Madrid'),\n",
              " ('Rayan Leon Ferrer', 'Madrid'),\n",
              " ('Aitor Ruiz Sanchez', 'Madrid'),\n",
              " ('Eric Rubio Carrasco', 'Madrid'),\n",
              " ('Alberto Sanz Ruiz', 'Madrid'),\n",
              " ('Jesus Medina Hernandez', 'Madrid'),\n",
              " ('Pol Moya Pena', 'Toledo'),\n",
              " ('Jose Gallardo Rodriguez', 'Madrid'),\n",
              " ('Manuel Angel Gil', 'Madrid')]"
            ]
          },
          "execution_count": 63,
          "metadata": {},
          "output_type": "execute_result"
        }
      ],
      "source": [
        "%sql select nombre, ciudad from cliente where ciudad IN (\"Madrid\", \"Toledo\");"
      ]
    },
    {
      "cell_type": "markdown",
      "metadata": {
        "id": "aVlOq-SYeqSD"
      },
      "source": [
        "### Clausula JOIN\n",
        "\n",
        "Hasta ahora hemos realizado consultas muy sencillas casi todas sobre una sola tabla, sin aprovechar las relaciones que existen entre las tablas.\n",
        "\n",
        "Algunas de las tablas en Love4Pets están relacionadas  por medio de claves foraneas, por ejemplo la tabla empleado tiene un campo departamento_id que almacena el código del departamento donde trabaja un empleado, por medio de está relación podemos consultar también el nombre del departamento, esta consulta puede hacerse haciendo consultas anidadas, pero también usando la clausula **JOIN**\n",
        "\n",
        "La clausula JOIN es usada para combinar columnas de una o mas tablas por medio de campos que relacionan estas tablas.\n",
        "\n",
        "Existen diferentes tipos de JOIN.  \n"
      ]
    },
    {
      "cell_type": "markdown",
      "metadata": {
        "id": "a0iYset5_MSq"
      },
      "source": [
        "#### **Inner JOIN**\n",
        "Retorna los valores cumplen la relación entre ambas tablas, es decir las filas de una tabla que estan relacionadas con filas de otra tabla por medio de claves foraneas. El INNER JOIN también es llamado simplemente JOIN.\n",
        "\n",
        "Sintaxis del Inner Join\n",
        "\n",
        "```sql\n",
        "select campo1, campo2, campoN FROM tabla1 INNER JOIN tabla2 ON tabla1.campo = tabla2.campo;\n",
        "```\n",
        "\n",
        "Veamos un ejemplo:  \n",
        "Primero veamos la siguiente consulta\n"
      ]
    },
    {
      "cell_type": "code",
      "execution_count": null,
      "metadata": {
        "colab": {
          "base_uri": "https://localhost:8080/",
          "height": 305
        },
        "id": "YBgx-wiveqSD",
        "outputId": "da75a748-8b74-4a89-9c40-b34e39ca0e00"
      },
      "outputs": [
        {
          "name": "stdout",
          "output_type": "stream",
          "text": [
            " * sqlite:////content/drive/MyDrive/Telmo/love4pets.db\n",
            "Done.\n"
          ]
        },
        {
          "data": {
            "text/html": [
              "<table>\n",
              "    <thead>\n",
              "        <tr>\n",
              "            <th>nombre</th>\n",
              "            <th>nombre_1</th>\n",
              "        </tr>\n",
              "    </thead>\n",
              "    <tbody>\n",
              "        <tr>\n",
              "            <td>Andres Riera Herrera</td>\n",
              "            <td>informatica</td>\n",
              "        </tr>\n",
              "        <tr>\n",
              "            <td>Lucas Serrano Caballero</td>\n",
              "            <td>ventas</td>\n",
              "        </tr>\n",
              "        <tr>\n",
              "            <td>Pablo Pons Sanz</td>\n",
              "            <td>finanzas</td>\n",
              "        </tr>\n",
              "        <tr>\n",
              "            <td>Saul Moreno Santos</td>\n",
              "            <td>finanzas</td>\n",
              "        </tr>\n",
              "        <tr>\n",
              "            <td>Nil Soler Diez</td>\n",
              "            <td>veterinario</td>\n",
              "        </tr>\n",
              "        <tr>\n",
              "            <td>Sergio Reyes Gallardo</td>\n",
              "            <td>veterinario</td>\n",
              "        </tr>\n",
              "        <tr>\n",
              "            <td>Isaac Jimenez Ortiz</td>\n",
              "            <td>recursos humanos</td>\n",
              "        </tr>\n",
              "        <tr>\n",
              "            <td>Guillermo Vidal Gomez</td>\n",
              "            <td>recursos humanos</td>\n",
              "        </tr>\n",
              "        <tr>\n",
              "            <td>Daniel Quintero Quintero</td>\n",
              "            <td>informatica</td>\n",
              "        </tr>\n",
              "        <tr>\n",
              "            <td>Miguel Soto</td>\n",
              "            <td>informatica</td>\n",
              "        </tr>\n",
              "        <tr>\n",
              "            <td>Alejandro Fernandez</td>\n",
              "            <td>informatica</td>\n",
              "        </tr>\n",
              "    </tbody>\n",
              "</table>"
            ],
            "text/plain": [
              "[('Andres Riera Herrera', 'informatica'),\n",
              " ('Lucas Serrano Caballero', 'ventas'),\n",
              " ('Pablo Pons Sanz', 'finanzas'),\n",
              " ('Saul Moreno Santos', 'finanzas'),\n",
              " ('Nil Soler Diez', 'veterinario'),\n",
              " ('Sergio Reyes Gallardo', 'veterinario'),\n",
              " ('Isaac Jimenez Ortiz', 'recursos humanos'),\n",
              " ('Guillermo Vidal Gomez', 'recursos humanos'),\n",
              " ('Daniel Quintero Quintero', 'informatica'),\n",
              " ('Miguel Soto', 'informatica'),\n",
              " ('Alejandro Fernandez', 'informatica')]"
            ]
          },
          "execution_count": 64,
          "metadata": {},
          "output_type": "execute_result"
        }
      ],
      "source": [
        "%%sql\n",
        "SELECT empleado.nombre, departamento.nombre\n",
        "\n",
        "FROM empleado, departamento\n",
        "\n",
        "WHERE empleado.departamento_id = departamento.departamento_id;"
      ]
    },
    {
      "cell_type": "markdown",
      "metadata": {
        "id": "qIsdagL5eqSE"
      },
      "source": [
        "Se muestran todos los empleados que trabajan en algun departamento, en esta consulta se excluyen empleados que no trabajan en ningun departamento y departamentos que no tienen ningun empleado.\n",
        "\n",
        "Veamos ahora la siguiente consulta"
      ]
    },
    {
      "cell_type": "code",
      "execution_count": null,
      "metadata": {
        "colab": {
          "base_uri": "https://localhost:8080/",
          "height": 116
        },
        "id": "7KhRunrHeqSE",
        "outputId": "d3069c7d-6f68-4ec6-f974-cf1d2a24d0eb"
      },
      "outputs": [
        {
          "name": "stdout",
          "output_type": "stream",
          "text": [
            " * sqlite:////content/drive/MyDrive/Telmo/love4pets.db\n",
            "Done.\n"
          ]
        },
        {
          "data": {
            "text/html": [
              "<table>\n",
              "    <thead>\n",
              "        <tr>\n",
              "            <th>NombreEmp</th>\n",
              "            <th>NombreDep</th>\n",
              "        </tr>\n",
              "    </thead>\n",
              "    <tbody>\n",
              "        <tr>\n",
              "            <td>Miguel Soto</td>\n",
              "            <td>informatica</td>\n",
              "        </tr>\n",
              "        <tr>\n",
              "            <td>Alejandro Fernandez</td>\n",
              "            <td>informatica</td>\n",
              "        </tr>\n",
              "    </tbody>\n",
              "</table>"
            ],
            "text/plain": [
              "[('Miguel Soto', 'informatica'), ('Alejandro Fernandez', 'informatica')]"
            ]
          },
          "execution_count": 68,
          "metadata": {},
          "output_type": "execute_result"
        }
      ],
      "source": [
        "%%sql\n",
        "select empleado.nombre AS 'NombreEmp', departamento.nombre 'NombreDep'\n",
        "\n",
        "from empleado INNER JOIN departamento ON empleado.departamento_id = departamento.departamento_id\n",
        "\n",
        "WHERE empleado.salario > 1800"
      ]
    },
    {
      "cell_type": "markdown",
      "metadata": {
        "id": "qEr4ss-QeqSE"
      },
      "source": [
        "Esta instrucción realiza la misma consulta que el comando anterior, es decir muestra los empleados que trabajan en algun departamento"
      ]
    },
    {
      "cell_type": "markdown",
      "metadata": {
        "id": "VCBgEyi6eqSE"
      },
      "source": [
        "#### **Left JOIN**\n",
        "Retorna los registros de la tabla \"izquierda\" o la primera tabla, y los registros que coinciden con la segunda tabla, excluyendo los registros que se encuentren en la segunda tabla pero que no hagan match con la primera.\n",
        "![Texto alternativo](https://raw.githubusercontent.com/dasesu/practicasql/master/imagenes/left%20join.png)\n",
        "\n",
        "Sintaxis del LEFT JOIN\n",
        "```sql\n",
        "select campo1, campo2, campoN FROM tabla1 LEFT JOIN tabla2 ON tabla1.campo = tabla2.campo;\n",
        "```\n",
        "\n",
        "Veamos un ejemplo:  "
      ]
    },
    {
      "cell_type": "code",
      "execution_count": null,
      "metadata": {
        "colab": {
          "base_uri": "https://localhost:8080/",
          "height": 324
        },
        "id": "HZ61BQaNeqSF",
        "outputId": "5e043cfa-fe0c-4859-ef1b-6e1cc2416a87"
      },
      "outputs": [
        {
          "name": "stdout",
          "output_type": "stream",
          "text": [
            " * sqlite:////content/drive/MyDrive/Data_Valencia/love4pets.db\n",
            "Done.\n"
          ]
        },
        {
          "data": {
            "text/html": [
              "<table>\n",
              "    <thead>\n",
              "        <tr>\n",
              "            <th>nombre</th>\n",
              "            <th>nombre_1</th>\n",
              "        </tr>\n",
              "    </thead>\n",
              "    <tbody>\n",
              "        <tr>\n",
              "            <td>Andres Riera Herrera</td>\n",
              "            <td>informatica</td>\n",
              "        </tr>\n",
              "        <tr>\n",
              "            <td>Lucas Serrano Caballero</td>\n",
              "            <td>ventas</td>\n",
              "        </tr>\n",
              "        <tr>\n",
              "            <td>Pablo Pons Sanz</td>\n",
              "            <td>finanzas</td>\n",
              "        </tr>\n",
              "        <tr>\n",
              "            <td>Saul Moreno Santos</td>\n",
              "            <td>finanzas</td>\n",
              "        </tr>\n",
              "        <tr>\n",
              "            <td>Nil Soler Diez</td>\n",
              "            <td>veterinario</td>\n",
              "        </tr>\n",
              "        <tr>\n",
              "            <td>Sergio Reyes Gallardo</td>\n",
              "            <td>veterinario</td>\n",
              "        </tr>\n",
              "        <tr>\n",
              "            <td>Isaac Jimenez Ortiz</td>\n",
              "            <td>recursos humanos</td>\n",
              "        </tr>\n",
              "        <tr>\n",
              "            <td>Guillermo Vidal Gomez</td>\n",
              "            <td>recursos humanos</td>\n",
              "        </tr>\n",
              "        <tr>\n",
              "            <td>Daniel Quintero Quintero</td>\n",
              "            <td>informatica</td>\n",
              "        </tr>\n",
              "        <tr>\n",
              "            <td>Juan Manuel Olivares</td>\n",
              "            <td>None</td>\n",
              "        </tr>\n",
              "        <tr>\n",
              "            <td>Miguel Soto</td>\n",
              "            <td>informatica</td>\n",
              "        </tr>\n",
              "        <tr>\n",
              "            <td>Alejandro Fernandez</td>\n",
              "            <td>informatica</td>\n",
              "        </tr>\n",
              "    </tbody>\n",
              "</table>"
            ],
            "text/plain": [
              "[('Andres Riera Herrera', 'informatica'),\n",
              " ('Lucas Serrano Caballero', 'ventas'),\n",
              " ('Pablo Pons Sanz', 'finanzas'),\n",
              " ('Saul Moreno Santos', 'finanzas'),\n",
              " ('Nil Soler Diez', 'veterinario'),\n",
              " ('Sergio Reyes Gallardo', 'veterinario'),\n",
              " ('Isaac Jimenez Ortiz', 'recursos humanos'),\n",
              " ('Guillermo Vidal Gomez', 'recursos humanos'),\n",
              " ('Daniel Quintero Quintero', 'informatica'),\n",
              " ('Juan Manuel Olivares', None),\n",
              " ('Miguel Soto', 'informatica'),\n",
              " ('Alejandro Fernandez', 'informatica')]"
            ]
          },
          "execution_count": 48,
          "metadata": {},
          "output_type": "execute_result"
        }
      ],
      "source": [
        "%%sql\n",
        "select empleado.nombre, departamento.nombre from empleado\n",
        "LEFT JOIN\n",
        "departamento ON empleado.departamento_id = departamento.departamento_id;"
      ]
    },
    {
      "cell_type": "markdown",
      "metadata": {
        "id": "3yxZvkdQeqSF"
      },
      "source": [
        "En el resultado anterior observe que el empleado \"Juan Manuel Olivares\" no está asociado a ningun departamento, sin embargo este es mostrado porque forma parte de la tabla1, pero no en la tabla2\n"
      ]
    },
    {
      "cell_type": "markdown",
      "metadata": {
        "id": "_5IHk73leqSF"
      },
      "source": [
        "#### **Right JOIN**\n",
        "Retorna los registros de la tabla \"derecha\" o la segunda tabla, y los registros que coinciden con la primera tabla, excluyendo los registros que se encuentren en la primera tabla pero que no hagan match con la segunda.\n",
        "\n",
        "Sintaxis del RIGHT JOIN\n",
        "```sql\n",
        "select campo1, campo2, campoN FROM tabla1 RIGHT JOIN tabla2 ON tabla1.campo = tabla2.campo;\n",
        "```\n",
        "\n",
        "**Esta instrucción no es reconocida por Sqlite3, por lo que al tratar de ejecutar esta sentencia se obtendrá un error.**\n",
        "\n",
        "Sin embargo esta instrucción puede construirse usando un LEFT JOIN invirtiendo el orden de las tablas.\n",
        "\n",
        "Veamos un ejemplo. ( El siguiente es un error provocado de forma intencional )"
      ]
    },
    {
      "cell_type": "code",
      "execution_count": null,
      "metadata": {
        "colab": {
          "base_uri": "https://localhost:8080/"
        },
        "id": "ArPHosfreqSG",
        "outputId": "9be87c4f-2fdc-418b-89d8-5fd9908899a1"
      },
      "outputs": [
        {
          "name": "stdout",
          "output_type": "stream",
          "text": [
            " * sqlite:////content/drive/MyDrive/Data_Valencia/love4pets.db\n",
            "(sqlite3.OperationalError) RIGHT and FULL OUTER JOINs are not currently supported\n",
            "[SQL: select empleado.nombre, departamento.nombre from empleado\n",
            "RIGHT JOIN\n",
            "departamento ON empleado.departamento_id = departamento.departamento_id;]\n",
            "(Background on this error at: https://sqlalche.me/e/20/e3q8)\n"
          ]
        }
      ],
      "source": [
        "%%sql\n",
        "select empleado.nombre, departamento.nombre from empleado\n",
        "RIGHT JOIN\n",
        "departamento ON empleado.departamento_id = departamento.departamento_id;"
      ]
    },
    {
      "cell_type": "markdown",
      "metadata": {
        "id": "DzfmYENLeqSG"
      },
      "source": [
        "El siguiente código arroja el mismo resultado que debería arrojar el RIGHT JOIN, haciendo uso del LEFT JOIN, invirtiendo las la posición de las tablas"
      ]
    },
    {
      "cell_type": "code",
      "execution_count": null,
      "metadata": {
        "colab": {
          "base_uri": "https://localhost:8080/",
          "height": 344
        },
        "id": "X_tAzs73eqSG",
        "outputId": "cdd7a45d-307e-47ed-f7f0-dbcfe79bd838"
      },
      "outputs": [
        {
          "name": "stdout",
          "output_type": "stream",
          "text": [
            " * sqlite:////content/drive/MyDrive/Data_Valencia/love4pets.db\n",
            "Done.\n"
          ]
        },
        {
          "data": {
            "text/html": [
              "<table>\n",
              "    <thead>\n",
              "        <tr>\n",
              "            <th>nombre</th>\n",
              "            <th>nombre_1</th>\n",
              "        </tr>\n",
              "    </thead>\n",
              "    <tbody>\n",
              "        <tr>\n",
              "            <td>finanzas</td>\n",
              "            <td>Pablo Pons Sanz</td>\n",
              "        </tr>\n",
              "        <tr>\n",
              "            <td>finanzas</td>\n",
              "            <td>Saul Moreno Santos</td>\n",
              "        </tr>\n",
              "        <tr>\n",
              "            <td>ventas</td>\n",
              "            <td>Lucas Serrano Caballero</td>\n",
              "        </tr>\n",
              "        <tr>\n",
              "            <td>recursos humanos</td>\n",
              "            <td>Guillermo Vidal Gomez</td>\n",
              "        </tr>\n",
              "        <tr>\n",
              "            <td>recursos humanos</td>\n",
              "            <td>Isaac Jimenez Ortiz</td>\n",
              "        </tr>\n",
              "        <tr>\n",
              "            <td>marketing</td>\n",
              "            <td>None</td>\n",
              "        </tr>\n",
              "        <tr>\n",
              "            <td>veterinario</td>\n",
              "            <td>Nil Soler Diez</td>\n",
              "        </tr>\n",
              "        <tr>\n",
              "            <td>veterinario</td>\n",
              "            <td>Sergio Reyes Gallardo</td>\n",
              "        </tr>\n",
              "        <tr>\n",
              "            <td>informatica</td>\n",
              "            <td>Alejandro Fernandez</td>\n",
              "        </tr>\n",
              "        <tr>\n",
              "            <td>informatica</td>\n",
              "            <td>Andres Riera Herrera</td>\n",
              "        </tr>\n",
              "        <tr>\n",
              "            <td>informatica</td>\n",
              "            <td>Daniel Quintero Quintero</td>\n",
              "        </tr>\n",
              "        <tr>\n",
              "            <td>informatica</td>\n",
              "            <td>Miguel Soto</td>\n",
              "        </tr>\n",
              "        <tr>\n",
              "            <td>investigacion</td>\n",
              "            <td>None</td>\n",
              "        </tr>\n",
              "    </tbody>\n",
              "</table>"
            ],
            "text/plain": [
              "[('finanzas', 'Pablo Pons Sanz'),\n",
              " ('finanzas', 'Saul Moreno Santos'),\n",
              " ('ventas', 'Lucas Serrano Caballero'),\n",
              " ('recursos humanos', 'Guillermo Vidal Gomez'),\n",
              " ('recursos humanos', 'Isaac Jimenez Ortiz'),\n",
              " ('marketing', None),\n",
              " ('veterinario', 'Nil Soler Diez'),\n",
              " ('veterinario', 'Sergio Reyes Gallardo'),\n",
              " ('informatica', 'Alejandro Fernandez'),\n",
              " ('informatica', 'Andres Riera Herrera'),\n",
              " ('informatica', 'Daniel Quintero Quintero'),\n",
              " ('informatica', 'Miguel Soto'),\n",
              " ('investigacion', None)]"
            ]
          },
          "execution_count": 50,
          "metadata": {},
          "output_type": "execute_result"
        }
      ],
      "source": [
        "%%sql\n",
        "select departamento.nombre, empleado.nombre from departamento\n",
        "LEFT JOIN\n",
        "empleado ON empleado.departamento_id = departamento.departamento_id;"
      ]
    },
    {
      "cell_type": "markdown",
      "metadata": {
        "id": "8npIZN5ZeqSG"
      },
      "source": [
        "### **Ejercicio 7**\n",
        "--------\n",
        " Considerando la tabla \"cliente\" y la tabla \"mascota\" las cuales tienen una relación uno a muchos.  \n",
        " Indique los clientes que no tienen mascota registrada."
      ]
    },
    {
      "cell_type": "code",
      "execution_count": null,
      "metadata": {
        "colab": {
          "base_uri": "https://localhost:8080/",
          "height": 386
        },
        "id": "l5OGPmZogljO",
        "outputId": "28cc8a7e-d040-46fd-85b9-7aded3a2f53e"
      },
      "outputs": [
        {
          "name": "stdout",
          "output_type": "stream",
          "text": [
            " * sqlite:////content/drive/MyDrive/Data_Valencia/love4pets.db\n",
            "Done.\n"
          ]
        },
        {
          "data": {
            "text/html": [
              "<table>\n",
              "    <thead>\n",
              "        <tr>\n",
              "            <th>cliente_id</th>\n",
              "            <th>nombre</th>\n",
              "            <th>email</th>\n",
              "            <th>telefono</th>\n",
              "            <th>contacto</th>\n",
              "            <th>telefono_contacto</th>\n",
              "            <th>ciudad</th>\n",
              "        </tr>\n",
              "    </thead>\n",
              "    <tbody>\n",
              "        <tr>\n",
              "            <td>1</td>\n",
              "            <td>Mario Flores Gallardo</td>\n",
              "            <td>marioflores@gmail.com</td>\n",
              "            <td>036-15-36</td>\n",
              "            <td>Aintzane Alvarez Iglesias</td>\n",
              "            <td>210-35-57</td>\n",
              "            <td>Madrid</td>\n",
              "        </tr>\n",
              "        <tr>\n",
              "            <td>2</td>\n",
              "            <td>Arnau Medina Garcia</td>\n",
              "            <td>arnaumedina@gmail.com</td>\n",
              "            <td>094-10-88</td>\n",
              "            <td></td>\n",
              "            <td></td>\n",
              "            <td>Madrid</td>\n",
              "        </tr>\n",
              "        <tr>\n",
              "            <td>3</td>\n",
              "            <td>Ivan Medina Rubio</td>\n",
              "            <td>ivanmedina@gmail.com</td>\n",
              "            <td>083-08-72</td>\n",
              "            <td>Javier Domenech</td>\n",
              "            <td>488-48-46</td>\n",
              "            <td>Toledo</td>\n",
              "        </tr>\n",
              "        <tr>\n",
              "            <td>4</td>\n",
              "            <td>Jan Vargas Santana</td>\n",
              "            <td>vargasjan@gmail.com</td>\n",
              "            <td>780-65-24</td>\n",
              "            <td></td>\n",
              "            <td></td>\n",
              "            <td>Madrid</td>\n",
              "        </tr>\n",
              "        <tr>\n",
              "            <td>5</td>\n",
              "            <td>Carlos Costa Guerrero</td>\n",
              "            <td>carloscostag@gmail.com</td>\n",
              "            <td>180-65-24</td>\n",
              "            <td>Cristian Jimenez</td>\n",
              "            <td>801-28-09</td>\n",
              "            <td>Madrid</td>\n",
              "        </tr>\n",
              "        <tr>\n",
              "            <td>6</td>\n",
              "            <td>Roberto Martin Ortega</td>\n",
              "            <td>robertmartin@gmail.com</td>\n",
              "            <td>742-63-27</td>\n",
              "            <td>Jorge Vila Gallardo</td>\n",
              "            <td>564-52-13</td>\n",
              "            <td>Madrid</td>\n",
              "        </tr>\n",
              "        <tr>\n",
              "            <td>7</td>\n",
              "            <td>Gabriel Gonzalez Ortega</td>\n",
              "            <td>gabogonzo@gmail.com</td>\n",
              "            <td>780-13-14</td>\n",
              "            <td>Miguel Bosch Parra</td>\n",
              "            <td>882-17-20</td>\n",
              "            <td>Madrid</td>\n",
              "        </tr>\n",
              "        <tr>\n",
              "            <td>8</td>\n",
              "            <td>Rayan Leon Ferrer</td>\n",
              "            <td>rayito@gmail.com</td>\n",
              "            <td>430-65-24</td>\n",
              "            <td>Santiago Perez Ramos</td>\n",
              "            <td>577-21-24</td>\n",
              "            <td>Madrid</td>\n",
              "        </tr>\n",
              "        <tr>\n",
              "            <td>9</td>\n",
              "            <td>Aitor Ruiz Sanchez</td>\n",
              "            <td>aitorsanchez@gmail.com</td>\n",
              "            <td>780-77-24</td>\n",
              "            <td>Gabriel Gonzalez Ortega</td>\n",
              "            <td>784-96-31</td>\n",
              "            <td>Madrid</td>\n",
              "        </tr>\n",
              "        <tr>\n",
              "            <td>10</td>\n",
              "            <td>Eric Rubio Carrasco</td>\n",
              "            <td>ericrubio@gmail.com</td>\n",
              "            <td>780-65-79</td>\n",
              "            <td>Cristian Jimenez Martinez</td>\n",
              "            <td>147-01-12</td>\n",
              "            <td>Madrid</td>\n",
              "        </tr>\n",
              "        <tr>\n",
              "            <td>11</td>\n",
              "            <td>Alberto Sanz Ruiz</td>\n",
              "            <td>albert@gmail.com</td>\n",
              "            <td>781-15-24</td>\n",
              "            <td>Gabriel Gonzalez Ortega</td>\n",
              "            <td>028-51-21</td>\n",
              "            <td>Madrid</td>\n",
              "        </tr>\n",
              "        <tr>\n",
              "            <td>12</td>\n",
              "            <td>Jesus Medina Hernandez</td>\n",
              "            <td>jmedinah@gmail.com</td>\n",
              "            <td>782-35-25</td>\n",
              "            <td>Vctor Gonzalez Castillo</td>\n",
              "            <td>661-85-12</td>\n",
              "            <td>Madrid</td>\n",
              "        </tr>\n",
              "        <tr>\n",
              "            <td>13</td>\n",
              "            <td>Pol Moya Pena</td>\n",
              "            <td>polmoya@gmail.com</td>\n",
              "            <td>780-25-24</td>\n",
              "            <td></td>\n",
              "            <td></td>\n",
              "            <td>Toledo</td>\n",
              "        </tr>\n",
              "        <tr>\n",
              "            <td>14</td>\n",
              "            <td>Jose Gallardo Rodriguez</td>\n",
              "            <td>josegallardo@gmail.com</td>\n",
              "            <td>783-65-11</td>\n",
              "            <td>Hector Martin Morales</td>\n",
              "            <td>867-97-99</td>\n",
              "            <td>Madrid</td>\n",
              "        </tr>\n",
              "        <tr>\n",
              "            <td>15</td>\n",
              "            <td>Manuel Angel Gil</td>\n",
              "            <td>manano@gmail.com</td>\n",
              "            <td>733-65-16</td>\n",
              "            <td>Hector Navarro</td>\n",
              "            <td>067-97-91</td>\n",
              "            <td>Madrid</td>\n",
              "        </tr>\n",
              "    </tbody>\n",
              "</table>"
            ],
            "text/plain": [
              "[(1, 'Mario Flores Gallardo', 'marioflores@gmail.com', '036-15-36', 'Aintzane Alvarez Iglesias', '210-35-57', 'Madrid'),\n",
              " (2, 'Arnau Medina Garcia', 'arnaumedina@gmail.com', '094-10-88', '', '', 'Madrid'),\n",
              " (3, 'Ivan Medina Rubio', 'ivanmedina@gmail.com', '083-08-72', 'Javier Domenech', '488-48-46', 'Toledo'),\n",
              " (4, 'Jan Vargas Santana', 'vargasjan@gmail.com', '780-65-24', '', '', 'Madrid'),\n",
              " (5, 'Carlos Costa Guerrero', 'carloscostag@gmail.com', '180-65-24', 'Cristian Jimenez', '801-28-09', 'Madrid'),\n",
              " (6, 'Roberto Martin Ortega', 'robertmartin@gmail.com', '742-63-27', 'Jorge Vila Gallardo', '564-52-13', 'Madrid'),\n",
              " (7, 'Gabriel Gonzalez Ortega', 'gabogonzo@gmail.com', '780-13-14', 'Miguel Bosch Parra', '882-17-20', 'Madrid'),\n",
              " (8, 'Rayan Leon Ferrer', 'rayito@gmail.com', '430-65-24', 'Santiago Perez Ramos', '577-21-24', 'Madrid'),\n",
              " (9, 'Aitor Ruiz Sanchez', 'aitorsanchez@gmail.com', '780-77-24', 'Gabriel Gonzalez Ortega', '784-96-31', 'Madrid'),\n",
              " (10, 'Eric Rubio Carrasco', 'ericrubio@gmail.com', '780-65-79', 'Cristian Jimenez Martinez', '147-01-12', 'Madrid'),\n",
              " (11, 'Alberto Sanz Ruiz', 'albert@gmail.com', '781-15-24', 'Gabriel Gonzalez Ortega', '028-51-21', 'Madrid'),\n",
              " (12, 'Jesus Medina Hernandez', 'jmedinah@gmail.com', '782-35-25', 'Vctor Gonzalez Castillo', '661-85-12', 'Madrid'),\n",
              " (13, 'Pol Moya Pena', 'polmoya@gmail.com', '780-25-24', '', '', 'Toledo'),\n",
              " (14, 'Jose Gallardo Rodriguez', 'josegallardo@gmail.com', '783-65-11', 'Hector Martin Morales', '867-97-99', 'Madrid'),\n",
              " (15, 'Manuel Angel Gil', 'manano@gmail.com', '733-65-16', 'Hector Navarro', '067-97-91', 'Madrid')]"
            ]
          },
          "execution_count": 51,
          "metadata": {},
          "output_type": "execute_result"
        }
      ],
      "source": [
        "%sql select * from cliente"
      ]
    },
    {
      "cell_type": "code",
      "execution_count": null,
      "metadata": {
        "colab": {
          "base_uri": "https://localhost:8080/",
          "height": 282
        },
        "id": "g7HeTsJhg2yZ",
        "outputId": "fd95cf7c-79fc-4c5f-b5b7-3d760ff61af5"
      },
      "outputs": [
        {
          "name": "stdout",
          "output_type": "stream",
          "text": [
            " * sqlite:////content/drive/MyDrive/Data_Valencia/love4pets.db\n",
            "Done.\n"
          ]
        },
        {
          "data": {
            "text/html": [
              "<table>\n",
              "    <thead>\n",
              "        <tr>\n",
              "            <th>mascota_id</th>\n",
              "            <th>nombre</th>\n",
              "            <th>cliente_id</th>\n",
              "            <th>especie</th>\n",
              "            <th>raza</th>\n",
              "            <th>fecha_nacimiento</th>\n",
              "        </tr>\n",
              "    </thead>\n",
              "    <tbody>\n",
              "        <tr>\n",
              "            <td>1</td>\n",
              "            <td>Luna</td>\n",
              "            <td>2</td>\n",
              "            <td>gato</td>\n",
              "            <td>mestizo</td>\n",
              "            <td>2009-01-01 00:00:000</td>\n",
              "        </tr>\n",
              "        <tr>\n",
              "            <td>2</td>\n",
              "            <td>Sole</td>\n",
              "            <td>3</td>\n",
              "            <td>gato</td>\n",
              "            <td>mestizo</td>\n",
              "            <td>2010-02-01 00:00:000</td>\n",
              "        </tr>\n",
              "        <tr>\n",
              "            <td>3</td>\n",
              "            <td>Mida</td>\n",
              "            <td>3</td>\n",
              "            <td>perro</td>\n",
              "            <td>Caint terrier</td>\n",
              "            <td>2007-02-03 00:00:000</td>\n",
              "        </tr>\n",
              "        <tr>\n",
              "            <td>4</td>\n",
              "            <td>Tara</td>\n",
              "            <td>5</td>\n",
              "            <td>perro</td>\n",
              "            <td>Puddle</td>\n",
              "            <td>2006-02-03 00:00:000</td>\n",
              "        </tr>\n",
              "        <tr>\n",
              "            <td>5</td>\n",
              "            <td>Pelusa</td>\n",
              "            <td>6</td>\n",
              "            <td>perro</td>\n",
              "            <td>Puddle</td>\n",
              "            <td>2008-02-03 00:00:000</td>\n",
              "        </tr>\n",
              "        <tr>\n",
              "            <td>6</td>\n",
              "            <td>irene</td>\n",
              "            <td>7</td>\n",
              "            <td>gato</td>\n",
              "            <td>siames</td>\n",
              "            <td>2015-02-03 00:00:000</td>\n",
              "        </tr>\n",
              "        <tr>\n",
              "            <td>7</td>\n",
              "            <td>sara</td>\n",
              "            <td>8</td>\n",
              "            <td>gato</td>\n",
              "            <td>mestizo</td>\n",
              "            <td>2016-05-01 00:00:000</td>\n",
              "        </tr>\n",
              "        <tr>\n",
              "            <td>8</td>\n",
              "            <td>milo</td>\n",
              "            <td>11</td>\n",
              "            <td>gato</td>\n",
              "            <td>mestizo</td>\n",
              "            <td>2016-09-01 00:00:000</td>\n",
              "        </tr>\n",
              "        <tr>\n",
              "            <td>9</td>\n",
              "            <td>oliver</td>\n",
              "            <td>11</td>\n",
              "            <td>gato</td>\n",
              "            <td>mestizo</td>\n",
              "            <td>2016-07-07 00:00:000</td>\n",
              "        </tr>\n",
              "        <tr>\n",
              "            <td>10</td>\n",
              "            <td>Duke</td>\n",
              "            <td>14</td>\n",
              "            <td>perro</td>\n",
              "            <td>Pastor Aleman</td>\n",
              "            <td>2011-05-03 00:00:000</td>\n",
              "        </tr>\n",
              "    </tbody>\n",
              "</table>"
            ],
            "text/plain": [
              "[(1, 'Luna', 2, 'gato', 'mestizo', '2009-01-01 00:00:000'),\n",
              " (2, 'Sole', 3, 'gato', 'mestizo', '2010-02-01 00:00:000'),\n",
              " (3, 'Mida', 3, 'perro', 'Caint terrier', '2007-02-03 00:00:000'),\n",
              " (4, 'Tara', 5, 'perro', 'Puddle', '2006-02-03 00:00:000'),\n",
              " (5, 'Pelusa', 6, 'perro', 'Puddle', '2008-02-03 00:00:000'),\n",
              " (6, 'irene', 7, 'gato', 'siames', '2015-02-03 00:00:000'),\n",
              " (7, 'sara', 8, 'gato', 'mestizo', '2016-05-01 00:00:000'),\n",
              " (8, 'milo', 11, 'gato', 'mestizo', '2016-09-01 00:00:000'),\n",
              " (9, 'oliver', 11, 'gato', 'mestizo', '2016-07-07 00:00:000'),\n",
              " (10, 'Duke', 14, 'perro', 'Pastor Aleman', '2011-05-03 00:00:000')]"
            ]
          },
          "execution_count": 52,
          "metadata": {},
          "output_type": "execute_result"
        }
      ],
      "source": [
        "%sql select * from mascota"
      ]
    },
    {
      "cell_type": "code",
      "execution_count": null,
      "metadata": {
        "colab": {
          "base_uri": "https://localhost:8080/",
          "height": 221
        },
        "id": "ZPljhr8veqSH",
        "outputId": "15b51c24-9071-41ed-c209-f8bf7eae5348"
      },
      "outputs": [
        {
          "name": "stdout",
          "output_type": "stream",
          "text": [
            " * sqlite:////content/drive/MyDrive/Telmo/love4pets.db\n",
            "Done.\n"
          ]
        },
        {
          "data": {
            "text/html": [
              "<table>\n",
              "    <thead>\n",
              "        <tr>\n",
              "            <th>cliente_id</th>\n",
              "            <th>nombre</th>\n",
              "        </tr>\n",
              "    </thead>\n",
              "    <tbody>\n",
              "        <tr>\n",
              "            <td>1</td>\n",
              "            <td>Mario Flores Gallardo</td>\n",
              "        </tr>\n",
              "        <tr>\n",
              "            <td>4</td>\n",
              "            <td>Jan Vargas Santana</td>\n",
              "        </tr>\n",
              "        <tr>\n",
              "            <td>9</td>\n",
              "            <td>Aitor Ruiz Sanchez</td>\n",
              "        </tr>\n",
              "        <tr>\n",
              "            <td>10</td>\n",
              "            <td>Eric Rubio Carrasco</td>\n",
              "        </tr>\n",
              "        <tr>\n",
              "            <td>12</td>\n",
              "            <td>Jesus Medina Hernandez</td>\n",
              "        </tr>\n",
              "        <tr>\n",
              "            <td>13</td>\n",
              "            <td>Pol Moya Pena</td>\n",
              "        </tr>\n",
              "        <tr>\n",
              "            <td>15</td>\n",
              "            <td>Manuel Angel Gil</td>\n",
              "        </tr>\n",
              "    </tbody>\n",
              "</table>"
            ],
            "text/plain": [
              "[(1, 'Mario Flores Gallardo'),\n",
              " (4, 'Jan Vargas Santana'),\n",
              " (9, 'Aitor Ruiz Sanchez'),\n",
              " (10, 'Eric Rubio Carrasco'),\n",
              " (12, 'Jesus Medina Hernandez'),\n",
              " (13, 'Pol Moya Pena'),\n",
              " (15, 'Manuel Angel Gil')]"
            ]
          },
          "execution_count": 71,
          "metadata": {},
          "output_type": "execute_result"
        }
      ],
      "source": [
        "%%sql\n",
        "SELECT cliente.cliente_id, cliente.nombre\n",
        "\n",
        "FROM cliente\n",
        "\n",
        "WHERE cliente.cliente_id NOT IN (SELECT cliente_id FROM mascota)"
      ]
    },
    {
      "cell_type": "code",
      "execution_count": null,
      "metadata": {
        "colab": {
          "base_uri": "https://localhost:8080/",
          "height": 221
        },
        "id": "UREU_KMhHCPU",
        "outputId": "6d91b345-931c-4380-cbd2-54291d8f4555"
      },
      "outputs": [
        {
          "name": "stdout",
          "output_type": "stream",
          "text": [
            " * sqlite:////content/drive/MyDrive/Telmo/love4pets.db\n",
            "Done.\n"
          ]
        },
        {
          "data": {
            "text/html": [
              "<table>\n",
              "    <thead>\n",
              "        <tr>\n",
              "            <th>cliente_id</th>\n",
              "            <th>nombre</th>\n",
              "            <th>mascota_id</th>\n",
              "        </tr>\n",
              "    </thead>\n",
              "    <tbody>\n",
              "        <tr>\n",
              "            <td>1</td>\n",
              "            <td>Mario Flores Gallardo</td>\n",
              "            <td>None</td>\n",
              "        </tr>\n",
              "        <tr>\n",
              "            <td>4</td>\n",
              "            <td>Jan Vargas Santana</td>\n",
              "            <td>None</td>\n",
              "        </tr>\n",
              "        <tr>\n",
              "            <td>9</td>\n",
              "            <td>Aitor Ruiz Sanchez</td>\n",
              "            <td>None</td>\n",
              "        </tr>\n",
              "        <tr>\n",
              "            <td>10</td>\n",
              "            <td>Eric Rubio Carrasco</td>\n",
              "            <td>None</td>\n",
              "        </tr>\n",
              "        <tr>\n",
              "            <td>12</td>\n",
              "            <td>Jesus Medina Hernandez</td>\n",
              "            <td>None</td>\n",
              "        </tr>\n",
              "        <tr>\n",
              "            <td>13</td>\n",
              "            <td>Pol Moya Pena</td>\n",
              "            <td>None</td>\n",
              "        </tr>\n",
              "        <tr>\n",
              "            <td>15</td>\n",
              "            <td>Manuel Angel Gil</td>\n",
              "            <td>None</td>\n",
              "        </tr>\n",
              "    </tbody>\n",
              "</table>"
            ],
            "text/plain": [
              "[(1, 'Mario Flores Gallardo', None),\n",
              " (4, 'Jan Vargas Santana', None),\n",
              " (9, 'Aitor Ruiz Sanchez', None),\n",
              " (10, 'Eric Rubio Carrasco', None),\n",
              " (12, 'Jesus Medina Hernandez', None),\n",
              " (13, 'Pol Moya Pena', None),\n",
              " (15, 'Manuel Angel Gil', None)]"
            ]
          },
          "execution_count": 76,
          "metadata": {},
          "output_type": "execute_result"
        }
      ],
      "source": [
        "%%sql\n",
        "SELECT cliente.cliente_id, cliente.nombre, mascota.mascota_id\n",
        "\n",
        "FROM cliente LEFT JOIN mascota ON cliente.cliente_id = mascota.cliente_id\n",
        "\n",
        "WHERE mascota.mascota_id IS NULL"
      ]
    },
    {
      "cell_type": "markdown",
      "metadata": {
        "id": "AwUppS7seqSH"
      },
      "source": [
        "### Operador UNION\n",
        "Es usado para combinar resultados de varias consultas en una sola vista.\n",
        "* Cada Instrucción SELECT involucrada en la operación UNION tiene que tener la misma cantidad de columnas.\n",
        "* Las columnas ademas tienen que tener los mismos tipos de datos.\n",
        "\n",
        "**Sintaxis de la Operación UNION**\n",
        "```sql\n",
        "SELECT column_name(s) FROM table1\n",
        "UNION\n",
        "SELECT column_name(s) FROM table2;\n",
        "```"
      ]
    },
    {
      "cell_type": "code",
      "execution_count": null,
      "metadata": {
        "colab": {
          "base_uri": "https://localhost:8080/",
          "height": 636
        },
        "id": "ROc5ALu9eqSH",
        "outputId": "fdbd669c-2445-4474-aa8e-92fa1bc39e45"
      },
      "outputs": [
        {
          "name": "stdout",
          "output_type": "stream",
          "text": [
            " * sqlite:////content/drive/MyDrive/Data_Valencia/love4pets.db\n",
            "Done.\n"
          ]
        },
        {
          "data": {
            "text/html": [
              "<table>\n",
              "    <thead>\n",
              "        <tr>\n",
              "            <th>nombre</th>\n",
              "            <th>email</th>\n",
              "            <th>telefono</th>\n",
              "        </tr>\n",
              "    </thead>\n",
              "    <tbody>\n",
              "        <tr>\n",
              "            <td>Aitor Ruiz Sanchez</td>\n",
              "            <td>aitorsanchez@gmail.com</td>\n",
              "            <td>780-77-24</td>\n",
              "        </tr>\n",
              "        <tr>\n",
              "            <td>Alberto Sanz Ruiz</td>\n",
              "            <td>albert@gmail.com</td>\n",
              "            <td>781-15-24</td>\n",
              "        </tr>\n",
              "        <tr>\n",
              "            <td>Alejandro Fernandez</td>\n",
              "            <td>alefer@gmail.com</td>\n",
              "            <td>119-91-16</td>\n",
              "        </tr>\n",
              "        <tr>\n",
              "            <td>Andres Riera Herrera</td>\n",
              "            <td>andresr@gmail.com</td>\n",
              "            <td>200-88-76</td>\n",
              "        </tr>\n",
              "        <tr>\n",
              "            <td>Arnau Medina Garcia</td>\n",
              "            <td>arnaumedina@gmail.com</td>\n",
              "            <td>094-10-88</td>\n",
              "        </tr>\n",
              "        <tr>\n",
              "            <td>Carlos Costa Guerrero</td>\n",
              "            <td>carloscostag@gmail.com</td>\n",
              "            <td>180-65-24</td>\n",
              "        </tr>\n",
              "        <tr>\n",
              "            <td>Daniel Quintero Quintero</td>\n",
              "            <td>danielquinterox2@gmail.com</td>\n",
              "            <td>261-97-06</td>\n",
              "        </tr>\n",
              "        <tr>\n",
              "            <td>Eric Rubio Carrasco</td>\n",
              "            <td>ericrubio@gmail.com</td>\n",
              "            <td>780-65-79</td>\n",
              "        </tr>\n",
              "        <tr>\n",
              "            <td>Gabriel Gonzalez Ortega</td>\n",
              "            <td>gabogonzo@gmail.com</td>\n",
              "            <td>780-13-14</td>\n",
              "        </tr>\n",
              "        <tr>\n",
              "            <td>Guillermo Vidal Gomez</td>\n",
              "            <td>guillevidal@gmail.com</td>\n",
              "            <td>099-05-68</td>\n",
              "        </tr>\n",
              "        <tr>\n",
              "            <td>Isaac Jimenez Ortiz</td>\n",
              "            <td>isaacortiz@gmail.com</td>\n",
              "            <td>370-19-65</td>\n",
              "        </tr>\n",
              "        <tr>\n",
              "            <td>Ivan Medina Rubio</td>\n",
              "            <td>ivanmedina@gmail.com</td>\n",
              "            <td>083-08-72</td>\n",
              "        </tr>\n",
              "        <tr>\n",
              "            <td>Jan Vargas Santana</td>\n",
              "            <td>vargasjan@gmail.com</td>\n",
              "            <td>780-65-24</td>\n",
              "        </tr>\n",
              "        <tr>\n",
              "            <td>Jesus Medina Hernandez</td>\n",
              "            <td>jmedinah@gmail.com</td>\n",
              "            <td>782-35-25</td>\n",
              "        </tr>\n",
              "        <tr>\n",
              "            <td>Jose Gallardo Rodriguez</td>\n",
              "            <td>josegallardo@gmail.com</td>\n",
              "            <td>783-65-11</td>\n",
              "        </tr>\n",
              "        <tr>\n",
              "            <td>Juan Manuel Olivares</td>\n",
              "            <td>juanma@gmail.com</td>\n",
              "            <td>269-37-06</td>\n",
              "        </tr>\n",
              "        <tr>\n",
              "            <td>Lucas Serrano Caballero</td>\n",
              "            <td>lucas99@gmail.com</td>\n",
              "            <td>115-24-36</td>\n",
              "        </tr>\n",
              "        <tr>\n",
              "            <td>Manuel Angel Gil</td>\n",
              "            <td>manano@gmail.com</td>\n",
              "            <td>733-65-16</td>\n",
              "        </tr>\n",
              "        <tr>\n",
              "            <td>Mario Flores Gallardo</td>\n",
              "            <td>marioflores@gmail.com</td>\n",
              "            <td>036-15-36</td>\n",
              "        </tr>\n",
              "        <tr>\n",
              "            <td>Miguel Soto</td>\n",
              "            <td>misoto@gmail.com</td>\n",
              "            <td>269-92-06</td>\n",
              "        </tr>\n",
              "        <tr>\n",
              "            <td>Nil Soler Diez</td>\n",
              "            <td>nilsoler@gmail.com</td>\n",
              "            <td>576-84-28</td>\n",
              "        </tr>\n",
              "        <tr>\n",
              "            <td>Pablo Pons Sanz</td>\n",
              "            <td>ppsanz@gmail.com</td>\n",
              "            <td>748-72-75</td>\n",
              "        </tr>\n",
              "        <tr>\n",
              "            <td>Pol Moya Pena</td>\n",
              "            <td>polmoya@gmail.com</td>\n",
              "            <td>780-25-24</td>\n",
              "        </tr>\n",
              "        <tr>\n",
              "            <td>Rayan Leon Ferrer</td>\n",
              "            <td>rayito@gmail.com</td>\n",
              "            <td>430-65-24</td>\n",
              "        </tr>\n",
              "        <tr>\n",
              "            <td>Roberto Martin Ortega</td>\n",
              "            <td>robertmartin@gmail.com</td>\n",
              "            <td>742-63-27</td>\n",
              "        </tr>\n",
              "        <tr>\n",
              "            <td>Saul Moreno Santos</td>\n",
              "            <td>saul.morenosantos@gmail.com</td>\n",
              "            <td>346-87-27</td>\n",
              "        </tr>\n",
              "        <tr>\n",
              "            <td>Sergio Reyes Gallardo</td>\n",
              "            <td>zerg@gmail.com</td>\n",
              "            <td>598-95-67</td>\n",
              "        </tr>\n",
              "    </tbody>\n",
              "</table>"
            ],
            "text/plain": [
              "[('Aitor Ruiz Sanchez', 'aitorsanchez@gmail.com', '780-77-24'),\n",
              " ('Alberto Sanz Ruiz', 'albert@gmail.com', '781-15-24'),\n",
              " ('Alejandro Fernandez', 'alefer@gmail.com', '119-91-16'),\n",
              " ('Andres Riera Herrera', 'andresr@gmail.com', '200-88-76'),\n",
              " ('Arnau Medina Garcia', 'arnaumedina@gmail.com', '094-10-88'),\n",
              " ('Carlos Costa Guerrero', 'carloscostag@gmail.com', '180-65-24'),\n",
              " ('Daniel Quintero Quintero', 'danielquinterox2@gmail.com', '261-97-06'),\n",
              " ('Eric Rubio Carrasco', 'ericrubio@gmail.com', '780-65-79'),\n",
              " ('Gabriel Gonzalez Ortega', 'gabogonzo@gmail.com', '780-13-14'),\n",
              " ('Guillermo Vidal Gomez', 'guillevidal@gmail.com', '099-05-68'),\n",
              " ('Isaac Jimenez Ortiz', 'isaacortiz@gmail.com', '370-19-65'),\n",
              " ('Ivan Medina Rubio', 'ivanmedina@gmail.com', '083-08-72'),\n",
              " ('Jan Vargas Santana', 'vargasjan@gmail.com', '780-65-24'),\n",
              " ('Jesus Medina Hernandez', 'jmedinah@gmail.com', '782-35-25'),\n",
              " ('Jose Gallardo Rodriguez', 'josegallardo@gmail.com', '783-65-11'),\n",
              " ('Juan Manuel Olivares', 'juanma@gmail.com', '269-37-06'),\n",
              " ('Lucas Serrano Caballero', 'lucas99@gmail.com', '115-24-36'),\n",
              " ('Manuel Angel Gil', 'manano@gmail.com', '733-65-16'),\n",
              " ('Mario Flores Gallardo', 'marioflores@gmail.com', '036-15-36'),\n",
              " ('Miguel Soto', 'misoto@gmail.com', '269-92-06'),\n",
              " ('Nil Soler Diez', 'nilsoler@gmail.com', '576-84-28'),\n",
              " ('Pablo Pons Sanz', 'ppsanz@gmail.com', '748-72-75'),\n",
              " ('Pol Moya Pena', 'polmoya@gmail.com', '780-25-24'),\n",
              " ('Rayan Leon Ferrer', 'rayito@gmail.com', '430-65-24'),\n",
              " ('Roberto Martin Ortega', 'robertmartin@gmail.com', '742-63-27'),\n",
              " ('Saul Moreno Santos', 'saul.morenosantos@gmail.com', '346-87-27'),\n",
              " ('Sergio Reyes Gallardo', 'zerg@gmail.com', '598-95-67')]"
            ]
          },
          "execution_count": 54,
          "metadata": {},
          "output_type": "execute_result"
        }
      ],
      "source": [
        "%%sql\n",
        "select nombre,email,telefono from empleado\n",
        "UNION\n",
        "select nombre,email,telefono from cliente"
      ]
    },
    {
      "cell_type": "markdown",
      "metadata": {
        "id": "xmCN-xFxeqSH"
      },
      "source": [
        "### La Instrucción GROUP BY\n",
        "Permite agrupar valores por un valor común a ellos\n",
        "\n",
        "Sintaxis de la instrucción GROUP BY\n",
        "```sql\n",
        "SELECT column_name(s)\n",
        "FROM table_name\n",
        "WHERE condition\n",
        "GROUP BY column_name(s)\n",
        "```\n",
        "\n",
        "Veamos un ejemplo contamos la cantidad de clientes que habitan en cada ciudad."
      ]
    },
    {
      "cell_type": "code",
      "execution_count": null,
      "metadata": {
        "colab": {
          "base_uri": "https://localhost:8080/",
          "height": 116
        },
        "id": "CKR9PClDeqSH",
        "outputId": "4b386f26-549e-4024-a16e-3618f371dd71"
      },
      "outputs": [
        {
          "name": "stdout",
          "output_type": "stream",
          "text": [
            " * sqlite:////content/drive/MyDrive/Telmo/love4pets.db\n",
            "Done.\n"
          ]
        },
        {
          "data": {
            "text/html": [
              "<table>\n",
              "    <thead>\n",
              "        <tr>\n",
              "            <th>COUNT(nombre)</th>\n",
              "            <th>ciudad</th>\n",
              "        </tr>\n",
              "    </thead>\n",
              "    <tbody>\n",
              "        <tr>\n",
              "            <td>13</td>\n",
              "            <td>Madrid</td>\n",
              "        </tr>\n",
              "        <tr>\n",
              "            <td>2</td>\n",
              "            <td>Toledo</td>\n",
              "        </tr>\n",
              "    </tbody>\n",
              "</table>"
            ],
            "text/plain": [
              "[(13, 'Madrid'), (2, 'Toledo')]"
            ]
          },
          "execution_count": 78,
          "metadata": {},
          "output_type": "execute_result"
        }
      ],
      "source": [
        "%%sql\n",
        "select COUNT(nombre),ciudad from cliente\n",
        "GROUP BY ciudad"
      ]
    },
    {
      "cell_type": "markdown",
      "metadata": {
        "id": "f5oBXPqGeqSI"
      },
      "source": [
        "### **Ejercicio 8**\n",
        "--------\n",
        "No todas las personas tienen la misma cantidad de mascotas. Se requiere que usted indique el cliente y cantidad de mascotas que tiene cada cliente que tenga mascotas.\n"
      ]
    },
    {
      "cell_type": "code",
      "execution_count": null,
      "metadata": {
        "colab": {
          "base_uri": "https://localhost:8080/",
          "height": 386
        },
        "id": "r279lumkFuEl",
        "outputId": "c1090ff6-70cc-443b-8bea-a8fe62b913a6"
      },
      "outputs": [
        {
          "name": "stdout",
          "output_type": "stream",
          "text": [
            " * sqlite:////content/drive/MyDrive/Data_Valencia/love4pets.db\n",
            "Done.\n"
          ]
        },
        {
          "data": {
            "text/html": [
              "<table>\n",
              "    <thead>\n",
              "        <tr>\n",
              "            <th>cliente_id</th>\n",
              "            <th>nombre</th>\n",
              "            <th>email</th>\n",
              "            <th>telefono</th>\n",
              "            <th>contacto</th>\n",
              "            <th>telefono_contacto</th>\n",
              "            <th>ciudad</th>\n",
              "        </tr>\n",
              "    </thead>\n",
              "    <tbody>\n",
              "        <tr>\n",
              "            <td>1</td>\n",
              "            <td>Mario Flores Gallardo</td>\n",
              "            <td>marioflores@gmail.com</td>\n",
              "            <td>036-15-36</td>\n",
              "            <td>Aintzane Alvarez Iglesias</td>\n",
              "            <td>210-35-57</td>\n",
              "            <td>Madrid</td>\n",
              "        </tr>\n",
              "        <tr>\n",
              "            <td>2</td>\n",
              "            <td>Arnau Medina Garcia</td>\n",
              "            <td>arnaumedina@gmail.com</td>\n",
              "            <td>094-10-88</td>\n",
              "            <td></td>\n",
              "            <td></td>\n",
              "            <td>Madrid</td>\n",
              "        </tr>\n",
              "        <tr>\n",
              "            <td>3</td>\n",
              "            <td>Ivan Medina Rubio</td>\n",
              "            <td>ivanmedina@gmail.com</td>\n",
              "            <td>083-08-72</td>\n",
              "            <td>Javier Domenech</td>\n",
              "            <td>488-48-46</td>\n",
              "            <td>Toledo</td>\n",
              "        </tr>\n",
              "        <tr>\n",
              "            <td>4</td>\n",
              "            <td>Jan Vargas Santana</td>\n",
              "            <td>vargasjan@gmail.com</td>\n",
              "            <td>780-65-24</td>\n",
              "            <td></td>\n",
              "            <td></td>\n",
              "            <td>Madrid</td>\n",
              "        </tr>\n",
              "        <tr>\n",
              "            <td>5</td>\n",
              "            <td>Carlos Costa Guerrero</td>\n",
              "            <td>carloscostag@gmail.com</td>\n",
              "            <td>180-65-24</td>\n",
              "            <td>Cristian Jimenez</td>\n",
              "            <td>801-28-09</td>\n",
              "            <td>Madrid</td>\n",
              "        </tr>\n",
              "        <tr>\n",
              "            <td>6</td>\n",
              "            <td>Roberto Martin Ortega</td>\n",
              "            <td>robertmartin@gmail.com</td>\n",
              "            <td>742-63-27</td>\n",
              "            <td>Jorge Vila Gallardo</td>\n",
              "            <td>564-52-13</td>\n",
              "            <td>Madrid</td>\n",
              "        </tr>\n",
              "        <tr>\n",
              "            <td>7</td>\n",
              "            <td>Gabriel Gonzalez Ortega</td>\n",
              "            <td>gabogonzo@gmail.com</td>\n",
              "            <td>780-13-14</td>\n",
              "            <td>Miguel Bosch Parra</td>\n",
              "            <td>882-17-20</td>\n",
              "            <td>Madrid</td>\n",
              "        </tr>\n",
              "        <tr>\n",
              "            <td>8</td>\n",
              "            <td>Rayan Leon Ferrer</td>\n",
              "            <td>rayito@gmail.com</td>\n",
              "            <td>430-65-24</td>\n",
              "            <td>Santiago Perez Ramos</td>\n",
              "            <td>577-21-24</td>\n",
              "            <td>Madrid</td>\n",
              "        </tr>\n",
              "        <tr>\n",
              "            <td>9</td>\n",
              "            <td>Aitor Ruiz Sanchez</td>\n",
              "            <td>aitorsanchez@gmail.com</td>\n",
              "            <td>780-77-24</td>\n",
              "            <td>Gabriel Gonzalez Ortega</td>\n",
              "            <td>784-96-31</td>\n",
              "            <td>Madrid</td>\n",
              "        </tr>\n",
              "        <tr>\n",
              "            <td>10</td>\n",
              "            <td>Eric Rubio Carrasco</td>\n",
              "            <td>ericrubio@gmail.com</td>\n",
              "            <td>780-65-79</td>\n",
              "            <td>Cristian Jimenez Martinez</td>\n",
              "            <td>147-01-12</td>\n",
              "            <td>Madrid</td>\n",
              "        </tr>\n",
              "        <tr>\n",
              "            <td>11</td>\n",
              "            <td>Alberto Sanz Ruiz</td>\n",
              "            <td>albert@gmail.com</td>\n",
              "            <td>781-15-24</td>\n",
              "            <td>Gabriel Gonzalez Ortega</td>\n",
              "            <td>028-51-21</td>\n",
              "            <td>Madrid</td>\n",
              "        </tr>\n",
              "        <tr>\n",
              "            <td>12</td>\n",
              "            <td>Jesus Medina Hernandez</td>\n",
              "            <td>jmedinah@gmail.com</td>\n",
              "            <td>782-35-25</td>\n",
              "            <td>Vctor Gonzalez Castillo</td>\n",
              "            <td>661-85-12</td>\n",
              "            <td>Madrid</td>\n",
              "        </tr>\n",
              "        <tr>\n",
              "            <td>13</td>\n",
              "            <td>Pol Moya Pena</td>\n",
              "            <td>polmoya@gmail.com</td>\n",
              "            <td>780-25-24</td>\n",
              "            <td></td>\n",
              "            <td></td>\n",
              "            <td>Toledo</td>\n",
              "        </tr>\n",
              "        <tr>\n",
              "            <td>14</td>\n",
              "            <td>Jose Gallardo Rodriguez</td>\n",
              "            <td>josegallardo@gmail.com</td>\n",
              "            <td>783-65-11</td>\n",
              "            <td>Hector Martin Morales</td>\n",
              "            <td>867-97-99</td>\n",
              "            <td>Madrid</td>\n",
              "        </tr>\n",
              "        <tr>\n",
              "            <td>15</td>\n",
              "            <td>Manuel Angel Gil</td>\n",
              "            <td>manano@gmail.com</td>\n",
              "            <td>733-65-16</td>\n",
              "            <td>Hector Navarro</td>\n",
              "            <td>067-97-91</td>\n",
              "            <td>Madrid</td>\n",
              "        </tr>\n",
              "    </tbody>\n",
              "</table>"
            ],
            "text/plain": [
              "[(1, 'Mario Flores Gallardo', 'marioflores@gmail.com', '036-15-36', 'Aintzane Alvarez Iglesias', '210-35-57', 'Madrid'),\n",
              " (2, 'Arnau Medina Garcia', 'arnaumedina@gmail.com', '094-10-88', '', '', 'Madrid'),\n",
              " (3, 'Ivan Medina Rubio', 'ivanmedina@gmail.com', '083-08-72', 'Javier Domenech', '488-48-46', 'Toledo'),\n",
              " (4, 'Jan Vargas Santana', 'vargasjan@gmail.com', '780-65-24', '', '', 'Madrid'),\n",
              " (5, 'Carlos Costa Guerrero', 'carloscostag@gmail.com', '180-65-24', 'Cristian Jimenez', '801-28-09', 'Madrid'),\n",
              " (6, 'Roberto Martin Ortega', 'robertmartin@gmail.com', '742-63-27', 'Jorge Vila Gallardo', '564-52-13', 'Madrid'),\n",
              " (7, 'Gabriel Gonzalez Ortega', 'gabogonzo@gmail.com', '780-13-14', 'Miguel Bosch Parra', '882-17-20', 'Madrid'),\n",
              " (8, 'Rayan Leon Ferrer', 'rayito@gmail.com', '430-65-24', 'Santiago Perez Ramos', '577-21-24', 'Madrid'),\n",
              " (9, 'Aitor Ruiz Sanchez', 'aitorsanchez@gmail.com', '780-77-24', 'Gabriel Gonzalez Ortega', '784-96-31', 'Madrid'),\n",
              " (10, 'Eric Rubio Carrasco', 'ericrubio@gmail.com', '780-65-79', 'Cristian Jimenez Martinez', '147-01-12', 'Madrid'),\n",
              " (11, 'Alberto Sanz Ruiz', 'albert@gmail.com', '781-15-24', 'Gabriel Gonzalez Ortega', '028-51-21', 'Madrid'),\n",
              " (12, 'Jesus Medina Hernandez', 'jmedinah@gmail.com', '782-35-25', 'Vctor Gonzalez Castillo', '661-85-12', 'Madrid'),\n",
              " (13, 'Pol Moya Pena', 'polmoya@gmail.com', '780-25-24', '', '', 'Toledo'),\n",
              " (14, 'Jose Gallardo Rodriguez', 'josegallardo@gmail.com', '783-65-11', 'Hector Martin Morales', '867-97-99', 'Madrid'),\n",
              " (15, 'Manuel Angel Gil', 'manano@gmail.com', '733-65-16', 'Hector Navarro', '067-97-91', 'Madrid')]"
            ]
          },
          "execution_count": 56,
          "metadata": {},
          "output_type": "execute_result"
        }
      ],
      "source": [
        "%sql select * from cliente"
      ]
    },
    {
      "cell_type": "code",
      "execution_count": null,
      "metadata": {
        "colab": {
          "base_uri": "https://localhost:8080/",
          "height": 284
        },
        "id": "-9-MXqC-Fycc",
        "outputId": "4d4cb72e-c109-4f3e-ddc6-5fea8e535caf"
      },
      "outputs": [
        {
          "name": "stdout",
          "output_type": "stream",
          "text": [
            " * sqlite:////content/drive/MyDrive/Telmo/love4pets.db\n",
            "Done.\n"
          ]
        },
        {
          "data": {
            "text/html": [
              "<table>\n",
              "    <thead>\n",
              "        <tr>\n",
              "            <th>mascota_id</th>\n",
              "            <th>nombre</th>\n",
              "            <th>cliente_id</th>\n",
              "            <th>especie</th>\n",
              "            <th>raza</th>\n",
              "            <th>fecha_nacimiento</th>\n",
              "        </tr>\n",
              "    </thead>\n",
              "    <tbody>\n",
              "        <tr>\n",
              "            <td>1</td>\n",
              "            <td>Luna</td>\n",
              "            <td>2</td>\n",
              "            <td>gato</td>\n",
              "            <td>mestizo</td>\n",
              "            <td>2009-01-01 00:00:000</td>\n",
              "        </tr>\n",
              "        <tr>\n",
              "            <td>2</td>\n",
              "            <td>Sole</td>\n",
              "            <td>3</td>\n",
              "            <td>gato</td>\n",
              "            <td>mestizo</td>\n",
              "            <td>2010-02-01 00:00:000</td>\n",
              "        </tr>\n",
              "        <tr>\n",
              "            <td>3</td>\n",
              "            <td>Mida</td>\n",
              "            <td>3</td>\n",
              "            <td>perro</td>\n",
              "            <td>Caint terrier</td>\n",
              "            <td>2007-02-03 00:00:000</td>\n",
              "        </tr>\n",
              "        <tr>\n",
              "            <td>4</td>\n",
              "            <td>Tara</td>\n",
              "            <td>5</td>\n",
              "            <td>perro</td>\n",
              "            <td>Puddle</td>\n",
              "            <td>2006-02-03 00:00:000</td>\n",
              "        </tr>\n",
              "        <tr>\n",
              "            <td>5</td>\n",
              "            <td>Pelusa</td>\n",
              "            <td>6</td>\n",
              "            <td>perro</td>\n",
              "            <td>Puddle</td>\n",
              "            <td>2008-02-03 00:00:000</td>\n",
              "        </tr>\n",
              "        <tr>\n",
              "            <td>6</td>\n",
              "            <td>irene</td>\n",
              "            <td>7</td>\n",
              "            <td>gato</td>\n",
              "            <td>siames</td>\n",
              "            <td>2015-02-03 00:00:000</td>\n",
              "        </tr>\n",
              "        <tr>\n",
              "            <td>7</td>\n",
              "            <td>sara</td>\n",
              "            <td>8</td>\n",
              "            <td>gato</td>\n",
              "            <td>mestizo</td>\n",
              "            <td>2016-05-01 00:00:000</td>\n",
              "        </tr>\n",
              "        <tr>\n",
              "            <td>8</td>\n",
              "            <td>milo</td>\n",
              "            <td>11</td>\n",
              "            <td>gato</td>\n",
              "            <td>mestizo</td>\n",
              "            <td>2016-09-01 00:00:000</td>\n",
              "        </tr>\n",
              "        <tr>\n",
              "            <td>9</td>\n",
              "            <td>oliver</td>\n",
              "            <td>11</td>\n",
              "            <td>gato</td>\n",
              "            <td>mestizo</td>\n",
              "            <td>2016-07-07 00:00:000</td>\n",
              "        </tr>\n",
              "        <tr>\n",
              "            <td>10</td>\n",
              "            <td>Duke</td>\n",
              "            <td>14</td>\n",
              "            <td>perro</td>\n",
              "            <td>Pastor Aleman</td>\n",
              "            <td>2011-05-03 00:00:000</td>\n",
              "        </tr>\n",
              "    </tbody>\n",
              "</table>"
            ],
            "text/plain": [
              "[(1, 'Luna', 2, 'gato', 'mestizo', '2009-01-01 00:00:000'),\n",
              " (2, 'Sole', 3, 'gato', 'mestizo', '2010-02-01 00:00:000'),\n",
              " (3, 'Mida', 3, 'perro', 'Caint terrier', '2007-02-03 00:00:000'),\n",
              " (4, 'Tara', 5, 'perro', 'Puddle', '2006-02-03 00:00:000'),\n",
              " (5, 'Pelusa', 6, 'perro', 'Puddle', '2008-02-03 00:00:000'),\n",
              " (6, 'irene', 7, 'gato', 'siames', '2015-02-03 00:00:000'),\n",
              " (7, 'sara', 8, 'gato', 'mestizo', '2016-05-01 00:00:000'),\n",
              " (8, 'milo', 11, 'gato', 'mestizo', '2016-09-01 00:00:000'),\n",
              " (9, 'oliver', 11, 'gato', 'mestizo', '2016-07-07 00:00:000'),\n",
              " (10, 'Duke', 14, 'perro', 'Pastor Aleman', '2011-05-03 00:00:000')]"
            ]
          },
          "execution_count": 79,
          "metadata": {},
          "output_type": "execute_result"
        }
      ],
      "source": [
        "%sql select * from mascota"
      ]
    },
    {
      "cell_type": "code",
      "execution_count": null,
      "metadata": {
        "colab": {
          "base_uri": "https://localhost:8080/",
          "height": 242
        },
        "id": "P0kqiQsGeqSI",
        "outputId": "3f2fa313-8fd5-4b8f-eb27-93a00f8781bc"
      },
      "outputs": [
        {
          "name": "stdout",
          "output_type": "stream",
          "text": [
            " * sqlite:////content/drive/MyDrive/Telmo/love4pets.db\n",
            "Done.\n"
          ]
        },
        {
          "data": {
            "text/html": [
              "<table>\n",
              "    <thead>\n",
              "        <tr>\n",
              "            <th>nombre</th>\n",
              "            <th>Cantidad Mascotas</th>\n",
              "        </tr>\n",
              "    </thead>\n",
              "    <tbody>\n",
              "        <tr>\n",
              "            <td>Arnau Medina Garcia</td>\n",
              "            <td>1</td>\n",
              "        </tr>\n",
              "        <tr>\n",
              "            <td>Ivan Medina Rubio</td>\n",
              "            <td>2</td>\n",
              "        </tr>\n",
              "        <tr>\n",
              "            <td>Carlos Costa Guerrero</td>\n",
              "            <td>1</td>\n",
              "        </tr>\n",
              "        <tr>\n",
              "            <td>Roberto Martin Ortega</td>\n",
              "            <td>1</td>\n",
              "        </tr>\n",
              "        <tr>\n",
              "            <td>Gabriel Gonzalez Ortega</td>\n",
              "            <td>1</td>\n",
              "        </tr>\n",
              "        <tr>\n",
              "            <td>Rayan Leon Ferrer</td>\n",
              "            <td>1</td>\n",
              "        </tr>\n",
              "        <tr>\n",
              "            <td>Alberto Sanz Ruiz</td>\n",
              "            <td>2</td>\n",
              "        </tr>\n",
              "        <tr>\n",
              "            <td>Jose Gallardo Rodriguez</td>\n",
              "            <td>1</td>\n",
              "        </tr>\n",
              "    </tbody>\n",
              "</table>"
            ],
            "text/plain": [
              "[('Arnau Medina Garcia', 1),\n",
              " ('Ivan Medina Rubio', 2),\n",
              " ('Carlos Costa Guerrero', 1),\n",
              " ('Roberto Martin Ortega', 1),\n",
              " ('Gabriel Gonzalez Ortega', 1),\n",
              " ('Rayan Leon Ferrer', 1),\n",
              " ('Alberto Sanz Ruiz', 2),\n",
              " ('Jose Gallardo Rodriguez', 1)]"
            ]
          },
          "execution_count": 90,
          "metadata": {},
          "output_type": "execute_result"
        }
      ],
      "source": [
        "%%sql\n",
        "SELECT cliente.nombre, COUNT(cliente.nombre) AS 'Cantidad Mascotas'\n",
        "\n",
        "FROM cliente INNER JOIN mascota ON cliente.cliente_id = mascota.cliente_id\n",
        "\n",
        "GROUP BY mascota.cliente_id"
      ]
    },
    {
      "cell_type": "markdown",
      "metadata": {
        "id": "CCDUZ92jeqSI"
      },
      "source": [
        "### La Instrucción HAVING\n",
        "Permite filtrar una busqueda donde se aplica una función de agregación sobre la condición.\n",
        "\n",
        "Sintaxis de la instrucción GROUP BY\n",
        "```sql\n",
        "SELECT column_name(s)\n",
        "FROM table_name\n",
        "WHERE condition\n",
        "HAVING column_name(s)\n",
        "```\n",
        "\n",
        "Tomando el mismo ejemplo anterior queremos mostrar las ciudades que tengan mas de 5 clientes."
      ]
    },
    {
      "cell_type": "code",
      "execution_count": null,
      "metadata": {
        "colab": {
          "base_uri": "https://localhost:8080/",
          "height": 116
        },
        "id": "ULeG4e1WeqSI",
        "outputId": "6393ea88-f1ad-46af-e8aa-8d6e164c586a"
      },
      "outputs": [
        {
          "name": "stdout",
          "output_type": "stream",
          "text": [
            " * sqlite:////content/drive/MyDrive/Telmo/love4pets.db\n",
            "Done.\n"
          ]
        },
        {
          "data": {
            "text/html": [
              "<table>\n",
              "    <thead>\n",
              "        <tr>\n",
              "            <th>COUNT(nombre)</th>\n",
              "            <th>ciudad</th>\n",
              "        </tr>\n",
              "    </thead>\n",
              "    <tbody>\n",
              "        <tr>\n",
              "            <td>13</td>\n",
              "            <td>Madrid</td>\n",
              "        </tr>\n",
              "        <tr>\n",
              "            <td>2</td>\n",
              "            <td>Toledo</td>\n",
              "        </tr>\n",
              "    </tbody>\n",
              "</table>"
            ],
            "text/plain": [
              "[(13, 'Madrid'), (2, 'Toledo')]"
            ]
          },
          "execution_count": 92,
          "metadata": {},
          "output_type": "execute_result"
        }
      ],
      "source": [
        "%%sql\n",
        "select COUNT(nombre),ciudad from cliente\n",
        "GROUP BY ciudad HAVING COUNT(nombre) > 1;"
      ]
    },
    {
      "cell_type": "markdown",
      "metadata": {
        "id": "qx5yRkcjeqSI"
      },
      "source": [
        "### **Ejercicio 9**\n",
        "--------\n",
        "Se requiere que usted indique los clientes que tienen mas de una mascota."
      ]
    },
    {
      "cell_type": "code",
      "execution_count": null,
      "metadata": {
        "colab": {
          "base_uri": "https://localhost:8080/",
          "height": 116
        },
        "id": "7P375xVMeqSJ",
        "outputId": "4c08add8-dc14-4652-c550-c9354586254a"
      },
      "outputs": [
        {
          "name": "stdout",
          "output_type": "stream",
          "text": [
            " * sqlite:////content/drive/MyDrive/Telmo/love4pets.db\n",
            "Done.\n"
          ]
        },
        {
          "data": {
            "text/html": [
              "<table>\n",
              "    <thead>\n",
              "        <tr>\n",
              "            <th>nombre</th>\n",
              "            <th>Cantidad Mascotas</th>\n",
              "        </tr>\n",
              "    </thead>\n",
              "    <tbody>\n",
              "        <tr>\n",
              "            <td>Ivan Medina Rubio</td>\n",
              "            <td>2</td>\n",
              "        </tr>\n",
              "        <tr>\n",
              "            <td>Alberto Sanz Ruiz</td>\n",
              "            <td>2</td>\n",
              "        </tr>\n",
              "    </tbody>\n",
              "</table>"
            ],
            "text/plain": [
              "[('Ivan Medina Rubio', 2), ('Alberto Sanz Ruiz', 2)]"
            ]
          },
          "execution_count": 93,
          "metadata": {},
          "output_type": "execute_result"
        }
      ],
      "source": [
        "%%sql\n",
        "SELECT cliente.nombre, COUNT(cliente.nombre) AS 'Cantidad Mascotas'\n",
        "\n",
        "FROM cliente INNER JOIN mascota ON cliente.cliente_id = mascota.cliente_id\n",
        "\n",
        "GROUP BY mascota.cliente_id HAVING COUNT(cliente.nombre) > 1"
      ]
    },
    {
      "cell_type": "markdown",
      "metadata": {
        "id": "8WrPA26zeqSJ"
      },
      "source": [
        "### La Instrucción INSERT\n",
        "La instrucción insert permite agregar nuevos valores a las tablas\n",
        "\n",
        "```sql\n",
        "INSERT INTO table_name (columna1, columna2, columna3, ...)\n",
        "VALUES (valor1, valor2, valor3, ...);\n",
        "```\n",
        "\n",
        "donde el valor1 es insertado en la columna1, el valor2 en la columna2 y asi sucesivamente."
      ]
    },
    {
      "cell_type": "code",
      "execution_count": null,
      "metadata": {
        "colab": {
          "base_uri": "https://localhost:8080/",
          "height": 116
        },
        "id": "UDdYSpRRjCQU",
        "outputId": "e902a715-f0f7-4081-c547-7cc035c9f6d9"
      },
      "outputs": [
        {
          "name": "stdout",
          "output_type": "stream",
          "text": [
            " * sqlite:////content/drive/MyDrive/Telmo/love4pets.db\n",
            "Done.\n"
          ]
        },
        {
          "data": {
            "text/html": [
              "<table>\n",
              "    <thead>\n",
              "        <tr>\n",
              "            <th>cid</th>\n",
              "            <th>name</th>\n",
              "            <th>type</th>\n",
              "            <th>notnull</th>\n",
              "            <th>dflt_value</th>\n",
              "            <th>pk</th>\n",
              "        </tr>\n",
              "    </thead>\n",
              "    <tbody>\n",
              "        <tr>\n",
              "            <td>0</td>\n",
              "            <td>departamento_id</td>\n",
              "            <td>INTEGER</td>\n",
              "            <td>1</td>\n",
              "            <td>None</td>\n",
              "            <td>1</td>\n",
              "        </tr>\n",
              "        <tr>\n",
              "            <td>1</td>\n",
              "            <td>nombre</td>\n",
              "            <td>TEXT</td>\n",
              "            <td>1</td>\n",
              "            <td>None</td>\n",
              "            <td>0</td>\n",
              "        </tr>\n",
              "    </tbody>\n",
              "</table>"
            ],
            "text/plain": [
              "[(0, 'departamento_id', 'INTEGER', 1, None, 1),\n",
              " (1, 'nombre', 'TEXT', 1, None, 0)]"
            ]
          },
          "execution_count": 95,
          "metadata": {},
          "output_type": "execute_result"
        }
      ],
      "source": [
        "%sql PRAGMA table_info(departamento)"
      ]
    },
    {
      "cell_type": "code",
      "execution_count": null,
      "metadata": {
        "colab": {
          "base_uri": "https://localhost:8080/",
          "height": 242
        },
        "id": "tejNP7LsT9-G",
        "outputId": "1dcd4682-5180-47c2-e108-7246866667f4"
      },
      "outputs": [
        {
          "name": "stdout",
          "output_type": "stream",
          "text": [
            " * sqlite:////content/drive/MyDrive/Telmo/love4pets.db\n",
            "Done.\n"
          ]
        },
        {
          "data": {
            "text/html": [
              "<table>\n",
              "    <thead>\n",
              "        <tr>\n",
              "            <th>departamento_id</th>\n",
              "            <th>nombre</th>\n",
              "        </tr>\n",
              "    </thead>\n",
              "    <tbody>\n",
              "        <tr>\n",
              "            <td>1</td>\n",
              "            <td>finanzas</td>\n",
              "        </tr>\n",
              "        <tr>\n",
              "            <td>2</td>\n",
              "            <td>ventas</td>\n",
              "        </tr>\n",
              "        <tr>\n",
              "            <td>3</td>\n",
              "            <td>recursos humanos</td>\n",
              "        </tr>\n",
              "        <tr>\n",
              "            <td>4</td>\n",
              "            <td>marketing</td>\n",
              "        </tr>\n",
              "        <tr>\n",
              "            <td>5</td>\n",
              "            <td>veterinario</td>\n",
              "        </tr>\n",
              "        <tr>\n",
              "            <td>6</td>\n",
              "            <td>informatica</td>\n",
              "        </tr>\n",
              "        <tr>\n",
              "            <td>7</td>\n",
              "            <td>investigacion</td>\n",
              "        </tr>\n",
              "        <tr>\n",
              "            <td>8</td>\n",
              "            <td>ciber</td>\n",
              "        </tr>\n",
              "    </tbody>\n",
              "</table>"
            ],
            "text/plain": [
              "[(1, 'finanzas'),\n",
              " (2, 'ventas'),\n",
              " (3, 'recursos humanos'),\n",
              " (4, 'marketing'),\n",
              " (5, 'veterinario'),\n",
              " (6, 'informatica'),\n",
              " (7, 'investigacion'),\n",
              " (8, 'ciber')]"
            ]
          },
          "execution_count": 98,
          "metadata": {},
          "output_type": "execute_result"
        }
      ],
      "source": [
        "%sql select * from departamento"
      ]
    },
    {
      "cell_type": "code",
      "execution_count": null,
      "metadata": {
        "colab": {
          "base_uri": "https://localhost:8080/"
        },
        "id": "vk7Yn_1AjHcl",
        "outputId": "084b4888-fd5a-4f32-a1b2-ff5ffac1e446"
      },
      "outputs": [
        {
          "name": "stdout",
          "output_type": "stream",
          "text": [
            " * sqlite:////content/drive/MyDrive/Telmo/love4pets.db\n",
            "1 rows affected.\n"
          ]
        },
        {
          "data": {
            "text/plain": [
              "[]"
            ]
          },
          "execution_count": 106,
          "metadata": {},
          "output_type": "execute_result"
        }
      ],
      "source": [
        "%%sql\n",
        "INSERT INTO departamento (departamento_id,nombre)\n",
        "VALUES (9,898)"
      ]
    },
    {
      "cell_type": "code",
      "execution_count": null,
      "metadata": {
        "colab": {
          "base_uri": "https://localhost:8080/",
          "height": 263
        },
        "id": "e7S2YrkSjX6e",
        "outputId": "eb2fa261-db2c-443e-a6eb-33e8ae35b971"
      },
      "outputs": [
        {
          "name": "stdout",
          "output_type": "stream",
          "text": [
            " * sqlite:////content/drive/MyDrive/Telmo/love4pets.db\n",
            "Done.\n"
          ]
        },
        {
          "data": {
            "text/html": [
              "<table>\n",
              "    <thead>\n",
              "        <tr>\n",
              "            <th>departamento_id</th>\n",
              "            <th>nombre</th>\n",
              "        </tr>\n",
              "    </thead>\n",
              "    <tbody>\n",
              "        <tr>\n",
              "            <td>1</td>\n",
              "            <td>finanzas</td>\n",
              "        </tr>\n",
              "        <tr>\n",
              "            <td>2</td>\n",
              "            <td>ventas</td>\n",
              "        </tr>\n",
              "        <tr>\n",
              "            <td>3</td>\n",
              "            <td>recursos humanos</td>\n",
              "        </tr>\n",
              "        <tr>\n",
              "            <td>4</td>\n",
              "            <td>marketing</td>\n",
              "        </tr>\n",
              "        <tr>\n",
              "            <td>5</td>\n",
              "            <td>veterinario</td>\n",
              "        </tr>\n",
              "        <tr>\n",
              "            <td>6</td>\n",
              "            <td>informatica</td>\n",
              "        </tr>\n",
              "        <tr>\n",
              "            <td>7</td>\n",
              "            <td>investigacion</td>\n",
              "        </tr>\n",
              "        <tr>\n",
              "            <td>8</td>\n",
              "            <td>ciber</td>\n",
              "        </tr>\n",
              "        <tr>\n",
              "            <td>9</td>\n",
              "            <td>898</td>\n",
              "        </tr>\n",
              "    </tbody>\n",
              "</table>"
            ],
            "text/plain": [
              "[(1, 'finanzas'),\n",
              " (2, 'ventas'),\n",
              " (3, 'recursos humanos'),\n",
              " (4, 'marketing'),\n",
              " (5, 'veterinario'),\n",
              " (6, 'informatica'),\n",
              " (7, 'investigacion'),\n",
              " (8, 'ciber'),\n",
              " (9, '898')]"
            ]
          },
          "execution_count": 101,
          "metadata": {},
          "output_type": "execute_result"
        }
      ],
      "source": [
        "%sql select * from departamento"
      ]
    },
    {
      "cell_type": "markdown",
      "metadata": {
        "id": "q-qfpN-ReqSJ"
      },
      "source": [
        "### La Instrucción DELETE\n",
        "La instrucción DELETE permite ELIMINAR filas que cumplan con una determinada condición\n",
        "\n",
        "```sql\n",
        "DELETE FROM table_name\n",
        "WHERE condition;\n",
        "```\n"
      ]
    },
    {
      "cell_type": "code",
      "execution_count": null,
      "metadata": {
        "colab": {
          "base_uri": "https://localhost:8080/"
        },
        "id": "efxjjj6ieqSJ",
        "outputId": "0e3b81f9-eb3a-4973-eb41-d90cd188b116"
      },
      "outputs": [
        {
          "name": "stdout",
          "output_type": "stream",
          "text": [
            " * sqlite:////content/drive/MyDrive/Telmo/love4pets.db\n",
            "1 rows affected.\n"
          ]
        },
        {
          "data": {
            "text/plain": [
              "[]"
            ]
          },
          "execution_count": 107,
          "metadata": {},
          "output_type": "execute_result"
        }
      ],
      "source": [
        "%sql delete from departamento where nombre='898';"
      ]
    },
    {
      "cell_type": "markdown",
      "metadata": {
        "id": "z7UiHzdoVLq9"
      },
      "source": [
        "## UPDATE"
      ]
    },
    {
      "cell_type": "code",
      "execution_count": null,
      "metadata": {
        "colab": {
          "base_uri": "https://localhost:8080/"
        },
        "id": "GmedYTmtVLTm",
        "outputId": "1698ceea-0b01-497d-cb20-51a347c86298"
      },
      "outputs": [
        {
          "name": "stdout",
          "output_type": "stream",
          "text": [
            " * sqlite:////content/drive/MyDrive/Telmo/love4pets.db\n",
            "1 rows affected.\n"
          ]
        },
        {
          "data": {
            "text/plain": [
              "[]"
            ]
          },
          "execution_count": 108,
          "metadata": {},
          "output_type": "execute_result"
        }
      ],
      "source": [
        "%%sql\n",
        "UPDATE departamento\n",
        "SET nombre = 'vet'\n",
        "WHERE nombre LIKE \"%veterinario%\""
      ]
    },
    {
      "cell_type": "code",
      "execution_count": null,
      "metadata": {
        "colab": {
          "base_uri": "https://localhost:8080/",
          "height": 221
        },
        "id": "h8L-pTGFkQ-S",
        "outputId": "2f73c1f5-7fe2-4595-b540-f2de8b0a86aa"
      },
      "outputs": [
        {
          "name": "stdout",
          "output_type": "stream",
          "text": [
            " * sqlite:////content/drive/MyDrive/Telmo/love4pets.db\n",
            "Done.\n"
          ]
        },
        {
          "data": {
            "text/html": [
              "<table>\n",
              "    <thead>\n",
              "        <tr>\n",
              "            <th>departamento_id</th>\n",
              "            <th>nombre</th>\n",
              "        </tr>\n",
              "    </thead>\n",
              "    <tbody>\n",
              "        <tr>\n",
              "            <td>1</td>\n",
              "            <td>finanzas</td>\n",
              "        </tr>\n",
              "        <tr>\n",
              "            <td>2</td>\n",
              "            <td>ventas</td>\n",
              "        </tr>\n",
              "        <tr>\n",
              "            <td>3</td>\n",
              "            <td>recursos humanos</td>\n",
              "        </tr>\n",
              "        <tr>\n",
              "            <td>4</td>\n",
              "            <td>marketing</td>\n",
              "        </tr>\n",
              "        <tr>\n",
              "            <td>5</td>\n",
              "            <td>vet</td>\n",
              "        </tr>\n",
              "        <tr>\n",
              "            <td>6</td>\n",
              "            <td>informatica</td>\n",
              "        </tr>\n",
              "        <tr>\n",
              "            <td>7</td>\n",
              "            <td>investigacion</td>\n",
              "        </tr>\n",
              "    </tbody>\n",
              "</table>"
            ],
            "text/plain": [
              "[(1, 'finanzas'),\n",
              " (2, 'ventas'),\n",
              " (3, 'recursos humanos'),\n",
              " (4, 'marketing'),\n",
              " (5, 'vet'),\n",
              " (6, 'informatica'),\n",
              " (7, 'investigacion')]"
            ]
          },
          "execution_count": 109,
          "metadata": {},
          "output_type": "execute_result"
        }
      ],
      "source": [
        "%sql SELECT * from departamento"
      ]
    },
    {
      "cell_type": "code",
      "execution_count": null,
      "metadata": {
        "id": "meURTIO1kTP-"
      },
      "outputs": [],
      "source": []
    }
  ],
  "metadata": {
    "colab": {
      "collapsed_sections": [
        "pTF9yceFeqR0"
      ],
      "provenance": []
    },
    "kernelspec": {
      "display_name": "dbsql",
      "language": "python",
      "name": "python3"
    },
    "language_info": {
      "codemirror_mode": {
        "name": "ipython",
        "version": 3
      },
      "file_extension": ".py",
      "mimetype": "text/x-python",
      "name": "python",
      "nbconvert_exporter": "python",
      "pygments_lexer": "ipython3",
      "version": "3.9.0"
    }
  },
  "nbformat": 4,
  "nbformat_minor": 0
}
