{
  "cells": [
    {
      "cell_type": "markdown",
      "metadata": {
        "id": "-JCY6rkOeqRZ"
      },
      "source": [
        "# SQL review\n",
        "---------------------\n",
        "Custom database created with fictional or random data for a potential technology store based in Donostia/San Sebastián."
      ]
    },
    {
      "cell_type": "code",
      "execution_count": 4,
      "metadata": {},
      "outputs": [
        {
          "name": "stdout",
          "output_type": "stream",
          "text": [
            "The sql extension is already loaded. To reload it, use:\n",
            "  %reload_ext sql\n"
          ]
        }
      ],
      "source": [
        "import prettytable\n",
        "prettytable.DEFAULT = prettytable.TableStyle\n",
        "\n",
        "%load_ext sql\n",
        "%sql sqlite:///TechDonostia.db"
      ]
    },
    {
      "cell_type": "code",
      "execution_count": 5,
      "metadata": {
        "colab": {
          "base_uri": "https://localhost:8080/",
          "height": 194
        },
        "id": "DdUaoAb9eqRh",
        "outputId": "15cd9877-32f1-4dc9-bc10-d8abf0ec631d",
        "scrolled": true
      },
      "outputs": [
        {
          "name": "stdout",
          "output_type": "stream",
          "text": [
            " * sqlite:///TechDonostia.db\n",
            "Done.\n"
          ]
        },
        {
          "data": {
            "text/html": [
              "<table>\n",
              "    <thead>\n",
              "        <tr>\n",
              "            <th>email</th>\n",
              "        </tr>\n",
              "    </thead>\n",
              "    <tbody>\n",
              "        <tr>\n",
              "            <td>contacto@techdistribuidor.com</td>\n",
              "        </tr>\n",
              "        <tr>\n",
              "            <td>info@gadgetssa.com</td>\n",
              "        </tr>\n",
              "        <tr>\n",
              "            <td>ventas@electrohub.com</td>\n",
              "        </tr>\n",
              "        <tr>\n",
              "            <td>contacto@mundogadget.com</td>\n",
              "        </tr>\n",
              "    </tbody>\n",
              "</table>"
            ],
            "text/plain": [
              "[('contacto@techdistribuidor.com',),\n",
              " ('info@gadgetssa.com',),\n",
              " ('ventas@electrohub.com',),\n",
              " ('contacto@mundogadget.com',)]"
            ]
          },
          "execution_count": 5,
          "metadata": {},
          "output_type": "execute_result"
        }
      ],
      "source": [
        "%sql select email from proveedor;"
      ]
    },
    {
      "cell_type": "code",
      "execution_count": 5,
      "metadata": {
        "id": "xLrD6KXOp1Pi"
      },
      "outputs": [],
      "source": [
        "import pandas as pd\n",
        "import sqlite3\n",
        "\n",
        "db_path = '/content/drive/MyDrive/Telmo/love4pets.db'\n",
        "\n",
        "# Crea una conexión a la base de datos SQLite\n",
        "conn = sqlite3.connect(db_path)\n",
        "\n",
        "# Escribe una consulta SQL para seleccionar todo el contenido de la tabla que deseas cargar\n",
        "# Por ejemplo, si la tabla se llama 'pets'\n",
        "query = 'SELECT * FROM proveedor'\n",
        "\n",
        "# Usa pandas para cargar la consulta SQL directamente en un DataFrame\n",
        "df = pd.read_sql_query(query, conn)\n",
        "\n",
        "# Cierra la conexión a la base de datos\n",
        "conn.close()"
      ]
    },
    {
      "cell_type": "code",
      "execution_count": 4,
      "metadata": {
        "colab": {
          "base_uri": "https://localhost:8080/",
          "height": 175
        },
        "id": "zPlLVmLdqo0s",
        "outputId": "15f76bf0-520e-4351-df73-e9b698b3e520"
      },
      "outputs": [
        {
          "data": {
            "application/vnd.google.colaboratory.intrinsic+json": {
              "summary": "{\n  \"name\": \"df\",\n  \"rows\": 4,\n  \"fields\": [\n    {\n      \"column\": \"proveedor_id\",\n      \"properties\": {\n        \"dtype\": \"number\",\n        \"std\": 1,\n        \"min\": 1,\n        \"max\": 4,\n        \"num_unique_values\": 4,\n        \"samples\": [\n          2,\n          4,\n          1\n        ],\n        \"semantic_type\": \"\",\n        \"description\": \"\"\n      }\n    },\n    {\n      \"column\": \"nombre\",\n      \"properties\": {\n        \"dtype\": \"string\",\n        \"num_unique_values\": 4,\n        \"samples\": [\n          \"maxipet\",\n          \"huesitos\",\n          \"Pets prov\"\n        ],\n        \"semantic_type\": \"\",\n        \"description\": \"\"\n      }\n    },\n    {\n      \"column\": \"email\",\n      \"properties\": {\n        \"dtype\": \"string\",\n        \"num_unique_values\": 4,\n        \"samples\": [\n          \"maxipet@gmail.com\",\n          \"huesitos@gmail.com\",\n          \"petsprov@gmail.com\"\n        ],\n        \"semantic_type\": \"\",\n        \"description\": \"\"\n      }\n    },\n    {\n      \"column\": \"telefono\",\n      \"properties\": {\n        \"dtype\": \"string\",\n        \"num_unique_values\": 4,\n        \"samples\": [\n          \"8650001508\",\n          \"6640163977\",\n          \"818853151\"\n        ],\n        \"semantic_type\": \"\",\n        \"description\": \"\"\n      }\n    }\n  ]\n}",
              "type": "dataframe",
              "variable_name": "df"
            },
            "text/html": [
              "\n",
              "  <div id=\"df-33793d9f-5e45-4460-8028-20f916d6d02a\" class=\"colab-df-container\">\n",
              "    <div>\n",
              "<style scoped>\n",
              "    .dataframe tbody tr th:only-of-type {\n",
              "        vertical-align: middle;\n",
              "    }\n",
              "\n",
              "    .dataframe tbody tr th {\n",
              "        vertical-align: top;\n",
              "    }\n",
              "\n",
              "    .dataframe thead th {\n",
              "        text-align: right;\n",
              "    }\n",
              "</style>\n",
              "<table border=\"1\" class=\"dataframe\">\n",
              "  <thead>\n",
              "    <tr style=\"text-align: right;\">\n",
              "      <th></th>\n",
              "      <th>proveedor_id</th>\n",
              "      <th>nombre</th>\n",
              "      <th>email</th>\n",
              "      <th>telefono</th>\n",
              "    </tr>\n",
              "  </thead>\n",
              "  <tbody>\n",
              "    <tr>\n",
              "      <th>0</th>\n",
              "      <td>1</td>\n",
              "      <td>Pets prov</td>\n",
              "      <td>petsprov@gmail.com</td>\n",
              "      <td>818853151</td>\n",
              "    </tr>\n",
              "    <tr>\n",
              "      <th>1</th>\n",
              "      <td>2</td>\n",
              "      <td>maxipet</td>\n",
              "      <td>maxipet@gmail.com</td>\n",
              "      <td>8650001508</td>\n",
              "    </tr>\n",
              "    <tr>\n",
              "      <th>2</th>\n",
              "      <td>3</td>\n",
              "      <td>adorables mascotas</td>\n",
              "      <td>adorablesmascotas@gmail.com</td>\n",
              "      <td>7150383416</td>\n",
              "    </tr>\n",
              "    <tr>\n",
              "      <th>3</th>\n",
              "      <td>4</td>\n",
              "      <td>huesitos</td>\n",
              "      <td>huesitos@gmail.com</td>\n",
              "      <td>6640163977</td>\n",
              "    </tr>\n",
              "  </tbody>\n",
              "</table>\n",
              "</div>\n",
              "    <div class=\"colab-df-buttons\">\n",
              "\n",
              "  <div class=\"colab-df-container\">\n",
              "    <button class=\"colab-df-convert\" onclick=\"convertToInteractive('df-33793d9f-5e45-4460-8028-20f916d6d02a')\"\n",
              "            title=\"Convert this dataframe to an interactive table.\"\n",
              "            style=\"display:none;\">\n",
              "\n",
              "  <svg xmlns=\"http://www.w3.org/2000/svg\" height=\"24px\" viewBox=\"0 -960 960 960\">\n",
              "    <path d=\"M120-120v-720h720v720H120Zm60-500h600v-160H180v160Zm220 220h160v-160H400v160Zm0 220h160v-160H400v160ZM180-400h160v-160H180v160Zm440 0h160v-160H620v160ZM180-180h160v-160H180v160Zm440 0h160v-160H620v160Z\"/>\n",
              "  </svg>\n",
              "    </button>\n",
              "\n",
              "  <style>\n",
              "    .colab-df-container {\n",
              "      display:flex;\n",
              "      gap: 12px;\n",
              "    }\n",
              "\n",
              "    .colab-df-convert {\n",
              "      background-color: #E8F0FE;\n",
              "      border: none;\n",
              "      border-radius: 50%;\n",
              "      cursor: pointer;\n",
              "      display: none;\n",
              "      fill: #1967D2;\n",
              "      height: 32px;\n",
              "      padding: 0 0 0 0;\n",
              "      width: 32px;\n",
              "    }\n",
              "\n",
              "    .colab-df-convert:hover {\n",
              "      background-color: #E2EBFA;\n",
              "      box-shadow: 0px 1px 2px rgba(60, 64, 67, 0.3), 0px 1px 3px 1px rgba(60, 64, 67, 0.15);\n",
              "      fill: #174EA6;\n",
              "    }\n",
              "\n",
              "    .colab-df-buttons div {\n",
              "      margin-bottom: 4px;\n",
              "    }\n",
              "\n",
              "    [theme=dark] .colab-df-convert {\n",
              "      background-color: #3B4455;\n",
              "      fill: #D2E3FC;\n",
              "    }\n",
              "\n",
              "    [theme=dark] .colab-df-convert:hover {\n",
              "      background-color: #434B5C;\n",
              "      box-shadow: 0px 1px 3px 1px rgba(0, 0, 0, 0.15);\n",
              "      filter: drop-shadow(0px 1px 2px rgba(0, 0, 0, 0.3));\n",
              "      fill: #FFFFFF;\n",
              "    }\n",
              "  </style>\n",
              "\n",
              "    <script>\n",
              "      const buttonEl =\n",
              "        document.querySelector('#df-33793d9f-5e45-4460-8028-20f916d6d02a button.colab-df-convert');\n",
              "      buttonEl.style.display =\n",
              "        google.colab.kernel.accessAllowed ? 'block' : 'none';\n",
              "\n",
              "      async function convertToInteractive(key) {\n",
              "        const element = document.querySelector('#df-33793d9f-5e45-4460-8028-20f916d6d02a');\n",
              "        const dataTable =\n",
              "          await google.colab.kernel.invokeFunction('convertToInteractive',\n",
              "                                                    [key], {});\n",
              "        if (!dataTable) return;\n",
              "\n",
              "        const docLinkHtml = 'Like what you see? Visit the ' +\n",
              "          '<a target=\"_blank\" href=https://colab.research.google.com/notebooks/data_table.ipynb>data table notebook</a>'\n",
              "          + ' to learn more about interactive tables.';\n",
              "        element.innerHTML = '';\n",
              "        dataTable['output_type'] = 'display_data';\n",
              "        await google.colab.output.renderOutput(dataTable, element);\n",
              "        const docLink = document.createElement('div');\n",
              "        docLink.innerHTML = docLinkHtml;\n",
              "        element.appendChild(docLink);\n",
              "      }\n",
              "    </script>\n",
              "  </div>\n",
              "\n",
              "\n",
              "<div id=\"df-af209d21-9d47-47b1-b43c-0991b4a99c1e\">\n",
              "  <button class=\"colab-df-quickchart\" onclick=\"quickchart('df-af209d21-9d47-47b1-b43c-0991b4a99c1e')\"\n",
              "            title=\"Suggest charts\"\n",
              "            style=\"display:none;\">\n",
              "\n",
              "<svg xmlns=\"http://www.w3.org/2000/svg\" height=\"24px\"viewBox=\"0 0 24 24\"\n",
              "     width=\"24px\">\n",
              "    <g>\n",
              "        <path d=\"M19 3H5c-1.1 0-2 .9-2 2v14c0 1.1.9 2 2 2h14c1.1 0 2-.9 2-2V5c0-1.1-.9-2-2-2zM9 17H7v-7h2v7zm4 0h-2V7h2v10zm4 0h-2v-4h2v4z\"/>\n",
              "    </g>\n",
              "</svg>\n",
              "  </button>\n",
              "\n",
              "<style>\n",
              "  .colab-df-quickchart {\n",
              "      --bg-color: #E8F0FE;\n",
              "      --fill-color: #1967D2;\n",
              "      --hover-bg-color: #E2EBFA;\n",
              "      --hover-fill-color: #174EA6;\n",
              "      --disabled-fill-color: #AAA;\n",
              "      --disabled-bg-color: #DDD;\n",
              "  }\n",
              "\n",
              "  [theme=dark] .colab-df-quickchart {\n",
              "      --bg-color: #3B4455;\n",
              "      --fill-color: #D2E3FC;\n",
              "      --hover-bg-color: #434B5C;\n",
              "      --hover-fill-color: #FFFFFF;\n",
              "      --disabled-bg-color: #3B4455;\n",
              "      --disabled-fill-color: #666;\n",
              "  }\n",
              "\n",
              "  .colab-df-quickchart {\n",
              "    background-color: var(--bg-color);\n",
              "    border: none;\n",
              "    border-radius: 50%;\n",
              "    cursor: pointer;\n",
              "    display: none;\n",
              "    fill: var(--fill-color);\n",
              "    height: 32px;\n",
              "    padding: 0;\n",
              "    width: 32px;\n",
              "  }\n",
              "\n",
              "  .colab-df-quickchart:hover {\n",
              "    background-color: var(--hover-bg-color);\n",
              "    box-shadow: 0 1px 2px rgba(60, 64, 67, 0.3), 0 1px 3px 1px rgba(60, 64, 67, 0.15);\n",
              "    fill: var(--button-hover-fill-color);\n",
              "  }\n",
              "\n",
              "  .colab-df-quickchart-complete:disabled,\n",
              "  .colab-df-quickchart-complete:disabled:hover {\n",
              "    background-color: var(--disabled-bg-color);\n",
              "    fill: var(--disabled-fill-color);\n",
              "    box-shadow: none;\n",
              "  }\n",
              "\n",
              "  .colab-df-spinner {\n",
              "    border: 2px solid var(--fill-color);\n",
              "    border-color: transparent;\n",
              "    border-bottom-color: var(--fill-color);\n",
              "    animation:\n",
              "      spin 1s steps(1) infinite;\n",
              "  }\n",
              "\n",
              "  @keyframes spin {\n",
              "    0% {\n",
              "      border-color: transparent;\n",
              "      border-bottom-color: var(--fill-color);\n",
              "      border-left-color: var(--fill-color);\n",
              "    }\n",
              "    20% {\n",
              "      border-color: transparent;\n",
              "      border-left-color: var(--fill-color);\n",
              "      border-top-color: var(--fill-color);\n",
              "    }\n",
              "    30% {\n",
              "      border-color: transparent;\n",
              "      border-left-color: var(--fill-color);\n",
              "      border-top-color: var(--fill-color);\n",
              "      border-right-color: var(--fill-color);\n",
              "    }\n",
              "    40% {\n",
              "      border-color: transparent;\n",
              "      border-right-color: var(--fill-color);\n",
              "      border-top-color: var(--fill-color);\n",
              "    }\n",
              "    60% {\n",
              "      border-color: transparent;\n",
              "      border-right-color: var(--fill-color);\n",
              "    }\n",
              "    80% {\n",
              "      border-color: transparent;\n",
              "      border-right-color: var(--fill-color);\n",
              "      border-bottom-color: var(--fill-color);\n",
              "    }\n",
              "    90% {\n",
              "      border-color: transparent;\n",
              "      border-bottom-color: var(--fill-color);\n",
              "    }\n",
              "  }\n",
              "</style>\n",
              "\n",
              "  <script>\n",
              "    async function quickchart(key) {\n",
              "      const quickchartButtonEl =\n",
              "        document.querySelector('#' + key + ' button');\n",
              "      quickchartButtonEl.disabled = true;  // To prevent multiple clicks.\n",
              "      quickchartButtonEl.classList.add('colab-df-spinner');\n",
              "      try {\n",
              "        const charts = await google.colab.kernel.invokeFunction(\n",
              "            'suggestCharts', [key], {});\n",
              "      } catch (error) {\n",
              "        console.error('Error during call to suggestCharts:', error);\n",
              "      }\n",
              "      quickchartButtonEl.classList.remove('colab-df-spinner');\n",
              "      quickchartButtonEl.classList.add('colab-df-quickchart-complete');\n",
              "    }\n",
              "    (() => {\n",
              "      let quickchartButtonEl =\n",
              "        document.querySelector('#df-af209d21-9d47-47b1-b43c-0991b4a99c1e button');\n",
              "      quickchartButtonEl.style.display =\n",
              "        google.colab.kernel.accessAllowed ? 'block' : 'none';\n",
              "    })();\n",
              "  </script>\n",
              "</div>\n",
              "\n",
              "  <div id=\"id_28729892-1950-46db-a04d-8cb0a52aab89\">\n",
              "    <style>\n",
              "      .colab-df-generate {\n",
              "        background-color: #E8F0FE;\n",
              "        border: none;\n",
              "        border-radius: 50%;\n",
              "        cursor: pointer;\n",
              "        display: none;\n",
              "        fill: #1967D2;\n",
              "        height: 32px;\n",
              "        padding: 0 0 0 0;\n",
              "        width: 32px;\n",
              "      }\n",
              "\n",
              "      .colab-df-generate:hover {\n",
              "        background-color: #E2EBFA;\n",
              "        box-shadow: 0px 1px 2px rgba(60, 64, 67, 0.3), 0px 1px 3px 1px rgba(60, 64, 67, 0.15);\n",
              "        fill: #174EA6;\n",
              "      }\n",
              "\n",
              "      [theme=dark] .colab-df-generate {\n",
              "        background-color: #3B4455;\n",
              "        fill: #D2E3FC;\n",
              "      }\n",
              "\n",
              "      [theme=dark] .colab-df-generate:hover {\n",
              "        background-color: #434B5C;\n",
              "        box-shadow: 0px 1px 3px 1px rgba(0, 0, 0, 0.15);\n",
              "        filter: drop-shadow(0px 1px 2px rgba(0, 0, 0, 0.3));\n",
              "        fill: #FFFFFF;\n",
              "      }\n",
              "    </style>\n",
              "    <button class=\"colab-df-generate\" onclick=\"generateWithVariable('df')\"\n",
              "            title=\"Generate code using this dataframe.\"\n",
              "            style=\"display:none;\">\n",
              "\n",
              "  <svg xmlns=\"http://www.w3.org/2000/svg\" height=\"24px\"viewBox=\"0 0 24 24\"\n",
              "       width=\"24px\">\n",
              "    <path d=\"M7,19H8.4L18.45,9,17,7.55,7,17.6ZM5,21V16.75L18.45,3.32a2,2,0,0,1,2.83,0l1.4,1.43a1.91,1.91,0,0,1,.58,1.4,1.91,1.91,0,0,1-.58,1.4L9.25,21ZM18.45,9,17,7.55Zm-12,3A5.31,5.31,0,0,0,4.9,8.1,5.31,5.31,0,0,0,1,6.5,5.31,5.31,0,0,0,4.9,4.9,5.31,5.31,0,0,0,6.5,1,5.31,5.31,0,0,0,8.1,4.9,5.31,5.31,0,0,0,12,6.5,5.46,5.46,0,0,0,6.5,12Z\"/>\n",
              "  </svg>\n",
              "    </button>\n",
              "    <script>\n",
              "      (() => {\n",
              "      const buttonEl =\n",
              "        document.querySelector('#id_28729892-1950-46db-a04d-8cb0a52aab89 button.colab-df-generate');\n",
              "      buttonEl.style.display =\n",
              "        google.colab.kernel.accessAllowed ? 'block' : 'none';\n",
              "\n",
              "      buttonEl.onclick = () => {\n",
              "        google.colab.notebook.generateWithVariable('df');\n",
              "      }\n",
              "      })();\n",
              "    </script>\n",
              "  </div>\n",
              "\n",
              "    </div>\n",
              "  </div>\n"
            ],
            "text/plain": [
              "   proveedor_id              nombre                        email    telefono\n",
              "0             1           Pets prov           petsprov@gmail.com   818853151\n",
              "1             2             maxipet            maxipet@gmail.com  8650001508\n",
              "2             3  adorables mascotas  adorablesmascotas@gmail.com  7150383416\n",
              "3             4            huesitos           huesitos@gmail.com  6640163977"
            ]
          },
          "execution_count": 4,
          "metadata": {},
          "output_type": "execute_result"
        }
      ],
      "source": [
        "df"
      ]
    },
    {
      "cell_type": "code",
      "execution_count": null,
      "metadata": {
        "colab": {
          "base_uri": "https://localhost:8080/"
        },
        "id": "4iOl1nFcq4mj",
        "outputId": "efe10211-36e4-427c-c034-c005f5c263cd"
      },
      "outputs": [
        {
          "data": {
            "text/plain": [
              "3"
            ]
          },
          "execution_count": 12,
          "metadata": {},
          "output_type": "execute_result"
        }
      ],
      "source": [
        "data = {\n",
        "    'Column1': [1, 2, 3],\n",
        "    'Column2': ['A', 'B', 'C']\n",
        "}\n",
        "df = pd.DataFrame(data)\n",
        "\n",
        "# Ruta a la base de datos SQLite\n",
        "db_path = '/content/drive/MyDrive/Telmo/love4pets.db'\n",
        "\n",
        "# Crear una conexión a la base de datos SQLite\n",
        "conn = sqlite3.connect(db_path)\n",
        "\n",
        "# Escribir los datos del DataFrame a una nueva tabla en la base de datos\n",
        "# Si la tabla no existe, Pandas la creará automáticamente\n",
        "df.to_sql('pruebaBorrar', conn, if_exists='append', index=False)"
      ]
    },
    {
      "cell_type": "code",
      "execution_count": null,
      "metadata": {
        "colab": {
          "base_uri": "https://localhost:8080/",
          "height": 143
        },
        "id": "aWaIgx6Cq9dp",
        "outputId": "6982a4a4-1189-4a72-b718-89ff6910f321"
      },
      "outputs": [
        {
          "data": {
            "application/vnd.google.colaboratory.intrinsic+json": {
              "summary": "{\n  \"name\": \"df\",\n  \"rows\": 3,\n  \"fields\": [\n    {\n      \"column\": \"Column1\",\n      \"properties\": {\n        \"dtype\": \"number\",\n        \"std\": 1,\n        \"min\": 1,\n        \"max\": 3,\n        \"num_unique_values\": 3,\n        \"samples\": [\n          1,\n          2,\n          3\n        ],\n        \"semantic_type\": \"\",\n        \"description\": \"\"\n      }\n    },\n    {\n      \"column\": \"Column2\",\n      \"properties\": {\n        \"dtype\": \"string\",\n        \"num_unique_values\": 3,\n        \"samples\": [\n          \"A\",\n          \"B\",\n          \"C\"\n        ],\n        \"semantic_type\": \"\",\n        \"description\": \"\"\n      }\n    }\n  ]\n}",
              "type": "dataframe",
              "variable_name": "df"
            },
            "text/html": [
              "\n",
              "  <div id=\"df-ec5216a0-ebfa-4e0e-a84c-6536261e9862\" class=\"colab-df-container\">\n",
              "    <div>\n",
              "<style scoped>\n",
              "    .dataframe tbody tr th:only-of-type {\n",
              "        vertical-align: middle;\n",
              "    }\n",
              "\n",
              "    .dataframe tbody tr th {\n",
              "        vertical-align: top;\n",
              "    }\n",
              "\n",
              "    .dataframe thead th {\n",
              "        text-align: right;\n",
              "    }\n",
              "</style>\n",
              "<table border=\"1\" class=\"dataframe\">\n",
              "  <thead>\n",
              "    <tr style=\"text-align: right;\">\n",
              "      <th></th>\n",
              "      <th>Column1</th>\n",
              "      <th>Column2</th>\n",
              "    </tr>\n",
              "  </thead>\n",
              "  <tbody>\n",
              "    <tr>\n",
              "      <th>0</th>\n",
              "      <td>1</td>\n",
              "      <td>A</td>\n",
              "    </tr>\n",
              "    <tr>\n",
              "      <th>1</th>\n",
              "      <td>2</td>\n",
              "      <td>B</td>\n",
              "    </tr>\n",
              "    <tr>\n",
              "      <th>2</th>\n",
              "      <td>3</td>\n",
              "      <td>C</td>\n",
              "    </tr>\n",
              "  </tbody>\n",
              "</table>\n",
              "</div>\n",
              "    <div class=\"colab-df-buttons\">\n",
              "\n",
              "  <div class=\"colab-df-container\">\n",
              "    <button class=\"colab-df-convert\" onclick=\"convertToInteractive('df-ec5216a0-ebfa-4e0e-a84c-6536261e9862')\"\n",
              "            title=\"Convert this dataframe to an interactive table.\"\n",
              "            style=\"display:none;\">\n",
              "\n",
              "  <svg xmlns=\"http://www.w3.org/2000/svg\" height=\"24px\" viewBox=\"0 -960 960 960\">\n",
              "    <path d=\"M120-120v-720h720v720H120Zm60-500h600v-160H180v160Zm220 220h160v-160H400v160Zm0 220h160v-160H400v160ZM180-400h160v-160H180v160Zm440 0h160v-160H620v160ZM180-180h160v-160H180v160Zm440 0h160v-160H620v160Z\"/>\n",
              "  </svg>\n",
              "    </button>\n",
              "\n",
              "  <style>\n",
              "    .colab-df-container {\n",
              "      display:flex;\n",
              "      gap: 12px;\n",
              "    }\n",
              "\n",
              "    .colab-df-convert {\n",
              "      background-color: #E8F0FE;\n",
              "      border: none;\n",
              "      border-radius: 50%;\n",
              "      cursor: pointer;\n",
              "      display: none;\n",
              "      fill: #1967D2;\n",
              "      height: 32px;\n",
              "      padding: 0 0 0 0;\n",
              "      width: 32px;\n",
              "    }\n",
              "\n",
              "    .colab-df-convert:hover {\n",
              "      background-color: #E2EBFA;\n",
              "      box-shadow: 0px 1px 2px rgba(60, 64, 67, 0.3), 0px 1px 3px 1px rgba(60, 64, 67, 0.15);\n",
              "      fill: #174EA6;\n",
              "    }\n",
              "\n",
              "    .colab-df-buttons div {\n",
              "      margin-bottom: 4px;\n",
              "    }\n",
              "\n",
              "    [theme=dark] .colab-df-convert {\n",
              "      background-color: #3B4455;\n",
              "      fill: #D2E3FC;\n",
              "    }\n",
              "\n",
              "    [theme=dark] .colab-df-convert:hover {\n",
              "      background-color: #434B5C;\n",
              "      box-shadow: 0px 1px 3px 1px rgba(0, 0, 0, 0.15);\n",
              "      filter: drop-shadow(0px 1px 2px rgba(0, 0, 0, 0.3));\n",
              "      fill: #FFFFFF;\n",
              "    }\n",
              "  </style>\n",
              "\n",
              "    <script>\n",
              "      const buttonEl =\n",
              "        document.querySelector('#df-ec5216a0-ebfa-4e0e-a84c-6536261e9862 button.colab-df-convert');\n",
              "      buttonEl.style.display =\n",
              "        google.colab.kernel.accessAllowed ? 'block' : 'none';\n",
              "\n",
              "      async function convertToInteractive(key) {\n",
              "        const element = document.querySelector('#df-ec5216a0-ebfa-4e0e-a84c-6536261e9862');\n",
              "        const dataTable =\n",
              "          await google.colab.kernel.invokeFunction('convertToInteractive',\n",
              "                                                    [key], {});\n",
              "        if (!dataTable) return;\n",
              "\n",
              "        const docLinkHtml = 'Like what you see? Visit the ' +\n",
              "          '<a target=\"_blank\" href=https://colab.research.google.com/notebooks/data_table.ipynb>data table notebook</a>'\n",
              "          + ' to learn more about interactive tables.';\n",
              "        element.innerHTML = '';\n",
              "        dataTable['output_type'] = 'display_data';\n",
              "        await google.colab.output.renderOutput(dataTable, element);\n",
              "        const docLink = document.createElement('div');\n",
              "        docLink.innerHTML = docLinkHtml;\n",
              "        element.appendChild(docLink);\n",
              "      }\n",
              "    </script>\n",
              "  </div>\n",
              "\n",
              "\n",
              "<div id=\"df-dbedca0e-b395-4a88-970c-022fa3ce3274\">\n",
              "  <button class=\"colab-df-quickchart\" onclick=\"quickchart('df-dbedca0e-b395-4a88-970c-022fa3ce3274')\"\n",
              "            title=\"Suggest charts\"\n",
              "            style=\"display:none;\">\n",
              "\n",
              "<svg xmlns=\"http://www.w3.org/2000/svg\" height=\"24px\"viewBox=\"0 0 24 24\"\n",
              "     width=\"24px\">\n",
              "    <g>\n",
              "        <path d=\"M19 3H5c-1.1 0-2 .9-2 2v14c0 1.1.9 2 2 2h14c1.1 0 2-.9 2-2V5c0-1.1-.9-2-2-2zM9 17H7v-7h2v7zm4 0h-2V7h2v10zm4 0h-2v-4h2v4z\"/>\n",
              "    </g>\n",
              "</svg>\n",
              "  </button>\n",
              "\n",
              "<style>\n",
              "  .colab-df-quickchart {\n",
              "      --bg-color: #E8F0FE;\n",
              "      --fill-color: #1967D2;\n",
              "      --hover-bg-color: #E2EBFA;\n",
              "      --hover-fill-color: #174EA6;\n",
              "      --disabled-fill-color: #AAA;\n",
              "      --disabled-bg-color: #DDD;\n",
              "  }\n",
              "\n",
              "  [theme=dark] .colab-df-quickchart {\n",
              "      --bg-color: #3B4455;\n",
              "      --fill-color: #D2E3FC;\n",
              "      --hover-bg-color: #434B5C;\n",
              "      --hover-fill-color: #FFFFFF;\n",
              "      --disabled-bg-color: #3B4455;\n",
              "      --disabled-fill-color: #666;\n",
              "  }\n",
              "\n",
              "  .colab-df-quickchart {\n",
              "    background-color: var(--bg-color);\n",
              "    border: none;\n",
              "    border-radius: 50%;\n",
              "    cursor: pointer;\n",
              "    display: none;\n",
              "    fill: var(--fill-color);\n",
              "    height: 32px;\n",
              "    padding: 0;\n",
              "    width: 32px;\n",
              "  }\n",
              "\n",
              "  .colab-df-quickchart:hover {\n",
              "    background-color: var(--hover-bg-color);\n",
              "    box-shadow: 0 1px 2px rgba(60, 64, 67, 0.3), 0 1px 3px 1px rgba(60, 64, 67, 0.15);\n",
              "    fill: var(--button-hover-fill-color);\n",
              "  }\n",
              "\n",
              "  .colab-df-quickchart-complete:disabled,\n",
              "  .colab-df-quickchart-complete:disabled:hover {\n",
              "    background-color: var(--disabled-bg-color);\n",
              "    fill: var(--disabled-fill-color);\n",
              "    box-shadow: none;\n",
              "  }\n",
              "\n",
              "  .colab-df-spinner {\n",
              "    border: 2px solid var(--fill-color);\n",
              "    border-color: transparent;\n",
              "    border-bottom-color: var(--fill-color);\n",
              "    animation:\n",
              "      spin 1s steps(1) infinite;\n",
              "  }\n",
              "\n",
              "  @keyframes spin {\n",
              "    0% {\n",
              "      border-color: transparent;\n",
              "      border-bottom-color: var(--fill-color);\n",
              "      border-left-color: var(--fill-color);\n",
              "    }\n",
              "    20% {\n",
              "      border-color: transparent;\n",
              "      border-left-color: var(--fill-color);\n",
              "      border-top-color: var(--fill-color);\n",
              "    }\n",
              "    30% {\n",
              "      border-color: transparent;\n",
              "      border-left-color: var(--fill-color);\n",
              "      border-top-color: var(--fill-color);\n",
              "      border-right-color: var(--fill-color);\n",
              "    }\n",
              "    40% {\n",
              "      border-color: transparent;\n",
              "      border-right-color: var(--fill-color);\n",
              "      border-top-color: var(--fill-color);\n",
              "    }\n",
              "    60% {\n",
              "      border-color: transparent;\n",
              "      border-right-color: var(--fill-color);\n",
              "    }\n",
              "    80% {\n",
              "      border-color: transparent;\n",
              "      border-right-color: var(--fill-color);\n",
              "      border-bottom-color: var(--fill-color);\n",
              "    }\n",
              "    90% {\n",
              "      border-color: transparent;\n",
              "      border-bottom-color: var(--fill-color);\n",
              "    }\n",
              "  }\n",
              "</style>\n",
              "\n",
              "  <script>\n",
              "    async function quickchart(key) {\n",
              "      const quickchartButtonEl =\n",
              "        document.querySelector('#' + key + ' button');\n",
              "      quickchartButtonEl.disabled = true;  // To prevent multiple clicks.\n",
              "      quickchartButtonEl.classList.add('colab-df-spinner');\n",
              "      try {\n",
              "        const charts = await google.colab.kernel.invokeFunction(\n",
              "            'suggestCharts', [key], {});\n",
              "      } catch (error) {\n",
              "        console.error('Error during call to suggestCharts:', error);\n",
              "      }\n",
              "      quickchartButtonEl.classList.remove('colab-df-spinner');\n",
              "      quickchartButtonEl.classList.add('colab-df-quickchart-complete');\n",
              "    }\n",
              "    (() => {\n",
              "      let quickchartButtonEl =\n",
              "        document.querySelector('#df-dbedca0e-b395-4a88-970c-022fa3ce3274 button');\n",
              "      quickchartButtonEl.style.display =\n",
              "        google.colab.kernel.accessAllowed ? 'block' : 'none';\n",
              "    })();\n",
              "  </script>\n",
              "</div>\n",
              "    </div>\n",
              "  </div>\n"
            ],
            "text/plain": [
              "   Column1 Column2\n",
              "0        1       A\n",
              "1        2       B\n",
              "2        3       C"
            ]
          },
          "execution_count": 14,
          "metadata": {},
          "output_type": "execute_result"
        }
      ],
      "source": [
        "db_path = '/content/drive/MyDrive/Telmo/love4pets.db'\n",
        "\n",
        "# Crea una conexión a la base de datos SQLite\n",
        "conn = sqlite3.connect(db_path)\n",
        "\n",
        "# Escribe una consulta SQL para seleccionar todo el contenido de la tabla que deseas cargar\n",
        "# Por ejemplo, si la tabla se llama 'pets'\n",
        "query = 'SELECT * FROM pruebaBorrar'\n",
        "\n",
        "# Usa pandas para cargar la consulta SQL directamente en un DataFrame\n",
        "df = pd.read_sql_query(query, conn)\n",
        "\n",
        "# Cierra la conexión a la base de datos\n",
        "conn.close()\n",
        "df"
      ]
    },
    {
      "cell_type": "markdown",
      "metadata": {
        "id": "8o3L8O53eqRi"
      },
      "source": [
        "Otras tablas existentes en **love4pets.db** son:  \n",
        "* Empleado\n",
        "* Cliente\n",
        "* Mascota\n",
        "* Producto\n",
        "* Orden o Factura\n",
        "* Detalle_orden\n",
        "* Proveedor\n",
        "* Suministro"
      ]
    },
    {
      "cell_type": "code",
      "execution_count": 27,
      "metadata": {
        "colab": {
          "base_uri": "https://localhost:8080/"
        },
        "id": "MH3G7FZ08tFu",
        "outputId": "2a6728c6-3230-43be-9032-096e4ef8421a"
      },
      "outputs": [
        {
          "name": "stdout",
          "output_type": "stream",
          "text": [
            "Tablas en la base de datos:\n",
            "cliente\n",
            "departamento\n",
            "detalle_orden\n",
            "empleado\n",
            "equipo\n",
            "orden\n",
            "producto\n",
            "proveedor\n",
            "suministro\n"
          ]
        }
      ],
      "source": [
        "from sqlalchemy import create_engine, inspect\n",
        "\n",
        "# Crear una conexión a la base de datos\n",
        "engine = create_engine('sqlite:///TechDonostia.db')\n",
        "\n",
        "# Crear un inspector para examinar las tablas\n",
        "inspector = inspect(engine)\n",
        "\n",
        "# Obtener la lista de tablas\n",
        "tables = inspector.get_table_names()\n",
        "\n",
        "print(\"Tablas en la base de datos:\")\n",
        "for table in tables:\n",
        "    print(table)"
      ]
    },
    {
      "cell_type": "code",
      "execution_count": 23,
      "metadata": {
        "colab": {
          "base_uri": "https://localhost:8080/"
        },
        "id": "DZ0rxWGxBZHq",
        "outputId": "75a3c5b1-2d4b-45e6-c385-0b270716921a"
      },
      "outputs": [
        {
          "name": "stdout",
          "output_type": "stream",
          "text": [
            "Cliente ID: 1, Nombre: Ana Pérez, Email: ana.perez@example.com\n",
            "Cliente ID: 2, Nombre: Carlos García, Email: carlos.garcia@example.com\n",
            "Cliente ID: 3, Nombre: Laura Fernández, Email: laura.fernandez@example.com\n",
            "Cliente ID: 4, Nombre: Manuel López, Email: manuel.lopez@example.com\n",
            "Cliente ID: 5, Nombre: Isabel Romero, Email: isabel.romero@example.com\n",
            "Cliente ID: 6, Nombre: Fernando Castro, Email: fernando.castro@example.com\n",
            "Cliente ID: 7, Nombre: Sonia Ruiz, Email: sonia.ruiz@example.com\n",
            "Cliente ID: 8, Nombre: Daniel Gómez, Email: daniel.gomez@example.com\n",
            "Cliente ID: 9, Nombre: Cristina Hernández, Email: cristina.hernandez@example.com\n",
            "Cliente ID: 10, Nombre: Roberto Martínez, Email: roberto.martinez@example.com\n",
            "Cliente ID: 11, Nombre: Patricia Jiménez, Email: patricia.jimenez@example.com\n",
            "Cliente ID: 12, Nombre: Miguel Ángel López, Email: miguel.angel.lopez@example.com\n",
            "Cliente ID: 13, Nombre: Beatriz Pérez, Email: beatriz.perez@example.com\n",
            "Cliente ID: 14, Nombre: Jorge Torres, Email: jorge.torres@example.com\n",
            "Cliente ID: 15, Nombre: Victor Ramos, Email: victor.ramos@example.com\n",
            "Cliente ID: 16, Nombre: Ana Belén Ruiz, Email: ana.belen.ruiz@example.com\n",
            "Cliente ID: 17, Nombre: Raquel Moreno, Email: raquel.moreno@example.com\n",
            "Cliente ID: 18, Nombre: David Márquez, Email: david.marquez@example.com\n",
            "Cliente ID: 19, Nombre: Elena Gil, Email: elena.gil@example.com\n",
            "Cliente ID: 20, Nombre: Carlos Medina, Email: carlos.medina@example.com\n",
            "Cliente ID: 21, Nombre: Silvia Navarro, Email: silvia.navarro@example.com\n",
            "Cliente ID: 22, Nombre: Andrés Ortega, Email: andres.ortega@example.com\n",
            "Cliente ID: 23, Nombre: Laura Fernández, Email: laura.fernandez@example.com\n",
            "Cliente ID: 24, Nombre: Manuel López, Email: manuel.lopez@example.com\n",
            "Cliente ID: 25, Nombre: Isabel Romero, Email: isabel.romero@example.com\n",
            "Equipo ID: 1, Nombre: Laptop HP Spectre, Tipo: Portátil, Marca: HP\n",
            "Equipo ID: 2, Nombre: Samsung Galaxy Tab, Tipo: Tablet, Marca: Samsung\n",
            "Equipo ID: 3, Nombre: MacBook Air, Tipo: Portátil, Marca: Apple\n",
            "Equipo ID: 4, Nombre: Huawei MatePad, Tipo: Tablet, Marca: Huawei\n",
            "Equipo ID: 5, Nombre: HP Envy, Tipo: Portátil, Marca: HP\n",
            "Equipo ID: 6, Nombre: Dell Inspiron, Tipo: Portátil, Marca: Dell\n",
            "Equipo ID: 7, Nombre: Asus ZenBook, Tipo: Portátil, Marca: Asus\n",
            "Equipo ID: 8, Nombre: iPad Mini, Tipo: Tablet, Marca: Apple\n",
            "Equipo ID: 9, Nombre: Samsung Galaxy Book, Tipo: Portátil, Marca: Samsung\n",
            "Equipo ID: 10, Nombre: Lenovo Yoga, Tipo: Portátil, Marca: Lenovo\n",
            "Equipo ID: 11, Nombre: Microsoft Surface Laptop, Tipo: Portátil, Marca: Microsoft\n",
            "Equipo ID: 12, Nombre: Acer Swift, Tipo: Portátil, Marca: Acer\n",
            "Equipo ID: 13, Nombre: Google Pixel Slate, Tipo: Tablet, Marca: Google\n",
            "Equipo ID: 14, Nombre: Razer Blade Stealth, Tipo: Portátil, Marca: Razer\n",
            "Equipo ID: 15, Nombre: Huawei P30 Pro, Tipo: Teléfono, Marca: Huawei\n",
            "Equipo ID: 16, Nombre: Xiaomi Mi Pad 4, Tipo: Tablet, Marca: Xiaomi\n",
            "Equipo ID: 17, Nombre: LG Gram, Tipo: Portátil, Marca: LG\n",
            "Equipo ID: 18, Nombre: MacBook Air, Tipo: Portátil, Marca: Apple\n",
            "Equipo ID: 19, Nombre: Huawei MatePad, Tipo: Tablet, Marca: Huawei\n",
            "Equipo ID: 20, Nombre: HP Envy, Tipo: Portátil, Marca: HP\n"
          ]
        }
      ],
      "source": [
        "for cliente in session.query(Cliente).all():\n",
        "    print(f'Cliente ID: {cliente.cliente_id}, Nombre: {cliente.nombre}, Email: {cliente.email}')\n",
        "\n",
        "# Verificar contenido de la tabla Equipo\n",
        "for equipo in session.query(Equipo).all():\n",
        "    print(f'Equipo ID: {equipo.equipo_id}, Nombre: {equipo.nombre}, Tipo: {equipo.tipo}, Marca: {equipo.marca}')"
      ]
    },
    {
      "cell_type": "code",
      "execution_count": 15,
      "metadata": {
        "colab": {
          "base_uri": "https://localhost:8080/",
          "height": 217
        },
        "id": "bGkhz8tD9jil",
        "outputId": "3138396c-ca23-4aad-edd4-5e5d6df407cf"
      },
      "outputs": [
        {
          "name": "stdout",
          "output_type": "stream",
          "text": [
            "select * FROM suministro\n",
            " * sqlite:////content/drive/MyDrive/Telmo/love4pets.db\n",
            "Done.\n"
          ]
        },
        {
          "data": {
            "text/html": [
              "<table>\n",
              "    <tr>\n",
              "        <th>proveedor_id</th>\n",
              "        <th>producto_id</th>\n",
              "        <th>cantidad</th>\n",
              "        <th>fecha</th>\n",
              "    </tr>\n",
              "    <tr>\n",
              "        <td>3</td>\n",
              "        <td>1</td>\n",
              "        <td>30</td>\n",
              "        <td>2015-01-01 00:00:000</td>\n",
              "    </tr>\n",
              "    <tr>\n",
              "        <td>3</td>\n",
              "        <td>2</td>\n",
              "        <td>10</td>\n",
              "        <td>2015-01-01 00:00:000</td>\n",
              "    </tr>\n",
              "    <tr>\n",
              "        <td>2</td>\n",
              "        <td>3</td>\n",
              "        <td>5</td>\n",
              "        <td>2015-01-01 00:00:000</td>\n",
              "    </tr>\n",
              "    <tr>\n",
              "        <td>2</td>\n",
              "        <td>4</td>\n",
              "        <td>5</td>\n",
              "        <td>2015-01-01 00:00:000</td>\n",
              "    </tr>\n",
              "    <tr>\n",
              "        <td>1</td>\n",
              "        <td>5</td>\n",
              "        <td>5</td>\n",
              "        <td>2015-01-01 00:00:000</td>\n",
              "    </tr>\n",
              "    <tr>\n",
              "        <td>4</td>\n",
              "        <td>6</td>\n",
              "        <td>5</td>\n",
              "        <td>2015-01-01 00:00:000</td>\n",
              "    </tr>\n",
              "</table>"
            ],
            "text/plain": [
              "[(3, 1, 30, '2015-01-01 00:00:000'),\n",
              " (3, 2, 10, '2015-01-01 00:00:000'),\n",
              " (2, 3, 5, '2015-01-01 00:00:000'),\n",
              " (2, 4, 5, '2015-01-01 00:00:000'),\n",
              " (1, 5, 5, '2015-01-01 00:00:000'),\n",
              " (4, 6, 5, '2015-01-01 00:00:000')]"
            ]
          },
          "execution_count": 15,
          "metadata": {},
          "output_type": "execute_result"
        }
      ],
      "source": [
        "print('select * FROM suministro')\n",
        "%sql select * FROM suministro"
      ]
    },
    {
      "cell_type": "code",
      "execution_count": 16,
      "metadata": {
        "id": "lA3iqG8v_ZYM"
      },
      "outputs": [],
      "source": [
        "from sqlalchemy import create_engine, Column, Integer, String, Float, ForeignKey, DateTime\n",
        "from sqlalchemy.ext.declarative import declarative_base\n",
        "from sqlalchemy.orm import relationship, sessionmaker\n",
        "from datetime import datetime\n",
        "\n",
        "Base = declarative_base()\n",
        "\n",
        "class Cliente(Base):\n",
        "    __tablename__ = 'cliente'\n",
        "    cliente_id = Column(Integer, primary_key=True)\n",
        "    nombre = Column(String)\n",
        "    email = Column(String)\n",
        "    telefono = Column(String)\n",
        "    contacto = Column(String)\n",
        "    telefono_contacto = Column(String)\n",
        "    ciudad = Column(String)\n",
        "\n",
        "class Departamento(Base):\n",
        "    __tablename__ = 'departamento'\n",
        "    departamento_id = Column(Integer, primary_key=True)\n",
        "    nombre = Column(String)\n",
        "\n",
        "class Empleado(Base):\n",
        "    __tablename__ = 'empleado'\n",
        "    empleado_id = Column(Integer, primary_key=True)\n",
        "    nombre = Column(String)\n",
        "    email = Column(String)\n",
        "    telefono = Column(String)\n",
        "    salario = Column(Float)\n",
        "    fecha_ingreso = Column(DateTime)\n",
        "    departamento_id = Column(Integer, ForeignKey('departamento.departamento_id'))\n",
        "    departamento = relationship(\"Departamento\")\n",
        "\n",
        "class Equipo(Base):\n",
        "    __tablename__ = 'equipo'\n",
        "    equipo_id = Column(Integer, primary_key=True)\n",
        "    nombre = Column(String)\n",
        "    cliente_id = Column(Integer, ForeignKey('cliente.cliente_id'))\n",
        "    tipo = Column(String)\n",
        "    marca = Column(String)\n",
        "    fecha_adquisicion = Column(DateTime)\n",
        "    cliente = relationship(\"Cliente\")\n",
        "\n",
        "class Orden(Base):\n",
        "    __tablename__ = 'orden'\n",
        "    orden_id = Column(Integer, primary_key=True)\n",
        "    cliente_id = Column(Integer, ForeignKey('cliente.cliente_id'))\n",
        "    fecha = Column(DateTime)\n",
        "    cliente = relationship(\"Cliente\")\n",
        "\n",
        "class DetalleOrden(Base):\n",
        "    __tablename__ = 'detalle_orden'\n",
        "    detalle_id = Column(Integer, primary_key=True)\n",
        "    orden_id = Column(Integer, ForeignKey('orden.orden_id'))\n",
        "    producto_id = Column(Integer, ForeignKey('producto.producto_id'))\n",
        "    cantidad = Column(Integer)\n",
        "    precio = Column(Float)\n",
        "    orden = relationship(\"Orden\")\n",
        "    producto = relationship(\"Producto\")\n",
        "\n",
        "class Producto(Base):\n",
        "    __tablename__ = 'producto'\n",
        "    producto_id = Column(Integer, primary_key=True)\n",
        "    nombre = Column(String)\n",
        "    descripcion = Column(String)\n",
        "    precio = Column(Float)\n",
        "\n",
        "class Proveedor(Base):\n",
        "    __tablename__ = 'proveedor'\n",
        "    proveedor_id = Column(Integer, primary_key=True)\n",
        "    nombre = Column(String)\n",
        "    email = Column(String)\n",
        "    telefono = Column(String)\n",
        "\n",
        "class Suministro(Base):\n",
        "    __tablename__ = 'suministro'\n",
        "    proveedor_id = Column(Integer, ForeignKey('proveedor.proveedor_id'), primary_key=True)\n",
        "    producto_id = Column(Integer, ForeignKey('producto.producto_id'), primary_key=True)\n",
        "    cantidad = Column(Integer)\n",
        "    fecha = Column(DateTime)\n",
        "    proveedor = relationship(\"Proveedor\")\n",
        "    producto = relationship(\"Producto\")"
      ]
    },
    {
      "cell_type": "code",
      "execution_count": 17,
      "metadata": {
        "id": "dVEVqtBQ_bE7"
      },
      "outputs": [],
      "source": [
        "engine = create_engine('sqlite:///TechDonostia.db')\n",
        "\n",
        "# Crear todas las tablas en la base de datos\n",
        "Base.metadata.create_all(engine)\n",
        "\n",
        "# Crear una sesión\n",
        "Session = sessionmaker(bind=engine)\n",
        "session = Session()"
      ]
    },
    {
      "cell_type": "code",
      "execution_count": 18,
      "metadata": {
        "id": "EvZ-oge2A7cS"
      },
      "outputs": [],
      "source": [
        "# Insertar datos en la tabla Departamento\n",
        "departamentos = [\n",
        "    Departamento(nombre='Ventas'),\n",
        "    Departamento(nombre='Soporte Técnico'),\n",
        "    Departamento(nombre='Recursos Humanos'),\n",
        "    Departamento(nombre='Desarrollo'),\n",
        "    Departamento(nombre='Logística'),\n",
        "    Departamento(nombre='Finanzas')\n",
        "]\n",
        "session.add_all(departamentos)\n",
        "session.commit()\n",
        "\n",
        "# Insertar datos en la tabla Cliente\n",
        "clientes = [\n",
        "    Cliente(nombre='Ana Pérez', email='ana.perez@example.com', telefono='123-456-789', contacto='Juan López', telefono_contacto='987-654-321', ciudad='Madrid'),\n",
        "    Cliente(nombre='Carlos García', email='carlos.garcia@example.com', telefono='234-567-890', contacto='Marta Ruiz', telefono_contacto='876-543-210', ciudad='Barcelona')\n",
        "    # Agrega más clientes si lo deseas\n",
        "]\n",
        "session.add_all(clientes)\n",
        "session.commit()\n",
        "\n",
        "# Insertar datos en la tabla Empleado\n",
        "empleados = [\n",
        "    Empleado(nombre='Luis Martínez', email='luis.martinez@example.com', telefono='345-678-901', salario=2000, fecha_ingreso=datetime(2019, 5, 17), departamento_id=1),\n",
        "    Empleado(nombre='María Sánchez', email='maria.sanchez@example.com', telefono='456-789-012', salario=2200, fecha_ingreso=datetime(2020, 6, 1), departamento_id=2)\n",
        "    # Agrega más empleados si lo deseas\n",
        "]\n",
        "session.add_all(empleados)\n",
        "session.commit()\n",
        "\n",
        "# Insertar datos en la tabla Producto\n",
        "productos = [\n",
        "    Producto(nombre='Portátil Dell XPS 13', descripcion='Portátil ultradelgado con pantalla de 13 pulgadas', precio=1200),\n",
        "    Producto(nombre='iPhone 13', descripcion='Teléfono inteligente de última generación', precio=999),\n",
        "    Producto(nombre='iPad Pro', descripcion='Tablet con pantalla de 12.9 pulgadas', precio=1100)\n",
        "    # Agrega más productos si lo deseas\n",
        "]\n",
        "session.add_all(productos)\n",
        "session.commit()\n",
        "\n",
        "# Insertar datos en la tabla Orden\n",
        "ordenes = [\n",
        "    Orden(cliente_id=1, fecha=datetime(2022, 1, 15)),\n",
        "    Orden(cliente_id=2, fecha=datetime(2022, 2, 20))\n",
        "    # Agrega más órdenes si lo deseas\n",
        "]\n",
        "session.add_all(ordenes)\n",
        "session.commit()\n",
        "\n",
        "# Insertar datos en la tabla DetalleOrden\n",
        "detalle_ordenes = [\n",
        "    DetalleOrden(orden_id=1, producto_id=1, cantidad=1, precio=1200),\n",
        "    DetalleOrden(orden_id=1, producto_id=2, cantidad=1, precio=999),\n",
        "    DetalleOrden(orden_id=2, producto_id=3, cantidad=2, precio=1100)\n",
        "    # Agrega más detalles de órdenes si lo deseas\n",
        "]\n",
        "session.add_all(detalle_ordenes)\n",
        "session.commit()\n",
        "\n",
        "# Insertar datos en la tabla Proveedor\n",
        "proveedores = [\n",
        "    Proveedor(nombre='TechDistribuidor', email='contacto@techdistribuidor.com', telefono='567-890-123'),\n",
        "    Proveedor(nombre='Gadgets S.A.', email='info@gadgetssa.com', telefono='678-901-234')\n",
        "    # Agrega más proveedores si lo deseas\n",
        "]\n",
        "session.add_all(proveedores)\n",
        "session.commit()\n",
        "\n",
        "# Insertar datos en la tabla Suministro\n",
        "suministros = [\n",
        "    Suministro(proveedor_id=1, producto_id=1, cantidad=50, fecha=datetime(2024, 1, 1)),\n",
        "    Suministro(proveedor_id=2, producto_id=2, cantidad=30, fecha=datetime(2024, 1, 1))\n",
        "    # Agrega más suministros si lo deseas\n",
        "]\n",
        "session.add_all(suministros)\n",
        "session.commit()\n",
        "\n",
        "# Insertar datos en la tabla Equipo (análogo a 'mascota')\n",
        "equipos = [\n",
        "    Equipo(nombre='Laptop HP Spectre', cliente_id=1, tipo='Portátil', marca='HP', fecha_adquisicion=datetime(2022, 5, 10)),\n",
        "    Equipo(nombre='Samsung Galaxy Tab', cliente_id=2, tipo='Tablet', marca='Samsung', fecha_adquisicion=datetime(2021, 7, 23))\n",
        "    # Agrega más equipos si lo deseas\n",
        "]\n",
        "session.add_all(equipos)\n",
        "session.commit()"
      ]
    },
    {
      "cell_type": "code",
      "execution_count": 19,
      "metadata": {
        "id": "HicMXbkvA0kj"
      },
      "outputs": [],
      "source": [
        "# Insertar más datos en la tabla Cliente\n",
        "clientes.extend([\n",
        "    Cliente(nombre='Laura Fernández', email='laura.fernandez@example.com', telefono='456-123-789', contacto='Pedro Gómez', telefono_contacto='654-321-987', ciudad='Valencia'),\n",
        "    Cliente(nombre='Manuel López', email='manuel.lopez@example.com', telefono='789-456-123', contacto='Sofía Torres', telefono_contacto='321-654-987', ciudad='Sevilla'),\n",
        "    Cliente(nombre='Isabel Romero', email='isabel.romero@example.com', telefono='321-654-987', contacto='Miguel Ángel', telefono_contacto='123-987-654', ciudad='Bilbao'),\n",
        "    Cliente(nombre='Fernando Castro', email='fernando.castro@example.com', telefono='234-567-890', contacto='Laura Pérez', telefono_contacto='876-543-210', ciudad='Málaga'),\n",
        "    Cliente(nombre='Sonia Ruiz', email='sonia.ruiz@example.com', telefono='345-678-901', contacto='Ana López', telefono_contacto='987-654-321', ciudad='Zaragoza'),\n",
        "    Cliente(nombre='Daniel Gómez', email='daniel.gomez@example.com', telefono='456-789-012', contacto='Carlos Sánchez', telefono_contacto='678-901-234', ciudad='Murcia'),\n",
        "    Cliente(nombre='Cristina Hernández', email='cristina.hernandez@example.com', telefono='567-890-123', contacto='Marcos Rodríguez', telefono_contacto='789-012-345', ciudad='Granada'),\n",
        "    Cliente(nombre='Roberto Martínez', email='roberto.martinez@example.com', telefono='678-901-234', contacto='Elena García', telefono_contacto='890-123-456', ciudad='Alicante'),\n",
        "    Cliente(nombre='Patricia Jiménez', email='patricia.jimenez@example.com', telefono='789-012-345', contacto='Sergio Fernández', telefono_contacto='901-234-567', ciudad='Valladolid'),\n",
        "    Cliente(nombre='Miguel Ángel López', email='miguel.angel.lopez@example.com', telefono='890-123-456', contacto='Laura Sánchez', telefono_contacto='012-345-678', ciudad='Vigo'),\n",
        "    Cliente(nombre='Beatriz Pérez', email='beatriz.perez@example.com', telefono='901-234-567', contacto='Luis García', telefono_contacto='123-456-789', ciudad='Santander'),\n",
        "    Cliente(nombre='Jorge Torres', email='jorge.torres@example.com', telefono='012-345-678', contacto='Pablo Martín', telefono_contacto='234-567-890', ciudad='Cádiz'),\n",
        "    Cliente(nombre='Victor Ramos', email='victor.ramos@example.com', telefono='123-456-789', contacto='Lucía Gómez', telefono_contacto='345-678-901', ciudad='San Sebastián'),\n",
        "    Cliente(nombre='Ana Belén Ruiz', email='ana.belen.ruiz@example.com', telefono='234-567-890', contacto='David Jiménez', telefono_contacto='456-789-012', ciudad='Pamplona'),\n",
        "    Cliente(nombre='Raquel Moreno', email='raquel.moreno@example.com', telefono='345-678-901', contacto='María Fernández', telefono_contacto='567-890-123', ciudad='Badajoz'),\n",
        "    Cliente(nombre='David Márquez', email='david.marquez@example.com', telefono='456-789-012', contacto='Marta López', telefono_contacto='678-901-234', ciudad='León'),\n",
        "    Cliente(nombre='Elena Gil', email='elena.gil@example.com', telefono='567-890-123', contacto='Javier Hernández', telefono_contacto='789-012-345', ciudad='Logroño'),\n",
        "    Cliente(nombre='Carlos Medina', email='carlos.medina@example.com', telefono='678-901-234', contacto='Andrea Morales', telefono_contacto='890-123-456', ciudad='Burgos'),\n",
        "    Cliente(nombre='Silvia Navarro', email='silvia.navarro@example.com', telefono='789-012-345', contacto='Antonio Torres', telefono_contacto='901-234-567', ciudad='Albacete'),\n",
        "    Cliente(nombre='Andrés Ortega', email='andres.ortega@example.com', telefono='890-123-456', contacto='Patricia Díaz', telefono_contacto='012-345-678', ciudad='Salamanca')\n",
        "])\n",
        "session.add_all(clientes)\n",
        "session.commit()\n",
        "\n",
        "# Insertar más datos en la tabla Equipo (análogo a 'mascota')\n",
        "equipos.extend([\n",
        "    Equipo(nombre='MacBook Air', cliente_id=3, tipo='Portátil', marca='Apple', fecha_adquisicion=datetime(2023, 1, 10)),\n",
        "    Equipo(nombre='Huawei MatePad', cliente_id=4, tipo='Tablet', marca='Huawei', fecha_adquisicion=datetime(2022, 8, 15)),\n",
        "    Equipo(nombre='HP Envy', cliente_id=5, tipo='Portátil', marca='HP', fecha_adquisicion=datetime(2023, 3, 5)),\n",
        "    Equipo(nombre='Dell Inspiron', cliente_id=6, tipo='Portátil', marca='Dell', fecha_adquisicion=datetime(2021, 2, 20)),\n",
        "    Equipo(nombre='Asus ZenBook', cliente_id=7, tipo='Portátil', marca='Asus', fecha_adquisicion=datetime(2022, 9, 12)),\n",
        "    Equipo(nombre='iPad Mini', cliente_id=8, tipo='Tablet', marca='Apple', fecha_adquisicion=datetime(2021, 11, 25)),\n",
        "    Equipo(nombre='Samsung Galaxy Book', cliente_id=9, tipo='Portátil', marca='Samsung', fecha_adquisicion=datetime(2023, 6, 30)),\n",
        "    Equipo(nombre='Lenovo Yoga', cliente_id=10, tipo='Portátil', marca='Lenovo', fecha_adquisicion=datetime(2023, 4, 10)),\n",
        "    Equipo(nombre='Microsoft Surface Laptop', cliente_id=11, tipo='Portátil', marca='Microsoft', fecha_adquisicion=datetime(2022, 3, 8)),\n",
        "    Equipo(nombre='Acer Swift', cliente_id=12, tipo='Portátil', marca='Acer', fecha_adquisicion=datetime(2021, 5, 14)),\n",
        "    Equipo(nombre='Google Pixel Slate', cliente_id=13, tipo='Tablet', marca='Google', fecha_adquisicion=datetime(2022, 12, 1)),\n",
        "    Equipo(nombre='Razer Blade Stealth', cliente_id=14, tipo='Portátil', marca='Razer', fecha_adquisicion=datetime(2023, 7, 9)),\n",
        "    Equipo(nombre='Huawei P30 Pro', cliente_id=15, tipo='Teléfono', marca='Huawei', fecha_adquisicion=datetime(2021, 8, 15)),\n",
        "    Equipo(nombre='Xiaomi Mi Pad 4', cliente_id=16, tipo='Tablet', marca='Xiaomi', fecha_adquisicion=datetime(2022, 10, 18)),\n",
        "    Equipo(nombre='LG Gram', cliente_id=17, tipo='Portátil', marca='LG', fecha_adquisicion=datetime(2023, 11, 20))\n",
        "])\n",
        "session.add_all(equipos)\n",
        "session.commit()"
      ]
    },
    {
      "cell_type": "code",
      "execution_count": 20,
      "metadata": {
        "id": "aIHEcVhrA-dy"
      },
      "outputs": [],
      "source": [
        "clientes.extend([\n",
        "    Cliente(nombre='Laura Fernández', email='laura.fernandez@example.com', telefono='456-123-789', contacto='Pedro Gómez', telefono_contacto='654-321-987', ciudad='Valencia'),\n",
        "    Cliente(nombre='Manuel López', email='manuel.lopez@example.com', telefono='789-456-123', contacto='Sofía Torres', telefono_contacto='321-654-987', ciudad='Sevilla'),\n",
        "    Cliente(nombre='Isabel Romero', email='isabel.romero@example.com', telefono='321-654-987', contacto='Miguel Ángel', telefono_contacto='123-987-654', ciudad='Bilbao')\n",
        "])\n",
        "session.add_all(clientes)\n",
        "session.commit()\n",
        "\n",
        "# Insertar más datos en la tabla Empleado\n",
        "empleados.extend([\n",
        "    Empleado(nombre='Javier Morales', email='javier.morales@example.com', telefono='567-890-234', salario=2500, fecha_ingreso=datetime(2018, 4, 10), departamento_id=3),\n",
        "    Empleado(nombre='Sara Díaz', email='sara.diaz@example.com', telefono='678-901-345', salario=2100, fecha_ingreso=datetime(2019, 7, 22), departamento_id=4),\n",
        "    Empleado(nombre='Pedro Jiménez', email='pedro.jimenez@example.com', telefono='789-012-456', salario=2300, fecha_ingreso=datetime(2021, 3, 15), departamento_id=5),\n",
        "    Empleado(nombre='Elena Navarro', email='elena.navarro@example.com', telefono='890-123-567', salario=2400, fecha_ingreso=datetime(2020, 11, 5), departamento_id=6)\n",
        "])\n",
        "session.add_all(empleados)\n",
        "session.commit()\n",
        "\n",
        "# Insertar más datos en la tabla Producto\n",
        "productos.extend([\n",
        "    Producto(nombre='MacBook Pro', descripcion='Portátil de alto rendimiento con pantalla de 16 pulgadas', precio=2500),\n",
        "    Producto(nombre='Samsung Galaxy S21', descripcion='Teléfono inteligente con cámara de alta resolución', precio=799),\n",
        "    Producto(nombre='Microsoft Surface Pro', descripcion='Tablet y portátil convertible con pantalla táctil', precio=1200),\n",
        "    Producto(nombre='Lenovo ThinkPad X1 Carbon', descripcion='Portátil ligero con durabilidad extrema', precio=1500)\n",
        "])\n",
        "session.add_all(productos)\n",
        "session.commit()\n",
        "\n",
        "# Insertar más datos en la tabla Orden\n",
        "ordenes.extend([\n",
        "    Orden(cliente_id=3, fecha=datetime(2022, 3, 25)),\n",
        "    Orden(cliente_id=4, fecha=datetime(2022, 4, 30)),\n",
        "    Orden(cliente_id=5, fecha=datetime(2022, 5, 12))\n",
        "])\n",
        "session.add_all(ordenes)\n",
        "session.commit()\n",
        "\n",
        "# Insertar más datos en la tabla DetalleOrden\n",
        "detalle_ordenes.extend([\n",
        "    DetalleOrden(orden_id=3, producto_id=4, cantidad=1, precio=2500),\n",
        "    DetalleOrden(orden_id=3, producto_id=5, cantidad=1, precio=799),\n",
        "    DetalleOrden(orden_id=4, producto_id=6, cantidad=1, precio=1200),\n",
        "    DetalleOrden(orden_id=5, producto_id=7, cantidad=1, precio=1500)\n",
        "])\n",
        "session.add_all(detalle_ordenes)\n",
        "session.commit()\n",
        "\n",
        "# Insertar más datos en la tabla Proveedor\n",
        "proveedores.extend([\n",
        "    Proveedor(nombre='ElectroHub', email='ventas@electrohub.com', telefono='890-234-567'),\n",
        "    Proveedor(nombre='MundoGadget', email='contacto@mundogadget.com', telefono='901-345-678')\n",
        "])\n",
        "session.add_all(proveedores)\n",
        "session.commit()\n",
        "\n",
        "# Insertar más datos en la tabla Suministro\n",
        "suministros.extend([\n",
        "    Suministro(proveedor_id=3, producto_id=4, cantidad=40, fecha=datetime(2024, 1, 15)),\n",
        "    Suministro(proveedor_id=4, producto_id=5, cantidad=25, fecha=datetime(2024, 2, 10)),\n",
        "    Suministro(proveedor_id=1, producto_id=6, cantidad=30, fecha=datetime(2024, 3, 5)),\n",
        "    Suministro(proveedor_id=2, producto_id=7, cantidad=20, fecha=datetime(2024, 4, 20))\n",
        "])\n",
        "session.add_all(suministros)\n",
        "session.commit()\n",
        "\n",
        "# Insertar más datos en la tabla Equipo (análogo a 'mascota')\n",
        "equipos.extend([\n",
        "    Equipo(nombre='MacBook Air', cliente_id=3, tipo='Portátil', marca='Apple', fecha_adquisicion=datetime(2023, 1, 10)),\n",
        "    Equipo(nombre='Huawei MatePad', cliente_id=4, tipo='Tablet', marca='Huawei', fecha_adquisicion=datetime(2022, 8, 15)),\n",
        "    Equipo(nombre='HP Envy', cliente_id=5, tipo='Portátil', marca='HP', fecha_adquisicion=datetime(2023, 3, 5))\n",
        "])\n",
        "session.add_all(equipos)\n",
        "session.commit()"
      ]
    },
    {
      "cell_type": "markdown",
      "metadata": {
        "id": "WbYhope8eqRk"
      },
      "source": [
        "Consultas básicas de selección\n",
        "--------\n",
        "La sintaxis básica de una consulta de selección es la siguiente:\n",
        "\n",
        "```sql\n",
        "select Campo FROM Tabla;\n",
        "```\n",
        "Pero para hacer esa consulta debemos conocer el nombre del campo que queremos consultar. Podemos mostrar el \"schema\" o diseño de la tabla con la instrucción **PRAGMA table_info(Tabla);**"
      ]
    },
    {
      "cell_type": "code",
      "execution_count": null,
      "metadata": {
        "colab": {
          "base_uri": "https://localhost:8080/",
          "height": 221
        },
        "id": "2vjdTNeBeqRk",
        "outputId": "aa4ff4b9-f3f6-431b-b07d-e0234285ca45",
        "scrolled": true
      },
      "outputs": [
        {
          "name": "stdout",
          "output_type": "stream",
          "text": [
            " * sqlite:////content/drive/MyDrive/Telmo/love4pets.db\n",
            "Done.\n"
          ]
        },
        {
          "data": {
            "text/html": [
              "<table>\n",
              "    <thead>\n",
              "        <tr>\n",
              "            <th>cid</th>\n",
              "            <th>name</th>\n",
              "            <th>type</th>\n",
              "            <th>notnull</th>\n",
              "            <th>dflt_value</th>\n",
              "            <th>pk</th>\n",
              "        </tr>\n",
              "    </thead>\n",
              "    <tbody>\n",
              "        <tr>\n",
              "            <td>0</td>\n",
              "            <td>empleado_id</td>\n",
              "            <td>INTEGER</td>\n",
              "            <td>1</td>\n",
              "            <td>None</td>\n",
              "            <td>1</td>\n",
              "        </tr>\n",
              "        <tr>\n",
              "            <td>1</td>\n",
              "            <td>nombre</td>\n",
              "            <td>TEXT</td>\n",
              "            <td>1</td>\n",
              "            <td>None</td>\n",
              "            <td>0</td>\n",
              "        </tr>\n",
              "        <tr>\n",
              "            <td>2</td>\n",
              "            <td>email</td>\n",
              "            <td>TEXT</td>\n",
              "            <td>0</td>\n",
              "            <td>None</td>\n",
              "            <td>0</td>\n",
              "        </tr>\n",
              "        <tr>\n",
              "            <td>3</td>\n",
              "            <td>telefono</td>\n",
              "            <td>TEXT</td>\n",
              "            <td>0</td>\n",
              "            <td>None</td>\n",
              "            <td>0</td>\n",
              "        </tr>\n",
              "        <tr>\n",
              "            <td>4</td>\n",
              "            <td>salario</td>\n",
              "            <td>INTEGER</td>\n",
              "            <td>1</td>\n",
              "            <td>None</td>\n",
              "            <td>0</td>\n",
              "        </tr>\n",
              "        <tr>\n",
              "            <td>5</td>\n",
              "            <td>fecha_ingreso</td>\n",
              "            <td>DATETIME</td>\n",
              "            <td>1</td>\n",
              "            <td>CURRENT_DATE</td>\n",
              "            <td>0</td>\n",
              "        </tr>\n",
              "        <tr>\n",
              "            <td>6</td>\n",
              "            <td>departamento_id</td>\n",
              "            <td>INTEGER</td>\n",
              "            <td>0</td>\n",
              "            <td>None</td>\n",
              "            <td>0</td>\n",
              "        </tr>\n",
              "    </tbody>\n",
              "</table>"
            ],
            "text/plain": [
              "[(0, 'empleado_id', 'INTEGER', 1, None, 1),\n",
              " (1, 'nombre', 'TEXT', 1, None, 0),\n",
              " (2, 'email', 'TEXT', 0, None, 0),\n",
              " (3, 'telefono', 'TEXT', 0, None, 0),\n",
              " (4, 'salario', 'INTEGER', 1, None, 0),\n",
              " (5, 'fecha_ingreso', 'DATETIME', 1, 'CURRENT_DATE', 0),\n",
              " (6, 'departamento_id', 'INTEGER', 0, None, 0)]"
            ]
          },
          "execution_count": 12,
          "metadata": {},
          "output_type": "execute_result"
        }
      ],
      "source": [
        "%sql PRAGMA table_info(empleado);"
      ]
    },
    {
      "cell_type": "markdown",
      "metadata": {
        "id": "q4GqzVS8eqRm"
      },
      "source": [
        "Podemos observar que la Tabla **empleado** contiene los campos:\n",
        "* empleado_id\n",
        "* nombre\n",
        "* email\n",
        "* telefono\n",
        "* salario\n",
        "* fecha_ingreso\n",
        "* departamento_id\n",
        "\n",
        "Veamos ahora un ejemplo de selección a alguno de estos campos:"
      ]
    },
    {
      "cell_type": "code",
      "execution_count": null,
      "metadata": {
        "colab": {
          "base_uri": "https://localhost:8080/",
          "height": 326
        },
        "id": "kO_yvkQFeqRn",
        "outputId": "d87a072c-79fa-42f1-d757-c8e090eceba3"
      },
      "outputs": [
        {
          "name": "stdout",
          "output_type": "stream",
          "text": [
            " * sqlite:////content/drive/MyDrive/Telmo/love4pets.db\n",
            "Done.\n"
          ]
        },
        {
          "data": {
            "text/html": [
              "<table>\n",
              "    <thead>\n",
              "        <tr>\n",
              "            <th>nombre</th>\n",
              "        </tr>\n",
              "    </thead>\n",
              "    <tbody>\n",
              "        <tr>\n",
              "            <td>Andres Riera Herrera</td>\n",
              "        </tr>\n",
              "        <tr>\n",
              "            <td>Lucas Serrano Caballero</td>\n",
              "        </tr>\n",
              "        <tr>\n",
              "            <td>Pablo Pons Sanz</td>\n",
              "        </tr>\n",
              "        <tr>\n",
              "            <td>Saul Moreno Santos</td>\n",
              "        </tr>\n",
              "        <tr>\n",
              "            <td>Nil Soler Diez</td>\n",
              "        </tr>\n",
              "        <tr>\n",
              "            <td>Sergio Reyes Gallardo</td>\n",
              "        </tr>\n",
              "        <tr>\n",
              "            <td>Isaac Jimenez Ortiz</td>\n",
              "        </tr>\n",
              "        <tr>\n",
              "            <td>Guillermo Vidal Gomez</td>\n",
              "        </tr>\n",
              "        <tr>\n",
              "            <td>Daniel Quintero Quintero</td>\n",
              "        </tr>\n",
              "        <tr>\n",
              "            <td>Juan Manuel Olivares</td>\n",
              "        </tr>\n",
              "        <tr>\n",
              "            <td>Miguel Soto</td>\n",
              "        </tr>\n",
              "        <tr>\n",
              "            <td>Alejandro Fernandez</td>\n",
              "        </tr>\n",
              "    </tbody>\n",
              "</table>"
            ],
            "text/plain": [
              "[('Andres Riera Herrera',),\n",
              " ('Lucas Serrano Caballero',),\n",
              " ('Pablo Pons Sanz',),\n",
              " ('Saul Moreno Santos',),\n",
              " ('Nil Soler Diez',),\n",
              " ('Sergio Reyes Gallardo',),\n",
              " ('Isaac Jimenez Ortiz',),\n",
              " ('Guillermo Vidal Gomez',),\n",
              " ('Daniel Quintero Quintero',),\n",
              " ('Juan Manuel Olivares',),\n",
              " ('Miguel Soto',),\n",
              " ('Alejandro Fernandez',)]"
            ]
          },
          "execution_count": 13,
          "metadata": {},
          "output_type": "execute_result"
        }
      ],
      "source": [
        "%sql select nombre FROM empleado;"
      ]
    },
    {
      "cell_type": "markdown",
      "metadata": {
        "id": "dV-em7hleqRq"
      },
      "source": [
        "Podemos agregar mas campos a mostrar en una misma consulta al separar los campos por comas(,) por ejemplo:"
      ]
    },
    {
      "cell_type": "code",
      "execution_count": null,
      "metadata": {
        "colab": {
          "base_uri": "https://localhost:8080/",
          "height": 326
        },
        "id": "5ifW1igmeqRr",
        "outputId": "6a16e313-b8da-4aef-f3af-1120113f1330",
        "scrolled": true
      },
      "outputs": [
        {
          "name": "stdout",
          "output_type": "stream",
          "text": [
            " * sqlite:////content/drive/MyDrive/Telmo/love4pets.db\n",
            "Done.\n"
          ]
        },
        {
          "data": {
            "text/html": [
              "<table>\n",
              "    <thead>\n",
              "        <tr>\n",
              "            <th>nombre</th>\n",
              "            <th>telefono</th>\n",
              "        </tr>\n",
              "    </thead>\n",
              "    <tbody>\n",
              "        <tr>\n",
              "            <td>Andres Riera Herrera</td>\n",
              "            <td>200-88-76</td>\n",
              "        </tr>\n",
              "        <tr>\n",
              "            <td>Lucas Serrano Caballero</td>\n",
              "            <td>115-24-36</td>\n",
              "        </tr>\n",
              "        <tr>\n",
              "            <td>Pablo Pons Sanz</td>\n",
              "            <td>748-72-75</td>\n",
              "        </tr>\n",
              "        <tr>\n",
              "            <td>Saul Moreno Santos</td>\n",
              "            <td>346-87-27</td>\n",
              "        </tr>\n",
              "        <tr>\n",
              "            <td>Nil Soler Diez</td>\n",
              "            <td>576-84-28</td>\n",
              "        </tr>\n",
              "        <tr>\n",
              "            <td>Sergio Reyes Gallardo</td>\n",
              "            <td>598-95-67</td>\n",
              "        </tr>\n",
              "        <tr>\n",
              "            <td>Isaac Jimenez Ortiz</td>\n",
              "            <td>370-19-65</td>\n",
              "        </tr>\n",
              "        <tr>\n",
              "            <td>Guillermo Vidal Gomez</td>\n",
              "            <td>099-05-68</td>\n",
              "        </tr>\n",
              "        <tr>\n",
              "            <td>Daniel Quintero Quintero</td>\n",
              "            <td>261-97-06</td>\n",
              "        </tr>\n",
              "        <tr>\n",
              "            <td>Juan Manuel Olivares</td>\n",
              "            <td>269-37-06</td>\n",
              "        </tr>\n",
              "        <tr>\n",
              "            <td>Miguel Soto</td>\n",
              "            <td>269-92-06</td>\n",
              "        </tr>\n",
              "        <tr>\n",
              "            <td>Alejandro Fernandez</td>\n",
              "            <td>119-91-16</td>\n",
              "        </tr>\n",
              "    </tbody>\n",
              "</table>"
            ],
            "text/plain": [
              "[('Andres Riera Herrera', '200-88-76'),\n",
              " ('Lucas Serrano Caballero', '115-24-36'),\n",
              " ('Pablo Pons Sanz', '748-72-75'),\n",
              " ('Saul Moreno Santos', '346-87-27'),\n",
              " ('Nil Soler Diez', '576-84-28'),\n",
              " ('Sergio Reyes Gallardo', '598-95-67'),\n",
              " ('Isaac Jimenez Ortiz', '370-19-65'),\n",
              " ('Guillermo Vidal Gomez', '099-05-68'),\n",
              " ('Daniel Quintero Quintero', '261-97-06'),\n",
              " ('Juan Manuel Olivares', '269-37-06'),\n",
              " ('Miguel Soto', '269-92-06'),\n",
              " ('Alejandro Fernandez', '119-91-16')]"
            ]
          },
          "execution_count": 14,
          "metadata": {},
          "output_type": "execute_result"
        }
      ],
      "source": [
        "%sql select nombre, telefono FROM empleado;"
      ]
    },
    {
      "cell_type": "markdown",
      "metadata": {
        "id": "a8kwsY6MeqRs"
      },
      "source": [
        "Tambien es posible solicitar todos los campos de una tabla con el signo asterisco(*):"
      ]
    },
    {
      "cell_type": "code",
      "execution_count": null,
      "metadata": {
        "colab": {
          "base_uri": "https://localhost:8080/",
          "height": 324
        },
        "id": "IsqRvGdHeqRt",
        "outputId": "5a884da5-67ec-409f-8227-5d56b3218572"
      },
      "outputs": [
        {
          "name": "stdout",
          "output_type": "stream",
          "text": [
            " * sqlite:////content/drive/MyDrive/Data_Valencia/love4pets.db\n",
            "Done.\n"
          ]
        },
        {
          "data": {
            "text/html": [
              "<table>\n",
              "    <thead>\n",
              "        <tr>\n",
              "            <th>empleado_id</th>\n",
              "            <th>nombre</th>\n",
              "            <th>email</th>\n",
              "            <th>telefono</th>\n",
              "            <th>salario</th>\n",
              "            <th>fecha_ingreso</th>\n",
              "            <th>departamento_id</th>\n",
              "        </tr>\n",
              "    </thead>\n",
              "    <tbody>\n",
              "        <tr>\n",
              "            <td>1</td>\n",
              "            <td>Andres Riera Herrera</td>\n",
              "            <td>andresr@gmail.com</td>\n",
              "            <td>200-88-76</td>\n",
              "            <td>1500</td>\n",
              "            <td>2017-05-17 00:00:000</td>\n",
              "            <td>6</td>\n",
              "        </tr>\n",
              "        <tr>\n",
              "            <td>2</td>\n",
              "            <td>Lucas Serrano Caballero</td>\n",
              "            <td>lucas99@gmail.com</td>\n",
              "            <td>115-24-36</td>\n",
              "            <td>1200</td>\n",
              "            <td>2018-05-17 00:00:000</td>\n",
              "            <td>2</td>\n",
              "        </tr>\n",
              "        <tr>\n",
              "            <td>3</td>\n",
              "            <td>Pablo Pons Sanz</td>\n",
              "            <td>ppsanz@gmail.com</td>\n",
              "            <td>748-72-75</td>\n",
              "            <td>1350</td>\n",
              "            <td>2016-07-01 00:00:000</td>\n",
              "            <td>1</td>\n",
              "        </tr>\n",
              "        <tr>\n",
              "            <td>4</td>\n",
              "            <td>Saul Moreno Santos</td>\n",
              "            <td>saul.morenosantos@gmail.com</td>\n",
              "            <td>346-87-27</td>\n",
              "            <td>1600</td>\n",
              "            <td>2016-07-01 00:00:000</td>\n",
              "            <td>1</td>\n",
              "        </tr>\n",
              "        <tr>\n",
              "            <td>5</td>\n",
              "            <td>Nil Soler Diez</td>\n",
              "            <td>nilsoler@gmail.com</td>\n",
              "            <td>576-84-28</td>\n",
              "            <td>1100</td>\n",
              "            <td>2016-04-03 00:00:000</td>\n",
              "            <td>5</td>\n",
              "        </tr>\n",
              "        <tr>\n",
              "            <td>6</td>\n",
              "            <td>Sergio Reyes Gallardo</td>\n",
              "            <td>zerg@gmail.com</td>\n",
              "            <td>598-95-67</td>\n",
              "            <td>1000</td>\n",
              "            <td>2016-04-03 00:00:000</td>\n",
              "            <td>5</td>\n",
              "        </tr>\n",
              "        <tr>\n",
              "            <td>7</td>\n",
              "            <td>Isaac Jimenez Ortiz</td>\n",
              "            <td>isaacortiz@gmail.com</td>\n",
              "            <td>370-19-65</td>\n",
              "            <td>1600</td>\n",
              "            <td>2016-07-08 00:00:000</td>\n",
              "            <td>3</td>\n",
              "        </tr>\n",
              "        <tr>\n",
              "            <td>8</td>\n",
              "            <td>Guillermo Vidal Gomez</td>\n",
              "            <td>guillevidal@gmail.com</td>\n",
              "            <td>099-05-68</td>\n",
              "            <td>1400</td>\n",
              "            <td>2016-01-03 00:00:000</td>\n",
              "            <td>3</td>\n",
              "        </tr>\n",
              "        <tr>\n",
              "            <td>9</td>\n",
              "            <td>Daniel Quintero Quintero</td>\n",
              "            <td>danielquinterox2@gmail.com</td>\n",
              "            <td>261-97-06</td>\n",
              "            <td>1500</td>\n",
              "            <td>2017-03-05 00:00:000</td>\n",
              "            <td>6</td>\n",
              "        </tr>\n",
              "        <tr>\n",
              "            <td>10</td>\n",
              "            <td>Juan Manuel Olivares</td>\n",
              "            <td>juanma@gmail.com</td>\n",
              "            <td>269-37-06</td>\n",
              "            <td>1500</td>\n",
              "            <td>2017-03-05 00:00:000</td>\n",
              "            <td>None</td>\n",
              "        </tr>\n",
              "        <tr>\n",
              "            <td>11</td>\n",
              "            <td>Miguel Soto</td>\n",
              "            <td>misoto@gmail.com</td>\n",
              "            <td>269-92-06</td>\n",
              "            <td>1900</td>\n",
              "            <td>2017-03-05 00:00:000</td>\n",
              "            <td>6</td>\n",
              "        </tr>\n",
              "        <tr>\n",
              "            <td>12</td>\n",
              "            <td>Alejandro Fernandez</td>\n",
              "            <td>alefer@gmail.com</td>\n",
              "            <td>119-91-16</td>\n",
              "            <td>1850</td>\n",
              "            <td>2017-03-05 00:00:000</td>\n",
              "            <td>6</td>\n",
              "        </tr>\n",
              "    </tbody>\n",
              "</table>"
            ],
            "text/plain": [
              "[(1, 'Andres Riera Herrera', 'andresr@gmail.com', '200-88-76', 1500, '2017-05-17 00:00:000', 6),\n",
              " (2, 'Lucas Serrano Caballero', 'lucas99@gmail.com', '115-24-36', 1200, '2018-05-17 00:00:000', 2),\n",
              " (3, 'Pablo Pons Sanz', 'ppsanz@gmail.com', '748-72-75', 1350, '2016-07-01 00:00:000', 1),\n",
              " (4, 'Saul Moreno Santos', 'saul.morenosantos@gmail.com', '346-87-27', 1600, '2016-07-01 00:00:000', 1),\n",
              " (5, 'Nil Soler Diez', 'nilsoler@gmail.com', '576-84-28', 1100, '2016-04-03 00:00:000', 5),\n",
              " (6, 'Sergio Reyes Gallardo', 'zerg@gmail.com', '598-95-67', 1000, '2016-04-03 00:00:000', 5),\n",
              " (7, 'Isaac Jimenez Ortiz', 'isaacortiz@gmail.com', '370-19-65', 1600, '2016-07-08 00:00:000', 3),\n",
              " (8, 'Guillermo Vidal Gomez', 'guillevidal@gmail.com', '099-05-68', 1400, '2016-01-03 00:00:000', 3),\n",
              " (9, 'Daniel Quintero Quintero', 'danielquinterox2@gmail.com', '261-97-06', 1500, '2017-03-05 00:00:000', 6),\n",
              " (10, 'Juan Manuel Olivares', 'juanma@gmail.com', '269-37-06', 1500, '2017-03-05 00:00:000', None),\n",
              " (11, 'Miguel Soto', 'misoto@gmail.com', '269-92-06', 1900, '2017-03-05 00:00:000', 6),\n",
              " (12, 'Alejandro Fernandez', 'alefer@gmail.com', '119-91-16', 1850, '2017-03-05 00:00:000', 6)]"
            ]
          },
          "execution_count": 8,
          "metadata": {},
          "output_type": "execute_result"
        }
      ],
      "source": [
        "%sql select * FROM empleado;"
      ]
    },
    {
      "cell_type": "markdown",
      "metadata": {
        "id": "EoKTspwI9P8q"
      },
      "source": [
        "### **Ejercicio 1**\n",
        "--------\n",
        "Complete el siguiente código para obtener un listado de los nombres, telefonos, y el correo electrónico de todos los clientes y asi contactarlos para notificarles de una promoción."
      ]
    },
    {
      "cell_type": "code",
      "execution_count": null,
      "metadata": {
        "colab": {
          "base_uri": "https://localhost:8080/",
          "height": 221
        },
        "id": "Fwuv_K2keqRu",
        "outputId": "2f34e351-e4d9-42eb-aa68-1def3ebb5e4a"
      },
      "outputs": [
        {
          "name": "stdout",
          "output_type": "stream",
          "text": [
            " * sqlite:////content/drive/MyDrive/Telmo/love4pets.db\n",
            "Done.\n"
          ]
        },
        {
          "data": {
            "text/html": [
              "<table>\n",
              "    <thead>\n",
              "        <tr>\n",
              "            <th>cid</th>\n",
              "            <th>name</th>\n",
              "            <th>type</th>\n",
              "            <th>notnull</th>\n",
              "            <th>dflt_value</th>\n",
              "            <th>pk</th>\n",
              "        </tr>\n",
              "    </thead>\n",
              "    <tbody>\n",
              "        <tr>\n",
              "            <td>0</td>\n",
              "            <td>cliente_id</td>\n",
              "            <td>INTEGER</td>\n",
              "            <td>1</td>\n",
              "            <td>None</td>\n",
              "            <td>1</td>\n",
              "        </tr>\n",
              "        <tr>\n",
              "            <td>1</td>\n",
              "            <td>nombre</td>\n",
              "            <td>TEXT</td>\n",
              "            <td>1</td>\n",
              "            <td>None</td>\n",
              "            <td>0</td>\n",
              "        </tr>\n",
              "        <tr>\n",
              "            <td>2</td>\n",
              "            <td>email</td>\n",
              "            <td>TEXT</td>\n",
              "            <td>0</td>\n",
              "            <td>None</td>\n",
              "            <td>0</td>\n",
              "        </tr>\n",
              "        <tr>\n",
              "            <td>3</td>\n",
              "            <td>telefono</td>\n",
              "            <td>TEXT</td>\n",
              "            <td>1</td>\n",
              "            <td>None</td>\n",
              "            <td>0</td>\n",
              "        </tr>\n",
              "        <tr>\n",
              "            <td>4</td>\n",
              "            <td>contacto</td>\n",
              "            <td>TEXT</td>\n",
              "            <td>0</td>\n",
              "            <td>None</td>\n",
              "            <td>0</td>\n",
              "        </tr>\n",
              "        <tr>\n",
              "            <td>5</td>\n",
              "            <td>telefono_contacto</td>\n",
              "            <td>TEXT</td>\n",
              "            <td>0</td>\n",
              "            <td>None</td>\n",
              "            <td>0</td>\n",
              "        </tr>\n",
              "        <tr>\n",
              "            <td>6</td>\n",
              "            <td>ciudad</td>\n",
              "            <td>TEXT</td>\n",
              "            <td>1</td>\n",
              "            <td>None</td>\n",
              "            <td>0</td>\n",
              "        </tr>\n",
              "    </tbody>\n",
              "</table>"
            ],
            "text/plain": [
              "[(0, 'cliente_id', 'INTEGER', 1, None, 1),\n",
              " (1, 'nombre', 'TEXT', 1, None, 0),\n",
              " (2, 'email', 'TEXT', 0, None, 0),\n",
              " (3, 'telefono', 'TEXT', 1, None, 0),\n",
              " (4, 'contacto', 'TEXT', 0, None, 0),\n",
              " (5, 'telefono_contacto', 'TEXT', 0, None, 0),\n",
              " (6, 'ciudad', 'TEXT', 1, None, 0)]"
            ]
          },
          "execution_count": 15,
          "metadata": {},
          "output_type": "execute_result"
        }
      ],
      "source": [
        "%sql PRAGMA table_info(cliente);"
      ]
    },
    {
      "cell_type": "code",
      "execution_count": null,
      "metadata": {
        "colab": {
          "base_uri": "https://localhost:8080/",
          "height": 389
        },
        "id": "G88bt_U54pTO",
        "outputId": "96285294-15a6-4ea6-c87d-d81ba82e8896"
      },
      "outputs": [
        {
          "name": "stdout",
          "output_type": "stream",
          "text": [
            " * sqlite:////content/drive/MyDrive/Telmo/love4pets.db\n",
            "Done.\n"
          ]
        },
        {
          "data": {
            "text/html": [
              "<table>\n",
              "    <thead>\n",
              "        <tr>\n",
              "            <th>nombre</th>\n",
              "            <th>telefono</th>\n",
              "            <th>email</th>\n",
              "        </tr>\n",
              "    </thead>\n",
              "    <tbody>\n",
              "        <tr>\n",
              "            <td>Mario Flores Gallardo</td>\n",
              "            <td>036-15-36</td>\n",
              "            <td>marioflores@gmail.com</td>\n",
              "        </tr>\n",
              "        <tr>\n",
              "            <td>Arnau Medina Garcia</td>\n",
              "            <td>094-10-88</td>\n",
              "            <td>arnaumedina@gmail.com</td>\n",
              "        </tr>\n",
              "        <tr>\n",
              "            <td>Ivan Medina Rubio</td>\n",
              "            <td>083-08-72</td>\n",
              "            <td>ivanmedina@gmail.com</td>\n",
              "        </tr>\n",
              "        <tr>\n",
              "            <td>Jan Vargas Santana</td>\n",
              "            <td>780-65-24</td>\n",
              "            <td>vargasjan@gmail.com</td>\n",
              "        </tr>\n",
              "        <tr>\n",
              "            <td>Carlos Costa Guerrero</td>\n",
              "            <td>180-65-24</td>\n",
              "            <td>carloscostag@gmail.com</td>\n",
              "        </tr>\n",
              "        <tr>\n",
              "            <td>Roberto Martin Ortega</td>\n",
              "            <td>742-63-27</td>\n",
              "            <td>robertmartin@gmail.com</td>\n",
              "        </tr>\n",
              "        <tr>\n",
              "            <td>Gabriel Gonzalez Ortega</td>\n",
              "            <td>780-13-14</td>\n",
              "            <td>gabogonzo@gmail.com</td>\n",
              "        </tr>\n",
              "        <tr>\n",
              "            <td>Rayan Leon Ferrer</td>\n",
              "            <td>430-65-24</td>\n",
              "            <td>rayito@gmail.com</td>\n",
              "        </tr>\n",
              "        <tr>\n",
              "            <td>Aitor Ruiz Sanchez</td>\n",
              "            <td>780-77-24</td>\n",
              "            <td>aitorsanchez@gmail.com</td>\n",
              "        </tr>\n",
              "        <tr>\n",
              "            <td>Eric Rubio Carrasco</td>\n",
              "            <td>780-65-79</td>\n",
              "            <td>ericrubio@gmail.com</td>\n",
              "        </tr>\n",
              "        <tr>\n",
              "            <td>Alberto Sanz Ruiz</td>\n",
              "            <td>781-15-24</td>\n",
              "            <td>albert@gmail.com</td>\n",
              "        </tr>\n",
              "        <tr>\n",
              "            <td>Jesus Medina Hernandez</td>\n",
              "            <td>782-35-25</td>\n",
              "            <td>jmedinah@gmail.com</td>\n",
              "        </tr>\n",
              "        <tr>\n",
              "            <td>Pol Moya Pena</td>\n",
              "            <td>780-25-24</td>\n",
              "            <td>polmoya@gmail.com</td>\n",
              "        </tr>\n",
              "        <tr>\n",
              "            <td>Jose Gallardo Rodriguez</td>\n",
              "            <td>783-65-11</td>\n",
              "            <td>josegallardo@gmail.com</td>\n",
              "        </tr>\n",
              "        <tr>\n",
              "            <td>Manuel Angel Gil</td>\n",
              "            <td>733-65-16</td>\n",
              "            <td>manano@gmail.com</td>\n",
              "        </tr>\n",
              "    </tbody>\n",
              "</table>"
            ],
            "text/plain": [
              "[('Mario Flores Gallardo', '036-15-36', 'marioflores@gmail.com'),\n",
              " ('Arnau Medina Garcia', '094-10-88', 'arnaumedina@gmail.com'),\n",
              " ('Ivan Medina Rubio', '083-08-72', 'ivanmedina@gmail.com'),\n",
              " ('Jan Vargas Santana', '780-65-24', 'vargasjan@gmail.com'),\n",
              " ('Carlos Costa Guerrero', '180-65-24', 'carloscostag@gmail.com'),\n",
              " ('Roberto Martin Ortega', '742-63-27', 'robertmartin@gmail.com'),\n",
              " ('Gabriel Gonzalez Ortega', '780-13-14', 'gabogonzo@gmail.com'),\n",
              " ('Rayan Leon Ferrer', '430-65-24', 'rayito@gmail.com'),\n",
              " ('Aitor Ruiz Sanchez', '780-77-24', 'aitorsanchez@gmail.com'),\n",
              " ('Eric Rubio Carrasco', '780-65-79', 'ericrubio@gmail.com'),\n",
              " ('Alberto Sanz Ruiz', '781-15-24', 'albert@gmail.com'),\n",
              " ('Jesus Medina Hernandez', '782-35-25', 'jmedinah@gmail.com'),\n",
              " ('Pol Moya Pena', '780-25-24', 'polmoya@gmail.com'),\n",
              " ('Jose Gallardo Rodriguez', '783-65-11', 'josegallardo@gmail.com'),\n",
              " ('Manuel Angel Gil', '733-65-16', 'manano@gmail.com')]"
            ]
          },
          "execution_count": 17,
          "metadata": {},
          "output_type": "execute_result"
        }
      ],
      "source": [
        "%sql select cliente.nombre, cliente.telefono, cliente.email from cliente"
      ]
    },
    {
      "cell_type": "markdown",
      "metadata": {
        "id": "LsbjEnYieqRv"
      },
      "source": [
        "### Ordenar los registros, ORDER BY\n",
        "--------\n",
        "Es posible especificar el orden en que queremos que se muestre resultado de una consulta, esto se consigue con la clausula **ORDER BY**\n",
        "```sql\n",
        "select campo1,campo2,...,campoN FROM Tabla ORDER BY campoX;\n",
        "```\n",
        "Veamos un ejemplo sobre la tabla empleado:\n",
        "\n",
        "**Liste los empleados de Love4Pets ordenados por su salario**"
      ]
    },
    {
      "cell_type": "code",
      "execution_count": null,
      "metadata": {
        "colab": {
          "base_uri": "https://localhost:8080/",
          "height": 326
        },
        "id": "IU78_BjxeqRv",
        "outputId": "3510f0bb-d22f-4ccf-a775-a63b0c8e15ad"
      },
      "outputs": [
        {
          "name": "stdout",
          "output_type": "stream",
          "text": [
            " * sqlite:////content/drive/MyDrive/Telmo/love4pets.db\n",
            "Done.\n"
          ]
        },
        {
          "data": {
            "text/html": [
              "<table>\n",
              "    <thead>\n",
              "        <tr>\n",
              "            <th>nombre</th>\n",
              "            <th>salario</th>\n",
              "        </tr>\n",
              "    </thead>\n",
              "    <tbody>\n",
              "        <tr>\n",
              "            <td>Sergio Reyes Gallardo</td>\n",
              "            <td>1000</td>\n",
              "        </tr>\n",
              "        <tr>\n",
              "            <td>Nil Soler Diez</td>\n",
              "            <td>1100</td>\n",
              "        </tr>\n",
              "        <tr>\n",
              "            <td>Lucas Serrano Caballero</td>\n",
              "            <td>1200</td>\n",
              "        </tr>\n",
              "        <tr>\n",
              "            <td>Pablo Pons Sanz</td>\n",
              "            <td>1350</td>\n",
              "        </tr>\n",
              "        <tr>\n",
              "            <td>Guillermo Vidal Gomez</td>\n",
              "            <td>1400</td>\n",
              "        </tr>\n",
              "        <tr>\n",
              "            <td>Andres Riera Herrera</td>\n",
              "            <td>1500</td>\n",
              "        </tr>\n",
              "        <tr>\n",
              "            <td>Daniel Quintero Quintero</td>\n",
              "            <td>1500</td>\n",
              "        </tr>\n",
              "        <tr>\n",
              "            <td>Juan Manuel Olivares</td>\n",
              "            <td>1500</td>\n",
              "        </tr>\n",
              "        <tr>\n",
              "            <td>Saul Moreno Santos</td>\n",
              "            <td>1600</td>\n",
              "        </tr>\n",
              "        <tr>\n",
              "            <td>Isaac Jimenez Ortiz</td>\n",
              "            <td>1600</td>\n",
              "        </tr>\n",
              "        <tr>\n",
              "            <td>Alejandro Fernandez</td>\n",
              "            <td>1850</td>\n",
              "        </tr>\n",
              "        <tr>\n",
              "            <td>Miguel Soto</td>\n",
              "            <td>1900</td>\n",
              "        </tr>\n",
              "    </tbody>\n",
              "</table>"
            ],
            "text/plain": [
              "[('Sergio Reyes Gallardo', 1000),\n",
              " ('Nil Soler Diez', 1100),\n",
              " ('Lucas Serrano Caballero', 1200),\n",
              " ('Pablo Pons Sanz', 1350),\n",
              " ('Guillermo Vidal Gomez', 1400),\n",
              " ('Andres Riera Herrera', 1500),\n",
              " ('Daniel Quintero Quintero', 1500),\n",
              " ('Juan Manuel Olivares', 1500),\n",
              " ('Saul Moreno Santos', 1600),\n",
              " ('Isaac Jimenez Ortiz', 1600),\n",
              " ('Alejandro Fernandez', 1850),\n",
              " ('Miguel Soto', 1900)]"
            ]
          },
          "execution_count": 18,
          "metadata": {},
          "output_type": "execute_result"
        }
      ],
      "source": [
        "%sql select empleado.nombre, empleado.salario from empleado order by salario;"
      ]
    },
    {
      "cell_type": "markdown",
      "metadata": {
        "id": "4Q6sudqLeqRw"
      },
      "source": [
        "Se puede ordenar el resultado por mas de un campo, por ejemplo podemos ordenar los empleados segun su sueldo usando el campo **salario** y además en orden alfabetico por el campo **nombre**"
      ]
    },
    {
      "cell_type": "code",
      "execution_count": null,
      "metadata": {
        "colab": {
          "base_uri": "https://localhost:8080/"
        },
        "id": "UY6lKrJSeqRw",
        "outputId": "d4511acb-1b98-48fa-a730-bf2d3a45ef4a"
      },
      "outputs": [
        {
          "name": "stdout",
          "output_type": "stream",
          "text": [
            " * sqlite:////content/drive/MyDrive/Data_Valencia/love4pets.db\n",
            "Done.\n"
          ]
        },
        {
          "data": {
            "text/html": [
              "<table>\n",
              "    <thead>\n",
              "        <tr>\n",
              "            <th>nombre</th>\n",
              "            <th>salario</th>\n",
              "        </tr>\n",
              "    </thead>\n",
              "    <tbody>\n",
              "        <tr>\n",
              "            <td>Sergio Reyes Gallardo</td>\n",
              "            <td>1000</td>\n",
              "        </tr>\n",
              "        <tr>\n",
              "            <td>Nil Soler Diez</td>\n",
              "            <td>1100</td>\n",
              "        </tr>\n",
              "        <tr>\n",
              "            <td>Lucas Serrano Caballero</td>\n",
              "            <td>1200</td>\n",
              "        </tr>\n",
              "        <tr>\n",
              "            <td>Pablo Pons Sanz</td>\n",
              "            <td>1350</td>\n",
              "        </tr>\n",
              "        <tr>\n",
              "            <td>Guillermo Vidal Gomez</td>\n",
              "            <td>1400</td>\n",
              "        </tr>\n",
              "        <tr>\n",
              "            <td>Andres Riera Herrera</td>\n",
              "            <td>1500</td>\n",
              "        </tr>\n",
              "        <tr>\n",
              "            <td>Daniel Quintero Quintero</td>\n",
              "            <td>1500</td>\n",
              "        </tr>\n",
              "        <tr>\n",
              "            <td>Juan Manuel Olivares</td>\n",
              "            <td>1500</td>\n",
              "        </tr>\n",
              "        <tr>\n",
              "            <td>Isaac Jimenez Ortiz</td>\n",
              "            <td>1600</td>\n",
              "        </tr>\n",
              "        <tr>\n",
              "            <td>Saul Moreno Santos</td>\n",
              "            <td>1600</td>\n",
              "        </tr>\n",
              "        <tr>\n",
              "            <td>Alejandro Fernandez</td>\n",
              "            <td>1850</td>\n",
              "        </tr>\n",
              "        <tr>\n",
              "            <td>Miguel Soto</td>\n",
              "            <td>1900</td>\n",
              "        </tr>\n",
              "    </tbody>\n",
              "</table>"
            ],
            "text/plain": [
              "[('Sergio Reyes Gallardo', 1000),\n",
              " ('Nil Soler Diez', 1100),\n",
              " ('Lucas Serrano Caballero', 1200),\n",
              " ('Pablo Pons Sanz', 1350),\n",
              " ('Guillermo Vidal Gomez', 1400),\n",
              " ('Andres Riera Herrera', 1500),\n",
              " ('Daniel Quintero Quintero', 1500),\n",
              " ('Juan Manuel Olivares', 1500),\n",
              " ('Isaac Jimenez Ortiz', 1600),\n",
              " ('Saul Moreno Santos', 1600),\n",
              " ('Alejandro Fernandez', 1850),\n",
              " ('Miguel Soto', 1900)]"
            ]
          },
          "execution_count": 12,
          "metadata": {},
          "output_type": "execute_result"
        }
      ],
      "source": [
        "%sql select nombre, salario FROM empleado ORDER BY salario, nombre;"
      ]
    },
    {
      "cell_type": "markdown",
      "metadata": {
        "id": "ex0n3BBEeqRx"
      },
      "source": [
        "Además puede usarse el ordenar por campos de forma independiente, de forma ASCENDENTE mediante la clausula **ASC** y DESCENDENTE mediante la clausula **DESC**"
      ]
    },
    {
      "cell_type": "code",
      "execution_count": null,
      "metadata": {
        "colab": {
          "base_uri": "https://localhost:8080/",
          "height": 326
        },
        "id": "MMu_9Uh6eqRx",
        "outputId": "8e687b59-407e-4331-a5ff-1c087a8e1cdb"
      },
      "outputs": [
        {
          "name": "stdout",
          "output_type": "stream",
          "text": [
            " * sqlite:////content/drive/MyDrive/Telmo/love4pets.db\n",
            "Done.\n"
          ]
        },
        {
          "data": {
            "text/html": [
              "<table>\n",
              "    <thead>\n",
              "        <tr>\n",
              "            <th>nombre</th>\n",
              "            <th>salario</th>\n",
              "        </tr>\n",
              "    </thead>\n",
              "    <tbody>\n",
              "        <tr>\n",
              "            <td>Miguel Soto</td>\n",
              "            <td>1900</td>\n",
              "        </tr>\n",
              "        <tr>\n",
              "            <td>Alejandro Fernandez</td>\n",
              "            <td>1850</td>\n",
              "        </tr>\n",
              "        <tr>\n",
              "            <td>Isaac Jimenez Ortiz</td>\n",
              "            <td>1600</td>\n",
              "        </tr>\n",
              "        <tr>\n",
              "            <td>Saul Moreno Santos</td>\n",
              "            <td>1600</td>\n",
              "        </tr>\n",
              "        <tr>\n",
              "            <td>Andres Riera Herrera</td>\n",
              "            <td>1500</td>\n",
              "        </tr>\n",
              "        <tr>\n",
              "            <td>Daniel Quintero Quintero</td>\n",
              "            <td>1500</td>\n",
              "        </tr>\n",
              "        <tr>\n",
              "            <td>Juan Manuel Olivares</td>\n",
              "            <td>1500</td>\n",
              "        </tr>\n",
              "        <tr>\n",
              "            <td>Guillermo Vidal Gomez</td>\n",
              "            <td>1400</td>\n",
              "        </tr>\n",
              "        <tr>\n",
              "            <td>Pablo Pons Sanz</td>\n",
              "            <td>1350</td>\n",
              "        </tr>\n",
              "        <tr>\n",
              "            <td>Lucas Serrano Caballero</td>\n",
              "            <td>1200</td>\n",
              "        </tr>\n",
              "        <tr>\n",
              "            <td>Nil Soler Diez</td>\n",
              "            <td>1100</td>\n",
              "        </tr>\n",
              "        <tr>\n",
              "            <td>Sergio Reyes Gallardo</td>\n",
              "            <td>1000</td>\n",
              "        </tr>\n",
              "    </tbody>\n",
              "</table>"
            ],
            "text/plain": [
              "[('Miguel Soto', 1900),\n",
              " ('Alejandro Fernandez', 1850),\n",
              " ('Isaac Jimenez Ortiz', 1600),\n",
              " ('Saul Moreno Santos', 1600),\n",
              " ('Andres Riera Herrera', 1500),\n",
              " ('Daniel Quintero Quintero', 1500),\n",
              " ('Juan Manuel Olivares', 1500),\n",
              " ('Guillermo Vidal Gomez', 1400),\n",
              " ('Pablo Pons Sanz', 1350),\n",
              " ('Lucas Serrano Caballero', 1200),\n",
              " ('Nil Soler Diez', 1100),\n",
              " ('Sergio Reyes Gallardo', 1000)]"
            ]
          },
          "execution_count": 19,
          "metadata": {},
          "output_type": "execute_result"
        }
      ],
      "source": [
        "%sql select nombre, salario FROM empleado ORDER BY salario DESC, nombre ASC;"
      ]
    },
    {
      "cell_type": "markdown",
      "metadata": {
        "id": "j4t-ho2OeqRy"
      },
      "source": [
        "La instrucción  **Limit** reduce la cantidad de filas de salida en el resultado al número indicado.\n",
        "Cuando usamos la instrucción LIMIT junto con el ORDER BY estamos tomando alguno de los extremos de la consulta, por ejemplo los 3 sueldos mas altos, o los 5 sueldos mas bajos.\n",
        "\n",
        "Veamos un par de ejemplos de esto:"
      ]
    },
    {
      "cell_type": "code",
      "execution_count": null,
      "metadata": {
        "colab": {
          "base_uri": "https://localhost:8080/",
          "height": 179
        },
        "id": "F1C_LrbFeqRy",
        "outputId": "bad4aede-e8e0-4947-fb8a-03323df99b0f"
      },
      "outputs": [
        {
          "name": "stdout",
          "output_type": "stream",
          "text": [
            " * sqlite:////content/drive/MyDrive/Telmo/love4pets.db\n",
            "Done.\n"
          ]
        },
        {
          "data": {
            "text/html": [
              "<table>\n",
              "    <thead>\n",
              "        <tr>\n",
              "            <th>nombre</th>\n",
              "            <th>salario</th>\n",
              "        </tr>\n",
              "    </thead>\n",
              "    <tbody>\n",
              "        <tr>\n",
              "            <td>Miguel Soto</td>\n",
              "            <td>1900</td>\n",
              "        </tr>\n",
              "        <tr>\n",
              "            <td>Alejandro Fernandez</td>\n",
              "            <td>1850</td>\n",
              "        </tr>\n",
              "        <tr>\n",
              "            <td>Isaac Jimenez Ortiz</td>\n",
              "            <td>1600</td>\n",
              "        </tr>\n",
              "        <tr>\n",
              "            <td>Saul Moreno Santos</td>\n",
              "            <td>1600</td>\n",
              "        </tr>\n",
              "        <tr>\n",
              "            <td>Andres Riera Herrera</td>\n",
              "            <td>1500</td>\n",
              "        </tr>\n",
              "    </tbody>\n",
              "</table>"
            ],
            "text/plain": [
              "[('Miguel Soto', 1900),\n",
              " ('Alejandro Fernandez', 1850),\n",
              " ('Isaac Jimenez Ortiz', 1600),\n",
              " ('Saul Moreno Santos', 1600),\n",
              " ('Andres Riera Herrera', 1500)]"
            ]
          },
          "execution_count": 21,
          "metadata": {},
          "output_type": "execute_result"
        }
      ],
      "source": [
        "%sql select nombre, salario FROM empleado ORDER BY salario DESC, nombre ASC LIMIT 5;"
      ]
    },
    {
      "cell_type": "code",
      "execution_count": null,
      "metadata": {
        "colab": {
          "base_uri": "https://localhost:8080/"
        },
        "id": "K8a_IsZHeqRz",
        "outputId": "2dd2a27c-232c-45d9-ba18-1c218c2ce889"
      },
      "outputs": [
        {
          "name": "stdout",
          "output_type": "stream",
          "text": [
            " * sqlite:////content/drive/MyDrive/Data_Valencia/love4pets.db\n",
            "Done.\n"
          ]
        },
        {
          "data": {
            "text/html": [
              "<table>\n",
              "    <thead>\n",
              "        <tr>\n",
              "            <th>nombre</th>\n",
              "            <th>salario</th>\n",
              "        </tr>\n",
              "    </thead>\n",
              "    <tbody>\n",
              "        <tr>\n",
              "            <td>Sergio Reyes Gallardo</td>\n",
              "            <td>1000</td>\n",
              "        </tr>\n",
              "        <tr>\n",
              "            <td>Nil Soler Diez</td>\n",
              "            <td>1100</td>\n",
              "        </tr>\n",
              "        <tr>\n",
              "            <td>Lucas Serrano Caballero</td>\n",
              "            <td>1200</td>\n",
              "        </tr>\n",
              "        <tr>\n",
              "            <td>Pablo Pons Sanz</td>\n",
              "            <td>1350</td>\n",
              "        </tr>\n",
              "        <tr>\n",
              "            <td>Guillermo Vidal Gomez</td>\n",
              "            <td>1400</td>\n",
              "        </tr>\n",
              "    </tbody>\n",
              "</table>"
            ],
            "text/plain": [
              "[('Sergio Reyes Gallardo', 1000),\n",
              " ('Nil Soler Diez', 1100),\n",
              " ('Lucas Serrano Caballero', 1200),\n",
              " ('Pablo Pons Sanz', 1350),\n",
              " ('Guillermo Vidal Gomez', 1400)]"
            ]
          },
          "execution_count": 15,
          "metadata": {},
          "output_type": "execute_result"
        }
      ],
      "source": [
        "%sql select nombre,salario FROM empleado ORDER BY salario ASC LIMIT 5;"
      ]
    },
    {
      "cell_type": "markdown",
      "metadata": {
        "id": "evCeve0HeqRz"
      },
      "source": [
        "### Filtro sobre operación de selección, DISTINCT\n",
        "------\n",
        "La Instrucción DISTINCT omite en el resultado los campos que son iguales.\n",
        "\n",
        "Veamos un ejemplos:"
      ]
    },
    {
      "cell_type": "code",
      "execution_count": null,
      "metadata": {
        "colab": {
          "base_uri": "https://localhost:8080/",
          "height": 326
        },
        "id": "-_geFj-leqRz",
        "outputId": "5085a79f-8717-4e78-da37-1c6d0d6eab54"
      },
      "outputs": [
        {
          "name": "stdout",
          "output_type": "stream",
          "text": [
            " * sqlite:////content/drive/MyDrive/Telmo/love4pets.db\n",
            "Done.\n"
          ]
        },
        {
          "data": {
            "text/html": [
              "<table>\n",
              "    <thead>\n",
              "        <tr>\n",
              "            <th>salario</th>\n",
              "            <th>nombre</th>\n",
              "        </tr>\n",
              "    </thead>\n",
              "    <tbody>\n",
              "        <tr>\n",
              "            <td>1900</td>\n",
              "            <td>Miguel Soto</td>\n",
              "        </tr>\n",
              "        <tr>\n",
              "            <td>1850</td>\n",
              "            <td>Alejandro Fernandez</td>\n",
              "        </tr>\n",
              "        <tr>\n",
              "            <td>1600</td>\n",
              "            <td>Saul Moreno Santos</td>\n",
              "        </tr>\n",
              "        <tr>\n",
              "            <td>1600</td>\n",
              "            <td>Isaac Jimenez Ortiz</td>\n",
              "        </tr>\n",
              "        <tr>\n",
              "            <td>1500</td>\n",
              "            <td>Andres Riera Herrera</td>\n",
              "        </tr>\n",
              "        <tr>\n",
              "            <td>1500</td>\n",
              "            <td>Daniel Quintero Quintero</td>\n",
              "        </tr>\n",
              "        <tr>\n",
              "            <td>1500</td>\n",
              "            <td>Juan Manuel Olivares</td>\n",
              "        </tr>\n",
              "        <tr>\n",
              "            <td>1400</td>\n",
              "            <td>Guillermo Vidal Gomez</td>\n",
              "        </tr>\n",
              "        <tr>\n",
              "            <td>1350</td>\n",
              "            <td>Pablo Pons Sanz</td>\n",
              "        </tr>\n",
              "        <tr>\n",
              "            <td>1200</td>\n",
              "            <td>Lucas Serrano Caballero</td>\n",
              "        </tr>\n",
              "        <tr>\n",
              "            <td>1100</td>\n",
              "            <td>Nil Soler Diez</td>\n",
              "        </tr>\n",
              "        <tr>\n",
              "            <td>1000</td>\n",
              "            <td>Sergio Reyes Gallardo</td>\n",
              "        </tr>\n",
              "    </tbody>\n",
              "</table>"
            ],
            "text/plain": [
              "[(1900, 'Miguel Soto'),\n",
              " (1850, 'Alejandro Fernandez'),\n",
              " (1600, 'Saul Moreno Santos'),\n",
              " (1600, 'Isaac Jimenez Ortiz'),\n",
              " (1500, 'Andres Riera Herrera'),\n",
              " (1500, 'Daniel Quintero Quintero'),\n",
              " (1500, 'Juan Manuel Olivares'),\n",
              " (1400, 'Guillermo Vidal Gomez'),\n",
              " (1350, 'Pablo Pons Sanz'),\n",
              " (1200, 'Lucas Serrano Caballero'),\n",
              " (1100, 'Nil Soler Diez'),\n",
              " (1000, 'Sergio Reyes Gallardo')]"
            ]
          },
          "execution_count": 24,
          "metadata": {},
          "output_type": "execute_result"
        }
      ],
      "source": [
        "%sql select DISTINCT salario, nombre  FROM empleado ORDER BY salario DESC;"
      ]
    },
    {
      "cell_type": "markdown",
      "metadata": {
        "id": "N-TlYxaheqR0"
      },
      "source": [
        "En el ejemplo anterior se muestran solamente los diferentes salarios, aún cuando 2 empleados tienen un sueldo de 1600 y otros 2 de 1500"
      ]
    },
    {
      "cell_type": "markdown",
      "metadata": {
        "id": "pTF9yceFeqR0"
      },
      "source": [
        "### La Clausula **WHERE**\n",
        "Se usa para indicar que se limita la selección a los campos que cumplan una determinada condición.\n",
        "\n",
        "```sql\n",
        "select campo1,campo2,...,campoN FROM Tabla WHERE condición;\n",
        "```\n",
        "\n",
        "#### Operadores usados en la clausula WHERE\n",
        "| Operador |  Descripción |\n",
        "|----------|--------------|\n",
        "| = |  igualdad |\n",
        "| <> |  Distinto uno de otro |\n",
        "| > |  Mayor que |\n",
        "| < |  Menor que |\n",
        "| =< |  Mayor o igual que |\n",
        "| <= |  Menor o igual que |\n",
        "| Between |  Entre un cierto rango |\n",
        "| LIKE |  Cumple una estructura dada |\n",
        "| IN |  Permite comparar con multiples valores |\n",
        "\n",
        "Veamos algunos ejemplos de la clausula WHERE:"
      ]
    },
    {
      "cell_type": "code",
      "execution_count": null,
      "metadata": {
        "colab": {
          "base_uri": "https://localhost:8080/",
          "height": 116
        },
        "id": "obIuN8SkeqR0",
        "outputId": "71c1724f-dc16-4bf4-b234-f8d28c23a143"
      },
      "outputs": [
        {
          "name": "stdout",
          "output_type": "stream",
          "text": [
            " * sqlite:////content/drive/MyDrive/Telmo/love4pets.db\n",
            "Done.\n"
          ]
        },
        {
          "data": {
            "text/html": [
              "<table>\n",
              "    <thead>\n",
              "        <tr>\n",
              "            <th>nombre</th>\n",
              "            <th>salario</th>\n",
              "        </tr>\n",
              "    </thead>\n",
              "    <tbody>\n",
              "        <tr>\n",
              "            <td>Miguel Soto</td>\n",
              "            <td>1900</td>\n",
              "        </tr>\n",
              "        <tr>\n",
              "            <td>Alejandro Fernandez</td>\n",
              "            <td>1850</td>\n",
              "        </tr>\n",
              "    </tbody>\n",
              "</table>"
            ],
            "text/plain": [
              "[('Miguel Soto', 1900), ('Alejandro Fernandez', 1850)]"
            ]
          },
          "execution_count": 27,
          "metadata": {},
          "output_type": "execute_result"
        }
      ],
      "source": [
        "%sql select nombre, salario FROM empleado WHERE salario>1500 ORDER BY salario DESC LIMIT 2;"
      ]
    },
    {
      "cell_type": "code",
      "execution_count": null,
      "metadata": {
        "colab": {
          "base_uri": "https://localhost:8080/",
          "height": 95
        },
        "id": "zjwznr6neqR1",
        "outputId": "0a501116-fd43-4d67-a014-b7eb27fb5a89"
      },
      "outputs": [
        {
          "name": "stdout",
          "output_type": "stream",
          "text": [
            " * sqlite:////content/drive/MyDrive/Telmo/love4pets.db\n",
            "Done.\n"
          ]
        },
        {
          "data": {
            "text/html": [
              "<table>\n",
              "    <thead>\n",
              "        <tr>\n",
              "            <th>nombre</th>\n",
              "            <th>salario</th>\n",
              "        </tr>\n",
              "    </thead>\n",
              "    <tbody>\n",
              "        <tr>\n",
              "            <td>Pablo Pons Sanz</td>\n",
              "            <td>1350</td>\n",
              "        </tr>\n",
              "    </tbody>\n",
              "</table>"
            ],
            "text/plain": [
              "[('Pablo Pons Sanz', 1350)]"
            ]
          },
          "execution_count": 28,
          "metadata": {},
          "output_type": "execute_result"
        }
      ],
      "source": [
        "%sql select nombre, salario FROM empleado WHERE salario = 1350;"
      ]
    },
    {
      "cell_type": "code",
      "execution_count": null,
      "metadata": {
        "colab": {
          "base_uri": "https://localhost:8080/",
          "height": 200
        },
        "id": "VgPHbRiJeqR1",
        "outputId": "d2e17ff9-7969-4443-c660-1ea03eeb5cda"
      },
      "outputs": [
        {
          "name": "stdout",
          "output_type": "stream",
          "text": [
            " * sqlite:////content/drive/MyDrive/Telmo/love4pets.db\n",
            "Done.\n"
          ]
        },
        {
          "data": {
            "text/html": [
              "<table>\n",
              "    <thead>\n",
              "        <tr>\n",
              "            <th>nombre</th>\n",
              "            <th>salario</th>\n",
              "        </tr>\n",
              "    </thead>\n",
              "    <tbody>\n",
              "        <tr>\n",
              "            <td>Andres Riera Herrera</td>\n",
              "            <td>1500</td>\n",
              "        </tr>\n",
              "        <tr>\n",
              "            <td>Saul Moreno Santos</td>\n",
              "            <td>1600</td>\n",
              "        </tr>\n",
              "        <tr>\n",
              "            <td>Isaac Jimenez Ortiz</td>\n",
              "            <td>1600</td>\n",
              "        </tr>\n",
              "        <tr>\n",
              "            <td>Guillermo Vidal Gomez</td>\n",
              "            <td>1400</td>\n",
              "        </tr>\n",
              "        <tr>\n",
              "            <td>Daniel Quintero Quintero</td>\n",
              "            <td>1500</td>\n",
              "        </tr>\n",
              "        <tr>\n",
              "            <td>Juan Manuel Olivares</td>\n",
              "            <td>1500</td>\n",
              "        </tr>\n",
              "    </tbody>\n",
              "</table>"
            ],
            "text/plain": [
              "[('Andres Riera Herrera', 1500),\n",
              " ('Saul Moreno Santos', 1600),\n",
              " ('Isaac Jimenez Ortiz', 1600),\n",
              " ('Guillermo Vidal Gomez', 1400),\n",
              " ('Daniel Quintero Quintero', 1500),\n",
              " ('Juan Manuel Olivares', 1500)]"
            ]
          },
          "execution_count": 29,
          "metadata": {},
          "output_type": "execute_result"
        }
      ],
      "source": [
        "%sql select nombre, salario FROM empleado WHERE ( salario >= 1400 AND salario <= 1600 );"
      ]
    },
    {
      "cell_type": "code",
      "execution_count": null,
      "metadata": {
        "colab": {
          "base_uri": "https://localhost:8080/",
          "height": 200
        },
        "id": "KBIdINo3WciC",
        "outputId": "c83b629a-dab9-4512-cd21-33bbf586ff8c"
      },
      "outputs": [
        {
          "name": "stdout",
          "output_type": "stream",
          "text": [
            " * sqlite:////content/drive/MyDrive/Telmo/love4pets.db\n",
            "Done.\n"
          ]
        },
        {
          "data": {
            "text/html": [
              "<table>\n",
              "    <thead>\n",
              "        <tr>\n",
              "            <th>nombre</th>\n",
              "            <th>salario</th>\n",
              "        </tr>\n",
              "    </thead>\n",
              "    <tbody>\n",
              "        <tr>\n",
              "            <td>Andres Riera Herrera</td>\n",
              "            <td>1500</td>\n",
              "        </tr>\n",
              "        <tr>\n",
              "            <td>Saul Moreno Santos</td>\n",
              "            <td>1600</td>\n",
              "        </tr>\n",
              "        <tr>\n",
              "            <td>Isaac Jimenez Ortiz</td>\n",
              "            <td>1600</td>\n",
              "        </tr>\n",
              "        <tr>\n",
              "            <td>Guillermo Vidal Gomez</td>\n",
              "            <td>1400</td>\n",
              "        </tr>\n",
              "        <tr>\n",
              "            <td>Daniel Quintero Quintero</td>\n",
              "            <td>1500</td>\n",
              "        </tr>\n",
              "        <tr>\n",
              "            <td>Juan Manuel Olivares</td>\n",
              "            <td>1500</td>\n",
              "        </tr>\n",
              "    </tbody>\n",
              "</table>"
            ],
            "text/plain": [
              "[('Andres Riera Herrera', 1500),\n",
              " ('Saul Moreno Santos', 1600),\n",
              " ('Isaac Jimenez Ortiz', 1600),\n",
              " ('Guillermo Vidal Gomez', 1400),\n",
              " ('Daniel Quintero Quintero', 1500),\n",
              " ('Juan Manuel Olivares', 1500)]"
            ]
          },
          "execution_count": 31,
          "metadata": {},
          "output_type": "execute_result"
        }
      ],
      "source": [
        "%sql select nombre, salario FROM empleado WHERE salario BETWEEN 1400 AND 1600;"
      ]
    },
    {
      "cell_type": "code",
      "execution_count": null,
      "metadata": {
        "colab": {
          "base_uri": "https://localhost:8080/",
          "height": 137
        },
        "id": "BaXiny8XWzku",
        "outputId": "1a236e34-7d6d-45c5-e0f9-1d1428a2a9ce"
      },
      "outputs": [
        {
          "name": "stdout",
          "output_type": "stream",
          "text": [
            " * sqlite:////content/drive/MyDrive/Telmo/love4pets.db\n",
            "Done.\n"
          ]
        },
        {
          "data": {
            "text/html": [
              "<table>\n",
              "    <thead>\n",
              "        <tr>\n",
              "            <th>nombre</th>\n",
              "            <th>salario</th>\n",
              "        </tr>\n",
              "    </thead>\n",
              "    <tbody>\n",
              "        <tr>\n",
              "            <td>Saul Moreno Santos</td>\n",
              "            <td>1600</td>\n",
              "        </tr>\n",
              "        <tr>\n",
              "            <td>Isaac Jimenez Ortiz</td>\n",
              "            <td>1600</td>\n",
              "        </tr>\n",
              "        <tr>\n",
              "            <td>Guillermo Vidal Gomez</td>\n",
              "            <td>1400</td>\n",
              "        </tr>\n",
              "    </tbody>\n",
              "</table>"
            ],
            "text/plain": [
              "[('Saul Moreno Santos', 1600),\n",
              " ('Isaac Jimenez Ortiz', 1600),\n",
              " ('Guillermo Vidal Gomez', 1400)]"
            ]
          },
          "execution_count": 32,
          "metadata": {},
          "output_type": "execute_result"
        }
      ],
      "source": [
        "%sql select nombre, salario FROM empleado WHERE salario IN (1400,1600);"
      ]
    },
    {
      "cell_type": "markdown",
      "metadata": {
        "id": "LDmz-VhHeqR2"
      },
      "source": [
        "### **Ejercicio 2**\n",
        "----\n",
        "Con el propósito actualizar la información de los clientes se quiere contactar a aquellos clientes que no tienen asociada una persona de contacto, para esto se pide que muestre de la tabla \"cliente\" los campos \"nombre\" y \"telefono\" de los clientes que no tienen un contacto registrado."
      ]
    },
    {
      "cell_type": "code",
      "execution_count": null,
      "metadata": {
        "colab": {
          "base_uri": "https://localhost:8080/"
        },
        "id": "uK1G0dA5hYrj",
        "outputId": "4efcd741-fbcc-4556-9ce0-d6f0d45dde5e"
      },
      "outputs": [
        {
          "name": "stdout",
          "output_type": "stream",
          "text": [
            " * sqlite:////content/drive/MyDrive/Data_Valencia/love4pets.db\n",
            "Done.\n"
          ]
        },
        {
          "data": {
            "text/html": [
              "<table>\n",
              "    <thead>\n",
              "        <tr>\n",
              "            <th>cid</th>\n",
              "            <th>name</th>\n",
              "            <th>type</th>\n",
              "            <th>notnull</th>\n",
              "            <th>dflt_value</th>\n",
              "            <th>pk</th>\n",
              "        </tr>\n",
              "    </thead>\n",
              "    <tbody>\n",
              "        <tr>\n",
              "            <td>0</td>\n",
              "            <td>cliente_id</td>\n",
              "            <td>INTEGER</td>\n",
              "            <td>1</td>\n",
              "            <td>None</td>\n",
              "            <td>1</td>\n",
              "        </tr>\n",
              "        <tr>\n",
              "            <td>1</td>\n",
              "            <td>nombre</td>\n",
              "            <td>TEXT</td>\n",
              "            <td>1</td>\n",
              "            <td>None</td>\n",
              "            <td>0</td>\n",
              "        </tr>\n",
              "        <tr>\n",
              "            <td>2</td>\n",
              "            <td>email</td>\n",
              "            <td>TEXT</td>\n",
              "            <td>0</td>\n",
              "            <td>None</td>\n",
              "            <td>0</td>\n",
              "        </tr>\n",
              "        <tr>\n",
              "            <td>3</td>\n",
              "            <td>telefono</td>\n",
              "            <td>TEXT</td>\n",
              "            <td>1</td>\n",
              "            <td>None</td>\n",
              "            <td>0</td>\n",
              "        </tr>\n",
              "        <tr>\n",
              "            <td>4</td>\n",
              "            <td>contacto</td>\n",
              "            <td>TEXT</td>\n",
              "            <td>0</td>\n",
              "            <td>None</td>\n",
              "            <td>0</td>\n",
              "        </tr>\n",
              "        <tr>\n",
              "            <td>5</td>\n",
              "            <td>telefono_contacto</td>\n",
              "            <td>TEXT</td>\n",
              "            <td>0</td>\n",
              "            <td>None</td>\n",
              "            <td>0</td>\n",
              "        </tr>\n",
              "        <tr>\n",
              "            <td>6</td>\n",
              "            <td>ciudad</td>\n",
              "            <td>TEXT</td>\n",
              "            <td>1</td>\n",
              "            <td>None</td>\n",
              "            <td>0</td>\n",
              "        </tr>\n",
              "    </tbody>\n",
              "</table>"
            ],
            "text/plain": [
              "[(0, 'cliente_id', 'INTEGER', 1, None, 1),\n",
              " (1, 'nombre', 'TEXT', 1, None, 0),\n",
              " (2, 'email', 'TEXT', 0, None, 0),\n",
              " (3, 'telefono', 'TEXT', 1, None, 0),\n",
              " (4, 'contacto', 'TEXT', 0, None, 0),\n",
              " (5, 'telefono_contacto', 'TEXT', 0, None, 0),\n",
              " (6, 'ciudad', 'TEXT', 1, None, 0)]"
            ]
          },
          "execution_count": 20,
          "metadata": {},
          "output_type": "execute_result"
        }
      ],
      "source": [
        "%sql PRAGMA table_info(cliente)"
      ]
    },
    {
      "cell_type": "code",
      "execution_count": null,
      "metadata": {
        "colab": {
          "base_uri": "https://localhost:8080/",
          "height": 389
        },
        "id": "ApgpwlBHhhTE",
        "outputId": "56671998-bc23-4985-a47f-810aaf6b8020"
      },
      "outputs": [
        {
          "name": "stdout",
          "output_type": "stream",
          "text": [
            " * sqlite:////content/drive/MyDrive/Telmo/love4pets.db\n",
            "Done.\n"
          ]
        },
        {
          "data": {
            "text/html": [
              "<table>\n",
              "    <thead>\n",
              "        <tr>\n",
              "            <th>cliente_id</th>\n",
              "            <th>nombre</th>\n",
              "            <th>email</th>\n",
              "            <th>telefono</th>\n",
              "            <th>contacto</th>\n",
              "            <th>telefono_contacto</th>\n",
              "            <th>ciudad</th>\n",
              "        </tr>\n",
              "    </thead>\n",
              "    <tbody>\n",
              "        <tr>\n",
              "            <td>1</td>\n",
              "            <td>Mario Flores Gallardo</td>\n",
              "            <td>marioflores@gmail.com</td>\n",
              "            <td>036-15-36</td>\n",
              "            <td>Aintzane Alvarez Iglesias</td>\n",
              "            <td>210-35-57</td>\n",
              "            <td>Madrid</td>\n",
              "        </tr>\n",
              "        <tr>\n",
              "            <td>2</td>\n",
              "            <td>Arnau Medina Garcia</td>\n",
              "            <td>arnaumedina@gmail.com</td>\n",
              "            <td>094-10-88</td>\n",
              "            <td></td>\n",
              "            <td></td>\n",
              "            <td>Madrid</td>\n",
              "        </tr>\n",
              "        <tr>\n",
              "            <td>3</td>\n",
              "            <td>Ivan Medina Rubio</td>\n",
              "            <td>ivanmedina@gmail.com</td>\n",
              "            <td>083-08-72</td>\n",
              "            <td>Javier Domenech</td>\n",
              "            <td>488-48-46</td>\n",
              "            <td>Toledo</td>\n",
              "        </tr>\n",
              "        <tr>\n",
              "            <td>4</td>\n",
              "            <td>Jan Vargas Santana</td>\n",
              "            <td>vargasjan@gmail.com</td>\n",
              "            <td>780-65-24</td>\n",
              "            <td></td>\n",
              "            <td></td>\n",
              "            <td>Madrid</td>\n",
              "        </tr>\n",
              "        <tr>\n",
              "            <td>5</td>\n",
              "            <td>Carlos Costa Guerrero</td>\n",
              "            <td>carloscostag@gmail.com</td>\n",
              "            <td>180-65-24</td>\n",
              "            <td>Cristian Jimenez</td>\n",
              "            <td>801-28-09</td>\n",
              "            <td>Madrid</td>\n",
              "        </tr>\n",
              "        <tr>\n",
              "            <td>6</td>\n",
              "            <td>Roberto Martin Ortega</td>\n",
              "            <td>robertmartin@gmail.com</td>\n",
              "            <td>742-63-27</td>\n",
              "            <td>Jorge Vila Gallardo</td>\n",
              "            <td>564-52-13</td>\n",
              "            <td>Madrid</td>\n",
              "        </tr>\n",
              "        <tr>\n",
              "            <td>7</td>\n",
              "            <td>Gabriel Gonzalez Ortega</td>\n",
              "            <td>gabogonzo@gmail.com</td>\n",
              "            <td>780-13-14</td>\n",
              "            <td>Miguel Bosch Parra</td>\n",
              "            <td>882-17-20</td>\n",
              "            <td>Madrid</td>\n",
              "        </tr>\n",
              "        <tr>\n",
              "            <td>8</td>\n",
              "            <td>Rayan Leon Ferrer</td>\n",
              "            <td>rayito@gmail.com</td>\n",
              "            <td>430-65-24</td>\n",
              "            <td>Santiago Perez Ramos</td>\n",
              "            <td>577-21-24</td>\n",
              "            <td>Madrid</td>\n",
              "        </tr>\n",
              "        <tr>\n",
              "            <td>9</td>\n",
              "            <td>Aitor Ruiz Sanchez</td>\n",
              "            <td>aitorsanchez@gmail.com</td>\n",
              "            <td>780-77-24</td>\n",
              "            <td>Gabriel Gonzalez Ortega</td>\n",
              "            <td>784-96-31</td>\n",
              "            <td>Madrid</td>\n",
              "        </tr>\n",
              "        <tr>\n",
              "            <td>10</td>\n",
              "            <td>Eric Rubio Carrasco</td>\n",
              "            <td>ericrubio@gmail.com</td>\n",
              "            <td>780-65-79</td>\n",
              "            <td>Cristian Jimenez Martinez</td>\n",
              "            <td>147-01-12</td>\n",
              "            <td>Madrid</td>\n",
              "        </tr>\n",
              "        <tr>\n",
              "            <td>11</td>\n",
              "            <td>Alberto Sanz Ruiz</td>\n",
              "            <td>albert@gmail.com</td>\n",
              "            <td>781-15-24</td>\n",
              "            <td>Gabriel Gonzalez Ortega</td>\n",
              "            <td>028-51-21</td>\n",
              "            <td>Madrid</td>\n",
              "        </tr>\n",
              "        <tr>\n",
              "            <td>12</td>\n",
              "            <td>Jesus Medina Hernandez</td>\n",
              "            <td>jmedinah@gmail.com</td>\n",
              "            <td>782-35-25</td>\n",
              "            <td>Vctor Gonzalez Castillo</td>\n",
              "            <td>661-85-12</td>\n",
              "            <td>Madrid</td>\n",
              "        </tr>\n",
              "        <tr>\n",
              "            <td>13</td>\n",
              "            <td>Pol Moya Pena</td>\n",
              "            <td>polmoya@gmail.com</td>\n",
              "            <td>780-25-24</td>\n",
              "            <td></td>\n",
              "            <td></td>\n",
              "            <td>Toledo</td>\n",
              "        </tr>\n",
              "        <tr>\n",
              "            <td>14</td>\n",
              "            <td>Jose Gallardo Rodriguez</td>\n",
              "            <td>josegallardo@gmail.com</td>\n",
              "            <td>783-65-11</td>\n",
              "            <td>Hector Martin Morales</td>\n",
              "            <td>867-97-99</td>\n",
              "            <td>Madrid</td>\n",
              "        </tr>\n",
              "        <tr>\n",
              "            <td>15</td>\n",
              "            <td>Manuel Angel Gil</td>\n",
              "            <td>manano@gmail.com</td>\n",
              "            <td>733-65-16</td>\n",
              "            <td>Hector Navarro</td>\n",
              "            <td>067-97-91</td>\n",
              "            <td>Madrid</td>\n",
              "        </tr>\n",
              "    </tbody>\n",
              "</table>"
            ],
            "text/plain": [
              "[(1, 'Mario Flores Gallardo', 'marioflores@gmail.com', '036-15-36', 'Aintzane Alvarez Iglesias', '210-35-57', 'Madrid'),\n",
              " (2, 'Arnau Medina Garcia', 'arnaumedina@gmail.com', '094-10-88', '', '', 'Madrid'),\n",
              " (3, 'Ivan Medina Rubio', 'ivanmedina@gmail.com', '083-08-72', 'Javier Domenech', '488-48-46', 'Toledo'),\n",
              " (4, 'Jan Vargas Santana', 'vargasjan@gmail.com', '780-65-24', '', '', 'Madrid'),\n",
              " (5, 'Carlos Costa Guerrero', 'carloscostag@gmail.com', '180-65-24', 'Cristian Jimenez', '801-28-09', 'Madrid'),\n",
              " (6, 'Roberto Martin Ortega', 'robertmartin@gmail.com', '742-63-27', 'Jorge Vila Gallardo', '564-52-13', 'Madrid'),\n",
              " (7, 'Gabriel Gonzalez Ortega', 'gabogonzo@gmail.com', '780-13-14', 'Miguel Bosch Parra', '882-17-20', 'Madrid'),\n",
              " (8, 'Rayan Leon Ferrer', 'rayito@gmail.com', '430-65-24', 'Santiago Perez Ramos', '577-21-24', 'Madrid'),\n",
              " (9, 'Aitor Ruiz Sanchez', 'aitorsanchez@gmail.com', '780-77-24', 'Gabriel Gonzalez Ortega', '784-96-31', 'Madrid'),\n",
              " (10, 'Eric Rubio Carrasco', 'ericrubio@gmail.com', '780-65-79', 'Cristian Jimenez Martinez', '147-01-12', 'Madrid'),\n",
              " (11, 'Alberto Sanz Ruiz', 'albert@gmail.com', '781-15-24', 'Gabriel Gonzalez Ortega', '028-51-21', 'Madrid'),\n",
              " (12, 'Jesus Medina Hernandez', 'jmedinah@gmail.com', '782-35-25', 'Vctor Gonzalez Castillo', '661-85-12', 'Madrid'),\n",
              " (13, 'Pol Moya Pena', 'polmoya@gmail.com', '780-25-24', '', '', 'Toledo'),\n",
              " (14, 'Jose Gallardo Rodriguez', 'josegallardo@gmail.com', '783-65-11', 'Hector Martin Morales', '867-97-99', 'Madrid'),\n",
              " (15, 'Manuel Angel Gil', 'manano@gmail.com', '733-65-16', 'Hector Navarro', '067-97-91', 'Madrid')]"
            ]
          },
          "execution_count": 33,
          "metadata": {},
          "output_type": "execute_result"
        }
      ],
      "source": [
        "%sql select * from cliente"
      ]
    },
    {
      "cell_type": "code",
      "execution_count": null,
      "metadata": {
        "colab": {
          "base_uri": "https://localhost:8080/",
          "height": 137
        },
        "id": "kxo6zMRkeqR3",
        "outputId": "258c7863-512f-421f-b083-f78aaa80cf3d"
      },
      "outputs": [
        {
          "name": "stdout",
          "output_type": "stream",
          "text": [
            " * sqlite:////content/drive/MyDrive/Telmo/love4pets.db\n",
            "Done.\n"
          ]
        },
        {
          "data": {
            "text/html": [
              "<table>\n",
              "    <thead>\n",
              "        <tr>\n",
              "            <th>nombre</th>\n",
              "            <th>telefono</th>\n",
              "        </tr>\n",
              "    </thead>\n",
              "    <tbody>\n",
              "        <tr>\n",
              "            <td>Arnau Medina Garcia</td>\n",
              "            <td>094-10-88</td>\n",
              "        </tr>\n",
              "        <tr>\n",
              "            <td>Jan Vargas Santana</td>\n",
              "            <td>780-65-24</td>\n",
              "        </tr>\n",
              "        <tr>\n",
              "            <td>Pol Moya Pena</td>\n",
              "            <td>780-25-24</td>\n",
              "        </tr>\n",
              "    </tbody>\n",
              "</table>"
            ],
            "text/plain": [
              "[('Arnau Medina Garcia', '094-10-88'),\n",
              " ('Jan Vargas Santana', '780-65-24'),\n",
              " ('Pol Moya Pena', '780-25-24')]"
            ]
          },
          "execution_count": 34,
          "metadata": {},
          "output_type": "execute_result"
        }
      ],
      "source": [
        "%%sql\n",
        "SELECT nombre,telefono\n",
        "\n",
        "FROM cliente\n",
        "\n",
        "WHERE contacto LIKE ''"
      ]
    },
    {
      "cell_type": "code",
      "execution_count": null,
      "metadata": {
        "colab": {
          "base_uri": "https://localhost:8080/",
          "height": 137
        },
        "id": "F1WEajuCszix",
        "outputId": "6be5b19b-9bf1-4a47-f413-3aae2ff3d315"
      },
      "outputs": [
        {
          "name": "stdout",
          "output_type": "stream",
          "text": [
            " * sqlite:////content/drive/MyDrive/Telmo/love4pets.db\n",
            "Done.\n"
          ]
        },
        {
          "data": {
            "text/html": [
              "<table>\n",
              "    <thead>\n",
              "        <tr>\n",
              "            <th>nombre</th>\n",
              "            <th>telefono</th>\n",
              "        </tr>\n",
              "    </thead>\n",
              "    <tbody>\n",
              "        <tr>\n",
              "            <td>Arnau Medina Garcia</td>\n",
              "            <td>094-10-88</td>\n",
              "        </tr>\n",
              "        <tr>\n",
              "            <td>Jan Vargas Santana</td>\n",
              "            <td>780-65-24</td>\n",
              "        </tr>\n",
              "        <tr>\n",
              "            <td>Pol Moya Pena</td>\n",
              "            <td>780-25-24</td>\n",
              "        </tr>\n",
              "    </tbody>\n",
              "</table>"
            ],
            "text/plain": [
              "[('Arnau Medina Garcia', '094-10-88'),\n",
              " ('Jan Vargas Santana', '780-65-24'),\n",
              " ('Pol Moya Pena', '780-25-24')]"
            ]
          },
          "execution_count": 35,
          "metadata": {},
          "output_type": "execute_result"
        }
      ],
      "source": [
        "%%sql\n",
        "SELECT nombre,telefono\n",
        "\n",
        "FROM cliente\n",
        "\n",
        "WHERE LENGTH(contacto)=0"
      ]
    },
    {
      "cell_type": "markdown",
      "metadata": {
        "id": "aHbuuwlteqR3"
      },
      "source": [
        "### EL operador BETWEEN\n",
        "Esta última instrucción puede escribirse de otra forma usando el operador **BETWEEN**, este operador es usado cuando queremos indicar que deseamos recuperar los registros según un intervalo de valores dado sobre un campo."
      ]
    },
    {
      "cell_type": "code",
      "execution_count": null,
      "metadata": {
        "colab": {
          "base_uri": "https://localhost:8080/"
        },
        "id": "3sEoDz07eqR3",
        "outputId": "355e70db-d139-4f93-ee1c-32d16bab4f82"
      },
      "outputs": [
        {
          "name": "stdout",
          "output_type": "stream",
          "text": [
            " * sqlite:////content/drive/MyDrive/Data_Valencia/love4pets.db\n",
            "Done.\n"
          ]
        },
        {
          "data": {
            "text/html": [
              "<table>\n",
              "    <thead>\n",
              "        <tr>\n",
              "            <th>nombre</th>\n",
              "            <th>salario</th>\n",
              "        </tr>\n",
              "    </thead>\n",
              "    <tbody>\n",
              "        <tr>\n",
              "            <td>Andres Riera Herrera</td>\n",
              "            <td>1500</td>\n",
              "        </tr>\n",
              "        <tr>\n",
              "            <td>Saul Moreno Santos</td>\n",
              "            <td>1600</td>\n",
              "        </tr>\n",
              "        <tr>\n",
              "            <td>Isaac Jimenez Ortiz</td>\n",
              "            <td>1600</td>\n",
              "        </tr>\n",
              "        <tr>\n",
              "            <td>Guillermo Vidal Gomez</td>\n",
              "            <td>1400</td>\n",
              "        </tr>\n",
              "        <tr>\n",
              "            <td>Daniel Quintero Quintero</td>\n",
              "            <td>1500</td>\n",
              "        </tr>\n",
              "        <tr>\n",
              "            <td>Juan Manuel Olivares</td>\n",
              "            <td>1500</td>\n",
              "        </tr>\n",
              "    </tbody>\n",
              "</table>"
            ],
            "text/plain": [
              "[('Andres Riera Herrera', 1500),\n",
              " ('Saul Moreno Santos', 1600),\n",
              " ('Isaac Jimenez Ortiz', 1600),\n",
              " ('Guillermo Vidal Gomez', 1400),\n",
              " ('Daniel Quintero Quintero', 1500),\n",
              " ('Juan Manuel Olivares', 1500)]"
            ]
          },
          "execution_count": 24,
          "metadata": {},
          "output_type": "execute_result"
        }
      ],
      "source": [
        "%sql select nombre, salario FROM empleado WHERE salario Between 1400 AND 1600"
      ]
    },
    {
      "cell_type": "markdown",
      "metadata": {
        "id": "L2LAr5XAeqR4"
      },
      "source": [
        "### EL operador LIKE\n",
        "Este operador es usado cuando se filtra la consulta con algún modelo o patrón sobre una columna.\n",
        "Este operador se combina con simbolos \"%\" y \"_\":\n",
        "* % Representa cero o mas caracteres a ser reemplazados en el patron por otros.\n",
        "* _ Representa un único caracter.\n",
        "\n",
        "Veamos algúnos ejemplos:"
      ]
    },
    {
      "cell_type": "code",
      "execution_count": null,
      "metadata": {
        "colab": {
          "base_uri": "https://localhost:8080/",
          "height": 95
        },
        "id": "hXjcP0treqR4",
        "outputId": "320845b0-def0-474d-86e5-741538ef6a9b"
      },
      "outputs": [
        {
          "name": "stdout",
          "output_type": "stream",
          "text": [
            " * sqlite:////content/drive/MyDrive/Telmo/love4pets.db\n",
            "Done.\n"
          ]
        },
        {
          "data": {
            "text/html": [
              "<table>\n",
              "    <thead>\n",
              "        <tr>\n",
              "            <th>cliente_id</th>\n",
              "            <th>nombre</th>\n",
              "            <th>email</th>\n",
              "            <th>telefono</th>\n",
              "            <th>contacto</th>\n",
              "            <th>telefono_contacto</th>\n",
              "            <th>ciudad</th>\n",
              "        </tr>\n",
              "    </thead>\n",
              "    <tbody>\n",
              "        <tr>\n",
              "            <td>2</td>\n",
              "            <td>Arnau Medina Garcia</td>\n",
              "            <td>arnaumedina@gmail.com</td>\n",
              "            <td>094-10-88</td>\n",
              "            <td></td>\n",
              "            <td></td>\n",
              "            <td>Madrid</td>\n",
              "        </tr>\n",
              "    </tbody>\n",
              "</table>"
            ],
            "text/plain": [
              "[(2, 'Arnau Medina Garcia', 'arnaumedina@gmail.com', '094-10-88', '', '', 'Madrid')]"
            ]
          },
          "execution_count": 41,
          "metadata": {},
          "output_type": "execute_result"
        }
      ],
      "source": [
        "%sql select * FROM cliente WHERE nombre LIKE \"%Garcia%\";"
      ]
    },
    {
      "cell_type": "markdown",
      "metadata": {
        "id": "OqNAkj37eqR4"
      },
      "source": [
        "La instrucción anterior busca todos los clientes cuyo nombre contiene la secuencia de caracteres \"Medina\" en alguna posición."
      ]
    },
    {
      "cell_type": "code",
      "execution_count": null,
      "metadata": {
        "colab": {
          "base_uri": "https://localhost:8080/",
          "height": 389
        },
        "id": "QH5AG83seqR5",
        "outputId": "b7d17033-aebe-4c5d-fd90-3acf43bf9eb3"
      },
      "outputs": [
        {
          "name": "stdout",
          "output_type": "stream",
          "text": [
            " * sqlite:////content/drive/MyDrive/Telmo/love4pets.db\n",
            "Done.\n"
          ]
        },
        {
          "data": {
            "text/html": [
              "<table>\n",
              "    <thead>\n",
              "        <tr>\n",
              "            <th>cliente_id</th>\n",
              "            <th>nombre</th>\n",
              "            <th>email</th>\n",
              "            <th>telefono</th>\n",
              "            <th>contacto</th>\n",
              "            <th>telefono_contacto</th>\n",
              "            <th>ciudad</th>\n",
              "        </tr>\n",
              "    </thead>\n",
              "    <tbody>\n",
              "        <tr>\n",
              "            <td>1</td>\n",
              "            <td>Mario Flores Gallardo</td>\n",
              "            <td>marioflores@gmail.com</td>\n",
              "            <td>036-15-36</td>\n",
              "            <td>Aintzane Alvarez Iglesias</td>\n",
              "            <td>210-35-57</td>\n",
              "            <td>Madrid</td>\n",
              "        </tr>\n",
              "        <tr>\n",
              "            <td>2</td>\n",
              "            <td>Arnau Medina Garcia</td>\n",
              "            <td>arnaumedina@gmail.com</td>\n",
              "            <td>094-10-88</td>\n",
              "            <td></td>\n",
              "            <td></td>\n",
              "            <td>Madrid</td>\n",
              "        </tr>\n",
              "        <tr>\n",
              "            <td>3</td>\n",
              "            <td>Ivan Medina Rubio</td>\n",
              "            <td>ivanmedina@gmail.com</td>\n",
              "            <td>083-08-72</td>\n",
              "            <td>Javier Domenech</td>\n",
              "            <td>488-48-46</td>\n",
              "            <td>Toledo</td>\n",
              "        </tr>\n",
              "        <tr>\n",
              "            <td>4</td>\n",
              "            <td>Jan Vargas Santana</td>\n",
              "            <td>vargasjan@gmail.com</td>\n",
              "            <td>780-65-24</td>\n",
              "            <td></td>\n",
              "            <td></td>\n",
              "            <td>Madrid</td>\n",
              "        </tr>\n",
              "        <tr>\n",
              "            <td>5</td>\n",
              "            <td>Carlos Costa Guerrero</td>\n",
              "            <td>carloscostag@gmail.com</td>\n",
              "            <td>180-65-24</td>\n",
              "            <td>Cristian Jimenez</td>\n",
              "            <td>801-28-09</td>\n",
              "            <td>Madrid</td>\n",
              "        </tr>\n",
              "        <tr>\n",
              "            <td>6</td>\n",
              "            <td>Roberto Martin Ortega</td>\n",
              "            <td>robertmartin@gmail.com</td>\n",
              "            <td>742-63-27</td>\n",
              "            <td>Jorge Vila Gallardo</td>\n",
              "            <td>564-52-13</td>\n",
              "            <td>Madrid</td>\n",
              "        </tr>\n",
              "        <tr>\n",
              "            <td>7</td>\n",
              "            <td>Gabriel Gonzalez Ortega</td>\n",
              "            <td>gabogonzo@gmail.com</td>\n",
              "            <td>780-13-14</td>\n",
              "            <td>Miguel Bosch Parra</td>\n",
              "            <td>882-17-20</td>\n",
              "            <td>Madrid</td>\n",
              "        </tr>\n",
              "        <tr>\n",
              "            <td>8</td>\n",
              "            <td>Rayan Leon Ferrer</td>\n",
              "            <td>rayito@gmail.com</td>\n",
              "            <td>430-65-24</td>\n",
              "            <td>Santiago Perez Ramos</td>\n",
              "            <td>577-21-24</td>\n",
              "            <td>Madrid</td>\n",
              "        </tr>\n",
              "        <tr>\n",
              "            <td>9</td>\n",
              "            <td>Aitor Ruiz Sanchez</td>\n",
              "            <td>aitorsanchez@gmail.com</td>\n",
              "            <td>780-77-24</td>\n",
              "            <td>Gabriel Gonzalez Ortega</td>\n",
              "            <td>784-96-31</td>\n",
              "            <td>Madrid</td>\n",
              "        </tr>\n",
              "        <tr>\n",
              "            <td>10</td>\n",
              "            <td>Eric Rubio Carrasco</td>\n",
              "            <td>ericrubio@gmail.com</td>\n",
              "            <td>780-65-79</td>\n",
              "            <td>Cristian Jimenez Martinez</td>\n",
              "            <td>147-01-12</td>\n",
              "            <td>Madrid</td>\n",
              "        </tr>\n",
              "        <tr>\n",
              "            <td>11</td>\n",
              "            <td>Alberto Sanz Ruiz</td>\n",
              "            <td>albert@gmail.com</td>\n",
              "            <td>781-15-24</td>\n",
              "            <td>Gabriel Gonzalez Ortega</td>\n",
              "            <td>028-51-21</td>\n",
              "            <td>Madrid</td>\n",
              "        </tr>\n",
              "        <tr>\n",
              "            <td>12</td>\n",
              "            <td>Jesus Medina Hernandez</td>\n",
              "            <td>jmedinah@gmail.com</td>\n",
              "            <td>782-35-25</td>\n",
              "            <td>Vctor Gonzalez Castillo</td>\n",
              "            <td>661-85-12</td>\n",
              "            <td>Madrid</td>\n",
              "        </tr>\n",
              "        <tr>\n",
              "            <td>13</td>\n",
              "            <td>Pol Moya Pena</td>\n",
              "            <td>polmoya@gmail.com</td>\n",
              "            <td>780-25-24</td>\n",
              "            <td></td>\n",
              "            <td></td>\n",
              "            <td>Toledo</td>\n",
              "        </tr>\n",
              "        <tr>\n",
              "            <td>14</td>\n",
              "            <td>Jose Gallardo Rodriguez</td>\n",
              "            <td>josegallardo@gmail.com</td>\n",
              "            <td>783-65-11</td>\n",
              "            <td>Hector Martin Morales</td>\n",
              "            <td>867-97-99</td>\n",
              "            <td>Madrid</td>\n",
              "        </tr>\n",
              "        <tr>\n",
              "            <td>15</td>\n",
              "            <td>Manuel Angel Gil</td>\n",
              "            <td>manano@gmail.com</td>\n",
              "            <td>733-65-16</td>\n",
              "            <td>Hector Navarro</td>\n",
              "            <td>067-97-91</td>\n",
              "            <td>Madrid</td>\n",
              "        </tr>\n",
              "    </tbody>\n",
              "</table>"
            ],
            "text/plain": [
              "[(1, 'Mario Flores Gallardo', 'marioflores@gmail.com', '036-15-36', 'Aintzane Alvarez Iglesias', '210-35-57', 'Madrid'),\n",
              " (2, 'Arnau Medina Garcia', 'arnaumedina@gmail.com', '094-10-88', '', '', 'Madrid'),\n",
              " (3, 'Ivan Medina Rubio', 'ivanmedina@gmail.com', '083-08-72', 'Javier Domenech', '488-48-46', 'Toledo'),\n",
              " (4, 'Jan Vargas Santana', 'vargasjan@gmail.com', '780-65-24', '', '', 'Madrid'),\n",
              " (5, 'Carlos Costa Guerrero', 'carloscostag@gmail.com', '180-65-24', 'Cristian Jimenez', '801-28-09', 'Madrid'),\n",
              " (6, 'Roberto Martin Ortega', 'robertmartin@gmail.com', '742-63-27', 'Jorge Vila Gallardo', '564-52-13', 'Madrid'),\n",
              " (7, 'Gabriel Gonzalez Ortega', 'gabogonzo@gmail.com', '780-13-14', 'Miguel Bosch Parra', '882-17-20', 'Madrid'),\n",
              " (8, 'Rayan Leon Ferrer', 'rayito@gmail.com', '430-65-24', 'Santiago Perez Ramos', '577-21-24', 'Madrid'),\n",
              " (9, 'Aitor Ruiz Sanchez', 'aitorsanchez@gmail.com', '780-77-24', 'Gabriel Gonzalez Ortega', '784-96-31', 'Madrid'),\n",
              " (10, 'Eric Rubio Carrasco', 'ericrubio@gmail.com', '780-65-79', 'Cristian Jimenez Martinez', '147-01-12', 'Madrid'),\n",
              " (11, 'Alberto Sanz Ruiz', 'albert@gmail.com', '781-15-24', 'Gabriel Gonzalez Ortega', '028-51-21', 'Madrid'),\n",
              " (12, 'Jesus Medina Hernandez', 'jmedinah@gmail.com', '782-35-25', 'Vctor Gonzalez Castillo', '661-85-12', 'Madrid'),\n",
              " (13, 'Pol Moya Pena', 'polmoya@gmail.com', '780-25-24', '', '', 'Toledo'),\n",
              " (14, 'Jose Gallardo Rodriguez', 'josegallardo@gmail.com', '783-65-11', 'Hector Martin Morales', '867-97-99', 'Madrid'),\n",
              " (15, 'Manuel Angel Gil', 'manano@gmail.com', '733-65-16', 'Hector Navarro', '067-97-91', 'Madrid')]"
            ]
          },
          "execution_count": 42,
          "metadata": {},
          "output_type": "execute_result"
        }
      ],
      "source": [
        "%sql select * FROM cliente WHERE email LIKE \"%@gmail.com\";"
      ]
    },
    {
      "cell_type": "markdown",
      "metadata": {
        "id": "9fJhQH1VeqR5"
      },
      "source": [
        "EL comando anterior busca los clientes que tienen un correo que termine en \"@gmail.com\".\n",
        "\n",
        "**Veamos a consultar todos los clientes cuyo número telefónico comience por \"780\"**"
      ]
    },
    {
      "cell_type": "code",
      "execution_count": null,
      "metadata": {
        "colab": {
          "base_uri": "https://localhost:8080/"
        },
        "id": "wJ8OM5E4eqR5",
        "outputId": "cf1a0a7a-5a4c-42e9-e01b-6053f266a807"
      },
      "outputs": [
        {
          "name": "stdout",
          "output_type": "stream",
          "text": [
            " * sqlite:////content/drive/MyDrive/Data_Valencia/love4pets.db\n",
            "Done.\n"
          ]
        },
        {
          "data": {
            "text/html": [
              "<table>\n",
              "    <thead>\n",
              "        <tr>\n",
              "            <th>cliente_id</th>\n",
              "            <th>nombre</th>\n",
              "            <th>email</th>\n",
              "            <th>telefono</th>\n",
              "            <th>contacto</th>\n",
              "            <th>telefono_contacto</th>\n",
              "            <th>ciudad</th>\n",
              "        </tr>\n",
              "    </thead>\n",
              "    <tbody>\n",
              "        <tr>\n",
              "            <td>4</td>\n",
              "            <td>Jan Vargas Santana</td>\n",
              "            <td>vargasjan@gmail.com</td>\n",
              "            <td>780-65-24</td>\n",
              "            <td></td>\n",
              "            <td></td>\n",
              "            <td>Madrid</td>\n",
              "        </tr>\n",
              "        <tr>\n",
              "            <td>7</td>\n",
              "            <td>Gabriel Gonzalez Ortega</td>\n",
              "            <td>gabogonzo@gmail.com</td>\n",
              "            <td>780-13-14</td>\n",
              "            <td>Miguel Bosch Parra</td>\n",
              "            <td>882-17-20</td>\n",
              "            <td>Madrid</td>\n",
              "        </tr>\n",
              "        <tr>\n",
              "            <td>9</td>\n",
              "            <td>Aitor Ruiz Sanchez</td>\n",
              "            <td>aitorsanchez@gmail.com</td>\n",
              "            <td>780-77-24</td>\n",
              "            <td>Gabriel Gonzalez Ortega</td>\n",
              "            <td>784-96-31</td>\n",
              "            <td>Madrid</td>\n",
              "        </tr>\n",
              "        <tr>\n",
              "            <td>10</td>\n",
              "            <td>Eric Rubio Carrasco</td>\n",
              "            <td>ericrubio@gmail.com</td>\n",
              "            <td>780-65-79</td>\n",
              "            <td>Cristian Jimenez Martinez</td>\n",
              "            <td>147-01-12</td>\n",
              "            <td>Madrid</td>\n",
              "        </tr>\n",
              "        <tr>\n",
              "            <td>13</td>\n",
              "            <td>Pol Moya Pena</td>\n",
              "            <td>polmoya@gmail.com</td>\n",
              "            <td>780-25-24</td>\n",
              "            <td></td>\n",
              "            <td></td>\n",
              "            <td>Toledo</td>\n",
              "        </tr>\n",
              "    </tbody>\n",
              "</table>"
            ],
            "text/plain": [
              "[(4, 'Jan Vargas Santana', 'vargasjan@gmail.com', '780-65-24', '', '', 'Madrid'),\n",
              " (7, 'Gabriel Gonzalez Ortega', 'gabogonzo@gmail.com', '780-13-14', 'Miguel Bosch Parra', '882-17-20', 'Madrid'),\n",
              " (9, 'Aitor Ruiz Sanchez', 'aitorsanchez@gmail.com', '780-77-24', 'Gabriel Gonzalez Ortega', '784-96-31', 'Madrid'),\n",
              " (10, 'Eric Rubio Carrasco', 'ericrubio@gmail.com', '780-65-79', 'Cristian Jimenez Martinez', '147-01-12', 'Madrid'),\n",
              " (13, 'Pol Moya Pena', 'polmoya@gmail.com', '780-25-24', '', '', 'Toledo')]"
            ]
          },
          "execution_count": 27,
          "metadata": {},
          "output_type": "execute_result"
        }
      ],
      "source": [
        "%sql select * FROM cliente WHERE telefono LIKE \"780-%\";"
      ]
    },
    {
      "cell_type": "markdown",
      "metadata": {
        "id": "SjcD42-SeqR5"
      },
      "source": [
        "### **Ejercicio 3**\n",
        "--------\n",
        "Un empleado de la empresa Love4Pets se dió cuenta que un cliente dejó por accidente su celular, el empleado recuerda que alguno de sus apellidos era \"Leon\".\n",
        "\n",
        "Se quiere que determinar a quien pertenece el celular extraviado, y en caso de ser posible avisar a su persona de contacto que el celular está a salvo y pueden pasar buscandolo en cualquier momento.\n",
        "   \n",
        "Se sabe que la tabla **\"cliente\"** tiene un campo **\"nombre\"** el cual contiene nombres y apellidos, el campo **\"contacto\"** que tiene el nombre de la persona de contacto y el campo **\"telefono_contacto\"** que tiene el telefono de la persona de contacto."
      ]
    },
    {
      "cell_type": "code",
      "execution_count": null,
      "metadata": {
        "colab": {
          "base_uri": "https://localhost:8080/",
          "height": 221
        },
        "id": "jaOilySgZMZy",
        "outputId": "1c05ea5f-664c-499f-e960-957c3dd9aaef"
      },
      "outputs": [
        {
          "name": "stdout",
          "output_type": "stream",
          "text": [
            " * sqlite:////content/drive/MyDrive/Telmo/love4pets.db\n",
            "Done.\n"
          ]
        },
        {
          "data": {
            "text/html": [
              "<table>\n",
              "    <thead>\n",
              "        <tr>\n",
              "            <th>cid</th>\n",
              "            <th>name</th>\n",
              "            <th>type</th>\n",
              "            <th>notnull</th>\n",
              "            <th>dflt_value</th>\n",
              "            <th>pk</th>\n",
              "        </tr>\n",
              "    </thead>\n",
              "    <tbody>\n",
              "        <tr>\n",
              "            <td>0</td>\n",
              "            <td>cliente_id</td>\n",
              "            <td>INTEGER</td>\n",
              "            <td>1</td>\n",
              "            <td>None</td>\n",
              "            <td>1</td>\n",
              "        </tr>\n",
              "        <tr>\n",
              "            <td>1</td>\n",
              "            <td>nombre</td>\n",
              "            <td>TEXT</td>\n",
              "            <td>1</td>\n",
              "            <td>None</td>\n",
              "            <td>0</td>\n",
              "        </tr>\n",
              "        <tr>\n",
              "            <td>2</td>\n",
              "            <td>email</td>\n",
              "            <td>TEXT</td>\n",
              "            <td>0</td>\n",
              "            <td>None</td>\n",
              "            <td>0</td>\n",
              "        </tr>\n",
              "        <tr>\n",
              "            <td>3</td>\n",
              "            <td>telefono</td>\n",
              "            <td>TEXT</td>\n",
              "            <td>1</td>\n",
              "            <td>None</td>\n",
              "            <td>0</td>\n",
              "        </tr>\n",
              "        <tr>\n",
              "            <td>4</td>\n",
              "            <td>contacto</td>\n",
              "            <td>TEXT</td>\n",
              "            <td>0</td>\n",
              "            <td>None</td>\n",
              "            <td>0</td>\n",
              "        </tr>\n",
              "        <tr>\n",
              "            <td>5</td>\n",
              "            <td>telefono_contacto</td>\n",
              "            <td>TEXT</td>\n",
              "            <td>0</td>\n",
              "            <td>None</td>\n",
              "            <td>0</td>\n",
              "        </tr>\n",
              "        <tr>\n",
              "            <td>6</td>\n",
              "            <td>ciudad</td>\n",
              "            <td>TEXT</td>\n",
              "            <td>1</td>\n",
              "            <td>None</td>\n",
              "            <td>0</td>\n",
              "        </tr>\n",
              "    </tbody>\n",
              "</table>"
            ],
            "text/plain": [
              "[(0, 'cliente_id', 'INTEGER', 1, None, 1),\n",
              " (1, 'nombre', 'TEXT', 1, None, 0),\n",
              " (2, 'email', 'TEXT', 0, None, 0),\n",
              " (3, 'telefono', 'TEXT', 1, None, 0),\n",
              " (4, 'contacto', 'TEXT', 0, None, 0),\n",
              " (5, 'telefono_contacto', 'TEXT', 0, None, 0),\n",
              " (6, 'ciudad', 'TEXT', 1, None, 0)]"
            ]
          },
          "execution_count": 44,
          "metadata": {},
          "output_type": "execute_result"
        }
      ],
      "source": [
        "%sql PRAGMA table_info(cliente)"
      ]
    },
    {
      "cell_type": "code",
      "execution_count": null,
      "metadata": {
        "colab": {
          "base_uri": "https://localhost:8080/",
          "height": 95
        },
        "id": "4fZJkE3GeqR6",
        "outputId": "62accbf1-f625-44b3-b002-10b551727f6e"
      },
      "outputs": [
        {
          "name": "stdout",
          "output_type": "stream",
          "text": [
            " * sqlite:////content/drive/MyDrive/Telmo/love4pets.db\n",
            "Done.\n"
          ]
        },
        {
          "data": {
            "text/html": [
              "<table>\n",
              "    <thead>\n",
              "        <tr>\n",
              "            <th>nombre</th>\n",
              "            <th>contacto</th>\n",
              "            <th>telefono_contacto</th>\n",
              "        </tr>\n",
              "    </thead>\n",
              "    <tbody>\n",
              "        <tr>\n",
              "            <td>Rayan Leon Ferrer</td>\n",
              "            <td>Santiago Perez Ramos</td>\n",
              "            <td>577-21-24</td>\n",
              "        </tr>\n",
              "    </tbody>\n",
              "</table>"
            ],
            "text/plain": [
              "[('Rayan Leon Ferrer', 'Santiago Perez Ramos', '577-21-24')]"
            ]
          },
          "execution_count": 45,
          "metadata": {},
          "output_type": "execute_result"
        }
      ],
      "source": [
        "%%sql\n",
        "SELECT nombre, contacto,telefono_contacto\n",
        "\n",
        "FROM cliente\n",
        "\n",
        "WHERE nombre LIKE '%LEON%'"
      ]
    },
    {
      "cell_type": "markdown",
      "metadata": {
        "id": "nW2vSWwoeqR6"
      },
      "source": [
        "### Operadores AND, OR, NOT\n",
        "Estos operadores son usados para filtrar resultados según mas de una condición.\n",
        "\n",
        "**Operador AND:** Se muestran los resultados que cumplen las condiciones separadas por el operador AND, es decir el resultado de la operación AND tiene valor TRUE\n",
        "\n",
        "Sintaxis del Operador AND\n",
        "```sql\n",
        "select campo FROM Tabla WHERE condicion1 AND condicion2;\n",
        "```\n",
        "\n",
        "**Operador OR:** Se muestran los resultados que cumplen alguna de las condiciones separadas por el operador OR, es decir el resultado de la operación OR tiene valor TRUE\n",
        "\n",
        "Sintaxis del Operador OR\n",
        "```sql\n",
        "select campo FROM Tabla WHERE condicion1 OR condicion2;\n",
        "```\n",
        "\n",
        "**Operador NOT:** Se muestran los resultados que NO cumplen con la condicion indicada.\n",
        "\n",
        "Sintaxis del Operador NOT\n",
        "```sql\n",
        "select campo FROM Tabla WHERE NOT condicion1;\n",
        "```\n"
      ]
    },
    {
      "cell_type": "code",
      "execution_count": null,
      "metadata": {
        "colab": {
          "base_uri": "https://localhost:8080/",
          "height": 158
        },
        "id": "OdLIxJlveqR6",
        "outputId": "21aff35f-f4cf-433f-a421-37743c38457a"
      },
      "outputs": [
        {
          "name": "stdout",
          "output_type": "stream",
          "text": [
            " * sqlite:////content/drive/MyDrive/Telmo/love4pets.db\n",
            "Done.\n"
          ]
        },
        {
          "data": {
            "text/html": [
              "<table>\n",
              "    <thead>\n",
              "        <tr>\n",
              "            <th>empleado_id</th>\n",
              "            <th>nombre</th>\n",
              "            <th>email</th>\n",
              "            <th>telefono</th>\n",
              "            <th>salario</th>\n",
              "            <th>fecha_ingreso</th>\n",
              "            <th>departamento_id</th>\n",
              "        </tr>\n",
              "    </thead>\n",
              "    <tbody>\n",
              "        <tr>\n",
              "            <td>1</td>\n",
              "            <td>Andres Riera Herrera</td>\n",
              "            <td>andresr@gmail.com</td>\n",
              "            <td>200-88-76</td>\n",
              "            <td>1500</td>\n",
              "            <td>2017-05-17 00:00:000</td>\n",
              "            <td>6</td>\n",
              "        </tr>\n",
              "        <tr>\n",
              "            <td>9</td>\n",
              "            <td>Daniel Quintero Quintero</td>\n",
              "            <td>danielquinterox2@gmail.com</td>\n",
              "            <td>261-97-06</td>\n",
              "            <td>1500</td>\n",
              "            <td>2017-03-05 00:00:000</td>\n",
              "            <td>6</td>\n",
              "        </tr>\n",
              "        <tr>\n",
              "            <td>11</td>\n",
              "            <td>Miguel Soto</td>\n",
              "            <td>misoto@gmail.com</td>\n",
              "            <td>269-92-06</td>\n",
              "            <td>1900</td>\n",
              "            <td>2017-03-05 00:00:000</td>\n",
              "            <td>6</td>\n",
              "        </tr>\n",
              "        <tr>\n",
              "            <td>12</td>\n",
              "            <td>Alejandro Fernandez</td>\n",
              "            <td>alefer@gmail.com</td>\n",
              "            <td>119-91-16</td>\n",
              "            <td>1850</td>\n",
              "            <td>2017-03-05 00:00:000</td>\n",
              "            <td>6</td>\n",
              "        </tr>\n",
              "    </tbody>\n",
              "</table>"
            ],
            "text/plain": [
              "[(1, 'Andres Riera Herrera', 'andresr@gmail.com', '200-88-76', 1500, '2017-05-17 00:00:000', 6),\n",
              " (9, 'Daniel Quintero Quintero', 'danielquinterox2@gmail.com', '261-97-06', 1500, '2017-03-05 00:00:000', 6),\n",
              " (11, 'Miguel Soto', 'misoto@gmail.com', '269-92-06', 1900, '2017-03-05 00:00:000', 6),\n",
              " (12, 'Alejandro Fernandez', 'alefer@gmail.com', '119-91-16', 1850, '2017-03-05 00:00:000', 6)]"
            ]
          },
          "execution_count": 48,
          "metadata": {},
          "output_type": "execute_result"
        }
      ],
      "source": [
        "%sql select * FROM empleado WHERE (salario >= 1500 AND departamento_id = 6)"
      ]
    },
    {
      "cell_type": "markdown",
      "metadata": {
        "id": "kWTomy9VeqR7"
      },
      "source": [
        "En el ejemplo anterior la consulta muestra los empleados que tienen un salario mayor o igual a 1500 y que trabajan en el departamento de informática el cual tiene código 6.\n",
        "\n",
        "Veamos como podemos usar **consultas anidadas** para buscar la misma consulta colocando el nombre del departamento en lugar del código."
      ]
    },
    {
      "cell_type": "code",
      "execution_count": null,
      "metadata": {
        "colab": {
          "base_uri": "https://localhost:8080/",
          "height": 158
        },
        "id": "ayhWMPC6eqR7",
        "outputId": "b775fbec-e0be-4b0e-9865-3a2f69c202a6"
      },
      "outputs": [
        {
          "name": "stdout",
          "output_type": "stream",
          "text": [
            " * sqlite:////content/drive/MyDrive/Telmo/love4pets.db\n",
            "Done.\n"
          ]
        },
        {
          "data": {
            "text/html": [
              "<table>\n",
              "    <thead>\n",
              "        <tr>\n",
              "            <th>empleado_id</th>\n",
              "            <th>nombre</th>\n",
              "            <th>email</th>\n",
              "            <th>telefono</th>\n",
              "            <th>salario</th>\n",
              "            <th>fecha_ingreso</th>\n",
              "            <th>departamento_id</th>\n",
              "        </tr>\n",
              "    </thead>\n",
              "    <tbody>\n",
              "        <tr>\n",
              "            <td>1</td>\n",
              "            <td>Andres Riera Herrera</td>\n",
              "            <td>andresr@gmail.com</td>\n",
              "            <td>200-88-76</td>\n",
              "            <td>1500</td>\n",
              "            <td>2017-05-17 00:00:000</td>\n",
              "            <td>6</td>\n",
              "        </tr>\n",
              "        <tr>\n",
              "            <td>9</td>\n",
              "            <td>Daniel Quintero Quintero</td>\n",
              "            <td>danielquinterox2@gmail.com</td>\n",
              "            <td>261-97-06</td>\n",
              "            <td>1500</td>\n",
              "            <td>2017-03-05 00:00:000</td>\n",
              "            <td>6</td>\n",
              "        </tr>\n",
              "        <tr>\n",
              "            <td>11</td>\n",
              "            <td>Miguel Soto</td>\n",
              "            <td>misoto@gmail.com</td>\n",
              "            <td>269-92-06</td>\n",
              "            <td>1900</td>\n",
              "            <td>2017-03-05 00:00:000</td>\n",
              "            <td>6</td>\n",
              "        </tr>\n",
              "        <tr>\n",
              "            <td>12</td>\n",
              "            <td>Alejandro Fernandez</td>\n",
              "            <td>alefer@gmail.com</td>\n",
              "            <td>119-91-16</td>\n",
              "            <td>1850</td>\n",
              "            <td>2017-03-05 00:00:000</td>\n",
              "            <td>6</td>\n",
              "        </tr>\n",
              "    </tbody>\n",
              "</table>"
            ],
            "text/plain": [
              "[(1, 'Andres Riera Herrera', 'andresr@gmail.com', '200-88-76', 1500, '2017-05-17 00:00:000', 6),\n",
              " (9, 'Daniel Quintero Quintero', 'danielquinterox2@gmail.com', '261-97-06', 1500, '2017-03-05 00:00:000', 6),\n",
              " (11, 'Miguel Soto', 'misoto@gmail.com', '269-92-06', 1900, '2017-03-05 00:00:000', 6),\n",
              " (12, 'Alejandro Fernandez', 'alefer@gmail.com', '119-91-16', 1850, '2017-03-05 00:00:000', 6)]"
            ]
          },
          "execution_count": 49,
          "metadata": {},
          "output_type": "execute_result"
        }
      ],
      "source": [
        "%%sql\n",
        "select * FROM empleado\n",
        "WHERE\n",
        "( salario >= 1500 AND departamento_id = (select departamento_id FROM departamento WHERE nombre=\"informatica\" ) )"
      ]
    },
    {
      "cell_type": "markdown",
      "metadata": {
        "id": "46K-qkHoeqR7"
      },
      "source": [
        "Veamos un ejemplo donde consultamos las mascotas asociadas a una persona con nombre \"Arnau Medina Garcia\""
      ]
    },
    {
      "cell_type": "code",
      "execution_count": null,
      "metadata": {
        "colab": {
          "base_uri": "https://localhost:8080/"
        },
        "id": "4jxxzDYCeqR7",
        "outputId": "5db08b66-1e71-4d22-b75a-2f808e373cd2"
      },
      "outputs": [
        {
          "name": "stdout",
          "output_type": "stream",
          "text": [
            " * sqlite:////content/drive/MyDrive/Data_Valencia/love4pets.db\n",
            "Done.\n"
          ]
        },
        {
          "data": {
            "text/html": [
              "<table>\n",
              "    <thead>\n",
              "        <tr>\n",
              "            <th>mascota_id</th>\n",
              "            <th>nombre</th>\n",
              "            <th>cliente_id</th>\n",
              "            <th>especie</th>\n",
              "            <th>raza</th>\n",
              "            <th>fecha_nacimiento</th>\n",
              "        </tr>\n",
              "    </thead>\n",
              "    <tbody>\n",
              "        <tr>\n",
              "            <td>1</td>\n",
              "            <td>Luna</td>\n",
              "            <td>2</td>\n",
              "            <td>gato</td>\n",
              "            <td>mestizo</td>\n",
              "            <td>2009-01-01 00:00:000</td>\n",
              "        </tr>\n",
              "    </tbody>\n",
              "</table>"
            ],
            "text/plain": [
              "[(1, 'Luna', 2, 'gato', 'mestizo', '2009-01-01 00:00:000')]"
            ]
          },
          "execution_count": 31,
          "metadata": {},
          "output_type": "execute_result"
        }
      ],
      "source": [
        "%%sql\n",
        "select * FROM mascota WHERE  cliente_id=( select cliente_id FROM cliente WHERE nombre=\"Arnau Medina Garcia\" )"
      ]
    },
    {
      "cell_type": "markdown",
      "metadata": {
        "id": "idz-P03deqR8"
      },
      "source": [
        "Ejemplo con Operador **OR**"
      ]
    },
    {
      "cell_type": "code",
      "execution_count": null,
      "metadata": {
        "colab": {
          "base_uri": "https://localhost:8080/"
        },
        "id": "VI4Gf6SfeqR8",
        "outputId": "cd8dea15-e68a-4a37-99ab-f6a331071eab"
      },
      "outputs": [
        {
          "name": "stdout",
          "output_type": "stream",
          "text": [
            " * sqlite:////content/drive/MyDrive/Data_Valencia/love4pets.db\n",
            "Done.\n"
          ]
        },
        {
          "data": {
            "text/html": [
              "<table>\n",
              "    <thead>\n",
              "        <tr>\n",
              "            <th>nombre</th>\n",
              "            <th>departamento_id</th>\n",
              "        </tr>\n",
              "    </thead>\n",
              "    <tbody>\n",
              "        <tr>\n",
              "            <td>Pablo Pons Sanz</td>\n",
              "            <td>1</td>\n",
              "        </tr>\n",
              "        <tr>\n",
              "            <td>Saul Moreno Santos</td>\n",
              "            <td>1</td>\n",
              "        </tr>\n",
              "        <tr>\n",
              "            <td>Isaac Jimenez Ortiz</td>\n",
              "            <td>3</td>\n",
              "        </tr>\n",
              "        <tr>\n",
              "            <td>Guillermo Vidal Gomez</td>\n",
              "            <td>3</td>\n",
              "        </tr>\n",
              "    </tbody>\n",
              "</table>"
            ],
            "text/plain": [
              "[('Pablo Pons Sanz', 1),\n",
              " ('Saul Moreno Santos', 1),\n",
              " ('Isaac Jimenez Ortiz', 3),\n",
              " ('Guillermo Vidal Gomez', 3)]"
            ]
          },
          "execution_count": 32,
          "metadata": {},
          "output_type": "execute_result"
        }
      ],
      "source": [
        "%%sql\n",
        "select nombre, departamento_id from empleado where (empleado.departamento_id = 1) OR (empleado.departamento_id = 3)"
      ]
    },
    {
      "cell_type": "markdown",
      "metadata": {
        "id": "GCZoPYQleqR8"
      },
      "source": [
        "En la consulta anterior se muestran los empleados que trabajan en el departamento de Finanzas o en el departamento de Recursos Humanos"
      ]
    },
    {
      "cell_type": "markdown",
      "metadata": {
        "id": "9Iyx0RJmeqR9"
      },
      "source": [
        "Ejemplo con el operador **NOT**\n",
        "\n",
        "Veamos el complemento de la consulta anterior."
      ]
    },
    {
      "cell_type": "code",
      "execution_count": null,
      "metadata": {
        "colab": {
          "base_uri": "https://localhost:8080/",
          "height": 221
        },
        "id": "XspbY-paeqR9",
        "outputId": "f7f1e0d4-f579-4a27-f748-cc15f1401074"
      },
      "outputs": [
        {
          "name": "stdout",
          "output_type": "stream",
          "text": [
            " * sqlite:////content/drive/MyDrive/Telmo/love4pets.db\n",
            "Done.\n"
          ]
        },
        {
          "data": {
            "text/html": [
              "<table>\n",
              "    <thead>\n",
              "        <tr>\n",
              "            <th>nombre</th>\n",
              "            <th>departamento_id</th>\n",
              "        </tr>\n",
              "    </thead>\n",
              "    <tbody>\n",
              "        <tr>\n",
              "            <td>Andres Riera Herrera</td>\n",
              "            <td>6</td>\n",
              "        </tr>\n",
              "        <tr>\n",
              "            <td>Lucas Serrano Caballero</td>\n",
              "            <td>2</td>\n",
              "        </tr>\n",
              "        <tr>\n",
              "            <td>Nil Soler Diez</td>\n",
              "            <td>5</td>\n",
              "        </tr>\n",
              "        <tr>\n",
              "            <td>Sergio Reyes Gallardo</td>\n",
              "            <td>5</td>\n",
              "        </tr>\n",
              "        <tr>\n",
              "            <td>Daniel Quintero Quintero</td>\n",
              "            <td>6</td>\n",
              "        </tr>\n",
              "        <tr>\n",
              "            <td>Miguel Soto</td>\n",
              "            <td>6</td>\n",
              "        </tr>\n",
              "        <tr>\n",
              "            <td>Alejandro Fernandez</td>\n",
              "            <td>6</td>\n",
              "        </tr>\n",
              "    </tbody>\n",
              "</table>"
            ],
            "text/plain": [
              "[('Andres Riera Herrera', 6),\n",
              " ('Lucas Serrano Caballero', 2),\n",
              " ('Nil Soler Diez', 5),\n",
              " ('Sergio Reyes Gallardo', 5),\n",
              " ('Daniel Quintero Quintero', 6),\n",
              " ('Miguel Soto', 6),\n",
              " ('Alejandro Fernandez', 6)]"
            ]
          },
          "execution_count": 50,
          "metadata": {},
          "output_type": "execute_result"
        }
      ],
      "source": [
        "%%sql\n",
        "select nombre, departamento_id from empleado\n",
        "where\n",
        "NOT ((empleado.departamento_id = 1) OR (empleado.departamento_id = 3))"
      ]
    },
    {
      "cell_type": "markdown",
      "metadata": {
        "id": "jFWqnsNeeqR9"
      },
      "source": [
        "### **Ejercicio 4**\n",
        "--------\n",
        "La empresa Love4Pets considera hacer un descuento sobre los productos que cuestan entre 10 y 20 euros, y complementos vitamínicos.\n",
        "      \n",
        "Se requiere que liste las columnas \"nombre\", \"descripcion\", \"precio\" de productos a los que debe ser aplicado el descuento. ( asuma que los productos se encuentran en la tabla \"producto\" )\n",
        "   \n",
        "Asuma que el producto vitaminico no lleva acentos, generalmente estos productos tienen la palabra vitamina en la **\"descripcion\"** pero podria ser alguna variante como vitaminico o comenzar por mayusculas, el departamento de informática recomendó usar la función Like para esta busqueda."
      ]
    },
    {
      "cell_type": "code",
      "execution_count": null,
      "metadata": {
        "colab": {
          "base_uri": "https://localhost:8080/",
          "height": 242
        },
        "id": "0JsPIt1IkE5S",
        "outputId": "ff012151-e01a-46ee-b4f8-45e2410bc339"
      },
      "outputs": [
        {
          "name": "stdout",
          "output_type": "stream",
          "text": [
            " * sqlite:////content/drive/MyDrive/Telmo/love4pets.db\n",
            "Done.\n"
          ]
        },
        {
          "data": {
            "text/html": [
              "<table>\n",
              "    <thead>\n",
              "        <tr>\n",
              "            <th>producto_id</th>\n",
              "            <th>nombre</th>\n",
              "            <th>descripcion</th>\n",
              "            <th>precio</th>\n",
              "        </tr>\n",
              "    </thead>\n",
              "    <tbody>\n",
              "        <tr>\n",
              "            <td>1</td>\n",
              "            <td>Champu Mimadito</td>\n",
              "            <td>Champu neutro para mascotas</td>\n",
              "            <td>7</td>\n",
              "        </tr>\n",
              "        <tr>\n",
              "            <td>2</td>\n",
              "            <td>Vitaminas</td>\n",
              "            <td>Complemento vitaminico</td>\n",
              "            <td>5</td>\n",
              "        </tr>\n",
              "        <tr>\n",
              "            <td>3</td>\n",
              "            <td>Antipulgas</td>\n",
              "            <td>Liquido antipulgas</td>\n",
              "            <td>3</td>\n",
              "        </tr>\n",
              "        <tr>\n",
              "            <td>4</td>\n",
              "            <td>Perrarina</td>\n",
              "            <td>Huesos</td>\n",
              "            <td>12</td>\n",
              "        </tr>\n",
              "        <tr>\n",
              "            <td>5</td>\n",
              "            <td>Gatarina</td>\n",
              "            <td>Catspettito</td>\n",
              "            <td>13</td>\n",
              "        </tr>\n",
              "        <tr>\n",
              "            <td>6</td>\n",
              "            <td>Peine N7</td>\n",
              "            <td>Peine para perros numero 7</td>\n",
              "            <td>3</td>\n",
              "        </tr>\n",
              "        <tr>\n",
              "            <td>7</td>\n",
              "            <td>peluqueria</td>\n",
              "            <td>Corte de cabello para perros</td>\n",
              "            <td>3</td>\n",
              "        </tr>\n",
              "        <tr>\n",
              "            <td>8</td>\n",
              "            <td>Consulta</td>\n",
              "            <td>Consulta veterinaria</td>\n",
              "            <td>15</td>\n",
              "        </tr>\n",
              "    </tbody>\n",
              "</table>"
            ],
            "text/plain": [
              "[(1, 'Champu Mimadito', 'Champu neutro para mascotas', 7),\n",
              " (2, 'Vitaminas', 'Complemento vitaminico', 5),\n",
              " (3, 'Antipulgas', 'Liquido antipulgas', 3),\n",
              " (4, 'Perrarina', 'Huesos', 12),\n",
              " (5, 'Gatarina', 'Catspettito', 13),\n",
              " (6, 'Peine N7', 'Peine para perros numero 7', 3),\n",
              " (7, 'peluqueria', 'Corte de cabello para perros', 3),\n",
              " (8, 'Consulta', 'Consulta veterinaria', 15)]"
            ]
          },
          "execution_count": 51,
          "metadata": {},
          "output_type": "execute_result"
        }
      ],
      "source": [
        "%sql select * from producto"
      ]
    },
    {
      "cell_type": "code",
      "execution_count": null,
      "metadata": {
        "colab": {
          "base_uri": "https://localhost:8080/",
          "height": 158
        },
        "id": "AgGy4RJcaFn6",
        "outputId": "68511529-00f1-4a0e-a73c-3307f499c14e"
      },
      "outputs": [
        {
          "name": "stdout",
          "output_type": "stream",
          "text": [
            " * sqlite:////content/drive/MyDrive/Telmo/love4pets.db\n",
            "Done.\n"
          ]
        },
        {
          "data": {
            "text/html": [
              "<table>\n",
              "    <thead>\n",
              "        <tr>\n",
              "            <th>cid</th>\n",
              "            <th>name</th>\n",
              "            <th>type</th>\n",
              "            <th>notnull</th>\n",
              "            <th>dflt_value</th>\n",
              "            <th>pk</th>\n",
              "        </tr>\n",
              "    </thead>\n",
              "    <tbody>\n",
              "        <tr>\n",
              "            <td>0</td>\n",
              "            <td>producto_id</td>\n",
              "            <td>INTEGER</td>\n",
              "            <td>1</td>\n",
              "            <td>None</td>\n",
              "            <td>1</td>\n",
              "        </tr>\n",
              "        <tr>\n",
              "            <td>1</td>\n",
              "            <td>nombre</td>\n",
              "            <td>TEXT</td>\n",
              "            <td>1</td>\n",
              "            <td>None</td>\n",
              "            <td>0</td>\n",
              "        </tr>\n",
              "        <tr>\n",
              "            <td>2</td>\n",
              "            <td>descripcion</td>\n",
              "            <td>TEXT</td>\n",
              "            <td>1</td>\n",
              "            <td>None</td>\n",
              "            <td>0</td>\n",
              "        </tr>\n",
              "        <tr>\n",
              "            <td>3</td>\n",
              "            <td>precio</td>\n",
              "            <td>INTEGER</td>\n",
              "            <td>1</td>\n",
              "            <td>None</td>\n",
              "            <td>0</td>\n",
              "        </tr>\n",
              "    </tbody>\n",
              "</table>"
            ],
            "text/plain": [
              "[(0, 'producto_id', 'INTEGER', 1, None, 1),\n",
              " (1, 'nombre', 'TEXT', 1, None, 0),\n",
              " (2, 'descripcion', 'TEXT', 1, None, 0),\n",
              " (3, 'precio', 'INTEGER', 1, None, 0)]"
            ]
          },
          "execution_count": 52,
          "metadata": {},
          "output_type": "execute_result"
        }
      ],
      "source": [
        "%sql PRAGMA table_info(producto)"
      ]
    },
    {
      "cell_type": "code",
      "execution_count": null,
      "metadata": {
        "colab": {
          "base_uri": "https://localhost:8080/",
          "height": 158
        },
        "id": "wSl1doJVeqR-",
        "outputId": "a7924a27-3b7d-4bf1-d7c7-3cf087ec13f7"
      },
      "outputs": [
        {
          "name": "stdout",
          "output_type": "stream",
          "text": [
            " * sqlite:////content/drive/MyDrive/Telmo/love4pets.db\n",
            "Done.\n"
          ]
        },
        {
          "data": {
            "text/html": [
              "<table>\n",
              "    <thead>\n",
              "        <tr>\n",
              "            <th>nombre</th>\n",
              "            <th>descripcion</th>\n",
              "            <th>precio</th>\n",
              "        </tr>\n",
              "    </thead>\n",
              "    <tbody>\n",
              "        <tr>\n",
              "            <td>Vitaminas</td>\n",
              "            <td>Complemento vitaminico</td>\n",
              "            <td>5</td>\n",
              "        </tr>\n",
              "        <tr>\n",
              "            <td>Perrarina</td>\n",
              "            <td>Huesos</td>\n",
              "            <td>12</td>\n",
              "        </tr>\n",
              "        <tr>\n",
              "            <td>Gatarina</td>\n",
              "            <td>Catspettito</td>\n",
              "            <td>13</td>\n",
              "        </tr>\n",
              "        <tr>\n",
              "            <td>Consulta</td>\n",
              "            <td>Consulta veterinaria</td>\n",
              "            <td>15</td>\n",
              "        </tr>\n",
              "    </tbody>\n",
              "</table>"
            ],
            "text/plain": [
              "[('Vitaminas', 'Complemento vitaminico', 5),\n",
              " ('Perrarina', 'Huesos', 12),\n",
              " ('Gatarina', 'Catspettito', 13),\n",
              " ('Consulta', 'Consulta veterinaria', 15)]"
            ]
          },
          "execution_count": 55,
          "metadata": {},
          "output_type": "execute_result"
        }
      ],
      "source": [
        "%%sql\n",
        "SELECT nombre, descripcion, precio\n",
        "\n",
        "FROM producto\n",
        "\n",
        "WHERE (precio BETWEEN 10 AND 20) OR (lower(descripcion) LIKE '%com%vitam%')"
      ]
    },
    {
      "cell_type": "code",
      "execution_count": null,
      "metadata": {
        "id": "VSJothhVvoyx"
      },
      "outputs": [],
      "source": []
    },
    {
      "cell_type": "markdown",
      "metadata": {
        "id": "cogCdjNXeqR-"
      },
      "source": [
        "### Funciones MAX() y MIN()\n",
        "Con frecuencia tenemos una lista de valores y queremos obtener el mayor o el menor, esto es lo que hacen las funciones Max y Min.\n",
        "\n",
        "Sintaxis de la función MIN\n",
        "```sql\n",
        "SELECT MIN(column_name)\n",
        "FROM table_name\n",
        "WHERE condition;\n",
        "```\n",
        "\n",
        "Sintaxis de la función MAX\n",
        "```sql\n",
        "SELECT MAX(column_name)\n",
        "FROM table_name\n",
        "WHERE condition;\n",
        "```\n",
        "Veamos un ejemplo:"
      ]
    },
    {
      "cell_type": "code",
      "execution_count": null,
      "metadata": {
        "colab": {
          "base_uri": "https://localhost:8080/",
          "height": 95
        },
        "id": "-rOvTDVweqR_",
        "outputId": "33a83c21-67d8-4c95-e40d-40da86d4a981"
      },
      "outputs": [
        {
          "name": "stdout",
          "output_type": "stream",
          "text": [
            " * sqlite:////content/drive/MyDrive/Telmo/love4pets.db\n",
            "Done.\n"
          ]
        },
        {
          "data": {
            "text/html": [
              "<table>\n",
              "    <thead>\n",
              "        <tr>\n",
              "            <th>MIN(precio)</th>\n",
              "            <th>nombre</th>\n",
              "        </tr>\n",
              "    </thead>\n",
              "    <tbody>\n",
              "        <tr>\n",
              "            <td>3</td>\n",
              "            <td>Antipulgas</td>\n",
              "        </tr>\n",
              "    </tbody>\n",
              "</table>"
            ],
            "text/plain": [
              "[(3, 'Antipulgas')]"
            ]
          },
          "execution_count": 57,
          "metadata": {},
          "output_type": "execute_result"
        }
      ],
      "source": [
        "%sql select MIN(precio),nombre from producto;"
      ]
    },
    {
      "cell_type": "code",
      "execution_count": null,
      "metadata": {
        "colab": {
          "base_uri": "https://localhost:8080/"
        },
        "id": "u2q1jIUUeqR_",
        "outputId": "88dd92b4-d68e-40a9-b045-8050685245d5"
      },
      "outputs": [
        {
          "name": "stdout",
          "output_type": "stream",
          "text": [
            " * sqlite:////content/drive/MyDrive/Data_Valencia/love4pets.db\n",
            "Done.\n"
          ]
        },
        {
          "data": {
            "text/html": [
              "<table>\n",
              "    <thead>\n",
              "        <tr>\n",
              "            <th>MAX(precio)</th>\n",
              "        </tr>\n",
              "    </thead>\n",
              "    <tbody>\n",
              "        <tr>\n",
              "            <td>15</td>\n",
              "        </tr>\n",
              "    </tbody>\n",
              "</table>"
            ],
            "text/plain": [
              "[(15,)]"
            ]
          },
          "execution_count": 38,
          "metadata": {},
          "output_type": "execute_result"
        }
      ],
      "source": [
        "%sql select MAX(precio) from producto;"
      ]
    },
    {
      "cell_type": "markdown",
      "metadata": {
        "id": "DK5kr83IeqR_"
      },
      "source": [
        "### **Ejercicio 5**\n",
        "--------\n",
        "La empresa Love4Pets esta considerando realizar un aumento.\n",
        "    \n",
        "Se requiere que indique cual es el menor sueldo que está pagando la empresa."
      ]
    },
    {
      "cell_type": "code",
      "execution_count": null,
      "metadata": {
        "colab": {
          "base_uri": "https://localhost:8080/",
          "height": 326
        },
        "id": "BJKsu4ASeqSA",
        "outputId": "fb9fca6c-67ae-478f-d565-9a807aa924c1"
      },
      "outputs": [
        {
          "name": "stdout",
          "output_type": "stream",
          "text": [
            " * sqlite:////content/drive/MyDrive/Telmo/love4pets.db\n",
            "Done.\n"
          ]
        },
        {
          "data": {
            "text/html": [
              "<table>\n",
              "    <thead>\n",
              "        <tr>\n",
              "            <th>empleado_id</th>\n",
              "            <th>nombre</th>\n",
              "            <th>email</th>\n",
              "            <th>telefono</th>\n",
              "            <th>salario</th>\n",
              "            <th>fecha_ingreso</th>\n",
              "            <th>departamento_id</th>\n",
              "        </tr>\n",
              "    </thead>\n",
              "    <tbody>\n",
              "        <tr>\n",
              "            <td>1</td>\n",
              "            <td>Andres Riera Herrera</td>\n",
              "            <td>andresr@gmail.com</td>\n",
              "            <td>200-88-76</td>\n",
              "            <td>1500</td>\n",
              "            <td>2017-05-17 00:00:000</td>\n",
              "            <td>6</td>\n",
              "        </tr>\n",
              "        <tr>\n",
              "            <td>2</td>\n",
              "            <td>Lucas Serrano Caballero</td>\n",
              "            <td>lucas99@gmail.com</td>\n",
              "            <td>115-24-36</td>\n",
              "            <td>1200</td>\n",
              "            <td>2018-05-17 00:00:000</td>\n",
              "            <td>2</td>\n",
              "        </tr>\n",
              "        <tr>\n",
              "            <td>3</td>\n",
              "            <td>Pablo Pons Sanz</td>\n",
              "            <td>ppsanz@gmail.com</td>\n",
              "            <td>748-72-75</td>\n",
              "            <td>1350</td>\n",
              "            <td>2016-07-01 00:00:000</td>\n",
              "            <td>1</td>\n",
              "        </tr>\n",
              "        <tr>\n",
              "            <td>4</td>\n",
              "            <td>Saul Moreno Santos</td>\n",
              "            <td>saul.morenosantos@gmail.com</td>\n",
              "            <td>346-87-27</td>\n",
              "            <td>1600</td>\n",
              "            <td>2016-07-01 00:00:000</td>\n",
              "            <td>1</td>\n",
              "        </tr>\n",
              "        <tr>\n",
              "            <td>5</td>\n",
              "            <td>Nil Soler Diez</td>\n",
              "            <td>nilsoler@gmail.com</td>\n",
              "            <td>576-84-28</td>\n",
              "            <td>1100</td>\n",
              "            <td>2016-04-03 00:00:000</td>\n",
              "            <td>5</td>\n",
              "        </tr>\n",
              "        <tr>\n",
              "            <td>6</td>\n",
              "            <td>Sergio Reyes Gallardo</td>\n",
              "            <td>zerg@gmail.com</td>\n",
              "            <td>598-95-67</td>\n",
              "            <td>1000</td>\n",
              "            <td>2016-04-03 00:00:000</td>\n",
              "            <td>5</td>\n",
              "        </tr>\n",
              "        <tr>\n",
              "            <td>7</td>\n",
              "            <td>Isaac Jimenez Ortiz</td>\n",
              "            <td>isaacortiz@gmail.com</td>\n",
              "            <td>370-19-65</td>\n",
              "            <td>1600</td>\n",
              "            <td>2016-07-08 00:00:000</td>\n",
              "            <td>3</td>\n",
              "        </tr>\n",
              "        <tr>\n",
              "            <td>8</td>\n",
              "            <td>Guillermo Vidal Gomez</td>\n",
              "            <td>guillevidal@gmail.com</td>\n",
              "            <td>099-05-68</td>\n",
              "            <td>1400</td>\n",
              "            <td>2016-01-03 00:00:000</td>\n",
              "            <td>3</td>\n",
              "        </tr>\n",
              "        <tr>\n",
              "            <td>9</td>\n",
              "            <td>Daniel Quintero Quintero</td>\n",
              "            <td>danielquinterox2@gmail.com</td>\n",
              "            <td>261-97-06</td>\n",
              "            <td>1500</td>\n",
              "            <td>2017-03-05 00:00:000</td>\n",
              "            <td>6</td>\n",
              "        </tr>\n",
              "        <tr>\n",
              "            <td>10</td>\n",
              "            <td>Juan Manuel Olivares</td>\n",
              "            <td>juanma@gmail.com</td>\n",
              "            <td>269-37-06</td>\n",
              "            <td>1500</td>\n",
              "            <td>2017-03-05 00:00:000</td>\n",
              "            <td>None</td>\n",
              "        </tr>\n",
              "        <tr>\n",
              "            <td>11</td>\n",
              "            <td>Miguel Soto</td>\n",
              "            <td>misoto@gmail.com</td>\n",
              "            <td>269-92-06</td>\n",
              "            <td>1900</td>\n",
              "            <td>2017-03-05 00:00:000</td>\n",
              "            <td>6</td>\n",
              "        </tr>\n",
              "        <tr>\n",
              "            <td>12</td>\n",
              "            <td>Alejandro Fernandez</td>\n",
              "            <td>alefer@gmail.com</td>\n",
              "            <td>119-91-16</td>\n",
              "            <td>1850</td>\n",
              "            <td>2017-03-05 00:00:000</td>\n",
              "            <td>6</td>\n",
              "        </tr>\n",
              "    </tbody>\n",
              "</table>"
            ],
            "text/plain": [
              "[(1, 'Andres Riera Herrera', 'andresr@gmail.com', '200-88-76', 1500, '2017-05-17 00:00:000', 6),\n",
              " (2, 'Lucas Serrano Caballero', 'lucas99@gmail.com', '115-24-36', 1200, '2018-05-17 00:00:000', 2),\n",
              " (3, 'Pablo Pons Sanz', 'ppsanz@gmail.com', '748-72-75', 1350, '2016-07-01 00:00:000', 1),\n",
              " (4, 'Saul Moreno Santos', 'saul.morenosantos@gmail.com', '346-87-27', 1600, '2016-07-01 00:00:000', 1),\n",
              " (5, 'Nil Soler Diez', 'nilsoler@gmail.com', '576-84-28', 1100, '2016-04-03 00:00:000', 5),\n",
              " (6, 'Sergio Reyes Gallardo', 'zerg@gmail.com', '598-95-67', 1000, '2016-04-03 00:00:000', 5),\n",
              " (7, 'Isaac Jimenez Ortiz', 'isaacortiz@gmail.com', '370-19-65', 1600, '2016-07-08 00:00:000', 3),\n",
              " (8, 'Guillermo Vidal Gomez', 'guillevidal@gmail.com', '099-05-68', 1400, '2016-01-03 00:00:000', 3),\n",
              " (9, 'Daniel Quintero Quintero', 'danielquinterox2@gmail.com', '261-97-06', 1500, '2017-03-05 00:00:000', 6),\n",
              " (10, 'Juan Manuel Olivares', 'juanma@gmail.com', '269-37-06', 1500, '2017-03-05 00:00:000', None),\n",
              " (11, 'Miguel Soto', 'misoto@gmail.com', '269-92-06', 1900, '2017-03-05 00:00:000', 6),\n",
              " (12, 'Alejandro Fernandez', 'alefer@gmail.com', '119-91-16', 1850, '2017-03-05 00:00:000', 6)]"
            ]
          },
          "execution_count": 58,
          "metadata": {},
          "output_type": "execute_result"
        }
      ],
      "source": [
        "%sql select * from empleado"
      ]
    },
    {
      "cell_type": "code",
      "execution_count": null,
      "metadata": {
        "colab": {
          "base_uri": "https://localhost:8080/",
          "height": 95
        },
        "id": "ByzN0UIVytMF",
        "outputId": "7e1beea7-56ee-43e5-ee74-53e449252117"
      },
      "outputs": [
        {
          "name": "stdout",
          "output_type": "stream",
          "text": [
            " * sqlite:////content/drive/MyDrive/Telmo/love4pets.db\n",
            "Done.\n"
          ]
        },
        {
          "data": {
            "text/html": [
              "<table>\n",
              "    <thead>\n",
              "        <tr>\n",
              "            <th>MIN(salario)</th>\n",
              "        </tr>\n",
              "    </thead>\n",
              "    <tbody>\n",
              "        <tr>\n",
              "            <td>1000</td>\n",
              "        </tr>\n",
              "    </tbody>\n",
              "</table>"
            ],
            "text/plain": [
              "[(1000,)]"
            ]
          },
          "execution_count": 59,
          "metadata": {},
          "output_type": "execute_result"
        }
      ],
      "source": [
        "%sql select MIN(salario) from empleado"
      ]
    },
    {
      "cell_type": "markdown",
      "metadata": {
        "id": "CBQBpJLNeqSA"
      },
      "source": [
        "### Funciones COUNT(), AVG(), SUM()\n",
        "Nos permite contar la cantidad de resultados que arroja una consulta, obtener un valor promedio, o sumar los valores de una consulta.\n",
        "\n",
        "**Función count** Retorna la cantidad de filas que arroja una consulta.\n",
        "\n",
        "Sintaxis de la función COUNT\n",
        "```sql\n",
        "SELECT COUNT(column_name)\n",
        "FROM table_name\n",
        "WHERE condition;\n",
        "```\n",
        "\n",
        "**Función AVG** Retorna la el promedio de los valores de las filas que arroja una consulta.\n",
        "\n",
        "Sintaxis de la función COUNT\n",
        "```sql\n",
        "SELECT AVG(column_name)\n",
        "FROM table_name\n",
        "WHERE condition;\n",
        "```\n",
        "\n",
        "**Función SUM** Retorna la el promedio de los valores de las filas que arroja una consulta.\n",
        "\n",
        "Sintaxis de la función COUNT\n",
        "```sql\n",
        "SELECT SUM(column_name)\n",
        "FROM table_name\n",
        "WHERE condition;\n",
        "```"
      ]
    },
    {
      "cell_type": "code",
      "execution_count": null,
      "metadata": {
        "colab": {
          "base_uri": "https://localhost:8080/",
          "height": 95
        },
        "id": "5O1dhsGWeqSA",
        "outputId": "b5bee04d-378a-41a5-97b9-821b72c935a8"
      },
      "outputs": [
        {
          "name": "stdout",
          "output_type": "stream",
          "text": [
            " * sqlite:////content/drive/MyDrive/Telmo/love4pets.db\n",
            "Done.\n"
          ]
        },
        {
          "data": {
            "text/html": [
              "<table>\n",
              "    <thead>\n",
              "        <tr>\n",
              "            <th>COUNT(salario)</th>\n",
              "        </tr>\n",
              "    </thead>\n",
              "    <tbody>\n",
              "        <tr>\n",
              "            <td>12</td>\n",
              "        </tr>\n",
              "    </tbody>\n",
              "</table>"
            ],
            "text/plain": [
              "[(12,)]"
            ]
          },
          "execution_count": 60,
          "metadata": {},
          "output_type": "execute_result"
        }
      ],
      "source": [
        "%sql select COUNT(salario) from empleado;"
      ]
    },
    {
      "cell_type": "code",
      "execution_count": null,
      "metadata": {
        "id": "XFrFybeTeqSB"
      },
      "outputs": [],
      "source": []
    },
    {
      "cell_type": "code",
      "execution_count": null,
      "metadata": {
        "id": "OCKkYUlfeqSB"
      },
      "outputs": [],
      "source": []
    },
    {
      "cell_type": "markdown",
      "metadata": {
        "id": "JiSlG5fheqSB"
      },
      "source": [
        "### **Ejercicio 6**\n",
        "--------\n",
        "La empresa Love4Pets continúa estudiando un ajuste en los salarios de los empleados, por lo que se quiere conocer el presupuesto total requerido para el pago de los salarios en un año."
      ]
    },
    {
      "cell_type": "code",
      "execution_count": null,
      "metadata": {
        "colab": {
          "base_uri": "https://localhost:8080/",
          "height": 95
        },
        "id": "F4hejvMWeqSC",
        "outputId": "8f28dc17-5f1b-4178-afec-5d223e70a609"
      },
      "outputs": [
        {
          "name": "stdout",
          "output_type": "stream",
          "text": [
            " * sqlite:////content/drive/MyDrive/Telmo/love4pets.db\n",
            "Done.\n"
          ]
        },
        {
          "data": {
            "text/html": [
              "<table>\n",
              "    <thead>\n",
              "        <tr>\n",
              "            <th>SUM(salario)*12</th>\n",
              "        </tr>\n",
              "    </thead>\n",
              "    <tbody>\n",
              "        <tr>\n",
              "            <td>210000</td>\n",
              "        </tr>\n",
              "    </tbody>\n",
              "</table>"
            ],
            "text/plain": [
              "[(210000,)]"
            ]
          },
          "execution_count": 61,
          "metadata": {},
          "output_type": "execute_result"
        }
      ],
      "source": [
        "%%sql\n",
        "SELECT SUM(salario)*12\n",
        "FROM empleado"
      ]
    },
    {
      "cell_type": "markdown",
      "metadata": {
        "id": "dniup-iheqSC"
      },
      "source": [
        "### El Operador IN\n",
        "Permite especificar multiples valores a la clausula WHERE\n",
        "\n",
        "Sintaxis del operador IN\n",
        "```sql\n",
        "SELECT column_name(s)\n",
        "FROM table_name\n",
        "WHERE column_name IN (value1, value2, ...);\n",
        "```\n",
        "Veamos un ejemplo"
      ]
    },
    {
      "cell_type": "code",
      "execution_count": null,
      "metadata": {
        "colab": {
          "base_uri": "https://localhost:8080/",
          "height": 389
        },
        "id": "mHuUG4GceqSD",
        "outputId": "9c0c5d6d-24d3-4956-b512-cfef0feb3a7f"
      },
      "outputs": [
        {
          "name": "stdout",
          "output_type": "stream",
          "text": [
            " * sqlite:////content/drive/MyDrive/Telmo/love4pets.db\n",
            "Done.\n"
          ]
        },
        {
          "data": {
            "text/html": [
              "<table>\n",
              "    <thead>\n",
              "        <tr>\n",
              "            <th>nombre</th>\n",
              "            <th>ciudad</th>\n",
              "        </tr>\n",
              "    </thead>\n",
              "    <tbody>\n",
              "        <tr>\n",
              "            <td>Mario Flores Gallardo</td>\n",
              "            <td>Madrid</td>\n",
              "        </tr>\n",
              "        <tr>\n",
              "            <td>Arnau Medina Garcia</td>\n",
              "            <td>Madrid</td>\n",
              "        </tr>\n",
              "        <tr>\n",
              "            <td>Ivan Medina Rubio</td>\n",
              "            <td>Toledo</td>\n",
              "        </tr>\n",
              "        <tr>\n",
              "            <td>Jan Vargas Santana</td>\n",
              "            <td>Madrid</td>\n",
              "        </tr>\n",
              "        <tr>\n",
              "            <td>Carlos Costa Guerrero</td>\n",
              "            <td>Madrid</td>\n",
              "        </tr>\n",
              "        <tr>\n",
              "            <td>Roberto Martin Ortega</td>\n",
              "            <td>Madrid</td>\n",
              "        </tr>\n",
              "        <tr>\n",
              "            <td>Gabriel Gonzalez Ortega</td>\n",
              "            <td>Madrid</td>\n",
              "        </tr>\n",
              "        <tr>\n",
              "            <td>Rayan Leon Ferrer</td>\n",
              "            <td>Madrid</td>\n",
              "        </tr>\n",
              "        <tr>\n",
              "            <td>Aitor Ruiz Sanchez</td>\n",
              "            <td>Madrid</td>\n",
              "        </tr>\n",
              "        <tr>\n",
              "            <td>Eric Rubio Carrasco</td>\n",
              "            <td>Madrid</td>\n",
              "        </tr>\n",
              "        <tr>\n",
              "            <td>Alberto Sanz Ruiz</td>\n",
              "            <td>Madrid</td>\n",
              "        </tr>\n",
              "        <tr>\n",
              "            <td>Jesus Medina Hernandez</td>\n",
              "            <td>Madrid</td>\n",
              "        </tr>\n",
              "        <tr>\n",
              "            <td>Pol Moya Pena</td>\n",
              "            <td>Toledo</td>\n",
              "        </tr>\n",
              "        <tr>\n",
              "            <td>Jose Gallardo Rodriguez</td>\n",
              "            <td>Madrid</td>\n",
              "        </tr>\n",
              "        <tr>\n",
              "            <td>Manuel Angel Gil</td>\n",
              "            <td>Madrid</td>\n",
              "        </tr>\n",
              "    </tbody>\n",
              "</table>"
            ],
            "text/plain": [
              "[('Mario Flores Gallardo', 'Madrid'),\n",
              " ('Arnau Medina Garcia', 'Madrid'),\n",
              " ('Ivan Medina Rubio', 'Toledo'),\n",
              " ('Jan Vargas Santana', 'Madrid'),\n",
              " ('Carlos Costa Guerrero', 'Madrid'),\n",
              " ('Roberto Martin Ortega', 'Madrid'),\n",
              " ('Gabriel Gonzalez Ortega', 'Madrid'),\n",
              " ('Rayan Leon Ferrer', 'Madrid'),\n",
              " ('Aitor Ruiz Sanchez', 'Madrid'),\n",
              " ('Eric Rubio Carrasco', 'Madrid'),\n",
              " ('Alberto Sanz Ruiz', 'Madrid'),\n",
              " ('Jesus Medina Hernandez', 'Madrid'),\n",
              " ('Pol Moya Pena', 'Toledo'),\n",
              " ('Jose Gallardo Rodriguez', 'Madrid'),\n",
              " ('Manuel Angel Gil', 'Madrid')]"
            ]
          },
          "execution_count": 63,
          "metadata": {},
          "output_type": "execute_result"
        }
      ],
      "source": [
        "%sql select nombre, ciudad from cliente where ciudad IN (\"Madrid\", \"Toledo\");"
      ]
    },
    {
      "cell_type": "markdown",
      "metadata": {
        "id": "aVlOq-SYeqSD"
      },
      "source": [
        "### Clausula JOIN\n",
        "\n",
        "Hasta ahora hemos realizado consultas muy sencillas casi todas sobre una sola tabla, sin aprovechar las relaciones que existen entre las tablas.\n",
        "\n",
        "Algunas de las tablas en Love4Pets están relacionadas  por medio de claves foraneas, por ejemplo la tabla empleado tiene un campo departamento_id que almacena el código del departamento donde trabaja un empleado, por medio de está relación podemos consultar también el nombre del departamento, esta consulta puede hacerse haciendo consultas anidadas, pero también usando la clausula **JOIN**\n",
        "\n",
        "La clausula JOIN es usada para combinar columnas de una o mas tablas por medio de campos que relacionan estas tablas.\n",
        "\n",
        "Existen diferentes tipos de JOIN.  \n"
      ]
    },
    {
      "cell_type": "markdown",
      "metadata": {
        "id": "a0iYset5_MSq"
      },
      "source": [
        "#### **Inner JOIN**\n",
        "Retorna los valores cumplen la relación entre ambas tablas, es decir las filas de una tabla que estan relacionadas con filas de otra tabla por medio de claves foraneas. El INNER JOIN también es llamado simplemente JOIN.\n",
        "\n",
        "Sintaxis del Inner Join\n",
        "\n",
        "```sql\n",
        "select campo1, campo2, campoN FROM tabla1 INNER JOIN tabla2 ON tabla1.campo = tabla2.campo;\n",
        "```\n",
        "\n",
        "Veamos un ejemplo:  \n",
        "Primero veamos la siguiente consulta\n"
      ]
    },
    {
      "cell_type": "code",
      "execution_count": null,
      "metadata": {
        "colab": {
          "base_uri": "https://localhost:8080/",
          "height": 305
        },
        "id": "YBgx-wiveqSD",
        "outputId": "da75a748-8b74-4a89-9c40-b34e39ca0e00"
      },
      "outputs": [
        {
          "name": "stdout",
          "output_type": "stream",
          "text": [
            " * sqlite:////content/drive/MyDrive/Telmo/love4pets.db\n",
            "Done.\n"
          ]
        },
        {
          "data": {
            "text/html": [
              "<table>\n",
              "    <thead>\n",
              "        <tr>\n",
              "            <th>nombre</th>\n",
              "            <th>nombre_1</th>\n",
              "        </tr>\n",
              "    </thead>\n",
              "    <tbody>\n",
              "        <tr>\n",
              "            <td>Andres Riera Herrera</td>\n",
              "            <td>informatica</td>\n",
              "        </tr>\n",
              "        <tr>\n",
              "            <td>Lucas Serrano Caballero</td>\n",
              "            <td>ventas</td>\n",
              "        </tr>\n",
              "        <tr>\n",
              "            <td>Pablo Pons Sanz</td>\n",
              "            <td>finanzas</td>\n",
              "        </tr>\n",
              "        <tr>\n",
              "            <td>Saul Moreno Santos</td>\n",
              "            <td>finanzas</td>\n",
              "        </tr>\n",
              "        <tr>\n",
              "            <td>Nil Soler Diez</td>\n",
              "            <td>veterinario</td>\n",
              "        </tr>\n",
              "        <tr>\n",
              "            <td>Sergio Reyes Gallardo</td>\n",
              "            <td>veterinario</td>\n",
              "        </tr>\n",
              "        <tr>\n",
              "            <td>Isaac Jimenez Ortiz</td>\n",
              "            <td>recursos humanos</td>\n",
              "        </tr>\n",
              "        <tr>\n",
              "            <td>Guillermo Vidal Gomez</td>\n",
              "            <td>recursos humanos</td>\n",
              "        </tr>\n",
              "        <tr>\n",
              "            <td>Daniel Quintero Quintero</td>\n",
              "            <td>informatica</td>\n",
              "        </tr>\n",
              "        <tr>\n",
              "            <td>Miguel Soto</td>\n",
              "            <td>informatica</td>\n",
              "        </tr>\n",
              "        <tr>\n",
              "            <td>Alejandro Fernandez</td>\n",
              "            <td>informatica</td>\n",
              "        </tr>\n",
              "    </tbody>\n",
              "</table>"
            ],
            "text/plain": [
              "[('Andres Riera Herrera', 'informatica'),\n",
              " ('Lucas Serrano Caballero', 'ventas'),\n",
              " ('Pablo Pons Sanz', 'finanzas'),\n",
              " ('Saul Moreno Santos', 'finanzas'),\n",
              " ('Nil Soler Diez', 'veterinario'),\n",
              " ('Sergio Reyes Gallardo', 'veterinario'),\n",
              " ('Isaac Jimenez Ortiz', 'recursos humanos'),\n",
              " ('Guillermo Vidal Gomez', 'recursos humanos'),\n",
              " ('Daniel Quintero Quintero', 'informatica'),\n",
              " ('Miguel Soto', 'informatica'),\n",
              " ('Alejandro Fernandez', 'informatica')]"
            ]
          },
          "execution_count": 64,
          "metadata": {},
          "output_type": "execute_result"
        }
      ],
      "source": [
        "%%sql\n",
        "SELECT empleado.nombre, departamento.nombre\n",
        "\n",
        "FROM empleado, departamento\n",
        "\n",
        "WHERE empleado.departamento_id = departamento.departamento_id;"
      ]
    },
    {
      "cell_type": "markdown",
      "metadata": {
        "id": "qIsdagL5eqSE"
      },
      "source": [
        "Se muestran todos los empleados que trabajan en algun departamento, en esta consulta se excluyen empleados que no trabajan en ningun departamento y departamentos que no tienen ningun empleado.\n",
        "\n",
        "Veamos ahora la siguiente consulta"
      ]
    },
    {
      "cell_type": "code",
      "execution_count": null,
      "metadata": {
        "colab": {
          "base_uri": "https://localhost:8080/",
          "height": 116
        },
        "id": "7KhRunrHeqSE",
        "outputId": "d3069c7d-6f68-4ec6-f974-cf1d2a24d0eb"
      },
      "outputs": [
        {
          "name": "stdout",
          "output_type": "stream",
          "text": [
            " * sqlite:////content/drive/MyDrive/Telmo/love4pets.db\n",
            "Done.\n"
          ]
        },
        {
          "data": {
            "text/html": [
              "<table>\n",
              "    <thead>\n",
              "        <tr>\n",
              "            <th>NombreEmp</th>\n",
              "            <th>NombreDep</th>\n",
              "        </tr>\n",
              "    </thead>\n",
              "    <tbody>\n",
              "        <tr>\n",
              "            <td>Miguel Soto</td>\n",
              "            <td>informatica</td>\n",
              "        </tr>\n",
              "        <tr>\n",
              "            <td>Alejandro Fernandez</td>\n",
              "            <td>informatica</td>\n",
              "        </tr>\n",
              "    </tbody>\n",
              "</table>"
            ],
            "text/plain": [
              "[('Miguel Soto', 'informatica'), ('Alejandro Fernandez', 'informatica')]"
            ]
          },
          "execution_count": 68,
          "metadata": {},
          "output_type": "execute_result"
        }
      ],
      "source": [
        "%%sql\n",
        "select empleado.nombre AS 'NombreEmp', departamento.nombre 'NombreDep'\n",
        "\n",
        "from empleado INNER JOIN departamento ON empleado.departamento_id = departamento.departamento_id\n",
        "\n",
        "WHERE empleado.salario > 1800"
      ]
    },
    {
      "cell_type": "markdown",
      "metadata": {
        "id": "qEr4ss-QeqSE"
      },
      "source": [
        "Esta instrucción realiza la misma consulta que el comando anterior, es decir muestra los empleados que trabajan en algun departamento"
      ]
    },
    {
      "cell_type": "markdown",
      "metadata": {
        "id": "VCBgEyi6eqSE"
      },
      "source": [
        "#### **Left JOIN**\n",
        "Retorna los registros de la tabla \"izquierda\" o la primera tabla, y los registros que coinciden con la segunda tabla, excluyendo los registros que se encuentren en la segunda tabla pero que no hagan match con la primera.\n",
        "![Texto alternativo](https://raw.githubusercontent.com/dasesu/practicasql/master/imagenes/left%20join.png)\n",
        "\n",
        "Sintaxis del LEFT JOIN\n",
        "```sql\n",
        "select campo1, campo2, campoN FROM tabla1 LEFT JOIN tabla2 ON tabla1.campo = tabla2.campo;\n",
        "```\n",
        "\n",
        "Veamos un ejemplo:  "
      ]
    },
    {
      "cell_type": "code",
      "execution_count": null,
      "metadata": {
        "colab": {
          "base_uri": "https://localhost:8080/",
          "height": 324
        },
        "id": "HZ61BQaNeqSF",
        "outputId": "5e043cfa-fe0c-4859-ef1b-6e1cc2416a87"
      },
      "outputs": [
        {
          "name": "stdout",
          "output_type": "stream",
          "text": [
            " * sqlite:////content/drive/MyDrive/Data_Valencia/love4pets.db\n",
            "Done.\n"
          ]
        },
        {
          "data": {
            "text/html": [
              "<table>\n",
              "    <thead>\n",
              "        <tr>\n",
              "            <th>nombre</th>\n",
              "            <th>nombre_1</th>\n",
              "        </tr>\n",
              "    </thead>\n",
              "    <tbody>\n",
              "        <tr>\n",
              "            <td>Andres Riera Herrera</td>\n",
              "            <td>informatica</td>\n",
              "        </tr>\n",
              "        <tr>\n",
              "            <td>Lucas Serrano Caballero</td>\n",
              "            <td>ventas</td>\n",
              "        </tr>\n",
              "        <tr>\n",
              "            <td>Pablo Pons Sanz</td>\n",
              "            <td>finanzas</td>\n",
              "        </tr>\n",
              "        <tr>\n",
              "            <td>Saul Moreno Santos</td>\n",
              "            <td>finanzas</td>\n",
              "        </tr>\n",
              "        <tr>\n",
              "            <td>Nil Soler Diez</td>\n",
              "            <td>veterinario</td>\n",
              "        </tr>\n",
              "        <tr>\n",
              "            <td>Sergio Reyes Gallardo</td>\n",
              "            <td>veterinario</td>\n",
              "        </tr>\n",
              "        <tr>\n",
              "            <td>Isaac Jimenez Ortiz</td>\n",
              "            <td>recursos humanos</td>\n",
              "        </tr>\n",
              "        <tr>\n",
              "            <td>Guillermo Vidal Gomez</td>\n",
              "            <td>recursos humanos</td>\n",
              "        </tr>\n",
              "        <tr>\n",
              "            <td>Daniel Quintero Quintero</td>\n",
              "            <td>informatica</td>\n",
              "        </tr>\n",
              "        <tr>\n",
              "            <td>Juan Manuel Olivares</td>\n",
              "            <td>None</td>\n",
              "        </tr>\n",
              "        <tr>\n",
              "            <td>Miguel Soto</td>\n",
              "            <td>informatica</td>\n",
              "        </tr>\n",
              "        <tr>\n",
              "            <td>Alejandro Fernandez</td>\n",
              "            <td>informatica</td>\n",
              "        </tr>\n",
              "    </tbody>\n",
              "</table>"
            ],
            "text/plain": [
              "[('Andres Riera Herrera', 'informatica'),\n",
              " ('Lucas Serrano Caballero', 'ventas'),\n",
              " ('Pablo Pons Sanz', 'finanzas'),\n",
              " ('Saul Moreno Santos', 'finanzas'),\n",
              " ('Nil Soler Diez', 'veterinario'),\n",
              " ('Sergio Reyes Gallardo', 'veterinario'),\n",
              " ('Isaac Jimenez Ortiz', 'recursos humanos'),\n",
              " ('Guillermo Vidal Gomez', 'recursos humanos'),\n",
              " ('Daniel Quintero Quintero', 'informatica'),\n",
              " ('Juan Manuel Olivares', None),\n",
              " ('Miguel Soto', 'informatica'),\n",
              " ('Alejandro Fernandez', 'informatica')]"
            ]
          },
          "execution_count": 48,
          "metadata": {},
          "output_type": "execute_result"
        }
      ],
      "source": [
        "%%sql\n",
        "select empleado.nombre, departamento.nombre from empleado\n",
        "LEFT JOIN\n",
        "departamento ON empleado.departamento_id = departamento.departamento_id;"
      ]
    },
    {
      "cell_type": "markdown",
      "metadata": {
        "id": "3yxZvkdQeqSF"
      },
      "source": [
        "En el resultado anterior observe que el empleado \"Juan Manuel Olivares\" no está asociado a ningun departamento, sin embargo este es mostrado porque forma parte de la tabla1, pero no en la tabla2\n"
      ]
    },
    {
      "cell_type": "markdown",
      "metadata": {
        "id": "_5IHk73leqSF"
      },
      "source": [
        "#### **Right JOIN**\n",
        "Retorna los registros de la tabla \"derecha\" o la segunda tabla, y los registros que coinciden con la primera tabla, excluyendo los registros que se encuentren en la primera tabla pero que no hagan match con la segunda.\n",
        "\n",
        "Sintaxis del RIGHT JOIN\n",
        "```sql\n",
        "select campo1, campo2, campoN FROM tabla1 RIGHT JOIN tabla2 ON tabla1.campo = tabla2.campo;\n",
        "```\n",
        "\n",
        "**Esta instrucción no es reconocida por Sqlite3, por lo que al tratar de ejecutar esta sentencia se obtendrá un error.**\n",
        "\n",
        "Sin embargo esta instrucción puede construirse usando un LEFT JOIN invirtiendo el orden de las tablas.\n",
        "\n",
        "Veamos un ejemplo. ( El siguiente es un error provocado de forma intencional )"
      ]
    },
    {
      "cell_type": "code",
      "execution_count": null,
      "metadata": {
        "colab": {
          "base_uri": "https://localhost:8080/"
        },
        "id": "ArPHosfreqSG",
        "outputId": "9be87c4f-2fdc-418b-89d8-5fd9908899a1"
      },
      "outputs": [
        {
          "name": "stdout",
          "output_type": "stream",
          "text": [
            " * sqlite:////content/drive/MyDrive/Data_Valencia/love4pets.db\n",
            "(sqlite3.OperationalError) RIGHT and FULL OUTER JOINs are not currently supported\n",
            "[SQL: select empleado.nombre, departamento.nombre from empleado\n",
            "RIGHT JOIN\n",
            "departamento ON empleado.departamento_id = departamento.departamento_id;]\n",
            "(Background on this error at: https://sqlalche.me/e/20/e3q8)\n"
          ]
        }
      ],
      "source": [
        "%%sql\n",
        "select empleado.nombre, departamento.nombre from empleado\n",
        "RIGHT JOIN\n",
        "departamento ON empleado.departamento_id = departamento.departamento_id;"
      ]
    },
    {
      "cell_type": "markdown",
      "metadata": {
        "id": "DzfmYENLeqSG"
      },
      "source": [
        "El siguiente código arroja el mismo resultado que debería arrojar el RIGHT JOIN, haciendo uso del LEFT JOIN, invirtiendo las la posición de las tablas"
      ]
    },
    {
      "cell_type": "code",
      "execution_count": null,
      "metadata": {
        "colab": {
          "base_uri": "https://localhost:8080/",
          "height": 344
        },
        "id": "X_tAzs73eqSG",
        "outputId": "cdd7a45d-307e-47ed-f7f0-dbcfe79bd838"
      },
      "outputs": [
        {
          "name": "stdout",
          "output_type": "stream",
          "text": [
            " * sqlite:////content/drive/MyDrive/Data_Valencia/love4pets.db\n",
            "Done.\n"
          ]
        },
        {
          "data": {
            "text/html": [
              "<table>\n",
              "    <thead>\n",
              "        <tr>\n",
              "            <th>nombre</th>\n",
              "            <th>nombre_1</th>\n",
              "        </tr>\n",
              "    </thead>\n",
              "    <tbody>\n",
              "        <tr>\n",
              "            <td>finanzas</td>\n",
              "            <td>Pablo Pons Sanz</td>\n",
              "        </tr>\n",
              "        <tr>\n",
              "            <td>finanzas</td>\n",
              "            <td>Saul Moreno Santos</td>\n",
              "        </tr>\n",
              "        <tr>\n",
              "            <td>ventas</td>\n",
              "            <td>Lucas Serrano Caballero</td>\n",
              "        </tr>\n",
              "        <tr>\n",
              "            <td>recursos humanos</td>\n",
              "            <td>Guillermo Vidal Gomez</td>\n",
              "        </tr>\n",
              "        <tr>\n",
              "            <td>recursos humanos</td>\n",
              "            <td>Isaac Jimenez Ortiz</td>\n",
              "        </tr>\n",
              "        <tr>\n",
              "            <td>marketing</td>\n",
              "            <td>None</td>\n",
              "        </tr>\n",
              "        <tr>\n",
              "            <td>veterinario</td>\n",
              "            <td>Nil Soler Diez</td>\n",
              "        </tr>\n",
              "        <tr>\n",
              "            <td>veterinario</td>\n",
              "            <td>Sergio Reyes Gallardo</td>\n",
              "        </tr>\n",
              "        <tr>\n",
              "            <td>informatica</td>\n",
              "            <td>Alejandro Fernandez</td>\n",
              "        </tr>\n",
              "        <tr>\n",
              "            <td>informatica</td>\n",
              "            <td>Andres Riera Herrera</td>\n",
              "        </tr>\n",
              "        <tr>\n",
              "            <td>informatica</td>\n",
              "            <td>Daniel Quintero Quintero</td>\n",
              "        </tr>\n",
              "        <tr>\n",
              "            <td>informatica</td>\n",
              "            <td>Miguel Soto</td>\n",
              "        </tr>\n",
              "        <tr>\n",
              "            <td>investigacion</td>\n",
              "            <td>None</td>\n",
              "        </tr>\n",
              "    </tbody>\n",
              "</table>"
            ],
            "text/plain": [
              "[('finanzas', 'Pablo Pons Sanz'),\n",
              " ('finanzas', 'Saul Moreno Santos'),\n",
              " ('ventas', 'Lucas Serrano Caballero'),\n",
              " ('recursos humanos', 'Guillermo Vidal Gomez'),\n",
              " ('recursos humanos', 'Isaac Jimenez Ortiz'),\n",
              " ('marketing', None),\n",
              " ('veterinario', 'Nil Soler Diez'),\n",
              " ('veterinario', 'Sergio Reyes Gallardo'),\n",
              " ('informatica', 'Alejandro Fernandez'),\n",
              " ('informatica', 'Andres Riera Herrera'),\n",
              " ('informatica', 'Daniel Quintero Quintero'),\n",
              " ('informatica', 'Miguel Soto'),\n",
              " ('investigacion', None)]"
            ]
          },
          "execution_count": 50,
          "metadata": {},
          "output_type": "execute_result"
        }
      ],
      "source": [
        "%%sql\n",
        "select departamento.nombre, empleado.nombre from departamento\n",
        "LEFT JOIN\n",
        "empleado ON empleado.departamento_id = departamento.departamento_id;"
      ]
    },
    {
      "cell_type": "markdown",
      "metadata": {
        "id": "8npIZN5ZeqSG"
      },
      "source": [
        "### **Ejercicio 7**\n",
        "--------\n",
        " Considerando la tabla \"cliente\" y la tabla \"mascota\" las cuales tienen una relación uno a muchos.  \n",
        " Indique los clientes que no tienen mascota registrada."
      ]
    },
    {
      "cell_type": "code",
      "execution_count": null,
      "metadata": {
        "colab": {
          "base_uri": "https://localhost:8080/",
          "height": 386
        },
        "id": "l5OGPmZogljO",
        "outputId": "28cc8a7e-d040-46fd-85b9-7aded3a2f53e"
      },
      "outputs": [
        {
          "name": "stdout",
          "output_type": "stream",
          "text": [
            " * sqlite:////content/drive/MyDrive/Data_Valencia/love4pets.db\n",
            "Done.\n"
          ]
        },
        {
          "data": {
            "text/html": [
              "<table>\n",
              "    <thead>\n",
              "        <tr>\n",
              "            <th>cliente_id</th>\n",
              "            <th>nombre</th>\n",
              "            <th>email</th>\n",
              "            <th>telefono</th>\n",
              "            <th>contacto</th>\n",
              "            <th>telefono_contacto</th>\n",
              "            <th>ciudad</th>\n",
              "        </tr>\n",
              "    </thead>\n",
              "    <tbody>\n",
              "        <tr>\n",
              "            <td>1</td>\n",
              "            <td>Mario Flores Gallardo</td>\n",
              "            <td>marioflores@gmail.com</td>\n",
              "            <td>036-15-36</td>\n",
              "            <td>Aintzane Alvarez Iglesias</td>\n",
              "            <td>210-35-57</td>\n",
              "            <td>Madrid</td>\n",
              "        </tr>\n",
              "        <tr>\n",
              "            <td>2</td>\n",
              "            <td>Arnau Medina Garcia</td>\n",
              "            <td>arnaumedina@gmail.com</td>\n",
              "            <td>094-10-88</td>\n",
              "            <td></td>\n",
              "            <td></td>\n",
              "            <td>Madrid</td>\n",
              "        </tr>\n",
              "        <tr>\n",
              "            <td>3</td>\n",
              "            <td>Ivan Medina Rubio</td>\n",
              "            <td>ivanmedina@gmail.com</td>\n",
              "            <td>083-08-72</td>\n",
              "            <td>Javier Domenech</td>\n",
              "            <td>488-48-46</td>\n",
              "            <td>Toledo</td>\n",
              "        </tr>\n",
              "        <tr>\n",
              "            <td>4</td>\n",
              "            <td>Jan Vargas Santana</td>\n",
              "            <td>vargasjan@gmail.com</td>\n",
              "            <td>780-65-24</td>\n",
              "            <td></td>\n",
              "            <td></td>\n",
              "            <td>Madrid</td>\n",
              "        </tr>\n",
              "        <tr>\n",
              "            <td>5</td>\n",
              "            <td>Carlos Costa Guerrero</td>\n",
              "            <td>carloscostag@gmail.com</td>\n",
              "            <td>180-65-24</td>\n",
              "            <td>Cristian Jimenez</td>\n",
              "            <td>801-28-09</td>\n",
              "            <td>Madrid</td>\n",
              "        </tr>\n",
              "        <tr>\n",
              "            <td>6</td>\n",
              "            <td>Roberto Martin Ortega</td>\n",
              "            <td>robertmartin@gmail.com</td>\n",
              "            <td>742-63-27</td>\n",
              "            <td>Jorge Vila Gallardo</td>\n",
              "            <td>564-52-13</td>\n",
              "            <td>Madrid</td>\n",
              "        </tr>\n",
              "        <tr>\n",
              "            <td>7</td>\n",
              "            <td>Gabriel Gonzalez Ortega</td>\n",
              "            <td>gabogonzo@gmail.com</td>\n",
              "            <td>780-13-14</td>\n",
              "            <td>Miguel Bosch Parra</td>\n",
              "            <td>882-17-20</td>\n",
              "            <td>Madrid</td>\n",
              "        </tr>\n",
              "        <tr>\n",
              "            <td>8</td>\n",
              "            <td>Rayan Leon Ferrer</td>\n",
              "            <td>rayito@gmail.com</td>\n",
              "            <td>430-65-24</td>\n",
              "            <td>Santiago Perez Ramos</td>\n",
              "            <td>577-21-24</td>\n",
              "            <td>Madrid</td>\n",
              "        </tr>\n",
              "        <tr>\n",
              "            <td>9</td>\n",
              "            <td>Aitor Ruiz Sanchez</td>\n",
              "            <td>aitorsanchez@gmail.com</td>\n",
              "            <td>780-77-24</td>\n",
              "            <td>Gabriel Gonzalez Ortega</td>\n",
              "            <td>784-96-31</td>\n",
              "            <td>Madrid</td>\n",
              "        </tr>\n",
              "        <tr>\n",
              "            <td>10</td>\n",
              "            <td>Eric Rubio Carrasco</td>\n",
              "            <td>ericrubio@gmail.com</td>\n",
              "            <td>780-65-79</td>\n",
              "            <td>Cristian Jimenez Martinez</td>\n",
              "            <td>147-01-12</td>\n",
              "            <td>Madrid</td>\n",
              "        </tr>\n",
              "        <tr>\n",
              "            <td>11</td>\n",
              "            <td>Alberto Sanz Ruiz</td>\n",
              "            <td>albert@gmail.com</td>\n",
              "            <td>781-15-24</td>\n",
              "            <td>Gabriel Gonzalez Ortega</td>\n",
              "            <td>028-51-21</td>\n",
              "            <td>Madrid</td>\n",
              "        </tr>\n",
              "        <tr>\n",
              "            <td>12</td>\n",
              "            <td>Jesus Medina Hernandez</td>\n",
              "            <td>jmedinah@gmail.com</td>\n",
              "            <td>782-35-25</td>\n",
              "            <td>Vctor Gonzalez Castillo</td>\n",
              "            <td>661-85-12</td>\n",
              "            <td>Madrid</td>\n",
              "        </tr>\n",
              "        <tr>\n",
              "            <td>13</td>\n",
              "            <td>Pol Moya Pena</td>\n",
              "            <td>polmoya@gmail.com</td>\n",
              "            <td>780-25-24</td>\n",
              "            <td></td>\n",
              "            <td></td>\n",
              "            <td>Toledo</td>\n",
              "        </tr>\n",
              "        <tr>\n",
              "            <td>14</td>\n",
              "            <td>Jose Gallardo Rodriguez</td>\n",
              "            <td>josegallardo@gmail.com</td>\n",
              "            <td>783-65-11</td>\n",
              "            <td>Hector Martin Morales</td>\n",
              "            <td>867-97-99</td>\n",
              "            <td>Madrid</td>\n",
              "        </tr>\n",
              "        <tr>\n",
              "            <td>15</td>\n",
              "            <td>Manuel Angel Gil</td>\n",
              "            <td>manano@gmail.com</td>\n",
              "            <td>733-65-16</td>\n",
              "            <td>Hector Navarro</td>\n",
              "            <td>067-97-91</td>\n",
              "            <td>Madrid</td>\n",
              "        </tr>\n",
              "    </tbody>\n",
              "</table>"
            ],
            "text/plain": [
              "[(1, 'Mario Flores Gallardo', 'marioflores@gmail.com', '036-15-36', 'Aintzane Alvarez Iglesias', '210-35-57', 'Madrid'),\n",
              " (2, 'Arnau Medina Garcia', 'arnaumedina@gmail.com', '094-10-88', '', '', 'Madrid'),\n",
              " (3, 'Ivan Medina Rubio', 'ivanmedina@gmail.com', '083-08-72', 'Javier Domenech', '488-48-46', 'Toledo'),\n",
              " (4, 'Jan Vargas Santana', 'vargasjan@gmail.com', '780-65-24', '', '', 'Madrid'),\n",
              " (5, 'Carlos Costa Guerrero', 'carloscostag@gmail.com', '180-65-24', 'Cristian Jimenez', '801-28-09', 'Madrid'),\n",
              " (6, 'Roberto Martin Ortega', 'robertmartin@gmail.com', '742-63-27', 'Jorge Vila Gallardo', '564-52-13', 'Madrid'),\n",
              " (7, 'Gabriel Gonzalez Ortega', 'gabogonzo@gmail.com', '780-13-14', 'Miguel Bosch Parra', '882-17-20', 'Madrid'),\n",
              " (8, 'Rayan Leon Ferrer', 'rayito@gmail.com', '430-65-24', 'Santiago Perez Ramos', '577-21-24', 'Madrid'),\n",
              " (9, 'Aitor Ruiz Sanchez', 'aitorsanchez@gmail.com', '780-77-24', 'Gabriel Gonzalez Ortega', '784-96-31', 'Madrid'),\n",
              " (10, 'Eric Rubio Carrasco', 'ericrubio@gmail.com', '780-65-79', 'Cristian Jimenez Martinez', '147-01-12', 'Madrid'),\n",
              " (11, 'Alberto Sanz Ruiz', 'albert@gmail.com', '781-15-24', 'Gabriel Gonzalez Ortega', '028-51-21', 'Madrid'),\n",
              " (12, 'Jesus Medina Hernandez', 'jmedinah@gmail.com', '782-35-25', 'Vctor Gonzalez Castillo', '661-85-12', 'Madrid'),\n",
              " (13, 'Pol Moya Pena', 'polmoya@gmail.com', '780-25-24', '', '', 'Toledo'),\n",
              " (14, 'Jose Gallardo Rodriguez', 'josegallardo@gmail.com', '783-65-11', 'Hector Martin Morales', '867-97-99', 'Madrid'),\n",
              " (15, 'Manuel Angel Gil', 'manano@gmail.com', '733-65-16', 'Hector Navarro', '067-97-91', 'Madrid')]"
            ]
          },
          "execution_count": 51,
          "metadata": {},
          "output_type": "execute_result"
        }
      ],
      "source": [
        "%sql select * from cliente"
      ]
    },
    {
      "cell_type": "code",
      "execution_count": null,
      "metadata": {
        "colab": {
          "base_uri": "https://localhost:8080/",
          "height": 282
        },
        "id": "g7HeTsJhg2yZ",
        "outputId": "fd95cf7c-79fc-4c5f-b5b7-3d760ff61af5"
      },
      "outputs": [
        {
          "name": "stdout",
          "output_type": "stream",
          "text": [
            " * sqlite:////content/drive/MyDrive/Data_Valencia/love4pets.db\n",
            "Done.\n"
          ]
        },
        {
          "data": {
            "text/html": [
              "<table>\n",
              "    <thead>\n",
              "        <tr>\n",
              "            <th>mascota_id</th>\n",
              "            <th>nombre</th>\n",
              "            <th>cliente_id</th>\n",
              "            <th>especie</th>\n",
              "            <th>raza</th>\n",
              "            <th>fecha_nacimiento</th>\n",
              "        </tr>\n",
              "    </thead>\n",
              "    <tbody>\n",
              "        <tr>\n",
              "            <td>1</td>\n",
              "            <td>Luna</td>\n",
              "            <td>2</td>\n",
              "            <td>gato</td>\n",
              "            <td>mestizo</td>\n",
              "            <td>2009-01-01 00:00:000</td>\n",
              "        </tr>\n",
              "        <tr>\n",
              "            <td>2</td>\n",
              "            <td>Sole</td>\n",
              "            <td>3</td>\n",
              "            <td>gato</td>\n",
              "            <td>mestizo</td>\n",
              "            <td>2010-02-01 00:00:000</td>\n",
              "        </tr>\n",
              "        <tr>\n",
              "            <td>3</td>\n",
              "            <td>Mida</td>\n",
              "            <td>3</td>\n",
              "            <td>perro</td>\n",
              "            <td>Caint terrier</td>\n",
              "            <td>2007-02-03 00:00:000</td>\n",
              "        </tr>\n",
              "        <tr>\n",
              "            <td>4</td>\n",
              "            <td>Tara</td>\n",
              "            <td>5</td>\n",
              "            <td>perro</td>\n",
              "            <td>Puddle</td>\n",
              "            <td>2006-02-03 00:00:000</td>\n",
              "        </tr>\n",
              "        <tr>\n",
              "            <td>5</td>\n",
              "            <td>Pelusa</td>\n",
              "            <td>6</td>\n",
              "            <td>perro</td>\n",
              "            <td>Puddle</td>\n",
              "            <td>2008-02-03 00:00:000</td>\n",
              "        </tr>\n",
              "        <tr>\n",
              "            <td>6</td>\n",
              "            <td>irene</td>\n",
              "            <td>7</td>\n",
              "            <td>gato</td>\n",
              "            <td>siames</td>\n",
              "            <td>2015-02-03 00:00:000</td>\n",
              "        </tr>\n",
              "        <tr>\n",
              "            <td>7</td>\n",
              "            <td>sara</td>\n",
              "            <td>8</td>\n",
              "            <td>gato</td>\n",
              "            <td>mestizo</td>\n",
              "            <td>2016-05-01 00:00:000</td>\n",
              "        </tr>\n",
              "        <tr>\n",
              "            <td>8</td>\n",
              "            <td>milo</td>\n",
              "            <td>11</td>\n",
              "            <td>gato</td>\n",
              "            <td>mestizo</td>\n",
              "            <td>2016-09-01 00:00:000</td>\n",
              "        </tr>\n",
              "        <tr>\n",
              "            <td>9</td>\n",
              "            <td>oliver</td>\n",
              "            <td>11</td>\n",
              "            <td>gato</td>\n",
              "            <td>mestizo</td>\n",
              "            <td>2016-07-07 00:00:000</td>\n",
              "        </tr>\n",
              "        <tr>\n",
              "            <td>10</td>\n",
              "            <td>Duke</td>\n",
              "            <td>14</td>\n",
              "            <td>perro</td>\n",
              "            <td>Pastor Aleman</td>\n",
              "            <td>2011-05-03 00:00:000</td>\n",
              "        </tr>\n",
              "    </tbody>\n",
              "</table>"
            ],
            "text/plain": [
              "[(1, 'Luna', 2, 'gato', 'mestizo', '2009-01-01 00:00:000'),\n",
              " (2, 'Sole', 3, 'gato', 'mestizo', '2010-02-01 00:00:000'),\n",
              " (3, 'Mida', 3, 'perro', 'Caint terrier', '2007-02-03 00:00:000'),\n",
              " (4, 'Tara', 5, 'perro', 'Puddle', '2006-02-03 00:00:000'),\n",
              " (5, 'Pelusa', 6, 'perro', 'Puddle', '2008-02-03 00:00:000'),\n",
              " (6, 'irene', 7, 'gato', 'siames', '2015-02-03 00:00:000'),\n",
              " (7, 'sara', 8, 'gato', 'mestizo', '2016-05-01 00:00:000'),\n",
              " (8, 'milo', 11, 'gato', 'mestizo', '2016-09-01 00:00:000'),\n",
              " (9, 'oliver', 11, 'gato', 'mestizo', '2016-07-07 00:00:000'),\n",
              " (10, 'Duke', 14, 'perro', 'Pastor Aleman', '2011-05-03 00:00:000')]"
            ]
          },
          "execution_count": 52,
          "metadata": {},
          "output_type": "execute_result"
        }
      ],
      "source": [
        "%sql select * from mascota"
      ]
    },
    {
      "cell_type": "code",
      "execution_count": null,
      "metadata": {
        "colab": {
          "base_uri": "https://localhost:8080/",
          "height": 221
        },
        "id": "ZPljhr8veqSH",
        "outputId": "15b51c24-9071-41ed-c209-f8bf7eae5348"
      },
      "outputs": [
        {
          "name": "stdout",
          "output_type": "stream",
          "text": [
            " * sqlite:////content/drive/MyDrive/Telmo/love4pets.db\n",
            "Done.\n"
          ]
        },
        {
          "data": {
            "text/html": [
              "<table>\n",
              "    <thead>\n",
              "        <tr>\n",
              "            <th>cliente_id</th>\n",
              "            <th>nombre</th>\n",
              "        </tr>\n",
              "    </thead>\n",
              "    <tbody>\n",
              "        <tr>\n",
              "            <td>1</td>\n",
              "            <td>Mario Flores Gallardo</td>\n",
              "        </tr>\n",
              "        <tr>\n",
              "            <td>4</td>\n",
              "            <td>Jan Vargas Santana</td>\n",
              "        </tr>\n",
              "        <tr>\n",
              "            <td>9</td>\n",
              "            <td>Aitor Ruiz Sanchez</td>\n",
              "        </tr>\n",
              "        <tr>\n",
              "            <td>10</td>\n",
              "            <td>Eric Rubio Carrasco</td>\n",
              "        </tr>\n",
              "        <tr>\n",
              "            <td>12</td>\n",
              "            <td>Jesus Medina Hernandez</td>\n",
              "        </tr>\n",
              "        <tr>\n",
              "            <td>13</td>\n",
              "            <td>Pol Moya Pena</td>\n",
              "        </tr>\n",
              "        <tr>\n",
              "            <td>15</td>\n",
              "            <td>Manuel Angel Gil</td>\n",
              "        </tr>\n",
              "    </tbody>\n",
              "</table>"
            ],
            "text/plain": [
              "[(1, 'Mario Flores Gallardo'),\n",
              " (4, 'Jan Vargas Santana'),\n",
              " (9, 'Aitor Ruiz Sanchez'),\n",
              " (10, 'Eric Rubio Carrasco'),\n",
              " (12, 'Jesus Medina Hernandez'),\n",
              " (13, 'Pol Moya Pena'),\n",
              " (15, 'Manuel Angel Gil')]"
            ]
          },
          "execution_count": 71,
          "metadata": {},
          "output_type": "execute_result"
        }
      ],
      "source": [
        "%%sql\n",
        "SELECT cliente.cliente_id, cliente.nombre\n",
        "\n",
        "FROM cliente\n",
        "\n",
        "WHERE cliente.cliente_id NOT IN (SELECT cliente_id FROM mascota)"
      ]
    },
    {
      "cell_type": "code",
      "execution_count": null,
      "metadata": {
        "colab": {
          "base_uri": "https://localhost:8080/",
          "height": 221
        },
        "id": "UREU_KMhHCPU",
        "outputId": "6d91b345-931c-4380-cbd2-54291d8f4555"
      },
      "outputs": [
        {
          "name": "stdout",
          "output_type": "stream",
          "text": [
            " * sqlite:////content/drive/MyDrive/Telmo/love4pets.db\n",
            "Done.\n"
          ]
        },
        {
          "data": {
            "text/html": [
              "<table>\n",
              "    <thead>\n",
              "        <tr>\n",
              "            <th>cliente_id</th>\n",
              "            <th>nombre</th>\n",
              "            <th>mascota_id</th>\n",
              "        </tr>\n",
              "    </thead>\n",
              "    <tbody>\n",
              "        <tr>\n",
              "            <td>1</td>\n",
              "            <td>Mario Flores Gallardo</td>\n",
              "            <td>None</td>\n",
              "        </tr>\n",
              "        <tr>\n",
              "            <td>4</td>\n",
              "            <td>Jan Vargas Santana</td>\n",
              "            <td>None</td>\n",
              "        </tr>\n",
              "        <tr>\n",
              "            <td>9</td>\n",
              "            <td>Aitor Ruiz Sanchez</td>\n",
              "            <td>None</td>\n",
              "        </tr>\n",
              "        <tr>\n",
              "            <td>10</td>\n",
              "            <td>Eric Rubio Carrasco</td>\n",
              "            <td>None</td>\n",
              "        </tr>\n",
              "        <tr>\n",
              "            <td>12</td>\n",
              "            <td>Jesus Medina Hernandez</td>\n",
              "            <td>None</td>\n",
              "        </tr>\n",
              "        <tr>\n",
              "            <td>13</td>\n",
              "            <td>Pol Moya Pena</td>\n",
              "            <td>None</td>\n",
              "        </tr>\n",
              "        <tr>\n",
              "            <td>15</td>\n",
              "            <td>Manuel Angel Gil</td>\n",
              "            <td>None</td>\n",
              "        </tr>\n",
              "    </tbody>\n",
              "</table>"
            ],
            "text/plain": [
              "[(1, 'Mario Flores Gallardo', None),\n",
              " (4, 'Jan Vargas Santana', None),\n",
              " (9, 'Aitor Ruiz Sanchez', None),\n",
              " (10, 'Eric Rubio Carrasco', None),\n",
              " (12, 'Jesus Medina Hernandez', None),\n",
              " (13, 'Pol Moya Pena', None),\n",
              " (15, 'Manuel Angel Gil', None)]"
            ]
          },
          "execution_count": 76,
          "metadata": {},
          "output_type": "execute_result"
        }
      ],
      "source": [
        "%%sql\n",
        "SELECT cliente.cliente_id, cliente.nombre, mascota.mascota_id\n",
        "\n",
        "FROM cliente LEFT JOIN mascota ON cliente.cliente_id = mascota.cliente_id\n",
        "\n",
        "WHERE mascota.mascota_id IS NULL"
      ]
    },
    {
      "cell_type": "markdown",
      "metadata": {
        "id": "AwUppS7seqSH"
      },
      "source": [
        "### Operador UNION\n",
        "Es usado para combinar resultados de varias consultas en una sola vista.\n",
        "* Cada Instrucción SELECT involucrada en la operación UNION tiene que tener la misma cantidad de columnas.\n",
        "* Las columnas ademas tienen que tener los mismos tipos de datos.\n",
        "\n",
        "**Sintaxis de la Operación UNION**\n",
        "```sql\n",
        "SELECT column_name(s) FROM table1\n",
        "UNION\n",
        "SELECT column_name(s) FROM table2;\n",
        "```"
      ]
    },
    {
      "cell_type": "code",
      "execution_count": null,
      "metadata": {
        "colab": {
          "base_uri": "https://localhost:8080/",
          "height": 636
        },
        "id": "ROc5ALu9eqSH",
        "outputId": "fdbd669c-2445-4474-aa8e-92fa1bc39e45"
      },
      "outputs": [
        {
          "name": "stdout",
          "output_type": "stream",
          "text": [
            " * sqlite:////content/drive/MyDrive/Data_Valencia/love4pets.db\n",
            "Done.\n"
          ]
        },
        {
          "data": {
            "text/html": [
              "<table>\n",
              "    <thead>\n",
              "        <tr>\n",
              "            <th>nombre</th>\n",
              "            <th>email</th>\n",
              "            <th>telefono</th>\n",
              "        </tr>\n",
              "    </thead>\n",
              "    <tbody>\n",
              "        <tr>\n",
              "            <td>Aitor Ruiz Sanchez</td>\n",
              "            <td>aitorsanchez@gmail.com</td>\n",
              "            <td>780-77-24</td>\n",
              "        </tr>\n",
              "        <tr>\n",
              "            <td>Alberto Sanz Ruiz</td>\n",
              "            <td>albert@gmail.com</td>\n",
              "            <td>781-15-24</td>\n",
              "        </tr>\n",
              "        <tr>\n",
              "            <td>Alejandro Fernandez</td>\n",
              "            <td>alefer@gmail.com</td>\n",
              "            <td>119-91-16</td>\n",
              "        </tr>\n",
              "        <tr>\n",
              "            <td>Andres Riera Herrera</td>\n",
              "            <td>andresr@gmail.com</td>\n",
              "            <td>200-88-76</td>\n",
              "        </tr>\n",
              "        <tr>\n",
              "            <td>Arnau Medina Garcia</td>\n",
              "            <td>arnaumedina@gmail.com</td>\n",
              "            <td>094-10-88</td>\n",
              "        </tr>\n",
              "        <tr>\n",
              "            <td>Carlos Costa Guerrero</td>\n",
              "            <td>carloscostag@gmail.com</td>\n",
              "            <td>180-65-24</td>\n",
              "        </tr>\n",
              "        <tr>\n",
              "            <td>Daniel Quintero Quintero</td>\n",
              "            <td>danielquinterox2@gmail.com</td>\n",
              "            <td>261-97-06</td>\n",
              "        </tr>\n",
              "        <tr>\n",
              "            <td>Eric Rubio Carrasco</td>\n",
              "            <td>ericrubio@gmail.com</td>\n",
              "            <td>780-65-79</td>\n",
              "        </tr>\n",
              "        <tr>\n",
              "            <td>Gabriel Gonzalez Ortega</td>\n",
              "            <td>gabogonzo@gmail.com</td>\n",
              "            <td>780-13-14</td>\n",
              "        </tr>\n",
              "        <tr>\n",
              "            <td>Guillermo Vidal Gomez</td>\n",
              "            <td>guillevidal@gmail.com</td>\n",
              "            <td>099-05-68</td>\n",
              "        </tr>\n",
              "        <tr>\n",
              "            <td>Isaac Jimenez Ortiz</td>\n",
              "            <td>isaacortiz@gmail.com</td>\n",
              "            <td>370-19-65</td>\n",
              "        </tr>\n",
              "        <tr>\n",
              "            <td>Ivan Medina Rubio</td>\n",
              "            <td>ivanmedina@gmail.com</td>\n",
              "            <td>083-08-72</td>\n",
              "        </tr>\n",
              "        <tr>\n",
              "            <td>Jan Vargas Santana</td>\n",
              "            <td>vargasjan@gmail.com</td>\n",
              "            <td>780-65-24</td>\n",
              "        </tr>\n",
              "        <tr>\n",
              "            <td>Jesus Medina Hernandez</td>\n",
              "            <td>jmedinah@gmail.com</td>\n",
              "            <td>782-35-25</td>\n",
              "        </tr>\n",
              "        <tr>\n",
              "            <td>Jose Gallardo Rodriguez</td>\n",
              "            <td>josegallardo@gmail.com</td>\n",
              "            <td>783-65-11</td>\n",
              "        </tr>\n",
              "        <tr>\n",
              "            <td>Juan Manuel Olivares</td>\n",
              "            <td>juanma@gmail.com</td>\n",
              "            <td>269-37-06</td>\n",
              "        </tr>\n",
              "        <tr>\n",
              "            <td>Lucas Serrano Caballero</td>\n",
              "            <td>lucas99@gmail.com</td>\n",
              "            <td>115-24-36</td>\n",
              "        </tr>\n",
              "        <tr>\n",
              "            <td>Manuel Angel Gil</td>\n",
              "            <td>manano@gmail.com</td>\n",
              "            <td>733-65-16</td>\n",
              "        </tr>\n",
              "        <tr>\n",
              "            <td>Mario Flores Gallardo</td>\n",
              "            <td>marioflores@gmail.com</td>\n",
              "            <td>036-15-36</td>\n",
              "        </tr>\n",
              "        <tr>\n",
              "            <td>Miguel Soto</td>\n",
              "            <td>misoto@gmail.com</td>\n",
              "            <td>269-92-06</td>\n",
              "        </tr>\n",
              "        <tr>\n",
              "            <td>Nil Soler Diez</td>\n",
              "            <td>nilsoler@gmail.com</td>\n",
              "            <td>576-84-28</td>\n",
              "        </tr>\n",
              "        <tr>\n",
              "            <td>Pablo Pons Sanz</td>\n",
              "            <td>ppsanz@gmail.com</td>\n",
              "            <td>748-72-75</td>\n",
              "        </tr>\n",
              "        <tr>\n",
              "            <td>Pol Moya Pena</td>\n",
              "            <td>polmoya@gmail.com</td>\n",
              "            <td>780-25-24</td>\n",
              "        </tr>\n",
              "        <tr>\n",
              "            <td>Rayan Leon Ferrer</td>\n",
              "            <td>rayito@gmail.com</td>\n",
              "            <td>430-65-24</td>\n",
              "        </tr>\n",
              "        <tr>\n",
              "            <td>Roberto Martin Ortega</td>\n",
              "            <td>robertmartin@gmail.com</td>\n",
              "            <td>742-63-27</td>\n",
              "        </tr>\n",
              "        <tr>\n",
              "            <td>Saul Moreno Santos</td>\n",
              "            <td>saul.morenosantos@gmail.com</td>\n",
              "            <td>346-87-27</td>\n",
              "        </tr>\n",
              "        <tr>\n",
              "            <td>Sergio Reyes Gallardo</td>\n",
              "            <td>zerg@gmail.com</td>\n",
              "            <td>598-95-67</td>\n",
              "        </tr>\n",
              "    </tbody>\n",
              "</table>"
            ],
            "text/plain": [
              "[('Aitor Ruiz Sanchez', 'aitorsanchez@gmail.com', '780-77-24'),\n",
              " ('Alberto Sanz Ruiz', 'albert@gmail.com', '781-15-24'),\n",
              " ('Alejandro Fernandez', 'alefer@gmail.com', '119-91-16'),\n",
              " ('Andres Riera Herrera', 'andresr@gmail.com', '200-88-76'),\n",
              " ('Arnau Medina Garcia', 'arnaumedina@gmail.com', '094-10-88'),\n",
              " ('Carlos Costa Guerrero', 'carloscostag@gmail.com', '180-65-24'),\n",
              " ('Daniel Quintero Quintero', 'danielquinterox2@gmail.com', '261-97-06'),\n",
              " ('Eric Rubio Carrasco', 'ericrubio@gmail.com', '780-65-79'),\n",
              " ('Gabriel Gonzalez Ortega', 'gabogonzo@gmail.com', '780-13-14'),\n",
              " ('Guillermo Vidal Gomez', 'guillevidal@gmail.com', '099-05-68'),\n",
              " ('Isaac Jimenez Ortiz', 'isaacortiz@gmail.com', '370-19-65'),\n",
              " ('Ivan Medina Rubio', 'ivanmedina@gmail.com', '083-08-72'),\n",
              " ('Jan Vargas Santana', 'vargasjan@gmail.com', '780-65-24'),\n",
              " ('Jesus Medina Hernandez', 'jmedinah@gmail.com', '782-35-25'),\n",
              " ('Jose Gallardo Rodriguez', 'josegallardo@gmail.com', '783-65-11'),\n",
              " ('Juan Manuel Olivares', 'juanma@gmail.com', '269-37-06'),\n",
              " ('Lucas Serrano Caballero', 'lucas99@gmail.com', '115-24-36'),\n",
              " ('Manuel Angel Gil', 'manano@gmail.com', '733-65-16'),\n",
              " ('Mario Flores Gallardo', 'marioflores@gmail.com', '036-15-36'),\n",
              " ('Miguel Soto', 'misoto@gmail.com', '269-92-06'),\n",
              " ('Nil Soler Diez', 'nilsoler@gmail.com', '576-84-28'),\n",
              " ('Pablo Pons Sanz', 'ppsanz@gmail.com', '748-72-75'),\n",
              " ('Pol Moya Pena', 'polmoya@gmail.com', '780-25-24'),\n",
              " ('Rayan Leon Ferrer', 'rayito@gmail.com', '430-65-24'),\n",
              " ('Roberto Martin Ortega', 'robertmartin@gmail.com', '742-63-27'),\n",
              " ('Saul Moreno Santos', 'saul.morenosantos@gmail.com', '346-87-27'),\n",
              " ('Sergio Reyes Gallardo', 'zerg@gmail.com', '598-95-67')]"
            ]
          },
          "execution_count": 54,
          "metadata": {},
          "output_type": "execute_result"
        }
      ],
      "source": [
        "%%sql\n",
        "select nombre,email,telefono from empleado\n",
        "UNION\n",
        "select nombre,email,telefono from cliente"
      ]
    },
    {
      "cell_type": "markdown",
      "metadata": {
        "id": "xmCN-xFxeqSH"
      },
      "source": [
        "### La Instrucción GROUP BY\n",
        "Permite agrupar valores por un valor común a ellos\n",
        "\n",
        "Sintaxis de la instrucción GROUP BY\n",
        "```sql\n",
        "SELECT column_name(s)\n",
        "FROM table_name\n",
        "WHERE condition\n",
        "GROUP BY column_name(s)\n",
        "```\n",
        "\n",
        "Veamos un ejemplo contamos la cantidad de clientes que habitan en cada ciudad."
      ]
    },
    {
      "cell_type": "code",
      "execution_count": null,
      "metadata": {
        "colab": {
          "base_uri": "https://localhost:8080/",
          "height": 116
        },
        "id": "CKR9PClDeqSH",
        "outputId": "4b386f26-549e-4024-a16e-3618f371dd71"
      },
      "outputs": [
        {
          "name": "stdout",
          "output_type": "stream",
          "text": [
            " * sqlite:////content/drive/MyDrive/Telmo/love4pets.db\n",
            "Done.\n"
          ]
        },
        {
          "data": {
            "text/html": [
              "<table>\n",
              "    <thead>\n",
              "        <tr>\n",
              "            <th>COUNT(nombre)</th>\n",
              "            <th>ciudad</th>\n",
              "        </tr>\n",
              "    </thead>\n",
              "    <tbody>\n",
              "        <tr>\n",
              "            <td>13</td>\n",
              "            <td>Madrid</td>\n",
              "        </tr>\n",
              "        <tr>\n",
              "            <td>2</td>\n",
              "            <td>Toledo</td>\n",
              "        </tr>\n",
              "    </tbody>\n",
              "</table>"
            ],
            "text/plain": [
              "[(13, 'Madrid'), (2, 'Toledo')]"
            ]
          },
          "execution_count": 78,
          "metadata": {},
          "output_type": "execute_result"
        }
      ],
      "source": [
        "%%sql\n",
        "select COUNT(nombre),ciudad from cliente\n",
        "GROUP BY ciudad"
      ]
    },
    {
      "cell_type": "markdown",
      "metadata": {
        "id": "f5oBXPqGeqSI"
      },
      "source": [
        "### **Ejercicio 8**\n",
        "--------\n",
        "No todas las personas tienen la misma cantidad de mascotas. Se requiere que usted indique el cliente y cantidad de mascotas que tiene cada cliente que tenga mascotas.\n"
      ]
    },
    {
      "cell_type": "code",
      "execution_count": null,
      "metadata": {
        "colab": {
          "base_uri": "https://localhost:8080/",
          "height": 386
        },
        "id": "r279lumkFuEl",
        "outputId": "c1090ff6-70cc-443b-8bea-a8fe62b913a6"
      },
      "outputs": [
        {
          "name": "stdout",
          "output_type": "stream",
          "text": [
            " * sqlite:////content/drive/MyDrive/Data_Valencia/love4pets.db\n",
            "Done.\n"
          ]
        },
        {
          "data": {
            "text/html": [
              "<table>\n",
              "    <thead>\n",
              "        <tr>\n",
              "            <th>cliente_id</th>\n",
              "            <th>nombre</th>\n",
              "            <th>email</th>\n",
              "            <th>telefono</th>\n",
              "            <th>contacto</th>\n",
              "            <th>telefono_contacto</th>\n",
              "            <th>ciudad</th>\n",
              "        </tr>\n",
              "    </thead>\n",
              "    <tbody>\n",
              "        <tr>\n",
              "            <td>1</td>\n",
              "            <td>Mario Flores Gallardo</td>\n",
              "            <td>marioflores@gmail.com</td>\n",
              "            <td>036-15-36</td>\n",
              "            <td>Aintzane Alvarez Iglesias</td>\n",
              "            <td>210-35-57</td>\n",
              "            <td>Madrid</td>\n",
              "        </tr>\n",
              "        <tr>\n",
              "            <td>2</td>\n",
              "            <td>Arnau Medina Garcia</td>\n",
              "            <td>arnaumedina@gmail.com</td>\n",
              "            <td>094-10-88</td>\n",
              "            <td></td>\n",
              "            <td></td>\n",
              "            <td>Madrid</td>\n",
              "        </tr>\n",
              "        <tr>\n",
              "            <td>3</td>\n",
              "            <td>Ivan Medina Rubio</td>\n",
              "            <td>ivanmedina@gmail.com</td>\n",
              "            <td>083-08-72</td>\n",
              "            <td>Javier Domenech</td>\n",
              "            <td>488-48-46</td>\n",
              "            <td>Toledo</td>\n",
              "        </tr>\n",
              "        <tr>\n",
              "            <td>4</td>\n",
              "            <td>Jan Vargas Santana</td>\n",
              "            <td>vargasjan@gmail.com</td>\n",
              "            <td>780-65-24</td>\n",
              "            <td></td>\n",
              "            <td></td>\n",
              "            <td>Madrid</td>\n",
              "        </tr>\n",
              "        <tr>\n",
              "            <td>5</td>\n",
              "            <td>Carlos Costa Guerrero</td>\n",
              "            <td>carloscostag@gmail.com</td>\n",
              "            <td>180-65-24</td>\n",
              "            <td>Cristian Jimenez</td>\n",
              "            <td>801-28-09</td>\n",
              "            <td>Madrid</td>\n",
              "        </tr>\n",
              "        <tr>\n",
              "            <td>6</td>\n",
              "            <td>Roberto Martin Ortega</td>\n",
              "            <td>robertmartin@gmail.com</td>\n",
              "            <td>742-63-27</td>\n",
              "            <td>Jorge Vila Gallardo</td>\n",
              "            <td>564-52-13</td>\n",
              "            <td>Madrid</td>\n",
              "        </tr>\n",
              "        <tr>\n",
              "            <td>7</td>\n",
              "            <td>Gabriel Gonzalez Ortega</td>\n",
              "            <td>gabogonzo@gmail.com</td>\n",
              "            <td>780-13-14</td>\n",
              "            <td>Miguel Bosch Parra</td>\n",
              "            <td>882-17-20</td>\n",
              "            <td>Madrid</td>\n",
              "        </tr>\n",
              "        <tr>\n",
              "            <td>8</td>\n",
              "            <td>Rayan Leon Ferrer</td>\n",
              "            <td>rayito@gmail.com</td>\n",
              "            <td>430-65-24</td>\n",
              "            <td>Santiago Perez Ramos</td>\n",
              "            <td>577-21-24</td>\n",
              "            <td>Madrid</td>\n",
              "        </tr>\n",
              "        <tr>\n",
              "            <td>9</td>\n",
              "            <td>Aitor Ruiz Sanchez</td>\n",
              "            <td>aitorsanchez@gmail.com</td>\n",
              "            <td>780-77-24</td>\n",
              "            <td>Gabriel Gonzalez Ortega</td>\n",
              "            <td>784-96-31</td>\n",
              "            <td>Madrid</td>\n",
              "        </tr>\n",
              "        <tr>\n",
              "            <td>10</td>\n",
              "            <td>Eric Rubio Carrasco</td>\n",
              "            <td>ericrubio@gmail.com</td>\n",
              "            <td>780-65-79</td>\n",
              "            <td>Cristian Jimenez Martinez</td>\n",
              "            <td>147-01-12</td>\n",
              "            <td>Madrid</td>\n",
              "        </tr>\n",
              "        <tr>\n",
              "            <td>11</td>\n",
              "            <td>Alberto Sanz Ruiz</td>\n",
              "            <td>albert@gmail.com</td>\n",
              "            <td>781-15-24</td>\n",
              "            <td>Gabriel Gonzalez Ortega</td>\n",
              "            <td>028-51-21</td>\n",
              "            <td>Madrid</td>\n",
              "        </tr>\n",
              "        <tr>\n",
              "            <td>12</td>\n",
              "            <td>Jesus Medina Hernandez</td>\n",
              "            <td>jmedinah@gmail.com</td>\n",
              "            <td>782-35-25</td>\n",
              "            <td>Vctor Gonzalez Castillo</td>\n",
              "            <td>661-85-12</td>\n",
              "            <td>Madrid</td>\n",
              "        </tr>\n",
              "        <tr>\n",
              "            <td>13</td>\n",
              "            <td>Pol Moya Pena</td>\n",
              "            <td>polmoya@gmail.com</td>\n",
              "            <td>780-25-24</td>\n",
              "            <td></td>\n",
              "            <td></td>\n",
              "            <td>Toledo</td>\n",
              "        </tr>\n",
              "        <tr>\n",
              "            <td>14</td>\n",
              "            <td>Jose Gallardo Rodriguez</td>\n",
              "            <td>josegallardo@gmail.com</td>\n",
              "            <td>783-65-11</td>\n",
              "            <td>Hector Martin Morales</td>\n",
              "            <td>867-97-99</td>\n",
              "            <td>Madrid</td>\n",
              "        </tr>\n",
              "        <tr>\n",
              "            <td>15</td>\n",
              "            <td>Manuel Angel Gil</td>\n",
              "            <td>manano@gmail.com</td>\n",
              "            <td>733-65-16</td>\n",
              "            <td>Hector Navarro</td>\n",
              "            <td>067-97-91</td>\n",
              "            <td>Madrid</td>\n",
              "        </tr>\n",
              "    </tbody>\n",
              "</table>"
            ],
            "text/plain": [
              "[(1, 'Mario Flores Gallardo', 'marioflores@gmail.com', '036-15-36', 'Aintzane Alvarez Iglesias', '210-35-57', 'Madrid'),\n",
              " (2, 'Arnau Medina Garcia', 'arnaumedina@gmail.com', '094-10-88', '', '', 'Madrid'),\n",
              " (3, 'Ivan Medina Rubio', 'ivanmedina@gmail.com', '083-08-72', 'Javier Domenech', '488-48-46', 'Toledo'),\n",
              " (4, 'Jan Vargas Santana', 'vargasjan@gmail.com', '780-65-24', '', '', 'Madrid'),\n",
              " (5, 'Carlos Costa Guerrero', 'carloscostag@gmail.com', '180-65-24', 'Cristian Jimenez', '801-28-09', 'Madrid'),\n",
              " (6, 'Roberto Martin Ortega', 'robertmartin@gmail.com', '742-63-27', 'Jorge Vila Gallardo', '564-52-13', 'Madrid'),\n",
              " (7, 'Gabriel Gonzalez Ortega', 'gabogonzo@gmail.com', '780-13-14', 'Miguel Bosch Parra', '882-17-20', 'Madrid'),\n",
              " (8, 'Rayan Leon Ferrer', 'rayito@gmail.com', '430-65-24', 'Santiago Perez Ramos', '577-21-24', 'Madrid'),\n",
              " (9, 'Aitor Ruiz Sanchez', 'aitorsanchez@gmail.com', '780-77-24', 'Gabriel Gonzalez Ortega', '784-96-31', 'Madrid'),\n",
              " (10, 'Eric Rubio Carrasco', 'ericrubio@gmail.com', '780-65-79', 'Cristian Jimenez Martinez', '147-01-12', 'Madrid'),\n",
              " (11, 'Alberto Sanz Ruiz', 'albert@gmail.com', '781-15-24', 'Gabriel Gonzalez Ortega', '028-51-21', 'Madrid'),\n",
              " (12, 'Jesus Medina Hernandez', 'jmedinah@gmail.com', '782-35-25', 'Vctor Gonzalez Castillo', '661-85-12', 'Madrid'),\n",
              " (13, 'Pol Moya Pena', 'polmoya@gmail.com', '780-25-24', '', '', 'Toledo'),\n",
              " (14, 'Jose Gallardo Rodriguez', 'josegallardo@gmail.com', '783-65-11', 'Hector Martin Morales', '867-97-99', 'Madrid'),\n",
              " (15, 'Manuel Angel Gil', 'manano@gmail.com', '733-65-16', 'Hector Navarro', '067-97-91', 'Madrid')]"
            ]
          },
          "execution_count": 56,
          "metadata": {},
          "output_type": "execute_result"
        }
      ],
      "source": [
        "%sql select * from cliente"
      ]
    },
    {
      "cell_type": "code",
      "execution_count": null,
      "metadata": {
        "colab": {
          "base_uri": "https://localhost:8080/",
          "height": 284
        },
        "id": "-9-MXqC-Fycc",
        "outputId": "4d4cb72e-c109-4f3e-ddc6-5fea8e535caf"
      },
      "outputs": [
        {
          "name": "stdout",
          "output_type": "stream",
          "text": [
            " * sqlite:////content/drive/MyDrive/Telmo/love4pets.db\n",
            "Done.\n"
          ]
        },
        {
          "data": {
            "text/html": [
              "<table>\n",
              "    <thead>\n",
              "        <tr>\n",
              "            <th>mascota_id</th>\n",
              "            <th>nombre</th>\n",
              "            <th>cliente_id</th>\n",
              "            <th>especie</th>\n",
              "            <th>raza</th>\n",
              "            <th>fecha_nacimiento</th>\n",
              "        </tr>\n",
              "    </thead>\n",
              "    <tbody>\n",
              "        <tr>\n",
              "            <td>1</td>\n",
              "            <td>Luna</td>\n",
              "            <td>2</td>\n",
              "            <td>gato</td>\n",
              "            <td>mestizo</td>\n",
              "            <td>2009-01-01 00:00:000</td>\n",
              "        </tr>\n",
              "        <tr>\n",
              "            <td>2</td>\n",
              "            <td>Sole</td>\n",
              "            <td>3</td>\n",
              "            <td>gato</td>\n",
              "            <td>mestizo</td>\n",
              "            <td>2010-02-01 00:00:000</td>\n",
              "        </tr>\n",
              "        <tr>\n",
              "            <td>3</td>\n",
              "            <td>Mida</td>\n",
              "            <td>3</td>\n",
              "            <td>perro</td>\n",
              "            <td>Caint terrier</td>\n",
              "            <td>2007-02-03 00:00:000</td>\n",
              "        </tr>\n",
              "        <tr>\n",
              "            <td>4</td>\n",
              "            <td>Tara</td>\n",
              "            <td>5</td>\n",
              "            <td>perro</td>\n",
              "            <td>Puddle</td>\n",
              "            <td>2006-02-03 00:00:000</td>\n",
              "        </tr>\n",
              "        <tr>\n",
              "            <td>5</td>\n",
              "            <td>Pelusa</td>\n",
              "            <td>6</td>\n",
              "            <td>perro</td>\n",
              "            <td>Puddle</td>\n",
              "            <td>2008-02-03 00:00:000</td>\n",
              "        </tr>\n",
              "        <tr>\n",
              "            <td>6</td>\n",
              "            <td>irene</td>\n",
              "            <td>7</td>\n",
              "            <td>gato</td>\n",
              "            <td>siames</td>\n",
              "            <td>2015-02-03 00:00:000</td>\n",
              "        </tr>\n",
              "        <tr>\n",
              "            <td>7</td>\n",
              "            <td>sara</td>\n",
              "            <td>8</td>\n",
              "            <td>gato</td>\n",
              "            <td>mestizo</td>\n",
              "            <td>2016-05-01 00:00:000</td>\n",
              "        </tr>\n",
              "        <tr>\n",
              "            <td>8</td>\n",
              "            <td>milo</td>\n",
              "            <td>11</td>\n",
              "            <td>gato</td>\n",
              "            <td>mestizo</td>\n",
              "            <td>2016-09-01 00:00:000</td>\n",
              "        </tr>\n",
              "        <tr>\n",
              "            <td>9</td>\n",
              "            <td>oliver</td>\n",
              "            <td>11</td>\n",
              "            <td>gato</td>\n",
              "            <td>mestizo</td>\n",
              "            <td>2016-07-07 00:00:000</td>\n",
              "        </tr>\n",
              "        <tr>\n",
              "            <td>10</td>\n",
              "            <td>Duke</td>\n",
              "            <td>14</td>\n",
              "            <td>perro</td>\n",
              "            <td>Pastor Aleman</td>\n",
              "            <td>2011-05-03 00:00:000</td>\n",
              "        </tr>\n",
              "    </tbody>\n",
              "</table>"
            ],
            "text/plain": [
              "[(1, 'Luna', 2, 'gato', 'mestizo', '2009-01-01 00:00:000'),\n",
              " (2, 'Sole', 3, 'gato', 'mestizo', '2010-02-01 00:00:000'),\n",
              " (3, 'Mida', 3, 'perro', 'Caint terrier', '2007-02-03 00:00:000'),\n",
              " (4, 'Tara', 5, 'perro', 'Puddle', '2006-02-03 00:00:000'),\n",
              " (5, 'Pelusa', 6, 'perro', 'Puddle', '2008-02-03 00:00:000'),\n",
              " (6, 'irene', 7, 'gato', 'siames', '2015-02-03 00:00:000'),\n",
              " (7, 'sara', 8, 'gato', 'mestizo', '2016-05-01 00:00:000'),\n",
              " (8, 'milo', 11, 'gato', 'mestizo', '2016-09-01 00:00:000'),\n",
              " (9, 'oliver', 11, 'gato', 'mestizo', '2016-07-07 00:00:000'),\n",
              " (10, 'Duke', 14, 'perro', 'Pastor Aleman', '2011-05-03 00:00:000')]"
            ]
          },
          "execution_count": 79,
          "metadata": {},
          "output_type": "execute_result"
        }
      ],
      "source": [
        "%sql select * from mascota"
      ]
    },
    {
      "cell_type": "code",
      "execution_count": null,
      "metadata": {
        "colab": {
          "base_uri": "https://localhost:8080/",
          "height": 242
        },
        "id": "P0kqiQsGeqSI",
        "outputId": "3f2fa313-8fd5-4b8f-eb27-93a00f8781bc"
      },
      "outputs": [
        {
          "name": "stdout",
          "output_type": "stream",
          "text": [
            " * sqlite:////content/drive/MyDrive/Telmo/love4pets.db\n",
            "Done.\n"
          ]
        },
        {
          "data": {
            "text/html": [
              "<table>\n",
              "    <thead>\n",
              "        <tr>\n",
              "            <th>nombre</th>\n",
              "            <th>Cantidad Mascotas</th>\n",
              "        </tr>\n",
              "    </thead>\n",
              "    <tbody>\n",
              "        <tr>\n",
              "            <td>Arnau Medina Garcia</td>\n",
              "            <td>1</td>\n",
              "        </tr>\n",
              "        <tr>\n",
              "            <td>Ivan Medina Rubio</td>\n",
              "            <td>2</td>\n",
              "        </tr>\n",
              "        <tr>\n",
              "            <td>Carlos Costa Guerrero</td>\n",
              "            <td>1</td>\n",
              "        </tr>\n",
              "        <tr>\n",
              "            <td>Roberto Martin Ortega</td>\n",
              "            <td>1</td>\n",
              "        </tr>\n",
              "        <tr>\n",
              "            <td>Gabriel Gonzalez Ortega</td>\n",
              "            <td>1</td>\n",
              "        </tr>\n",
              "        <tr>\n",
              "            <td>Rayan Leon Ferrer</td>\n",
              "            <td>1</td>\n",
              "        </tr>\n",
              "        <tr>\n",
              "            <td>Alberto Sanz Ruiz</td>\n",
              "            <td>2</td>\n",
              "        </tr>\n",
              "        <tr>\n",
              "            <td>Jose Gallardo Rodriguez</td>\n",
              "            <td>1</td>\n",
              "        </tr>\n",
              "    </tbody>\n",
              "</table>"
            ],
            "text/plain": [
              "[('Arnau Medina Garcia', 1),\n",
              " ('Ivan Medina Rubio', 2),\n",
              " ('Carlos Costa Guerrero', 1),\n",
              " ('Roberto Martin Ortega', 1),\n",
              " ('Gabriel Gonzalez Ortega', 1),\n",
              " ('Rayan Leon Ferrer', 1),\n",
              " ('Alberto Sanz Ruiz', 2),\n",
              " ('Jose Gallardo Rodriguez', 1)]"
            ]
          },
          "execution_count": 90,
          "metadata": {},
          "output_type": "execute_result"
        }
      ],
      "source": [
        "%%sql\n",
        "SELECT cliente.nombre, COUNT(cliente.nombre) AS 'Cantidad Mascotas'\n",
        "\n",
        "FROM cliente INNER JOIN mascota ON cliente.cliente_id = mascota.cliente_id\n",
        "\n",
        "GROUP BY mascota.cliente_id"
      ]
    },
    {
      "cell_type": "markdown",
      "metadata": {
        "id": "CCDUZ92jeqSI"
      },
      "source": [
        "### La Instrucción HAVING\n",
        "Permite filtrar una busqueda donde se aplica una función de agregación sobre la condición.\n",
        "\n",
        "Sintaxis de la instrucción GROUP BY\n",
        "```sql\n",
        "SELECT column_name(s)\n",
        "FROM table_name\n",
        "WHERE condition\n",
        "HAVING column_name(s)\n",
        "```\n",
        "\n",
        "Tomando el mismo ejemplo anterior queremos mostrar las ciudades que tengan mas de 5 clientes."
      ]
    },
    {
      "cell_type": "code",
      "execution_count": null,
      "metadata": {
        "colab": {
          "base_uri": "https://localhost:8080/",
          "height": 116
        },
        "id": "ULeG4e1WeqSI",
        "outputId": "6393ea88-f1ad-46af-e8aa-8d6e164c586a"
      },
      "outputs": [
        {
          "name": "stdout",
          "output_type": "stream",
          "text": [
            " * sqlite:////content/drive/MyDrive/Telmo/love4pets.db\n",
            "Done.\n"
          ]
        },
        {
          "data": {
            "text/html": [
              "<table>\n",
              "    <thead>\n",
              "        <tr>\n",
              "            <th>COUNT(nombre)</th>\n",
              "            <th>ciudad</th>\n",
              "        </tr>\n",
              "    </thead>\n",
              "    <tbody>\n",
              "        <tr>\n",
              "            <td>13</td>\n",
              "            <td>Madrid</td>\n",
              "        </tr>\n",
              "        <tr>\n",
              "            <td>2</td>\n",
              "            <td>Toledo</td>\n",
              "        </tr>\n",
              "    </tbody>\n",
              "</table>"
            ],
            "text/plain": [
              "[(13, 'Madrid'), (2, 'Toledo')]"
            ]
          },
          "execution_count": 92,
          "metadata": {},
          "output_type": "execute_result"
        }
      ],
      "source": [
        "%%sql\n",
        "select COUNT(nombre),ciudad from cliente\n",
        "GROUP BY ciudad HAVING COUNT(nombre) > 1;"
      ]
    },
    {
      "cell_type": "markdown",
      "metadata": {
        "id": "qx5yRkcjeqSI"
      },
      "source": [
        "### **Ejercicio 9**\n",
        "--------\n",
        "Se requiere que usted indique los clientes que tienen mas de una mascota."
      ]
    },
    {
      "cell_type": "code",
      "execution_count": null,
      "metadata": {
        "colab": {
          "base_uri": "https://localhost:8080/",
          "height": 116
        },
        "id": "7P375xVMeqSJ",
        "outputId": "4c08add8-dc14-4652-c550-c9354586254a"
      },
      "outputs": [
        {
          "name": "stdout",
          "output_type": "stream",
          "text": [
            " * sqlite:////content/drive/MyDrive/Telmo/love4pets.db\n",
            "Done.\n"
          ]
        },
        {
          "data": {
            "text/html": [
              "<table>\n",
              "    <thead>\n",
              "        <tr>\n",
              "            <th>nombre</th>\n",
              "            <th>Cantidad Mascotas</th>\n",
              "        </tr>\n",
              "    </thead>\n",
              "    <tbody>\n",
              "        <tr>\n",
              "            <td>Ivan Medina Rubio</td>\n",
              "            <td>2</td>\n",
              "        </tr>\n",
              "        <tr>\n",
              "            <td>Alberto Sanz Ruiz</td>\n",
              "            <td>2</td>\n",
              "        </tr>\n",
              "    </tbody>\n",
              "</table>"
            ],
            "text/plain": [
              "[('Ivan Medina Rubio', 2), ('Alberto Sanz Ruiz', 2)]"
            ]
          },
          "execution_count": 93,
          "metadata": {},
          "output_type": "execute_result"
        }
      ],
      "source": [
        "%%sql\n",
        "SELECT cliente.nombre, COUNT(cliente.nombre) AS 'Cantidad Mascotas'\n",
        "\n",
        "FROM cliente INNER JOIN mascota ON cliente.cliente_id = mascota.cliente_id\n",
        "\n",
        "GROUP BY mascota.cliente_id HAVING COUNT(cliente.nombre) > 1"
      ]
    },
    {
      "cell_type": "markdown",
      "metadata": {
        "id": "8WrPA26zeqSJ"
      },
      "source": [
        "### La Instrucción INSERT\n",
        "La instrucción insert permite agregar nuevos valores a las tablas\n",
        "\n",
        "```sql\n",
        "INSERT INTO table_name (columna1, columna2, columna3, ...)\n",
        "VALUES (valor1, valor2, valor3, ...);\n",
        "```\n",
        "\n",
        "donde el valor1 es insertado en la columna1, el valor2 en la columna2 y asi sucesivamente."
      ]
    },
    {
      "cell_type": "code",
      "execution_count": null,
      "metadata": {
        "colab": {
          "base_uri": "https://localhost:8080/",
          "height": 116
        },
        "id": "UDdYSpRRjCQU",
        "outputId": "e902a715-f0f7-4081-c547-7cc035c9f6d9"
      },
      "outputs": [
        {
          "name": "stdout",
          "output_type": "stream",
          "text": [
            " * sqlite:////content/drive/MyDrive/Telmo/love4pets.db\n",
            "Done.\n"
          ]
        },
        {
          "data": {
            "text/html": [
              "<table>\n",
              "    <thead>\n",
              "        <tr>\n",
              "            <th>cid</th>\n",
              "            <th>name</th>\n",
              "            <th>type</th>\n",
              "            <th>notnull</th>\n",
              "            <th>dflt_value</th>\n",
              "            <th>pk</th>\n",
              "        </tr>\n",
              "    </thead>\n",
              "    <tbody>\n",
              "        <tr>\n",
              "            <td>0</td>\n",
              "            <td>departamento_id</td>\n",
              "            <td>INTEGER</td>\n",
              "            <td>1</td>\n",
              "            <td>None</td>\n",
              "            <td>1</td>\n",
              "        </tr>\n",
              "        <tr>\n",
              "            <td>1</td>\n",
              "            <td>nombre</td>\n",
              "            <td>TEXT</td>\n",
              "            <td>1</td>\n",
              "            <td>None</td>\n",
              "            <td>0</td>\n",
              "        </tr>\n",
              "    </tbody>\n",
              "</table>"
            ],
            "text/plain": [
              "[(0, 'departamento_id', 'INTEGER', 1, None, 1),\n",
              " (1, 'nombre', 'TEXT', 1, None, 0)]"
            ]
          },
          "execution_count": 95,
          "metadata": {},
          "output_type": "execute_result"
        }
      ],
      "source": [
        "%sql PRAGMA table_info(departamento)"
      ]
    },
    {
      "cell_type": "code",
      "execution_count": null,
      "metadata": {
        "colab": {
          "base_uri": "https://localhost:8080/",
          "height": 242
        },
        "id": "tejNP7LsT9-G",
        "outputId": "1dcd4682-5180-47c2-e108-7246866667f4"
      },
      "outputs": [
        {
          "name": "stdout",
          "output_type": "stream",
          "text": [
            " * sqlite:////content/drive/MyDrive/Telmo/love4pets.db\n",
            "Done.\n"
          ]
        },
        {
          "data": {
            "text/html": [
              "<table>\n",
              "    <thead>\n",
              "        <tr>\n",
              "            <th>departamento_id</th>\n",
              "            <th>nombre</th>\n",
              "        </tr>\n",
              "    </thead>\n",
              "    <tbody>\n",
              "        <tr>\n",
              "            <td>1</td>\n",
              "            <td>finanzas</td>\n",
              "        </tr>\n",
              "        <tr>\n",
              "            <td>2</td>\n",
              "            <td>ventas</td>\n",
              "        </tr>\n",
              "        <tr>\n",
              "            <td>3</td>\n",
              "            <td>recursos humanos</td>\n",
              "        </tr>\n",
              "        <tr>\n",
              "            <td>4</td>\n",
              "            <td>marketing</td>\n",
              "        </tr>\n",
              "        <tr>\n",
              "            <td>5</td>\n",
              "            <td>veterinario</td>\n",
              "        </tr>\n",
              "        <tr>\n",
              "            <td>6</td>\n",
              "            <td>informatica</td>\n",
              "        </tr>\n",
              "        <tr>\n",
              "            <td>7</td>\n",
              "            <td>investigacion</td>\n",
              "        </tr>\n",
              "        <tr>\n",
              "            <td>8</td>\n",
              "            <td>ciber</td>\n",
              "        </tr>\n",
              "    </tbody>\n",
              "</table>"
            ],
            "text/plain": [
              "[(1, 'finanzas'),\n",
              " (2, 'ventas'),\n",
              " (3, 'recursos humanos'),\n",
              " (4, 'marketing'),\n",
              " (5, 'veterinario'),\n",
              " (6, 'informatica'),\n",
              " (7, 'investigacion'),\n",
              " (8, 'ciber')]"
            ]
          },
          "execution_count": 98,
          "metadata": {},
          "output_type": "execute_result"
        }
      ],
      "source": [
        "%sql select * from departamento"
      ]
    },
    {
      "cell_type": "code",
      "execution_count": null,
      "metadata": {
        "colab": {
          "base_uri": "https://localhost:8080/"
        },
        "id": "vk7Yn_1AjHcl",
        "outputId": "084b4888-fd5a-4f32-a1b2-ff5ffac1e446"
      },
      "outputs": [
        {
          "name": "stdout",
          "output_type": "stream",
          "text": [
            " * sqlite:////content/drive/MyDrive/Telmo/love4pets.db\n",
            "1 rows affected.\n"
          ]
        },
        {
          "data": {
            "text/plain": [
              "[]"
            ]
          },
          "execution_count": 106,
          "metadata": {},
          "output_type": "execute_result"
        }
      ],
      "source": [
        "%%sql\n",
        "INSERT INTO departamento (departamento_id,nombre)\n",
        "VALUES (9,898)"
      ]
    },
    {
      "cell_type": "code",
      "execution_count": null,
      "metadata": {
        "colab": {
          "base_uri": "https://localhost:8080/",
          "height": 263
        },
        "id": "e7S2YrkSjX6e",
        "outputId": "eb2fa261-db2c-443e-a6eb-33e8ae35b971"
      },
      "outputs": [
        {
          "name": "stdout",
          "output_type": "stream",
          "text": [
            " * sqlite:////content/drive/MyDrive/Telmo/love4pets.db\n",
            "Done.\n"
          ]
        },
        {
          "data": {
            "text/html": [
              "<table>\n",
              "    <thead>\n",
              "        <tr>\n",
              "            <th>departamento_id</th>\n",
              "            <th>nombre</th>\n",
              "        </tr>\n",
              "    </thead>\n",
              "    <tbody>\n",
              "        <tr>\n",
              "            <td>1</td>\n",
              "            <td>finanzas</td>\n",
              "        </tr>\n",
              "        <tr>\n",
              "            <td>2</td>\n",
              "            <td>ventas</td>\n",
              "        </tr>\n",
              "        <tr>\n",
              "            <td>3</td>\n",
              "            <td>recursos humanos</td>\n",
              "        </tr>\n",
              "        <tr>\n",
              "            <td>4</td>\n",
              "            <td>marketing</td>\n",
              "        </tr>\n",
              "        <tr>\n",
              "            <td>5</td>\n",
              "            <td>veterinario</td>\n",
              "        </tr>\n",
              "        <tr>\n",
              "            <td>6</td>\n",
              "            <td>informatica</td>\n",
              "        </tr>\n",
              "        <tr>\n",
              "            <td>7</td>\n",
              "            <td>investigacion</td>\n",
              "        </tr>\n",
              "        <tr>\n",
              "            <td>8</td>\n",
              "            <td>ciber</td>\n",
              "        </tr>\n",
              "        <tr>\n",
              "            <td>9</td>\n",
              "            <td>898</td>\n",
              "        </tr>\n",
              "    </tbody>\n",
              "</table>"
            ],
            "text/plain": [
              "[(1, 'finanzas'),\n",
              " (2, 'ventas'),\n",
              " (3, 'recursos humanos'),\n",
              " (4, 'marketing'),\n",
              " (5, 'veterinario'),\n",
              " (6, 'informatica'),\n",
              " (7, 'investigacion'),\n",
              " (8, 'ciber'),\n",
              " (9, '898')]"
            ]
          },
          "execution_count": 101,
          "metadata": {},
          "output_type": "execute_result"
        }
      ],
      "source": [
        "%sql select * from departamento"
      ]
    },
    {
      "cell_type": "markdown",
      "metadata": {
        "id": "q-qfpN-ReqSJ"
      },
      "source": [
        "### La Instrucción DELETE\n",
        "La instrucción DELETE permite ELIMINAR filas que cumplan con una determinada condición\n",
        "\n",
        "```sql\n",
        "DELETE FROM table_name\n",
        "WHERE condition;\n",
        "```\n"
      ]
    },
    {
      "cell_type": "code",
      "execution_count": null,
      "metadata": {
        "colab": {
          "base_uri": "https://localhost:8080/"
        },
        "id": "efxjjj6ieqSJ",
        "outputId": "0e3b81f9-eb3a-4973-eb41-d90cd188b116"
      },
      "outputs": [
        {
          "name": "stdout",
          "output_type": "stream",
          "text": [
            " * sqlite:////content/drive/MyDrive/Telmo/love4pets.db\n",
            "1 rows affected.\n"
          ]
        },
        {
          "data": {
            "text/plain": [
              "[]"
            ]
          },
          "execution_count": 107,
          "metadata": {},
          "output_type": "execute_result"
        }
      ],
      "source": [
        "%sql delete from departamento where nombre='898';"
      ]
    },
    {
      "cell_type": "markdown",
      "metadata": {
        "id": "z7UiHzdoVLq9"
      },
      "source": [
        "## UPDATE"
      ]
    },
    {
      "cell_type": "code",
      "execution_count": null,
      "metadata": {
        "colab": {
          "base_uri": "https://localhost:8080/"
        },
        "id": "GmedYTmtVLTm",
        "outputId": "1698ceea-0b01-497d-cb20-51a347c86298"
      },
      "outputs": [
        {
          "name": "stdout",
          "output_type": "stream",
          "text": [
            " * sqlite:////content/drive/MyDrive/Telmo/love4pets.db\n",
            "1 rows affected.\n"
          ]
        },
        {
          "data": {
            "text/plain": [
              "[]"
            ]
          },
          "execution_count": 108,
          "metadata": {},
          "output_type": "execute_result"
        }
      ],
      "source": [
        "%%sql\n",
        "UPDATE departamento\n",
        "SET nombre = 'vet'\n",
        "WHERE nombre LIKE \"%veterinario%\""
      ]
    },
    {
      "cell_type": "code",
      "execution_count": null,
      "metadata": {
        "colab": {
          "base_uri": "https://localhost:8080/",
          "height": 221
        },
        "id": "h8L-pTGFkQ-S",
        "outputId": "2f73c1f5-7fe2-4595-b540-f2de8b0a86aa"
      },
      "outputs": [
        {
          "name": "stdout",
          "output_type": "stream",
          "text": [
            " * sqlite:////content/drive/MyDrive/Telmo/love4pets.db\n",
            "Done.\n"
          ]
        },
        {
          "data": {
            "text/html": [
              "<table>\n",
              "    <thead>\n",
              "        <tr>\n",
              "            <th>departamento_id</th>\n",
              "            <th>nombre</th>\n",
              "        </tr>\n",
              "    </thead>\n",
              "    <tbody>\n",
              "        <tr>\n",
              "            <td>1</td>\n",
              "            <td>finanzas</td>\n",
              "        </tr>\n",
              "        <tr>\n",
              "            <td>2</td>\n",
              "            <td>ventas</td>\n",
              "        </tr>\n",
              "        <tr>\n",
              "            <td>3</td>\n",
              "            <td>recursos humanos</td>\n",
              "        </tr>\n",
              "        <tr>\n",
              "            <td>4</td>\n",
              "            <td>marketing</td>\n",
              "        </tr>\n",
              "        <tr>\n",
              "            <td>5</td>\n",
              "            <td>vet</td>\n",
              "        </tr>\n",
              "        <tr>\n",
              "            <td>6</td>\n",
              "            <td>informatica</td>\n",
              "        </tr>\n",
              "        <tr>\n",
              "            <td>7</td>\n",
              "            <td>investigacion</td>\n",
              "        </tr>\n",
              "    </tbody>\n",
              "</table>"
            ],
            "text/plain": [
              "[(1, 'finanzas'),\n",
              " (2, 'ventas'),\n",
              " (3, 'recursos humanos'),\n",
              " (4, 'marketing'),\n",
              " (5, 'vet'),\n",
              " (6, 'informatica'),\n",
              " (7, 'investigacion')]"
            ]
          },
          "execution_count": 109,
          "metadata": {},
          "output_type": "execute_result"
        }
      ],
      "source": [
        "%sql SELECT * from departamento"
      ]
    },
    {
      "cell_type": "code",
      "execution_count": null,
      "metadata": {
        "id": "meURTIO1kTP-"
      },
      "outputs": [],
      "source": []
    }
  ],
  "metadata": {
    "colab": {
      "collapsed_sections": [
        "pTF9yceFeqR0"
      ],
      "provenance": []
    },
    "kernelspec": {
      "display_name": "dbsql",
      "language": "python",
      "name": "python3"
    },
    "language_info": {
      "codemirror_mode": {
        "name": "ipython",
        "version": 3
      },
      "file_extension": ".py",
      "mimetype": "text/x-python",
      "name": "python",
      "nbconvert_exporter": "python",
      "pygments_lexer": "ipython3",
      "version": "3.9.0"
    }
  },
  "nbformat": 4,
  "nbformat_minor": 0
}
